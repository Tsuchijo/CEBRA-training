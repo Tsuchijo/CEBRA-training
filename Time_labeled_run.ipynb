{
  "cells": [
    {
      "cell_type": "code",
      "execution_count": 1,
      "metadata": {
        "colab": {
          "base_uri": "https://localhost:8080/"
        },
        "id": "mC2cXtSv85lj",
        "outputId": "89732190-3b5c-42fc-a0be-2534878b4c02"
      },
      "outputs": [
        {
          "name": "stderr",
          "output_type": "stream",
          "text": [
            "/media/murphy/CEBRA_project/.venv/lib/python3.9/site-packages/cebra/datasets/__init__.py:92: UserWarning: Could not initialize one or more datasets: No module named 'h5py'. For using the datasets, consider installing the [datasets] extension via pip.\n",
            "  warnings.warn(f\"Could not initialize one or more datasets: {e}. \"\n"
          ]
        }
      ],
      "source": [
        "import sys\n",
        "import numpy as np\n",
        "import matplotlib.pyplot as plt\n",
        "import cebra.datasets\n",
        "from cebra import CEBRA\n",
        "from PIL import Image\n",
        "import cv2\n",
        "import torch\n",
        "import pickle"
      ]
    },
    {
      "cell_type": "code",
      "execution_count": 2,
      "metadata": {},
      "outputs": [
        {
          "name": "stdout",
          "output_type": "stream",
          "text": [
            "cpu\n"
          ]
        }
      ],
      "source": [
        "if torch.cuda.is_available():\n",
        "    DEVICE = \"cuda\"\n",
        "else:\n",
        "    DEVICE = \"cpu\"\n",
        "print(DEVICE)"
      ]
    },
    {
      "cell_type": "code",
      "execution_count": 13,
      "metadata": {
        "id": "BbPAm7I49j6R"
      },
      "outputs": [],
      "source": [
        "from logging import exception\n",
        "def process_brain(path):\n",
        "  try:\n",
        "    brain_seq = cv2.imreadmulti(path)[1]\n",
        "    brain_seq = np.array(brain_seq)\n",
        "    brain_mask = (np.sum(brain_seq, axis=0) > 0)\n",
        "    flat_seq = (brain_seq[:, brain_mask])\n",
        "    return flat_seq.astype(float)\n",
        "  except:\n",
        "    print(np.shape(brain_seq))\n"
      ]
    },
    {
      "cell_type": "code",
      "execution_count": null,
      "metadata": {},
      "outputs": [],
      "source": []
    },
    {
      "cell_type": "code",
      "execution_count": 18,
      "metadata": {
        "id": "H8cwkwhp95Hs"
      },
      "outputs": [],
      "source": [
        "# iterate through all data and process it\n",
        "#https://stackoverflow.com/questions/10377998/how-can-i-iterate-over-files-in-a-given-directory\n",
        "import os\n",
        "neural_data = []\n",
        "name_data = []\n",
        "behav_data = []\n",
        "\n",
        "filepath = \"2020_11_9_MV1_run_brain\"\n",
        "for file in os.listdir(filepath):\n",
        "     filename = os.fsdecode(file)\n",
        "     if filename.endswith(\".tif\"):\n",
        "         neural_data.append(process_brain(filepath + '/' + filename))\n",
        "         name_data.append(filename)\n",
        "         split_name = filename.split('_')\n",
        "         session_data = []\n",
        "         session_data.append(int(split_name[2].split('.')[0]))\n",
        "         session_data.append(int(split_name[1]))\n",
        "         behav_data.append(session_data)\n",
        "         continue\n",
        "     else:\n",
        "         continue"
      ]
    },
    {
      "cell_type": "code",
      "execution_count": null,
      "metadata": {},
      "outputs": [],
      "source": []
    },
    {
      "cell_type": "code",
      "execution_count": 19,
      "metadata": {
        "id": "v4Ly9MXA_vIc"
      },
      "outputs": [],
      "source": [
        "max_iterations = 10\n",
        "cebra_time_model = CEBRA(model_architecture='offset10-model',\n",
        "                        batch_size=128,\n",
        "                        learning_rate=1e-3,\n",
        "                        temperature_mode = 'auto',\n",
        "                        output_dimension=3,\n",
        "                        max_iterations=max_iterations,\n",
        "                        distance='cosine',\n",
        "                        conditional='time_delta',\n",
        "                        device='cuda_if_available',\n",
        "                        verbose=True,\n",
        "                        time_offsets=10,\n",
        "                        )"
      ]
    },
    {
      "cell_type": "code",
      "execution_count": 17,
      "metadata": {
        "id": "CAGn-DXxHp5M"
      },
      "outputs": [],
      "source": [
        "#generate mock behavioural data for time only run\n",
        "mock_behav = []\n",
        "for count, data in enumerate(neural_data):\n",
        "    mock_behav.append(np.ones_like(data[:, 0]) * count)"
      ]
    },
    {
      "cell_type": "code",
      "execution_count": 20,
      "metadata": {},
      "outputs": [],
      "source": [
        "test_dataset = {'neural':neural_data, 'y':mock_behav}\n",
        "with open('mypickle.pickle', 'wb') as f:\n",
        "    pickle.dump(test_dataset, f)\n"
      ]
    },
    {
      "cell_type": "code",
      "execution_count": 22,
      "metadata": {},
      "outputs": [
        {
          "ename": "OSError",
          "evalue": "File ending .pickle not supported.",
          "output_type": "error",
          "traceback": [
            "\u001b[0;31m---------------------------------------------------------------------------\u001b[0m",
            "\u001b[0;31mOSError\u001b[0m                                   Traceback (most recent call last)",
            "Cell \u001b[0;32mIn[22], line 1\u001b[0m\n\u001b[0;32m----> 1\u001b[0m neural_data_loaded \u001b[39m=\u001b[39m cebra\u001b[39m.\u001b[39;49mload_data(file\u001b[39m=\u001b[39;49m\u001b[39m\"\u001b[39;49m\u001b[39mmypickle.pickle\u001b[39;49m\u001b[39m\"\u001b[39;49m, key\u001b[39m=\u001b[39;49m\u001b[39m\"\u001b[39;49m\u001b[39mneural\u001b[39;49m\u001b[39m\"\u001b[39;49m)\n\u001b[1;32m      2\u001b[0m continuous_label \u001b[39m=\u001b[39m cebra\u001b[39m.\u001b[39mload_data(file\u001b[39m=\u001b[39m\u001b[39m\"\u001b[39m\u001b[39mmypickle.pickle\u001b[39m\u001b[39m\"\u001b[39m, key\u001b[39m=\u001b[39m\u001b[39m\"\u001b[39m\u001b[39my\u001b[39m\u001b[39m\"\u001b[39m)\n",
            "File \u001b[0;32m/media/murphy/CEBRA_project/.venv/lib/python3.9/site-packages/cebra/data/load.py:660\u001b[0m, in \u001b[0;36mload\u001b[0;34m(file, key, columns)\u001b[0m\n\u001b[1;32m    609\u001b[0m \u001b[39m\u001b[39m\u001b[39m\"\"\"Load a dataset from the given file.\u001b[39;00m\n\u001b[1;32m    610\u001b[0m \n\u001b[1;32m    611\u001b[0m \u001b[39mThe following file types are supported:\u001b[39;00m\n\u001b[0;32m   (...)\u001b[0m\n\u001b[1;32m    657\u001b[0m \n\u001b[1;32m    658\u001b[0m \u001b[39m\"\"\"\u001b[39;00m\n\u001b[1;32m    659\u001b[0m file_ending \u001b[39m=\u001b[39m pathlib\u001b[39m.\u001b[39mPath(file)\u001b[39m.\u001b[39msuffix\n\u001b[0;32m--> 660\u001b[0m loader \u001b[39m=\u001b[39m _get_loader(file_ending)\n\u001b[1;32m    661\u001b[0m data \u001b[39m=\u001b[39m loader\u001b[39m.\u001b[39mload(file, key\u001b[39m=\u001b[39mkey, columns\u001b[39m=\u001b[39mcolumns)\n\u001b[1;32m    662\u001b[0m \u001b[39mreturn\u001b[39;00m data\n",
            "File \u001b[0;32m/media/murphy/CEBRA_project/.venv/lib/python3.9/site-packages/cebra/data/load.py:678\u001b[0m, in \u001b[0;36m_get_loader\u001b[0;34m(file_ending)\u001b[0m\n\u001b[1;32m    666\u001b[0m \u001b[39m\u001b[39m\u001b[39m\"\"\"Get corresponding class based on handled file ending.\u001b[39;00m\n\u001b[1;32m    667\u001b[0m \n\u001b[1;32m    668\u001b[0m \u001b[39mArgs:\u001b[39;00m\n\u001b[0;32m   (...)\u001b[0m\n\u001b[1;32m    675\u001b[0m \u001b[39m    The loader class corresponding to the handle file.\u001b[39;00m\n\u001b[1;32m    676\u001b[0m \u001b[39m\"\"\"\u001b[39;00m\n\u001b[1;32m    677\u001b[0m \u001b[39mif\u001b[39;00m file_ending \u001b[39mnot\u001b[39;00m \u001b[39min\u001b[39;00m __loaders\u001b[39m.\u001b[39mkeys() \u001b[39mor\u001b[39;00m file_ending \u001b[39m==\u001b[39m \u001b[39m\"\u001b[39m\u001b[39m\"\u001b[39m:\n\u001b[0;32m--> 678\u001b[0m     \u001b[39mraise\u001b[39;00m \u001b[39mOSError\u001b[39;00m(\u001b[39mf\u001b[39m\u001b[39m\"\u001b[39m\u001b[39mFile ending \u001b[39m\u001b[39m{\u001b[39;00mfile_ending\u001b[39m}\u001b[39;00m\u001b[39m not supported.\u001b[39m\u001b[39m\"\u001b[39m)\n\u001b[1;32m    679\u001b[0m \u001b[39mreturn\u001b[39;00m __loaders[file_ending]\n",
            "\u001b[0;31mOSError\u001b[0m: File ending .pickle not supported."
          ]
        }
      ],
      "source": [
        "neural_data_loaded = cebra.load_data(file=\"mypickle.pickle\", key=\"neural\")\n",
        "continuous_label = cebra.load_data(file=\"mypickle.pickle\", key=\"y\")"
      ]
    },
    {
      "cell_type": "code",
      "execution_count": 29,
      "metadata": {},
      "outputs": [],
      "source": [
        "multi_cebra_model = cebra.CEBRA(batch_size=128,\n",
        "                                output_dimension=out_dim,\n",
        "                                max_iterations=10,\n",
        "                                max_adapt_iterations=10)"
      ]
    },
    {
      "cell_type": "code",
      "execution_count": 31,
      "metadata": {
        "colab": {
          "base_uri": "https://localhost:8080/",
          "height": 147
        },
        "id": "EwYWuiiM_7js",
        "outputId": "90cd41d4-c88c-4b69-a304-24e90f911ca6"
      },
      "outputs": [],
      "source": [
        "multi_cebra_model.fit(neural_data, mock_behav)"
      ]
    },
    {
      "cell_type": "code",
      "execution_count": 60,
      "metadata": {
        "colab": {
          "base_uri": "https://localhost:8080/"
        },
        "id": "hYu6FPDNFAkE",
        "outputId": "61d29690-51bd-4085-8d22-6a9f669063bf"
      },
      "outputs": [
        {
          "name": "stdout",
          "output_type": "stream",
          "text": [
            "(132,)\n"
          ]
        },
        {
          "data": {
            "text/plain": [
              "(132, 10634)"
            ]
          },
          "execution_count": 60,
          "metadata": {},
          "output_type": "execute_result"
        }
      ],
      "source": [
        "print(np.shape(mock_behav[1]))\n",
        "np.shape(neural_data[1])"
      ]
    },
    {
      "cell_type": "code",
      "execution_count": 64,
      "metadata": {
        "colab": {
          "base_uri": "https://localhost:8080/",
          "height": 439
        },
        "id": "yX_rzrVS__4b",
        "outputId": "520c15ea-aa64-44b7-9501-49cfaae00f9e"
      },
      "outputs": [
        {
          "data": {
            "text/plain": [
              "<Axes3D: title={'center': 'Embedding'}>"
            ]
          },
          "execution_count": 64,
          "metadata": {},
          "output_type": "execute_result"
        },
        {
          "data": {
            "image/png": "[encoded data removed]",
            "text/plain": [
              "<Figure size 500x500 with 1 Axes>"
            ]
          },
          "metadata": {},
          "output_type": "display_data"
        }
      ],
      "source": [
        "embedding = cebra_time_model.transform(neural_data[2])\n",
        "cebra.plot_embedding(embedding)"
      ]
    },
    {
      "cell_type": "code",
      "execution_count": null,
      "metadata": {
        "id": "EdivBk4JGniQ"
      },
      "outputs": [],
      "source": []
    }
  ],
  "metadata": {
    "accelerator": "GPU",
    "colab": {
      "gpuType": "T4",
      "provenance": []
    },
    "gpuClass": "standard",
    "kernelspec": {
      "display_name": "Python 3",
      "name": "python3"
    },
    "language_info": {
      "codemirror_mode": {
        "name": "ipython",
        "version": 3
      },
      "file_extension": ".py",
      "mimetype": "text/x-python",
      "name": "python",
      "nbconvert_exporter": "python",
      "pygments_lexer": "ipython3",
      "version": "3.9.5"
    }
  },
  "nbformat": 4,
  "nbformat_minor": 0
}
