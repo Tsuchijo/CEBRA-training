{
  "cells": [
    {
      "cell_type": "code",
      "source": [
        "# Only for google Colab\n",
        "!pip install cebra\n",
        "from google.colab import drive\n",
        "drive.mount('/content/drive/')\n",
        "!unzip /content/drive/MyDrive/Cebra_data/2020_11_9_MV1_run_brain.zip\n"
      ],
      "metadata": {
        "colab": {
          "base_uri": "https://localhost:8080/"
        },
        "id": "VzqR0mdwAuOD",
        "outputId": "c931767a-0af3-4df5-cf9b-83c48a5940dc"
      },
      "execution_count": 1,
      "outputs": [
        {
          "output_type": "stream",
          "name": "stdout",
          "text": [
            "Looking in indexes: https://pypi.org/simple, https://us-python.pkg.dev/colab-wheels/public/simple/\n",
            "Collecting cebra\n",
            "  Downloading cebra-0.2.0-py2.py3-none-any.whl (171 kB)\n",
            "\u001b[2K     \u001b[90m━━━━━━━━━━━━━━━━━━━━━━━━━━━━━━━━━━━━━━━\u001b[0m \u001b[32m171.3/171.3 kB\u001b[0m \u001b[31m3.5 MB/s\u001b[0m eta \u001b[36m0:00:00\u001b[0m\n",
            "\u001b[?25hRequirement already satisfied: joblib in /usr/local/lib/python3.10/dist-packages (from cebra) (1.2.0)\n",
            "Collecting literate-dataclasses (from cebra)\n",
            "  Downloading literate_dataclasses-0.0.6-py3-none-any.whl (5.0 kB)\n",
            "Requirement already satisfied: scikit-learn in /usr/local/lib/python3.10/dist-packages (from cebra) (1.2.2)\n",
            "Requirement already satisfied: scipy in /usr/local/lib/python3.10/dist-packages (from cebra) (1.10.1)\n",
            "Requirement already satisfied: torch in /usr/local/lib/python3.10/dist-packages (from cebra) (2.0.1+cu118)\n",
            "Requirement already satisfied: tqdm in /usr/local/lib/python3.10/dist-packages (from cebra) (4.65.0)\n",
            "Requirement already satisfied: matplotlib in /usr/local/lib/python3.10/dist-packages (from cebra) (3.7.1)\n",
            "Requirement already satisfied: requests in /usr/local/lib/python3.10/dist-packages (from cebra) (2.27.1)\n",
            "Requirement already satisfied: contourpy>=1.0.1 in /usr/local/lib/python3.10/dist-packages (from matplotlib->cebra) (1.0.7)\n",
            "Requirement already satisfied: cycler>=0.10 in /usr/local/lib/python3.10/dist-packages (from matplotlib->cebra) (0.11.0)\n",
            "Requirement already satisfied: fonttools>=4.22.0 in /usr/local/lib/python3.10/dist-packages (from matplotlib->cebra) (4.39.3)\n",
            "Requirement already satisfied: kiwisolver>=1.0.1 in /usr/local/lib/python3.10/dist-packages (from matplotlib->cebra) (1.4.4)\n",
            "Requirement already satisfied: numpy>=1.20 in /usr/local/lib/python3.10/dist-packages (from matplotlib->cebra) (1.22.4)\n",
            "Requirement already satisfied: packaging>=20.0 in /usr/local/lib/python3.10/dist-packages (from matplotlib->cebra) (23.1)\n",
            "Requirement already satisfied: pillow>=6.2.0 in /usr/local/lib/python3.10/dist-packages (from matplotlib->cebra) (8.4.0)\n",
            "Requirement already satisfied: pyparsing>=2.3.1 in /usr/local/lib/python3.10/dist-packages (from matplotlib->cebra) (3.0.9)\n",
            "Requirement already satisfied: python-dateutil>=2.7 in /usr/local/lib/python3.10/dist-packages (from matplotlib->cebra) (2.8.2)\n",
            "Requirement already satisfied: urllib3<1.27,>=1.21.1 in /usr/local/lib/python3.10/dist-packages (from requests->cebra) (1.26.15)\n",
            "Requirement already satisfied: certifi>=2017.4.17 in /usr/local/lib/python3.10/dist-packages (from requests->cebra) (2022.12.7)\n",
            "Requirement already satisfied: charset-normalizer~=2.0.0 in /usr/local/lib/python3.10/dist-packages (from requests->cebra) (2.0.12)\n",
            "Requirement already satisfied: idna<4,>=2.5 in /usr/local/lib/python3.10/dist-packages (from requests->cebra) (3.4)\n",
            "Requirement already satisfied: threadpoolctl>=2.0.0 in /usr/local/lib/python3.10/dist-packages (from scikit-learn->cebra) (3.1.0)\n",
            "Requirement already satisfied: filelock in /usr/local/lib/python3.10/dist-packages (from torch->cebra) (3.12.0)\n",
            "Requirement already satisfied: typing-extensions in /usr/local/lib/python3.10/dist-packages (from torch->cebra) (4.5.0)\n",
            "Requirement already satisfied: sympy in /usr/local/lib/python3.10/dist-packages (from torch->cebra) (1.11.1)\n",
            "Requirement already satisfied: networkx in /usr/local/lib/python3.10/dist-packages (from torch->cebra) (3.1)\n",
            "Requirement already satisfied: jinja2 in /usr/local/lib/python3.10/dist-packages (from torch->cebra) (3.1.2)\n",
            "Requirement already satisfied: triton==2.0.0 in /usr/local/lib/python3.10/dist-packages (from torch->cebra) (2.0.0)\n",
            "Requirement already satisfied: cmake in /usr/local/lib/python3.10/dist-packages (from triton==2.0.0->torch->cebra) (3.25.2)\n",
            "Requirement already satisfied: lit in /usr/local/lib/python3.10/dist-packages (from triton==2.0.0->torch->cebra) (16.0.5)\n",
            "Requirement already satisfied: six>=1.5 in /usr/local/lib/python3.10/dist-packages (from python-dateutil>=2.7->matplotlib->cebra) (1.16.0)\n",
            "Requirement already satisfied: MarkupSafe>=2.0 in /usr/local/lib/python3.10/dist-packages (from jinja2->torch->cebra) (2.1.2)\n",
            "Requirement already satisfied: mpmath>=0.19 in /usr/local/lib/python3.10/dist-packages (from sympy->torch->cebra) (1.3.0)\n",
            "Installing collected packages: literate-dataclasses, cebra\n",
            "Successfully installed cebra-0.2.0 literate-dataclasses-0.0.6\n",
            "Mounted at /content/drive/\n",
            "Archive:  /content/drive/MyDrive/Cebra_data/2020_11_9_MV1_run_brain.zip\n",
            "   creating: 2020_11_9_MV1_run_brain/\n",
            "  inflating: 2020_11_9_MV1_run_brain/nomove_0001_0001.tif  \n",
            "  inflating: 2020_11_9_MV1_run_brain/nomove_0001_0002.tif  \n",
            "  inflating: 2020_11_9_MV1_run_brain/nomove_0001_0003.tif  \n",
            "  inflating: 2020_11_9_MV1_run_brain/nomove_0001_0004.tif  \n",
            "  inflating: 2020_11_9_MV1_run_brain/nomove_0001_0005.tif  \n",
            "  inflating: 2020_11_9_MV1_run_brain/move_0001_0001.tif  \n",
            "  inflating: 2020_11_9_MV1_run_brain/move_0001_0002.tif  \n",
            "  inflating: 2020_11_9_MV1_run_brain/move_0001_0003.tif  \n",
            "  inflating: 2020_11_9_MV1_run_brain/move_0001_0004.tif  \n",
            "  inflating: 2020_11_9_MV1_run_brain/move_0001_0005.tif  \n",
            "  inflating: 2020_11_9_MV1_run_brain/move_0002_0001.tif  \n",
            "  inflating: 2020_11_9_MV1_run_brain/move_0002_0002.tif  \n",
            "  inflating: 2020_11_9_MV1_run_brain/move_0002_0003.tif  \n",
            "  inflating: 2020_11_9_MV1_run_brain/move_0002_0004.tif  \n",
            "  inflating: 2020_11_9_MV1_run_brain/move_0002_0005.tif  \n",
            "  inflating: 2020_11_9_MV1_run_brain/move_0003_0001.tif  \n",
            "  inflating: 2020_11_9_MV1_run_brain/move_0003_0002.tif  \n",
            "  inflating: 2020_11_9_MV1_run_brain/move_0003_0003.tif  \n",
            "  inflating: 2020_11_9_MV1_run_brain/move_0003_0004.tif  \n",
            "  inflating: 2020_11_9_MV1_run_brain/nomove_0004_0001.tif  \n",
            "  inflating: 2020_11_9_MV1_run_brain/nomove_0004_0002.tif  \n",
            "  inflating: 2020_11_9_MV1_run_brain/nomove_0004_0003.tif  \n",
            "  inflating: 2020_11_9_MV1_run_brain/move_0004_0001.tif  \n",
            "  inflating: 2020_11_9_MV1_run_brain/move_0004_0002.tif  \n",
            "  inflating: 2020_11_9_MV1_run_brain/move_0004_0003.tif  \n",
            "  inflating: 2020_11_9_MV1_run_brain/move_0004_0004.tif  \n",
            "  inflating: 2020_11_9_MV1_run_brain/nomove_0005_0001.tif  \n",
            "  inflating: 2020_11_9_MV1_run_brain/nomove_0005_0002.tif  \n",
            "  inflating: 2020_11_9_MV1_run_brain/nomove_0005_0003.tif  \n",
            "  inflating: 2020_11_9_MV1_run_brain/nomove_0005_0004.tif  \n",
            "  inflating: 2020_11_9_MV1_run_brain/nomove_0005_0005.tif  \n",
            "  inflating: 2020_11_9_MV1_run_brain/nomove_0005_0006.tif  \n",
            "  inflating: 2020_11_9_MV1_run_brain/nomove_0005_0007.tif  \n",
            "  inflating: 2020_11_9_MV1_run_brain/nomove_0005_0008.tif  \n",
            "  inflating: 2020_11_9_MV1_run_brain/nomove_0005_0009.tif  \n",
            "  inflating: 2020_11_9_MV1_run_brain/nomove_0005_0010.tif  \n",
            "  inflating: 2020_11_9_MV1_run_brain/nomove_0006_0001.tif  \n",
            "  inflating: 2020_11_9_MV1_run_brain/nomove_0006_0002.tif  \n",
            "  inflating: 2020_11_9_MV1_run_brain/nomove_0006_0003.tif  \n",
            "  inflating: 2020_11_9_MV1_run_brain/nomove_0006_0004.tif  \n",
            "  inflating: 2020_11_9_MV1_run_brain/nomove_0006_0005.tif  \n",
            "  inflating: 2020_11_9_MV1_run_brain/nomove_0006_0006.tif  \n",
            "  inflating: 2020_11_9_MV1_run_brain/move_0006_0001.tif  \n",
            "  inflating: 2020_11_9_MV1_run_brain/move_0006_0002.tif  \n",
            "  inflating: 2020_11_9_MV1_run_brain/move_0006_0003.tif  \n",
            "  inflating: 2020_11_9_MV1_run_brain/move_0006_0004.tif  \n",
            "  inflating: 2020_11_9_MV1_run_brain/nomove_0007_0001.tif  \n",
            "  inflating: 2020_11_9_MV1_run_brain/nomove_0007_0002.tif  \n",
            "  inflating: 2020_11_9_MV1_run_brain/nomove_0007_0003.tif  \n",
            "  inflating: 2020_11_9_MV1_run_brain/nomove_0007_0004.tif  \n",
            "  inflating: 2020_11_9_MV1_run_brain/move_0007_0001.tif  \n",
            "  inflating: 2020_11_9_MV1_run_brain/move_0007_0002.tif  \n",
            "  inflating: 2020_11_9_MV1_run_brain/move_0007_0003.tif  \n",
            "  inflating: 2020_11_9_MV1_run_brain/move_0007_0004.tif  \n",
            "  inflating: 2020_11_9_MV1_run_brain/move_0007_0005.tif  \n",
            "  inflating: 2020_11_9_MV1_run_brain/nomove_0008_0001.tif  \n",
            "  inflating: 2020_11_9_MV1_run_brain/nomove_0008_0002.tif  \n",
            "  inflating: 2020_11_9_MV1_run_brain/nomove_0008_0003.tif  \n",
            "  inflating: 2020_11_9_MV1_run_brain/nomove_0008_0004.tif  \n",
            "  inflating: 2020_11_9_MV1_run_brain/nomove_0008_0005.tif  \n",
            "  inflating: 2020_11_9_MV1_run_brain/nomove_0009_0001.tif  \n",
            "  inflating: 2020_11_9_MV1_run_brain/nomove_0009_0002.tif  \n",
            "  inflating: 2020_11_9_MV1_run_brain/nomove_0009_0003.tif  \n",
            "  inflating: 2020_11_9_MV1_run_brain/nomove_0009_0004.tif  \n",
            "  inflating: 2020_11_9_MV1_run_brain/nomove_0009_0005.tif  \n",
            "  inflating: 2020_11_9_MV1_run_brain/nomove_0009_0006.tif  \n",
            "  inflating: 2020_11_9_MV1_run_brain/nomove_0009_0007.tif  \n",
            "  inflating: 2020_11_9_MV1_run_brain/nomove_0010_0001.tif  \n",
            "  inflating: 2020_11_9_MV1_run_brain/nomove_0010_0002.tif  \n",
            "  inflating: 2020_11_9_MV1_run_brain/nomove_0010_0003.tif  \n",
            "  inflating: 2020_11_9_MV1_run_brain/nomove_0010_0004.tif  \n",
            "  inflating: 2020_11_9_MV1_run_brain/nomove_0011_0001.tif  \n",
            "  inflating: 2020_11_9_MV1_run_brain/nomove_0012_0001.tif  \n",
            "  inflating: 2020_11_9_MV1_run_brain/nomove_0012_0002.tif  \n",
            "  inflating: 2020_11_9_MV1_run_brain/nomove_0012_0003.tif  \n",
            "  inflating: 2020_11_9_MV1_run_brain/nomove_0012_0004.tif  \n",
            "  inflating: 2020_11_9_MV1_run_brain/nomove_0012_0005.tif  \n",
            "  inflating: 2020_11_9_MV1_run_brain/move_0012_0001.tif  \n",
            "  inflating: 2020_11_9_MV1_run_brain/move_0012_0002.tif  \n",
            "  inflating: 2020_11_9_MV1_run_brain/move_0012_0003.tif  \n",
            "  inflating: 2020_11_9_MV1_run_brain/nomove_0013_0001.tif  \n",
            "  inflating: 2020_11_9_MV1_run_brain/nomove_0013_0002.tif  \n",
            "  inflating: 2020_11_9_MV1_run_brain/nomove_0013_0003.tif  \n",
            "  inflating: 2020_11_9_MV1_run_brain/nomove_0013_0004.tif  \n",
            "  inflating: 2020_11_9_MV1_run_brain/move_0013_0001.tif  \n",
            "  inflating: 2020_11_9_MV1_run_brain/move_0013_0002.tif  \n",
            "  inflating: 2020_11_9_MV1_run_brain/nomove_0014_0001.tif  \n",
            "  inflating: 2020_11_9_MV1_run_brain/nomove_0014_0002.tif  \n",
            "  inflating: 2020_11_9_MV1_run_brain/nomove_0014_0003.tif  \n",
            "  inflating: 2020_11_9_MV1_run_brain/nomove_0014_0004.tif  \n",
            "  inflating: 2020_11_9_MV1_run_brain/nomove_0015_0001.tif  \n",
            "  inflating: 2020_11_9_MV1_run_brain/nomove_0015_0002.tif  \n",
            "  inflating: 2020_11_9_MV1_run_brain/nomove_0015_0003.tif  \n",
            "  inflating: 2020_11_9_MV1_run_brain/nomove_0015_0004.tif  \n",
            "  inflating: 2020_11_9_MV1_run_brain/nomove_0015_0005.tif  \n",
            "  inflating: 2020_11_9_MV1_run_brain/nomove_0015_0006.tif  \n",
            "  inflating: 2020_11_9_MV1_run_brain/nomove_0015_0007.tif  \n",
            "  inflating: 2020_11_9_MV1_run_brain/nomove_0016_0001.tif  \n",
            "  inflating: 2020_11_9_MV1_run_brain/nomove_0016_0002.tif  \n",
            "  inflating: 2020_11_9_MV1_run_brain/nomove_0016_0003.tif  \n",
            "  inflating: 2020_11_9_MV1_run_brain/nomove_0016_0004.tif  \n",
            "  inflating: 2020_11_9_MV1_run_brain/nomove_0017_0001.tif  \n",
            "  inflating: 2020_11_9_MV1_run_brain/nomove_0017_0002.tif  \n",
            "  inflating: 2020_11_9_MV1_run_brain/nomove_0017_0003.tif  \n",
            "  inflating: 2020_11_9_MV1_run_brain/nomove_0017_0004.tif  \n",
            "  inflating: 2020_11_9_MV1_run_brain/nomove_0018_0001.tif  \n",
            "  inflating: 2020_11_9_MV1_run_brain/nomove_0018_0002.tif  \n",
            "  inflating: 2020_11_9_MV1_run_brain/nomove_0018_0003.tif  \n",
            "  inflating: 2020_11_9_MV1_run_brain/nomove_0018_0004.tif  \n",
            "  inflating: 2020_11_9_MV1_run_brain/move_0018_0001.tif  \n",
            "  inflating: 2020_11_9_MV1_run_brain/move_0018_0002.tif  \n",
            "  inflating: 2020_11_9_MV1_run_brain/nomove_0019_0001.tif  \n",
            "  inflating: 2020_11_9_MV1_run_brain/move_0019_0001.tif  \n",
            "  inflating: 2020_11_9_MV1_run_brain/move_0019_0002.tif  \n",
            "  inflating: 2020_11_9_MV1_run_brain/move_0019_0003.tif  \n",
            "  inflating: 2020_11_9_MV1_run_brain/move_0019_0004.tif  \n",
            "  inflating: 2020_11_9_MV1_run_brain/move_0019_0005.tif  \n",
            "  inflating: 2020_11_9_MV1_run_brain/move_0019_0006.tif  \n",
            "  inflating: 2020_11_9_MV1_run_brain/move_0019_0007.tif  \n",
            "  inflating: 2020_11_9_MV1_run_brain/move_0019_0008.tif  \n",
            "  inflating: 2020_11_9_MV1_run_brain/move_0020_0001.tif  \n",
            "  inflating: 2020_11_9_MV1_run_brain/move_0020_0002.tif  \n",
            "  inflating: 2020_11_9_MV1_run_brain/nomove_0021_0001.tif  \n",
            "  inflating: 2020_11_9_MV1_run_brain/nomove_0021_0002.tif  \n",
            "  inflating: 2020_11_9_MV1_run_brain/nomove_0021_0003.tif  \n",
            "  inflating: 2020_11_9_MV1_run_brain/nomove_0021_0004.tif  \n",
            "  inflating: 2020_11_9_MV1_run_brain/nomove_0021_0005.tif  \n",
            "  inflating: 2020_11_9_MV1_run_brain/nomove_0021_0006.tif  \n",
            "  inflating: 2020_11_9_MV1_run_brain/move_0021_0001.tif  \n",
            "  inflating: 2020_11_9_MV1_run_brain/move_0021_0002.tif  \n",
            "  inflating: 2020_11_9_MV1_run_brain/nomove_0022_0001.tif  \n",
            "  inflating: 2020_11_9_MV1_run_brain/nomove_0022_0002.tif  \n",
            "  inflating: 2020_11_9_MV1_run_brain/nomove_0022_0003.tif  \n",
            "  inflating: 2020_11_9_MV1_run_brain/nomove_0022_0004.tif  \n",
            "  inflating: 2020_11_9_MV1_run_brain/nomove_0023_0001.tif  \n",
            "  inflating: 2020_11_9_MV1_run_brain/nomove_0023_0002.tif  \n",
            "  inflating: 2020_11_9_MV1_run_brain/nomove_0023_0003.tif  \n",
            "  inflating: 2020_11_9_MV1_run_brain/nomove_0024_0001.tif  \n",
            "  inflating: 2020_11_9_MV1_run_brain/nomove_0024_0002.tif  \n",
            "  inflating: 2020_11_9_MV1_run_brain/nomove_0024_0003.tif  \n",
            "  inflating: 2020_11_9_MV1_run_brain/nomove_0024_0004.tif  \n",
            "  inflating: 2020_11_9_MV1_run_brain/nomove_0025_0001.tif  \n",
            "  inflating: 2020_11_9_MV1_run_brain/nomove_0025_0002.tif  \n",
            "  inflating: 2020_11_9_MV1_run_brain/nomove_0025_0003.tif  \n",
            "  inflating: 2020_11_9_MV1_run_brain/nomove_0025_0004.tif  \n",
            "  inflating: 2020_11_9_MV1_run_brain/nomove_0025_0005.tif  \n",
            "  inflating: 2020_11_9_MV1_run_brain/nomove_0026_0001.tif  \n",
            "  inflating: 2020_11_9_MV1_run_brain/nomove_0026_0002.tif  \n",
            "  inflating: 2020_11_9_MV1_run_brain/nomove_0026_0003.tif  \n",
            "  inflating: 2020_11_9_MV1_run_brain/nomove_0027_0001.tif  \n",
            "  inflating: 2020_11_9_MV1_run_brain/nomove_0027_0002.tif  \n",
            "  inflating: 2020_11_9_MV1_run_brain/nomove_0027_0003.tif  \n",
            "  inflating: 2020_11_9_MV1_run_brain/nomove_0028_0001.tif  \n",
            "  inflating: 2020_11_9_MV1_run_brain/nomove_0028_0002.tif  \n",
            "  inflating: 2020_11_9_MV1_run_brain/nomove_0028_0003.tif  \n",
            "  inflating: 2020_11_9_MV1_run_brain/nomove_0028_0004.tif  \n",
            "  inflating: 2020_11_9_MV1_run_brain/nomove_0028_0005.tif  \n",
            "  inflating: 2020_11_9_MV1_run_brain/nomove_0028_0006.tif  \n",
            "  inflating: 2020_11_9_MV1_run_brain/nomove_0029_0001.tif  \n",
            "  inflating: 2020_11_9_MV1_run_brain/nomove_0029_0002.tif  \n",
            "  inflating: 2020_11_9_MV1_run_brain/nomove_0029_0003.tif  \n",
            "  inflating: 2020_11_9_MV1_run_brain/move_0029_0001.tif  \n",
            "  inflating: 2020_11_9_MV1_run_brain/nomove_0030_0001.tif  \n",
            "  inflating: 2020_11_9_MV1_run_brain/nomove_0030_0002.tif  \n",
            "  inflating: 2020_11_9_MV1_run_brain/nomove_0030_0003.tif  \n",
            "  inflating: 2020_11_9_MV1_run_brain/nomove_0031_0001.tif  \n",
            "  inflating: 2020_11_9_MV1_run_brain/nomove_0031_0002.tif  \n",
            "  inflating: 2020_11_9_MV1_run_brain/nomove_0031_0003.tif  \n",
            "  inflating: 2020_11_9_MV1_run_brain/nomove_0032_0001.tif  \n",
            "  inflating: 2020_11_9_MV1_run_brain/nomove_0032_0002.tif  \n",
            "  inflating: 2020_11_9_MV1_run_brain/nomove_0032_0003.tif  \n",
            "  inflating: 2020_11_9_MV1_run_brain/nomove_0033_0001.tif  \n",
            "  inflating: 2020_11_9_MV1_run_brain/nomove_0033_0002.tif  \n",
            "  inflating: 2020_11_9_MV1_run_brain/nomove_0034_0001.tif  \n",
            "  inflating: 2020_11_9_MV1_run_brain/nomove_0034_0002.tif  \n",
            "  inflating: 2020_11_9_MV1_run_brain/nomove_0034_0003.tif  \n",
            "  inflating: 2020_11_9_MV1_run_brain/nomove_0034_0004.tif  \n",
            "  inflating: 2020_11_9_MV1_run_brain/move_0034_0001.tif  \n",
            "  inflating: 2020_11_9_MV1_run_brain/move_0034_0002.tif  \n",
            "  inflating: 2020_11_9_MV1_run_brain/move_0034_0003.tif  \n",
            "  inflating: 2020_11_9_MV1_run_brain/move_0034_0004.tif  \n",
            "  inflating: 2020_11_9_MV1_run_brain/nomove_0035_0001.tif  \n",
            "  inflating: 2020_11_9_MV1_run_brain/nomove_0035_0002.tif  \n",
            "  inflating: 2020_11_9_MV1_run_brain/nomove_0035_0003.tif  \n",
            "  inflating: 2020_11_9_MV1_run_brain/nomove_0035_0004.tif  \n",
            "  inflating: 2020_11_9_MV1_run_brain/nomove_0035_0005.tif  \n",
            "  inflating: 2020_11_9_MV1_run_brain/nomove_0036_0001.tif  \n",
            "  inflating: 2020_11_9_MV1_run_brain/nomove_0036_0002.tif  \n",
            "  inflating: 2020_11_9_MV1_run_brain/nomove_0037_0001.tif  \n",
            "  inflating: 2020_11_9_MV1_run_brain/nomove_0037_0002.tif  \n",
            "  inflating: 2020_11_9_MV1_run_brain/nomove_0038_0001.tif  \n",
            "  inflating: 2020_11_9_MV1_run_brain/nomove_0038_0002.tif  \n",
            "  inflating: 2020_11_9_MV1_run_brain/nomove_0038_0003.tif  \n",
            "  inflating: 2020_11_9_MV1_run_brain/nomove_0038_0004.tif  \n",
            "  inflating: 2020_11_9_MV1_run_brain/nomove_0038_0005.tif  \n",
            "  inflating: 2020_11_9_MV1_run_brain/nomove_0039_0001.tif  \n",
            "  inflating: 2020_11_9_MV1_run_brain/nomove_0039_0002.tif  \n",
            "  inflating: 2020_11_9_MV1_run_brain/nomove_0039_0003.tif  \n",
            "  inflating: 2020_11_9_MV1_run_brain/nomove_0039_0004.tif  \n",
            "  inflating: 2020_11_9_MV1_run_brain/nomove_0039_0005.tif  \n",
            "  inflating: 2020_11_9_MV1_run_brain/nomove_0039_0006.tif  \n",
            "  inflating: 2020_11_9_MV1_run_brain/nomove_0039_0007.tif  \n",
            "  inflating: 2020_11_9_MV1_run_brain/move_0039_0001.tif  \n",
            "  inflating: 2020_11_9_MV1_run_brain/move_0039_0002.tif  \n",
            "  inflating: 2020_11_9_MV1_run_brain/move_0039_0003.tif  \n",
            "  inflating: 2020_11_9_MV1_run_brain/nomove_0040_0001.tif  \n",
            "  inflating: 2020_11_9_MV1_run_brain/nomove_0040_0002.tif  \n",
            "  inflating: 2020_11_9_MV1_run_brain/nomove_0040_0003.tif  \n",
            "  inflating: 2020_11_9_MV1_run_brain/nomove_0040_0004.tif  \n",
            "  inflating: 2020_11_9_MV1_run_brain/nomove_0040_0005.tif  \n",
            "  inflating: 2020_11_9_MV1_run_brain/nomove_0040_0006.tif  \n",
            "  inflating: 2020_11_9_MV1_run_brain/nomove_0040_0007.tif  \n",
            "  inflating: 2020_11_9_MV1_run_brain/nomove_0040_0008.tif  \n",
            "  inflating: 2020_11_9_MV1_run_brain/nomove_0040_0009.tif  \n",
            "  inflating: 2020_11_9_MV1_run_brain/nomove_0040_0010.tif  \n",
            "  inflating: 2020_11_9_MV1_run_brain/nomove_0040_0011.tif  \n",
            "  inflating: 2020_11_9_MV1_run_brain/nomove_0041_0001.tif  \n",
            "  inflating: 2020_11_9_MV1_run_brain/nomove_0041_0002.tif  \n",
            "  inflating: 2020_11_9_MV1_run_brain/nomove_0041_0003.tif  \n",
            "  inflating: 2020_11_9_MV1_run_brain/move_0041_0001.tif  \n",
            "  inflating: 2020_11_9_MV1_run_brain/move_0041_0002.tif  \n",
            "  inflating: 2020_11_9_MV1_run_brain/move_0041_0003.tif  \n",
            "  inflating: 2020_11_9_MV1_run_brain/move_0041_0004.tif  \n",
            "  inflating: 2020_11_9_MV1_run_brain/nomove_0042_0001.tif  \n",
            "  inflating: 2020_11_9_MV1_run_brain/nomove_0042_0002.tif  \n",
            "  inflating: 2020_11_9_MV1_run_brain/nomove_0042_0003.tif  \n",
            "  inflating: 2020_11_9_MV1_run_brain/move_0042_0001.tif  \n",
            "  inflating: 2020_11_9_MV1_run_brain/move_0042_0002.tif  \n",
            "  inflating: 2020_11_9_MV1_run_brain/move_0042_0003.tif  \n",
            "  inflating: 2020_11_9_MV1_run_brain/move_0042_0004.tif  \n",
            "  inflating: 2020_11_9_MV1_run_brain/move_0042_0005.tif  \n",
            "  inflating: 2020_11_9_MV1_run_brain/move_0042_0006.tif  \n",
            "  inflating: 2020_11_9_MV1_run_brain/nomove_0043_0001.tif  \n",
            "  inflating: 2020_11_9_MV1_run_brain/nomove_0043_0002.tif  \n",
            "  inflating: 2020_11_9_MV1_run_brain/nomove_0043_0003.tif  \n",
            "  inflating: 2020_11_9_MV1_run_brain/nomove_0043_0004.tif  \n",
            "  inflating: 2020_11_9_MV1_run_brain/nomove_0043_0005.tif  \n",
            "  inflating: 2020_11_9_MV1_run_brain/nomove_0043_0006.tif  \n",
            "  inflating: 2020_11_9_MV1_run_brain/nomove_0044_0001.tif  \n",
            "  inflating: 2020_11_9_MV1_run_brain/nomove_0044_0002.tif  \n",
            "  inflating: 2020_11_9_MV1_run_brain/nomove_0044_0003.tif  \n",
            "  inflating: 2020_11_9_MV1_run_brain/nomove_0045_0001.tif  \n",
            "  inflating: 2020_11_9_MV1_run_brain/nomove_0045_0002.tif  \n",
            "  inflating: 2020_11_9_MV1_run_brain/nomove_0046_0001.tif  \n",
            "  inflating: 2020_11_9_MV1_run_brain/nomove_0046_0002.tif  \n",
            "  inflating: 2020_11_9_MV1_run_brain/nomove_0046_0003.tif  \n",
            "  inflating: 2020_11_9_MV1_run_brain/nomove_0047_0001.tif  \n",
            "  inflating: 2020_11_9_MV1_run_brain/nomove_0047_0002.tif  \n",
            "  inflating: 2020_11_9_MV1_run_brain/nomove_0047_0003.tif  \n",
            "  inflating: 2020_11_9_MV1_run_brain/nomove_0047_0004.tif  \n",
            "  inflating: 2020_11_9_MV1_run_brain/nomove_0047_0005.tif  \n",
            "  inflating: 2020_11_9_MV1_run_brain/nomove_0047_0006.tif  \n",
            "  inflating: 2020_11_9_MV1_run_brain/nomove_0047_0007.tif  \n",
            "  inflating: 2020_11_9_MV1_run_brain/move_0047_0001.tif  \n",
            "  inflating: 2020_11_9_MV1_run_brain/move_0047_0002.tif  \n",
            "  inflating: 2020_11_9_MV1_run_brain/nomove_0048_0001.tif  \n",
            "  inflating: 2020_11_9_MV1_run_brain/nomove_0048_0002.tif  \n",
            "  inflating: 2020_11_9_MV1_run_brain/nomove_0048_0003.tif  \n",
            "  inflating: 2020_11_9_MV1_run_brain/nomove_0048_0004.tif  \n",
            "  inflating: 2020_11_9_MV1_run_brain/nomove_0049_0001.tif  \n",
            "  inflating: 2020_11_9_MV1_run_brain/nomove_0049_0002.tif  \n",
            "  inflating: 2020_11_9_MV1_run_brain/nomove_0050_0001.tif  \n",
            "  inflating: 2020_11_9_MV1_run_brain/nomove_0050_0002.tif  \n",
            "  inflating: 2020_11_9_MV1_run_brain/nomove_0050_0003.tif  \n",
            "  inflating: 2020_11_9_MV1_run_brain/nomove_0050_0004.tif  \n",
            "  inflating: 2020_11_9_MV1_run_brain/nomove_0051_0001.tif  \n",
            "  inflating: 2020_11_9_MV1_run_brain/nomove_0051_0002.tif  \n",
            "  inflating: 2020_11_9_MV1_run_brain/nomove_0051_0003.tif  \n",
            "  inflating: 2020_11_9_MV1_run_brain/nomove_0052_0001.tif  \n",
            "  inflating: 2020_11_9_MV1_run_brain/nomove_0052_0002.tif  \n",
            "  inflating: 2020_11_9_MV1_run_brain/nomove_0052_0003.tif  \n",
            "  inflating: 2020_11_9_MV1_run_brain/nomove_0053_0001.tif  \n",
            "  inflating: 2020_11_9_MV1_run_brain/nomove_0053_0002.tif  \n",
            "  inflating: 2020_11_9_MV1_run_brain/nomove_0053_0003.tif  \n",
            "  inflating: 2020_11_9_MV1_run_brain/nomove_0054_0001.tif  \n",
            "  inflating: 2020_11_9_MV1_run_brain/nomove_0054_0002.tif  \n",
            "  inflating: 2020_11_9_MV1_run_brain/nomove_0054_0003.tif  \n",
            "  inflating: 2020_11_9_MV1_run_brain/nomove_0055_0001.tif  \n",
            "  inflating: 2020_11_9_MV1_run_brain/nomove_0055_0002.tif  \n",
            "  inflating: 2020_11_9_MV1_run_brain/nomove_0055_0003.tif  \n",
            "  inflating: 2020_11_9_MV1_run_brain/nomove_0055_0004.tif  \n",
            "  inflating: 2020_11_9_MV1_run_brain/nomove_0055_0005.tif  \n",
            "  inflating: 2020_11_9_MV1_run_brain/nomove_0055_0006.tif  \n",
            "  inflating: 2020_11_9_MV1_run_brain/nomove_0056_0001.tif  \n",
            "  inflating: 2020_11_9_MV1_run_brain/nomove_0056_0002.tif  \n",
            "  inflating: 2020_11_9_MV1_run_brain/nomove_0057_0001.tif  \n",
            "  inflating: 2020_11_9_MV1_run_brain/nomove_0057_0002.tif  \n",
            "  inflating: 2020_11_9_MV1_run_brain/nomove_0058_0001.tif  \n",
            "  inflating: 2020_11_9_MV1_run_brain/nomove_0058_0002.tif  \n",
            "  inflating: 2020_11_9_MV1_run_brain/nomove_0059_0001.tif  \n",
            "  inflating: 2020_11_9_MV1_run_brain/nomove_0060_0001.tif  \n",
            "  inflating: 2020_11_9_MV1_run_brain/nomove_0060_0002.tif  \n",
            "unzip:  cannot find or open /content/drive/MyDrive/Cebra_data/2020_11_9_MV1_run_behaviour.zip, /content/drive/MyDrive/Cebra_data/2020_11_9_MV1_run_behaviour.zip.zip or /content/drive/MyDrive/Cebra_data/2020_11_9_MV1_run_behaviour.zip.ZIP.\n"
          ]
        }
      ]
    },
    {
      "cell_type": "code",
      "source": [
        "!unzip /content/drive/MyDrive/Cebra_data/2020_11_9_MV1_run_behavior.zip"
      ],
      "metadata": {
        "colab": {
          "base_uri": "https://localhost:8080/"
        },
        "id": "Gb7O6tZjTGgH",
        "outputId": "143807b2-e20a-47f3-a87f-f5fd7906bb70"
      },
      "execution_count": 2,
      "outputs": [
        {
          "output_type": "stream",
          "name": "stdout",
          "text": [
            "Archive:  /content/drive/MyDrive/Cebra_data/2020_11_9_MV1_run_behavior.zip\n",
            "  inflating: nomove_0060_0002.tif    \n",
            "  inflating: nomove_0060_0001.tif    \n",
            "  inflating: nomove_0059_0001.tif    \n",
            "  inflating: nomove_0058_0002.tif    \n",
            "  inflating: nomove_0058_0001.tif    \n",
            "  inflating: nomove_0057_0002.tif    \n",
            "  inflating: nomove_0057_0001.tif    \n",
            "  inflating: nomove_0056_0002.tif    \n",
            "  inflating: nomove_0056_0001.tif    \n",
            "  inflating: nomove_0055_0006.tif    \n",
            "  inflating: nomove_0055_0005.tif    \n",
            "  inflating: nomove_0055_0004.tif    \n",
            "  inflating: nomove_0055_0003.tif    \n",
            "  inflating: nomove_0055_0002.tif    \n",
            "  inflating: nomove_0055_0001.tif    \n",
            "  inflating: nomove_0054_0003.tif    \n",
            "  inflating: nomove_0054_0002.tif    \n",
            "  inflating: nomove_0054_0001.tif    \n",
            "  inflating: nomove_0053_0003.tif    \n",
            "  inflating: nomove_0053_0002.tif    \n",
            "  inflating: nomove_0053_0001.tif    \n",
            "  inflating: nomove_0052_0003.tif    \n",
            "  inflating: nomove_0052_0002.tif    \n",
            "  inflating: nomove_0052_0001.tif    \n",
            "  inflating: nomove_0051_0003.tif    \n",
            "  inflating: nomove_0051_0002.tif    \n",
            "  inflating: nomove_0051_0001.tif    \n",
            "  inflating: nomove_0050_0004.tif    \n",
            "  inflating: nomove_0050_0003.tif    \n",
            "  inflating: nomove_0050_0002.tif    \n",
            "  inflating: nomove_0050_0001.tif    \n",
            "  inflating: nomove_0049_0002.tif    \n",
            "  inflating: nomove_0049_0001.tif    \n",
            "  inflating: nomove_0048_0004.tif    \n",
            "  inflating: nomove_0048_0003.tif    \n",
            "  inflating: nomove_0048_0002.tif    \n",
            "  inflating: nomove_0048_0001.tif    \n",
            "  inflating: nomove_0047_0007.tif    \n",
            "  inflating: nomove_0047_0006.tif    \n",
            "  inflating: nomove_0047_0005.tif    \n",
            "  inflating: nomove_0047_0004.tif    \n",
            "  inflating: nomove_0047_0003.tif    \n",
            "  inflating: nomove_0047_0002.tif    \n",
            "  inflating: nomove_0047_0001.tif    \n",
            "  inflating: nomove_0046_0003.tif    \n",
            "  inflating: nomove_0046_0002.tif    \n",
            "  inflating: nomove_0046_0001.tif    \n",
            "  inflating: nomove_0045_0002.tif    \n",
            "  inflating: nomove_0045_0001.tif    \n",
            "  inflating: nomove_0044_0003.tif    \n",
            "  inflating: nomove_0044_0002.tif    \n",
            "  inflating: nomove_0044_0001.tif    \n",
            "  inflating: nomove_0043_0006.tif    \n",
            "  inflating: nomove_0043_0005.tif    \n",
            "  inflating: nomove_0043_0004.tif    \n",
            "  inflating: nomove_0043_0003.tif    \n",
            "  inflating: nomove_0043_0002.tif    \n",
            "  inflating: nomove_0043_0001.tif    \n",
            "  inflating: nomove_0042_0003.tif    \n",
            "  inflating: nomove_0042_0002.tif    \n",
            "  inflating: nomove_0042_0001.tif    \n",
            "  inflating: nomove_0041_0003.tif    \n",
            "  inflating: nomove_0041_0002.tif    \n",
            "  inflating: nomove_0041_0001.tif    \n",
            "  inflating: nomove_0040_0011.tif    \n",
            "  inflating: nomove_0040_0010.tif    \n",
            "  inflating: nomove_0040_0009.tif    \n",
            "  inflating: nomove_0040_0008.tif    \n",
            "  inflating: nomove_0040_0007.tif    \n",
            "  inflating: nomove_0040_0006.tif    \n",
            "  inflating: nomove_0040_0005.tif    \n",
            "  inflating: nomove_0040_0004.tif    \n",
            "  inflating: nomove_0040_0003.tif    \n",
            "  inflating: nomove_0040_0002.tif    \n",
            "  inflating: nomove_0040_0001.tif    \n",
            "  inflating: nomove_0039_0007.tif    \n",
            "  inflating: nomove_0039_0006.tif    \n",
            "  inflating: nomove_0039_0005.tif    \n",
            "  inflating: nomove_0039_0004.tif    \n",
            "  inflating: nomove_0039_0003.tif    \n",
            "  inflating: nomove_0039_0002.tif    \n",
            "  inflating: nomove_0039_0001.tif    \n",
            "  inflating: nomove_0038_0005.tif    \n",
            "  inflating: nomove_0038_0004.tif    \n",
            "  inflating: nomove_0038_0003.tif    \n",
            "  inflating: nomove_0038_0002.tif    \n",
            "  inflating: nomove_0038_0001.tif    \n",
            "  inflating: nomove_0037_0002.tif    \n",
            "  inflating: nomove_0037_0001.tif    \n",
            "  inflating: nomove_0036_0002.tif    \n",
            "  inflating: nomove_0036_0001.tif    \n",
            "  inflating: nomove_0035_0005.tif    \n",
            "  inflating: nomove_0035_0004.tif    \n",
            "  inflating: nomove_0035_0003.tif    \n",
            "  inflating: nomove_0035_0002.tif    \n",
            "  inflating: nomove_0035_0001.tif    \n",
            "  inflating: nomove_0034_0004.tif    \n",
            "  inflating: nomove_0034_0003.tif    \n",
            "  inflating: nomove_0034_0002.tif    \n",
            "  inflating: nomove_0034_0001.tif    \n",
            "  inflating: nomove_0033_0002.tif    \n",
            "  inflating: nomove_0033_0001.tif    \n",
            "  inflating: nomove_0032_0003.tif    \n",
            "  inflating: nomove_0032_0002.tif    \n",
            "  inflating: nomove_0032_0001.tif    \n",
            "  inflating: nomove_0031_0003.tif    \n",
            "  inflating: nomove_0031_0002.tif    \n",
            "  inflating: nomove_0031_0001.tif    \n",
            "  inflating: nomove_0030_0003.tif    \n",
            "  inflating: nomove_0030_0002.tif    \n",
            "  inflating: nomove_0030_0001.tif    \n",
            "  inflating: nomove_0029_0003.tif    \n",
            "  inflating: nomove_0029_0002.tif    \n",
            "  inflating: nomove_0029_0001.tif    \n",
            "  inflating: nomove_0028_0006.tif    \n",
            "  inflating: nomove_0028_0005.tif    \n",
            "  inflating: nomove_0028_0004.tif    \n",
            "  inflating: nomove_0028_0003.tif    \n",
            "  inflating: nomove_0028_0002.tif    \n",
            "  inflating: nomove_0028_0001.tif    \n",
            "  inflating: nomove_0027_0003.tif    \n",
            "  inflating: nomove_0027_0002.tif    \n",
            "  inflating: nomove_0027_0001.tif    \n",
            "  inflating: nomove_0026_0003.tif    \n",
            "  inflating: nomove_0026_0002.tif    \n",
            "  inflating: nomove_0026_0001.tif    \n",
            "  inflating: nomove_0025_0005.tif    \n",
            "  inflating: nomove_0025_0004.tif    \n",
            "  inflating: nomove_0025_0003.tif    \n",
            "  inflating: nomove_0025_0002.tif    \n",
            "  inflating: nomove_0025_0001.tif    \n",
            "  inflating: nomove_0024_0004.tif    \n",
            "  inflating: nomove_0024_0003.tif    \n",
            "  inflating: nomove_0024_0002.tif    \n",
            "  inflating: nomove_0024_0001.tif    \n",
            "  inflating: nomove_0023_0003.tif    \n",
            "  inflating: nomove_0023_0002.tif    \n",
            "  inflating: nomove_0023_0001.tif    \n",
            "  inflating: nomove_0022_0004.tif    \n",
            "  inflating: nomove_0022_0003.tif    \n",
            "  inflating: nomove_0022_0002.tif    \n",
            "  inflating: nomove_0022_0001.tif    \n",
            "  inflating: nomove_0021_0006.tif    \n",
            "  inflating: nomove_0021_0005.tif    \n",
            "  inflating: nomove_0021_0004.tif    \n",
            "  inflating: nomove_0021_0003.tif    \n",
            "  inflating: nomove_0021_0002.tif    \n",
            "  inflating: nomove_0021_0001.tif    \n",
            "  inflating: nomove_0019_0001.tif    \n",
            "  inflating: nomove_0018_0004.tif    \n",
            "  inflating: nomove_0018_0003.tif    \n",
            "  inflating: nomove_0018_0002.tif    \n",
            "  inflating: nomove_0018_0001.tif    \n",
            "  inflating: nomove_0017_0004.tif    \n",
            "  inflating: nomove_0017_0003.tif    \n",
            "  inflating: nomove_0017_0002.tif    \n",
            "  inflating: nomove_0017_0001.tif    \n",
            "  inflating: nomove_0016_0004.tif    \n",
            "  inflating: nomove_0016_0003.tif    \n",
            "  inflating: nomove_0016_0002.tif    \n",
            "  inflating: nomove_0016_0001.tif    \n",
            "  inflating: nomove_0015_0007.tif    \n",
            "  inflating: nomove_0015_0006.tif    \n",
            "  inflating: nomove_0015_0005.tif    \n",
            "  inflating: nomove_0015_0004.tif    \n",
            "  inflating: nomove_0015_0003.tif    \n",
            "  inflating: nomove_0015_0002.tif    \n",
            "  inflating: nomove_0015_0001.tif    \n",
            "  inflating: nomove_0014_0004.tif    \n",
            "  inflating: nomove_0014_0003.tif    \n",
            "  inflating: nomove_0014_0002.tif    \n",
            "  inflating: nomove_0014_0001.tif    \n",
            "  inflating: nomove_0013_0004.tif    \n",
            "  inflating: nomove_0013_0003.tif    \n",
            "  inflating: nomove_0013_0002.tif    \n",
            "  inflating: nomove_0013_0001.tif    \n",
            "  inflating: nomove_0012_0005.tif    \n",
            "  inflating: nomove_0012_0004.tif    \n",
            "  inflating: nomove_0012_0003.tif    \n",
            "  inflating: nomove_0012_0002.tif    \n",
            "  inflating: nomove_0012_0001.tif    \n",
            "  inflating: nomove_0011_0001.tif    \n",
            "  inflating: nomove_0010_0004.tif    \n",
            "  inflating: nomove_0010_0003.tif    \n",
            "  inflating: nomove_0010_0002.tif    \n",
            "  inflating: nomove_0010_0001.tif    \n",
            "  inflating: nomove_0009_0007.tif    \n",
            "  inflating: nomove_0009_0006.tif    \n",
            "  inflating: nomove_0009_0005.tif    \n",
            "  inflating: nomove_0009_0004.tif    \n",
            "  inflating: nomove_0009_0003.tif    \n",
            "  inflating: nomove_0009_0002.tif    \n",
            "  inflating: nomove_0009_0001.tif    \n",
            "  inflating: nomove_0008_0005.tif    \n",
            "  inflating: nomove_0008_0004.tif    \n",
            "  inflating: nomove_0008_0003.tif    \n",
            "  inflating: nomove_0008_0002.tif    \n",
            "  inflating: nomove_0008_0001.tif    \n",
            "  inflating: nomove_0007_0004.tif    \n",
            "  inflating: nomove_0007_0003.tif    \n",
            "  inflating: nomove_0007_0002.tif    \n",
            "  inflating: nomove_0007_0001.tif    \n",
            "  inflating: nomove_0006_0006.tif    \n",
            "  inflating: nomove_0006_0005.tif    \n",
            "  inflating: nomove_0006_0004.tif    \n",
            "  inflating: nomove_0006_0003.tif    \n",
            "  inflating: nomove_0006_0002.tif    \n",
            "  inflating: nomove_0006_0001.tif    \n",
            "  inflating: nomove_0005_0010.tif    \n",
            "  inflating: nomove_0005_0009.tif    \n",
            "  inflating: nomove_0005_0008.tif    \n",
            "  inflating: nomove_0005_0007.tif    \n",
            "  inflating: nomove_0005_0006.tif    \n",
            "  inflating: nomove_0005_0005.tif    \n",
            "  inflating: nomove_0005_0004.tif    \n",
            "  inflating: nomove_0005_0003.tif    \n",
            "  inflating: nomove_0005_0002.tif    \n",
            "  inflating: nomove_0005_0001.tif    \n",
            "  inflating: nomove_0004_0003.tif    \n",
            "  inflating: nomove_0004_0002.tif    \n",
            "  inflating: nomove_0004_0001.tif    \n",
            "  inflating: nomove_0001_0005.tif    \n",
            "  inflating: nomove_0001_0004.tif    \n",
            "  inflating: nomove_0001_0003.tif    \n",
            "  inflating: nomove_0001_0002.tif    \n",
            "  inflating: nomove_0001_0001.tif    \n",
            "  inflating: move_0047_0002.tif      \n",
            "  inflating: move_0047_0001.tif      \n",
            "  inflating: move_0042_0006.tif      \n",
            "  inflating: move_0042_0005.tif      \n",
            "  inflating: move_0042_0004.tif      \n",
            "  inflating: move_0042_0003.tif      \n",
            "  inflating: move_0042_0002.tif      \n",
            "  inflating: move_0042_0001.tif      \n",
            "  inflating: move_0041_0004.tif      \n",
            "  inflating: move_0041_0003.tif      \n",
            "  inflating: move_0041_0002.tif      \n",
            "  inflating: move_0041_0001.tif      \n",
            "  inflating: move_0039_0003.tif      \n",
            "  inflating: move_0039_0002.tif      \n",
            "  inflating: move_0039_0001.tif      \n",
            "  inflating: move_0034_0004.tif      \n",
            "  inflating: move_0034_0003.tif      \n",
            "  inflating: move_0034_0002.tif      \n",
            "  inflating: move_0034_0001.tif      \n",
            "  inflating: move_0021_0002.tif      \n",
            "  inflating: move_0029_0001.tif      \n",
            "  inflating: move_0021_0001.tif      \n",
            "  inflating: move_0020_0002.tif      \n",
            "  inflating: move_0020_0001.tif      \n",
            "  inflating: move_0019_0008.tif      \n",
            "  inflating: move_0019_0007.tif      \n",
            "  inflating: move_0019_0006.tif      \n",
            "  inflating: move_0019_0005.tif      \n",
            "  inflating: move_0019_0004.tif      \n",
            "  inflating: move_0019_0003.tif      \n",
            "  inflating: move_0019_0002.tif      \n",
            "  inflating: move_0019_0001.tif      \n",
            "  inflating: move_0018_0002.tif      \n",
            "  inflating: move_0018_0001.tif      \n",
            "  inflating: move_0013_0002.tif      \n",
            "  inflating: move_0013_0001.tif      \n",
            "  inflating: move_0012_0002.tif      \n",
            "  inflating: move_0012_0003.tif      \n",
            "  inflating: move_0007_0005.tif      \n",
            "  inflating: move_0012_0001.tif      \n",
            "  inflating: move_0007_0004.tif      \n",
            "  inflating: move_0007_0003.tif      \n",
            "  inflating: move_0007_0002.tif      \n",
            "  inflating: move_0007_0001.tif      \n",
            "  inflating: move_0006_0004.tif      \n",
            "  inflating: move_0006_0003.tif      \n",
            "  inflating: move_0006_0002.tif      \n",
            "  inflating: move_0006_0001.tif      \n",
            "  inflating: move_0004_0004.tif      \n",
            "  inflating: move_0004_0003.tif      \n",
            "  inflating: move_0004_0002.tif      \n",
            "  inflating: move_0004_0001.tif      \n",
            "  inflating: move_0003_0004.tif      \n",
            "  inflating: move_0003_0003.tif      \n",
            "  inflating: move_0003_0002.tif      \n",
            "  inflating: move_0003_0001.tif      \n",
            "  inflating: move_0002_0005.tif      \n",
            "  inflating: move_0002_0004.tif      \n",
            "  inflating: move_0002_0003.tif      \n",
            "  inflating: move_0002_0002.tif      \n",
            "  inflating: move_0002_0001.tif      \n",
            "  inflating: move_0001_0003.tif      \n",
            "  inflating: move_0001_0004.tif      \n",
            "  inflating: move_0001_0001.tif      \n",
            "  inflating: move_0001_0005.tif      \n",
            "  inflating: move_0001_0002.tif      \n"
          ]
        }
      ]
    },
    {
      "cell_type": "code",
      "source": [
        "!mkdir 2020_11_9_MV1_run_behavior\n"
      ],
      "metadata": {
        "colab": {
          "base_uri": "https://localhost:8080/"
        },
        "id": "Qkz4lBs6Ty4c",
        "outputId": "5b569ecd-e183-4a0a-aba0-9b8b98af1ffc"
      },
      "execution_count": 4,
      "outputs": [
        {
          "output_type": "stream",
          "name": "stdout",
          "text": [
            "mkdir: cannot create directory ‘2020_11_9_MV1_run_behavior’: File exists\n"
          ]
        }
      ]
    },
    {
      "cell_type": "code",
      "source": [
        "!mv *.tif 2020_11_9_MV1_run_behavior/"
      ],
      "metadata": {
        "colab": {
          "base_uri": "https://localhost:8080/"
        },
        "id": "mhByVK6cT8iz",
        "outputId": "9ddfbb1a-e686-4bcd-81ec-c41af65cb558"
      },
      "execution_count": 6,
      "outputs": [
        {
          "output_type": "stream",
          "name": "stdout",
          "text": [
            "mv: cannot stat '.*.tif': No such file or directory\n"
          ]
        }
      ]
    },
    {
      "cell_type": "code",
      "execution_count": 7,
      "metadata": {
        "colab": {
          "base_uri": "https://localhost:8080/"
        },
        "id": "mC2cXtSv85lj",
        "outputId": "f36a0368-c7e1-4c1f-e7fe-8a7470fda118"
      },
      "outputs": [
        {
          "output_type": "stream",
          "name": "stderr",
          "text": [
            "/usr/local/lib/python3.10/dist-packages/cebra/datasets/monkey_reaching.py:35: UserWarning: Could not import the nlb_tools package required for data loading of cebra.datasets.monkey_reaching. Dataset will not be available. If required, you can install the dataset by running pip install git+https://github.com/neurallatents/nlb_tools.\n",
            "  warnings.warn(\n"
          ]
        }
      ],
      "source": [
        "import sys\n",
        "import numpy as np\n",
        "import matplotlib.pyplot as plt\n",
        "import cebra.datasets\n",
        "from cebra import CEBRA\n",
        "from PIL import Image\n",
        "import cv2\n",
        "import torch\n",
        "import pickle"
      ]
    },
    {
      "cell_type": "code",
      "execution_count": 8,
      "metadata": {
        "colab": {
          "base_uri": "https://localhost:8080/"
        },
        "id": "DwbBjoxQArDJ",
        "outputId": "5cd18711-c1f1-4c24-97eb-62e41cd8b064"
      },
      "outputs": [
        {
          "output_type": "stream",
          "name": "stdout",
          "text": [
            "cuda\n"
          ]
        }
      ],
      "source": [
        "if torch.cuda.is_available():\n",
        "    DEVICE = \"cuda\"\n",
        "else:\n",
        "    DEVICE = \"cpu\"\n",
        "print(DEVICE)"
      ]
    },
    {
      "cell_type": "code",
      "execution_count": 9,
      "metadata": {
        "id": "BbPAm7I49j6R"
      },
      "outputs": [],
      "source": [
        "from logging import exception\n",
        "def process_brain(path):\n",
        "  try:\n",
        "    brain_seq = cv2.imreadmulti(path)[1]\n",
        "    brain_seq = np.array(brain_seq)\n",
        "    brain_mask = (np.sum(brain_seq, axis=0) > 0)\n",
        "    flat_seq = (brain_seq[:, brain_mask])\n",
        "    return flat_seq.astype(float)\n",
        "  except:\n",
        "    print(np.shape(brain_seq))\n"
      ]
    },
    {
      "cell_type": "code",
      "execution_count": null,
      "metadata": {
        "id": "qEY4KXs5ArDN"
      },
      "outputs": [],
      "source": []
    },
    {
      "cell_type": "code",
      "execution_count": 10,
      "metadata": {
        "id": "H8cwkwhp95Hs"
      },
      "outputs": [],
      "source": [
        "# iterate through all brain data and process it\n",
        "#https://stackoverflow.com/questions/10377998/how-can-i-iterate-over-files-in-a-given-directory\n",
        "import os\n",
        "neural_data = []\n",
        "name_data = []\n",
        "behav_data = []\n",
        "\n",
        "filepath = \"2020_11_9_MV1_run_brain\"\n",
        "for file in os.listdir(filepath):\n",
        "     filename = os.fsdecode(file)\n",
        "     if filename.endswith(\".tif\"):\n",
        "         neural_data.append(process_brain(filepath + '/' + filename))\n",
        "         name_data.append(filename)\n",
        "         split_name = filename.split('_')\n",
        "         session_data = []\n",
        "         session_data.append(int(split_name[2].split('.')[0]))\n",
        "         session_data.append(int(split_name[1]))\n",
        "         behav_data.append(session_data)\n",
        "         continue\n",
        "     else:\n",
        "         continue"
      ]
    },
    {
      "cell_type": "code",
      "execution_count": 11,
      "metadata": {
        "id": "v4Ly9MXA_vIc",
        "colab": {
          "base_uri": "https://localhost:8080/"
        },
        "outputId": "e4824854-55fe-4a0e-f0c8-d8b82bb1dd2f"
      },
      "outputs": [
        {
          "output_type": "stream",
          "name": "stderr",
          "text": [
            "Downloading: \"https://github.com/facebookresearch/dinov2/zipball/main\" to /root/.cache/torch/hub/main.zip\n",
            "WARNING:dinov2:xFormers not available\n",
            "WARNING:dinov2:xFormers not available\n",
            "Downloading: \"https://dl.fbaipublicfiles.com/dinov2/dinov2_vits14/dinov2_vits14_pretrain.pth\" to /root/.cache/torch/hub/checkpoints/dinov2_vits14_pretrain.pth\n",
            "100%|██████████| 84.2M/84.2M [00:00<00:00, 232MB/s]\n"
          ]
        }
      ],
      "source": [
        "# using https://github.com/facebookresearch/dinov2\n",
        "# extract feature labels from images\n",
        "import torch\n",
        "dinov2_vits14 = torch.hub.load('facebookresearch/dinov2', 'dinov2_vits14')"
      ]
    },
    {
      "cell_type": "code",
      "source": [
        "from torchvision import transforms as pth_transforms\n",
        "\n",
        "preprocess = pth_transforms.Compose([\n",
        "        pth_transforms.Resize(256, interpolation=3),\n",
        "        pth_transforms.CenterCrop(224),\n",
        "        pth_transforms.ToTensor(),\n",
        "        pth_transforms.Normalize((0.485, 0.456, 0.406), (0.229, 0.224, 0.225)),\n",
        "    ])"
      ],
      "metadata": {
        "id": "1wz38mKeJttl"
      },
      "execution_count": 24,
      "outputs": []
    },
    {
      "cell_type": "code",
      "source": [
        "def get_features(model, image):\n",
        "  return model(preprocess(image).unsqueeze(0))"
      ],
      "metadata": {
        "id": "Y6aY7pfYejhd"
      },
      "execution_count": 25,
      "outputs": []
    },
    {
      "cell_type": "code",
      "source": [
        "  from PIL import Image\n",
        "  import numpy as np\n",
        "\n",
        "  def np_to_PIL(numpy_image):\n",
        "      return Image.fromarray(np.uint8(numpy_image)).convert('RGB')"
      ],
      "metadata": {
        "id": "ixFbbADmffwJ"
      },
      "execution_count": 31,
      "outputs": []
    },
    {
      "cell_type": "code",
      "source": [
        "def process_behav(path):\n",
        "  beh_seq = cv2.imreadmulti(path)[1]\n",
        "  beh_seq = np.array(beh_seq)\n",
        "  feature_seq = []\n",
        "  for beh_feat in beh_seq:\n",
        "    feature_seq.append(get_features(dinov2_vits14, np_to_PIL(beh_feat)))\n",
        "  return np.array(feature_seq)\n"
      ],
      "metadata": {
        "id": "QfZSe2ecdVn6"
      },
      "execution_count": 32,
      "outputs": []
    },
    {
      "cell_type": "code",
      "source": [
        "\n"
      ],
      "metadata": {
        "id": "jKe21c8BegYm"
      },
      "execution_count": 30,
      "outputs": []
    },
    {
      "cell_type": "code",
      "source": [
        "behav_feature = []\n",
        "name_data_behav = []\n",
        "\n",
        "filepath = \"2020_11_9_MV1_run_brain\"\n",
        "for file in os.listdir(filepath):\n",
        "     filename = os.fsdecode(file)\n",
        "     if filename.endswith(\".tif\"):\n",
        "         behav_feature.append(process_behav(filepath + '/' + filename))\n",
        "         name_data.append(filename)\n",
        "         split_name = filename.split('_')\n",
        "         continue\n",
        "     else:\n",
        "         continue"
      ],
      "metadata": {
        "id": "dJbYQ8lTLumQ"
      },
      "execution_count": null,
      "outputs": []
    },
    {
      "cell_type": "code",
      "execution_count": null,
      "metadata": {
        "id": "CAGn-DXxHp5M"
      },
      "outputs": [],
      "source": [
        "\n",
        "#generate mock behavioural data for time only run\n",
        "mock_behav = []\n",
        "for count, data in enumerate(neural_data):\n",
        "    mock_behav.append(np.arange(np.size(data[:, 0]), dtype=float))\n"
      ]
    },
    {
      "cell_type": "code",
      "source": [
        "out_dim = 8\n",
        "max_iterations = 10"
      ],
      "metadata": {
        "id": "N45splYsCgtk"
      },
      "execution_count": null,
      "outputs": []
    },
    {
      "cell_type": "code",
      "execution_count": null,
      "metadata": {
        "id": "8S8G1TQrArDU"
      },
      "outputs": [],
      "source": [
        "multi_cebra_model = cebra.CEBRA(batch_size=1,\n",
        "                                output_dimension=out_dim,\n",
        "                                max_iterations=200,\n",
        "                                verbose=True,\n",
        "                                max_adapt_iterations=10)"
      ]
    },
    {
      "cell_type": "code",
      "execution_count": null,
      "metadata": {
        "colab": {
          "base_uri": "https://localhost:8080/",
          "height": 92
        },
        "id": "EwYWuiiM_7js",
        "outputId": "3fecfddf-beef-446a-8d06-0d984b48e5ed"
      },
      "outputs": [
        {
          "output_type": "stream",
          "name": "stderr",
          "text": [
            "pos:  0.8668 neg:  3.0214 total:  3.8882 temperature:  1.0000: 100%|██████████| 200/200 [01:06<00:00,  3.00it/s]\n"
          ]
        },
        {
          "output_type": "execute_result",
          "data": {
            "text/plain": [
              "CEBRA(batch_size=1, max_adapt_iterations=10, max_iterations=200, verbose=True)"
            ],
            "text/html": [
              "<style>#sk-container-id-3 {color: black;background-color: white;}#sk-container-id-3 pre{padding: 0;}#sk-container-id-3 div.sk-toggleable {background-color: white;}#sk-container-id-3 label.sk-toggleable__label {cursor: pointer;display: block;width: 100%;margin-bottom: 0;padding: 0.3em;box-sizing: border-box;text-align: center;}#sk-container-id-3 label.sk-toggleable__label-arrow:before {content: \"▸\";float: left;margin-right: 0.25em;color: #696969;}#sk-container-id-3 label.sk-toggleable__label-arrow:hover:before {color: black;}#sk-container-id-3 div.sk-estimator:hover label.sk-toggleable__label-arrow:before {color: black;}#sk-container-id-3 div.sk-toggleable__content {max-height: 0;max-width: 0;overflow: hidden;text-align: left;background-color: #f0f8ff;}#sk-container-id-3 div.sk-toggleable__content pre {margin: 0.2em;color: black;border-radius: 0.25em;background-color: #f0f8ff;}#sk-container-id-3 input.sk-toggleable__control:checked~div.sk-toggleable__content {max-height: 200px;max-width: 100%;overflow: auto;}#sk-container-id-3 input.sk-toggleable__control:checked~label.sk-toggleable__label-arrow:before {content: \"▾\";}#sk-container-id-3 div.sk-estimator input.sk-toggleable__control:checked~label.sk-toggleable__label {background-color: #d4ebff;}#sk-container-id-3 div.sk-label input.sk-toggleable__control:checked~label.sk-toggleable__label {background-color: #d4ebff;}#sk-container-id-3 input.sk-hidden--visually {border: 0;clip: rect(1px 1px 1px 1px);clip: rect(1px, 1px, 1px, 1px);height: 1px;margin: -1px;overflow: hidden;padding: 0;position: absolute;width: 1px;}#sk-container-id-3 div.sk-estimator {font-family: monospace;background-color: #f0f8ff;border: 1px dotted black;border-radius: 0.25em;box-sizing: border-box;margin-bottom: 0.5em;}#sk-container-id-3 div.sk-estimator:hover {background-color: #d4ebff;}#sk-container-id-3 div.sk-parallel-item::after {content: \"\";width: 100%;border-bottom: 1px solid gray;flex-grow: 1;}#sk-container-id-3 div.sk-label:hover label.sk-toggleable__label {background-color: #d4ebff;}#sk-container-id-3 div.sk-serial::before {content: \"\";position: absolute;border-left: 1px solid gray;box-sizing: border-box;top: 0;bottom: 0;left: 50%;z-index: 0;}#sk-container-id-3 div.sk-serial {display: flex;flex-direction: column;align-items: center;background-color: white;padding-right: 0.2em;padding-left: 0.2em;position: relative;}#sk-container-id-3 div.sk-item {position: relative;z-index: 1;}#sk-container-id-3 div.sk-parallel {display: flex;align-items: stretch;justify-content: center;background-color: white;position: relative;}#sk-container-id-3 div.sk-item::before, #sk-container-id-3 div.sk-parallel-item::before {content: \"\";position: absolute;border-left: 1px solid gray;box-sizing: border-box;top: 0;bottom: 0;left: 50%;z-index: -1;}#sk-container-id-3 div.sk-parallel-item {display: flex;flex-direction: column;z-index: 1;position: relative;background-color: white;}#sk-container-id-3 div.sk-parallel-item:first-child::after {align-self: flex-end;width: 50%;}#sk-container-id-3 div.sk-parallel-item:last-child::after {align-self: flex-start;width: 50%;}#sk-container-id-3 div.sk-parallel-item:only-child::after {width: 0;}#sk-container-id-3 div.sk-dashed-wrapped {border: 1px dashed gray;margin: 0 0.4em 0.5em 0.4em;box-sizing: border-box;padding-bottom: 0.4em;background-color: white;}#sk-container-id-3 div.sk-label label {font-family: monospace;font-weight: bold;display: inline-block;line-height: 1.2em;}#sk-container-id-3 div.sk-label-container {text-align: center;}#sk-container-id-3 div.sk-container {/* jupyter's `normalize.less` sets `[hidden] { display: none; }` but bootstrap.min.css set `[hidden] { display: none !important; }` so we also need the `!important` here to be able to override the default hidden behavior on the sphinx rendered scikit-learn.org. See: https://github.com/scikit-learn/scikit-learn/issues/21755 */display: inline-block !important;position: relative;}#sk-container-id-3 div.sk-text-repr-fallback {display: none;}</style><div id=\"sk-container-id-3\" class=\"sk-top-container\"><div class=\"sk-text-repr-fallback\"><pre>CEBRA(batch_size=1, max_adapt_iterations=10, max_iterations=200, verbose=True)</pre><b>In a Jupyter environment, please rerun this cell to show the HTML representation or trust the notebook. <br />On GitHub, the HTML representation is unable to render, please try loading this page with nbviewer.org.</b></div><div class=\"sk-container\" hidden><div class=\"sk-item\"><div class=\"sk-estimator sk-toggleable\"><input class=\"sk-toggleable__control sk-hidden--visually\" id=\"sk-estimator-id-3\" type=\"checkbox\" checked><label for=\"sk-estimator-id-3\" class=\"sk-toggleable__label sk-toggleable__label-arrow\">CEBRA</label><div class=\"sk-toggleable__content\"><pre>CEBRA(batch_size=1, max_adapt_iterations=10, max_iterations=200, verbose=True)</pre></div></div></div></div></div>"
            ]
          },
          "metadata": {},
          "execution_count": 44
        }
      ],
      "source": [
        "multi_cebra_model.fit(neural_data[:50], mock_behav[:50])"
      ]
    },
    {
      "cell_type": "code",
      "execution_count": null,
      "metadata": {
        "colab": {
          "base_uri": "https://localhost:8080/"
        },
        "id": "hYu6FPDNFAkE",
        "outputId": "e5add620-ab11-4b46-c938-6c8ea138f82f"
      },
      "outputs": [
        {
          "output_type": "stream",
          "name": "stdout",
          "text": [
            "(101,)\n"
          ]
        },
        {
          "output_type": "execute_result",
          "data": {
            "text/plain": [
              "(101, 10634)"
            ]
          },
          "metadata": {},
          "execution_count": 12
        }
      ],
      "source": [
        "print(np.shape(mock_behav[1]))\n",
        "np.shape(neural_data[1])"
      ]
    },
    {
      "cell_type": "code",
      "execution_count": null,
      "metadata": {
        "id": "yX_rzrVS__4b"
      },
      "outputs": [],
      "source": [
        "\n",
        "\n",
        "fig = plt.figure()\n",
        "\n",
        "ax1 = plt.subplot(141, projection='3d')\n",
        "\n",
        "for run, data in enumerate(neural_data[:50]):\n",
        "  embedding = multi_cebra_model.transform(data, session_id=run)\n",
        "  ax1 = cebra.plot_embedding(embedding, ax=ax1)\n",
        "\n",
        "plt.show()\n"
      ]
    },
    {
      "cell_type": "code",
      "execution_count": null,
      "metadata": {
        "id": "EdivBk4JGniQ"
      },
      "outputs": [],
      "source": []
    }
  ],
  "metadata": {
    "accelerator": "GPU",
    "colab": {
      "gpuType": "T4",
      "provenance": []
    },
    "gpuClass": "standard",
    "kernelspec": {
      "display_name": "Python 3",
      "name": "python3"
    },
    "language_info": {
      "codemirror_mode": {
        "name": "ipython",
        "version": 3
      },
      "file_extension": ".py",
      "mimetype": "text/x-python",
      "name": "python",
      "nbconvert_exporter": "python",
      "pygments_lexer": "ipython3",
      "version": "3.9.5"
    }
  },
  "nbformat": 4,
  "nbformat_minor": 0
}