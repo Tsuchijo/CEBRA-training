{
  "cells": [
    {
      "cell_type": "code",
      "execution_count": 1,
      "metadata": {
        "colab": {
          "base_uri": "https://localhost:8080/"
        },
        "id": "VzqR0mdwAuOD",
        "outputId": "c931767a-0af3-4df5-cf9b-83c48a5940dc"
      },
      "outputs": [
        {
          "name": "stdout",
          "output_type": "stream",
          "text": [
            "Looking in indexes: https://pypi.org/simple, https://us-python.pkg.dev/colab-wheels/public/simple/\n",
            "Collecting cebra\n",
            "  Downloading cebra-0.2.0-py2.py3-none-any.whl (171 kB)\n",
            "\u001b[2K     \u001b[90m━━━━━━━━━━━━━━━━━━━━━━━━━━━━━━━━━━━━━━━\u001b[0m \u001b[32m171.3/171.3 kB\u001b[0m \u001b[31m3.5 MB/s\u001b[0m eta \u001b[36m0:00:00\u001b[0m\n",
            "\u001b[?25hRequirement already satisfied: joblib in /usr/local/lib/python3.10/dist-packages (from cebra) (1.2.0)\n",
            "Collecting literate-dataclasses (from cebra)\n",
            "  Downloading literate_dataclasses-0.0.6-py3-none-any.whl (5.0 kB)\n",
            "Requirement already satisfied: scikit-learn in /usr/local/lib/python3.10/dist-packages (from cebra) (1.2.2)\n",
            "Requirement already satisfied: scipy in /usr/local/lib/python3.10/dist-packages (from cebra) (1.10.1)\n",
            "Requirement already satisfied: torch in /usr/local/lib/python3.10/dist-packages (from cebra) (2.0.1+cu118)\n",
            "Requirement already satisfied: tqdm in /usr/local/lib/python3.10/dist-packages (from cebra) (4.65.0)\n",
            "Requirement already satisfied: matplotlib in /usr/local/lib/python3.10/dist-packages (from cebra) (3.7.1)\n",
            "Requirement already satisfied: requests in /usr/local/lib/python3.10/dist-packages (from cebra) (2.27.1)\n",
            "Requirement already satisfied: contourpy>=1.0.1 in /usr/local/lib/python3.10/dist-packages (from matplotlib->cebra) (1.0.7)\n",
            "Requirement already satisfied: cycler>=0.10 in /usr/local/lib/python3.10/dist-packages (from matplotlib->cebra) (0.11.0)\n",
            "Requirement already satisfied: fonttools>=4.22.0 in /usr/local/lib/python3.10/dist-packages (from matplotlib->cebra) (4.39.3)\n",
            "Requirement already satisfied: kiwisolver>=1.0.1 in /usr/local/lib/python3.10/dist-packages (from matplotlib->cebra) (1.4.4)\n",
            "Requirement already satisfied: numpy>=1.20 in /usr/local/lib/python3.10/dist-packages (from matplotlib->cebra) (1.22.4)\n",
            "Requirement already satisfied: packaging>=20.0 in /usr/local/lib/python3.10/dist-packages (from matplotlib->cebra) (23.1)\n",
            "Requirement already satisfied: pillow>=6.2.0 in /usr/local/lib/python3.10/dist-packages (from matplotlib->cebra) (8.4.0)\n",
            "Requirement already satisfied: pyparsing>=2.3.1 in /usr/local/lib/python3.10/dist-packages (from matplotlib->cebra) (3.0.9)\n",
            "Requirement already satisfied: python-dateutil>=2.7 in /usr/local/lib/python3.10/dist-packages (from matplotlib->cebra) (2.8.2)\n",
            "Requirement already satisfied: urllib3<1.27,>=1.21.1 in /usr/local/lib/python3.10/dist-packages (from requests->cebra) (1.26.15)\n",
            "Requirement already satisfied: certifi>=2017.4.17 in /usr/local/lib/python3.10/dist-packages (from requests->cebra) (2022.12.7)\n",
            "Requirement already satisfied: charset-normalizer~=2.0.0 in /usr/local/lib/python3.10/dist-packages (from requests->cebra) (2.0.12)\n",
            "Requirement already satisfied: idna<4,>=2.5 in /usr/local/lib/python3.10/dist-packages (from requests->cebra) (3.4)\n",
            "Requirement already satisfied: threadpoolctl>=2.0.0 in /usr/local/lib/python3.10/dist-packages (from scikit-learn->cebra) (3.1.0)\n",
            "Requirement already satisfied: filelock in /usr/local/lib/python3.10/dist-packages (from torch->cebra) (3.12.0)\n",
            "Requirement already satisfied: typing-extensions in /usr/local/lib/python3.10/dist-packages (from torch->cebra) (4.5.0)\n",
            "Requirement already satisfied: sympy in /usr/local/lib/python3.10/dist-packages (from torch->cebra) (1.11.1)\n",
            "Requirement already satisfied: networkx in /usr/local/lib/python3.10/dist-packages (from torch->cebra) (3.1)\n",
            "Requirement already satisfied: jinja2 in /usr/local/lib/python3.10/dist-packages (from torch->cebra) (3.1.2)\n",
            "Requirement already satisfied: triton==2.0.0 in /usr/local/lib/python3.10/dist-packages (from torch->cebra) (2.0.0)\n",
            "Requirement already satisfied: cmake in /usr/local/lib/python3.10/dist-packages (from triton==2.0.0->torch->cebra) (3.25.2)\n",
            "Requirement already satisfied: lit in /usr/local/lib/python3.10/dist-packages (from triton==2.0.0->torch->cebra) (16.0.5)\n",
            "Requirement already satisfied: six>=1.5 in /usr/local/lib/python3.10/dist-packages (from python-dateutil>=2.7->matplotlib->cebra) (1.16.0)\n",
            "Requirement already satisfied: MarkupSafe>=2.0 in /usr/local/lib/python3.10/dist-packages (from jinja2->torch->cebra) (2.1.2)\n",
            "Requirement already satisfied: mpmath>=0.19 in /usr/local/lib/python3.10/dist-packages (from sympy->torch->cebra) (1.3.0)\n",
            "Installing collected packages: literate-dataclasses, cebra\n",
            "Successfully installed cebra-0.2.0 literate-dataclasses-0.0.6\n",
            "Mounted at /content/drive/\n",
            "Archive:  /content/drive/MyDrive/Cebra_data/2020_11_9_MV1_run_brain.zip\n",
            "   creating: 2020_11_9_MV1_run_brain/\n",
            "  inflating: 2020_11_9_MV1_run_brain/nomove_0001_0001.tif  \n",
            "  inflating: 2020_11_9_MV1_run_brain/nomove_0001_0002.tif  \n",
            "  inflating: 2020_11_9_MV1_run_brain/nomove_0001_0003.tif  \n",
            "  inflating: 2020_11_9_MV1_run_brain/nomove_0001_0004.tif  \n",
            "  inflating: 2020_11_9_MV1_run_brain/nomove_0001_0005.tif  \n",
            "  inflating: 2020_11_9_MV1_run_brain/move_0001_0001.tif  \n",
            "  inflating: 2020_11_9_MV1_run_brain/move_0001_0002.tif  \n",
            "  inflating: 2020_11_9_MV1_run_brain/move_0001_0003.tif  \n",
            "  inflating: 2020_11_9_MV1_run_brain/move_0001_0004.tif  \n",
            "  inflating: 2020_11_9_MV1_run_brain/move_0001_0005.tif  \n",
            "  inflating: 2020_11_9_MV1_run_brain/move_0002_0001.tif  \n",
            "  inflating: 2020_11_9_MV1_run_brain/move_0002_0002.tif  \n",
            "  inflating: 2020_11_9_MV1_run_brain/move_0002_0003.tif  \n",
            "  inflating: 2020_11_9_MV1_run_brain/move_0002_0004.tif  \n",
            "  inflating: 2020_11_9_MV1_run_brain/move_0002_0005.tif  \n",
            "  inflating: 2020_11_9_MV1_run_brain/move_0003_0001.tif  \n",
            "  inflating: 2020_11_9_MV1_run_brain/move_0003_0002.tif  \n",
            "  inflating: 2020_11_9_MV1_run_brain/move_0003_0003.tif  \n",
            "  inflating: 2020_11_9_MV1_run_brain/move_0003_0004.tif  \n",
            "  inflating: 2020_11_9_MV1_run_brain/nomove_0004_0001.tif  \n",
            "  inflating: 2020_11_9_MV1_run_brain/nomove_0004_0002.tif  \n",
            "  inflating: 2020_11_9_MV1_run_brain/nomove_0004_0003.tif  \n",
            "  inflating: 2020_11_9_MV1_run_brain/move_0004_0001.tif  \n",
            "  inflating: 2020_11_9_MV1_run_brain/move_0004_0002.tif  \n",
            "  inflating: 2020_11_9_MV1_run_brain/move_0004_0003.tif  \n",
            "  inflating: 2020_11_9_MV1_run_brain/move_0004_0004.tif  \n",
            "  inflating: 2020_11_9_MV1_run_brain/nomove_0005_0001.tif  \n",
            "  inflating: 2020_11_9_MV1_run_brain/nomove_0005_0002.tif  \n",
            "  inflating: 2020_11_9_MV1_run_brain/nomove_0005_0003.tif  \n",
            "  inflating: 2020_11_9_MV1_run_brain/nomove_0005_0004.tif  \n",
            "  inflating: 2020_11_9_MV1_run_brain/nomove_0005_0005.tif  \n",
            "  inflating: 2020_11_9_MV1_run_brain/nomove_0005_0006.tif  \n",
            "  inflating: 2020_11_9_MV1_run_brain/nomove_0005_0007.tif  \n",
            "  inflating: 2020_11_9_MV1_run_brain/nomove_0005_0008.tif  \n",
            "  inflating: 2020_11_9_MV1_run_brain/nomove_0005_0009.tif  \n",
            "  inflating: 2020_11_9_MV1_run_brain/nomove_0005_0010.tif  \n",
            "  inflating: 2020_11_9_MV1_run_brain/nomove_0006_0001.tif  \n",
            "  inflating: 2020_11_9_MV1_run_brain/nomove_0006_0002.tif  \n",
            "  inflating: 2020_11_9_MV1_run_brain/nomove_0006_0003.tif  \n",
            "  inflating: 2020_11_9_MV1_run_brain/nomove_0006_0004.tif  \n",
            "  inflating: 2020_11_9_MV1_run_brain/nomove_0006_0005.tif  \n",
            "  inflating: 2020_11_9_MV1_run_brain/nomove_0006_0006.tif  \n",
            "  inflating: 2020_11_9_MV1_run_brain/move_0006_0001.tif  \n",
            "  inflating: 2020_11_9_MV1_run_brain/move_0006_0002.tif  \n",
            "  inflating: 2020_11_9_MV1_run_brain/move_0006_0003.tif  \n",
            "  inflating: 2020_11_9_MV1_run_brain/move_0006_0004.tif  \n",
            "  inflating: 2020_11_9_MV1_run_brain/nomove_0007_0001.tif  \n",
            "  inflating: 2020_11_9_MV1_run_brain/nomove_0007_0002.tif  \n",
            "  inflating: 2020_11_9_MV1_run_brain/nomove_0007_0003.tif  \n",
            "  inflating: 2020_11_9_MV1_run_brain/nomove_0007_0004.tif  \n",
            "  inflating: 2020_11_9_MV1_run_brain/move_0007_0001.tif  \n",
            "  inflating: 2020_11_9_MV1_run_brain/move_0007_0002.tif  \n",
            "  inflating: 2020_11_9_MV1_run_brain/move_0007_0003.tif  \n",
            "  inflating: 2020_11_9_MV1_run_brain/move_0007_0004.tif  \n",
            "  inflating: 2020_11_9_MV1_run_brain/move_0007_0005.tif  \n",
            "  inflating: 2020_11_9_MV1_run_brain/nomove_0008_0001.tif  \n",
            "  inflating: 2020_11_9_MV1_run_brain/nomove_0008_0002.tif  \n",
            "  inflating: 2020_11_9_MV1_run_brain/nomove_0008_0003.tif  \n",
            "  inflating: 2020_11_9_MV1_run_brain/nomove_0008_0004.tif  \n",
            "  inflating: 2020_11_9_MV1_run_brain/nomove_0008_0005.tif  \n",
            "  inflating: 2020_11_9_MV1_run_brain/nomove_0009_0001.tif  \n",
            "  inflating: 2020_11_9_MV1_run_brain/nomove_0009_0002.tif  \n",
            "  inflating: 2020_11_9_MV1_run_brain/nomove_0009_0003.tif  \n",
            "  inflating: 2020_11_9_MV1_run_brain/nomove_0009_0004.tif  \n",
            "  inflating: 2020_11_9_MV1_run_brain/nomove_0009_0005.tif  \n",
            "  inflating: 2020_11_9_MV1_run_brain/nomove_0009_0006.tif  \n",
            "  inflating: 2020_11_9_MV1_run_brain/nomove_0009_0007.tif  \n",
            "  inflating: 2020_11_9_MV1_run_brain/nomove_0010_0001.tif  \n",
            "  inflating: 2020_11_9_MV1_run_brain/nomove_0010_0002.tif  \n",
            "  inflating: 2020_11_9_MV1_run_brain/nomove_0010_0003.tif  \n",
            "  inflating: 2020_11_9_MV1_run_brain/nomove_0010_0004.tif  \n",
            "  inflating: 2020_11_9_MV1_run_brain/nomove_0011_0001.tif  \n",
            "  inflating: 2020_11_9_MV1_run_brain/nomove_0012_0001.tif  \n",
            "  inflating: 2020_11_9_MV1_run_brain/nomove_0012_0002.tif  \n",
            "  inflating: 2020_11_9_MV1_run_brain/nomove_0012_0003.tif  \n",
            "  inflating: 2020_11_9_MV1_run_brain/nomove_0012_0004.tif  \n",
            "  inflating: 2020_11_9_MV1_run_brain/nomove_0012_0005.tif  \n",
            "  inflating: 2020_11_9_MV1_run_brain/move_0012_0001.tif  \n",
            "  inflating: 2020_11_9_MV1_run_brain/move_0012_0002.tif  \n",
            "  inflating: 2020_11_9_MV1_run_brain/move_0012_0003.tif  \n",
            "  inflating: 2020_11_9_MV1_run_brain/nomove_0013_0001.tif  \n",
            "  inflating: 2020_11_9_MV1_run_brain/nomove_0013_0002.tif  \n",
            "  inflating: 2020_11_9_MV1_run_brain/nomove_0013_0003.tif  \n",
            "  inflating: 2020_11_9_MV1_run_brain/nomove_0013_0004.tif  \n",
            "  inflating: 2020_11_9_MV1_run_brain/move_0013_0001.tif  \n",
            "  inflating: 2020_11_9_MV1_run_brain/move_0013_0002.tif  \n",
            "  inflating: 2020_11_9_MV1_run_brain/nomove_0014_0001.tif  \n",
            "  inflating: 2020_11_9_MV1_run_brain/nomove_0014_0002.tif  \n",
            "  inflating: 2020_11_9_MV1_run_brain/nomove_0014_0003.tif  \n",
            "  inflating: 2020_11_9_MV1_run_brain/nomove_0014_0004.tif  \n",
            "  inflating: 2020_11_9_MV1_run_brain/nomove_0015_0001.tif  \n",
            "  inflating: 2020_11_9_MV1_run_brain/nomove_0015_0002.tif  \n",
            "  inflating: 2020_11_9_MV1_run_brain/nomove_0015_0003.tif  \n",
            "  inflating: 2020_11_9_MV1_run_brain/nomove_0015_0004.tif  \n",
            "  inflating: 2020_11_9_MV1_run_brain/nomove_0015_0005.tif  \n",
            "  inflating: 2020_11_9_MV1_run_brain/nomove_0015_0006.tif  \n",
            "  inflating: 2020_11_9_MV1_run_brain/nomove_0015_0007.tif  \n",
            "  inflating: 2020_11_9_MV1_run_brain/nomove_0016_0001.tif  \n",
            "  inflating: 2020_11_9_MV1_run_brain/nomove_0016_0002.tif  \n",
            "  inflating: 2020_11_9_MV1_run_brain/nomove_0016_0003.tif  \n",
            "  inflating: 2020_11_9_MV1_run_brain/nomove_0016_0004.tif  \n",
            "  inflating: 2020_11_9_MV1_run_brain/nomove_0017_0001.tif  \n",
            "  inflating: 2020_11_9_MV1_run_brain/nomove_0017_0002.tif  \n",
            "  inflating: 2020_11_9_MV1_run_brain/nomove_0017_0003.tif  \n",
            "  inflating: 2020_11_9_MV1_run_brain/nomove_0017_0004.tif  \n",
            "  inflating: 2020_11_9_MV1_run_brain/nomove_0018_0001.tif  \n",
            "  inflating: 2020_11_9_MV1_run_brain/nomove_0018_0002.tif  \n",
            "  inflating: 2020_11_9_MV1_run_brain/nomove_0018_0003.tif  \n",
            "  inflating: 2020_11_9_MV1_run_brain/nomove_0018_0004.tif  \n",
            "  inflating: 2020_11_9_MV1_run_brain/move_0018_0001.tif  \n",
            "  inflating: 2020_11_9_MV1_run_brain/move_0018_0002.tif  \n",
            "  inflating: 2020_11_9_MV1_run_brain/nomove_0019_0001.tif  \n",
            "  inflating: 2020_11_9_MV1_run_brain/move_0019_0001.tif  \n",
            "  inflating: 2020_11_9_MV1_run_brain/move_0019_0002.tif  \n",
            "  inflating: 2020_11_9_MV1_run_brain/move_0019_0003.tif  \n",
            "  inflating: 2020_11_9_MV1_run_brain/move_0019_0004.tif  \n",
            "  inflating: 2020_11_9_MV1_run_brain/move_0019_0005.tif  \n",
            "  inflating: 2020_11_9_MV1_run_brain/move_0019_0006.tif  \n",
            "  inflating: 2020_11_9_MV1_run_brain/move_0019_0007.tif  \n",
            "  inflating: 2020_11_9_MV1_run_brain/move_0019_0008.tif  \n",
            "  inflating: 2020_11_9_MV1_run_brain/move_0020_0001.tif  \n",
            "  inflating: 2020_11_9_MV1_run_brain/move_0020_0002.tif  \n",
            "  inflating: 2020_11_9_MV1_run_brain/nomove_0021_0001.tif  \n",
            "  inflating: 2020_11_9_MV1_run_brain/nomove_0021_0002.tif  \n",
            "  inflating: 2020_11_9_MV1_run_brain/nomove_0021_0003.tif  \n",
            "  inflating: 2020_11_9_MV1_run_brain/nomove_0021_0004.tif  \n",
            "  inflating: 2020_11_9_MV1_run_brain/nomove_0021_0005.tif  \n",
            "  inflating: 2020_11_9_MV1_run_brain/nomove_0021_0006.tif  \n",
            "  inflating: 2020_11_9_MV1_run_brain/move_0021_0001.tif  \n",
            "  inflating: 2020_11_9_MV1_run_brain/move_0021_0002.tif  \n",
            "  inflating: 2020_11_9_MV1_run_brain/nomove_0022_0001.tif  \n",
            "  inflating: 2020_11_9_MV1_run_brain/nomove_0022_0002.tif  \n",
            "  inflating: 2020_11_9_MV1_run_brain/nomove_0022_0003.tif  \n",
            "  inflating: 2020_11_9_MV1_run_brain/nomove_0022_0004.tif  \n",
            "  inflating: 2020_11_9_MV1_run_brain/nomove_0023_0001.tif  \n",
            "  inflating: 2020_11_9_MV1_run_brain/nomove_0023_0002.tif  \n",
            "  inflating: 2020_11_9_MV1_run_brain/nomove_0023_0003.tif  \n",
            "  inflating: 2020_11_9_MV1_run_brain/nomove_0024_0001.tif  \n",
            "  inflating: 2020_11_9_MV1_run_brain/nomove_0024_0002.tif  \n",
            "  inflating: 2020_11_9_MV1_run_brain/nomove_0024_0003.tif  \n",
            "  inflating: 2020_11_9_MV1_run_brain/nomove_0024_0004.tif  \n",
            "  inflating: 2020_11_9_MV1_run_brain/nomove_0025_0001.tif  \n",
            "  inflating: 2020_11_9_MV1_run_brain/nomove_0025_0002.tif  \n",
            "  inflating: 2020_11_9_MV1_run_brain/nomove_0025_0003.tif  \n",
            "  inflating: 2020_11_9_MV1_run_brain/nomove_0025_0004.tif  \n",
            "  inflating: 2020_11_9_MV1_run_brain/nomove_0025_0005.tif  \n",
            "  inflating: 2020_11_9_MV1_run_brain/nomove_0026_0001.tif  \n",
            "  inflating: 2020_11_9_MV1_run_brain/nomove_0026_0002.tif  \n",
            "  inflating: 2020_11_9_MV1_run_brain/nomove_0026_0003.tif  \n",
            "  inflating: 2020_11_9_MV1_run_brain/nomove_0027_0001.tif  \n",
            "  inflating: 2020_11_9_MV1_run_brain/nomove_0027_0002.tif  \n",
            "  inflating: 2020_11_9_MV1_run_brain/nomove_0027_0003.tif  \n",
            "  inflating: 2020_11_9_MV1_run_brain/nomove_0028_0001.tif  \n",
            "  inflating: 2020_11_9_MV1_run_brain/nomove_0028_0002.tif  \n",
            "  inflating: 2020_11_9_MV1_run_brain/nomove_0028_0003.tif  \n",
            "  inflating: 2020_11_9_MV1_run_brain/nomove_0028_0004.tif  \n",
            "  inflating: 2020_11_9_MV1_run_brain/nomove_0028_0005.tif  \n",
            "  inflating: 2020_11_9_MV1_run_brain/nomove_0028_0006.tif  \n",
            "  inflating: 2020_11_9_MV1_run_brain/nomove_0029_0001.tif  \n",
            "  inflating: 2020_11_9_MV1_run_brain/nomove_0029_0002.tif  \n",
            "  inflating: 2020_11_9_MV1_run_brain/nomove_0029_0003.tif  \n",
            "  inflating: 2020_11_9_MV1_run_brain/move_0029_0001.tif  \n",
            "  inflating: 2020_11_9_MV1_run_brain/nomove_0030_0001.tif  \n",
            "  inflating: 2020_11_9_MV1_run_brain/nomove_0030_0002.tif  \n",
            "  inflating: 2020_11_9_MV1_run_brain/nomove_0030_0003.tif  \n",
            "  inflating: 2020_11_9_MV1_run_brain/nomove_0031_0001.tif  \n",
            "  inflating: 2020_11_9_MV1_run_brain/nomove_0031_0002.tif  \n",
            "  inflating: 2020_11_9_MV1_run_brain/nomove_0031_0003.tif  \n",
            "  inflating: 2020_11_9_MV1_run_brain/nomove_0032_0001.tif  \n",
            "  inflating: 2020_11_9_MV1_run_brain/nomove_0032_0002.tif  \n",
            "  inflating: 2020_11_9_MV1_run_brain/nomove_0032_0003.tif  \n",
            "  inflating: 2020_11_9_MV1_run_brain/nomove_0033_0001.tif  \n",
            "  inflating: 2020_11_9_MV1_run_brain/nomove_0033_0002.tif  \n",
            "  inflating: 2020_11_9_MV1_run_brain/nomove_0034_0001.tif  \n",
            "  inflating: 2020_11_9_MV1_run_brain/nomove_0034_0002.tif  \n",
            "  inflating: 2020_11_9_MV1_run_brain/nomove_0034_0003.tif  \n",
            "  inflating: 2020_11_9_MV1_run_brain/nomove_0034_0004.tif  \n",
            "  inflating: 2020_11_9_MV1_run_brain/move_0034_0001.tif  \n",
            "  inflating: 2020_11_9_MV1_run_brain/move_0034_0002.tif  \n",
            "  inflating: 2020_11_9_MV1_run_brain/move_0034_0003.tif  \n",
            "  inflating: 2020_11_9_MV1_run_brain/move_0034_0004.tif  \n",
            "  inflating: 2020_11_9_MV1_run_brain/nomove_0035_0001.tif  \n",
            "  inflating: 2020_11_9_MV1_run_brain/nomove_0035_0002.tif  \n",
            "  inflating: 2020_11_9_MV1_run_brain/nomove_0035_0003.tif  \n",
            "  inflating: 2020_11_9_MV1_run_brain/nomove_0035_0004.tif  \n",
            "  inflating: 2020_11_9_MV1_run_brain/nomove_0035_0005.tif  \n",
            "  inflating: 2020_11_9_MV1_run_brain/nomove_0036_0001.tif  \n",
            "  inflating: 2020_11_9_MV1_run_brain/nomove_0036_0002.tif  \n",
            "  inflating: 2020_11_9_MV1_run_brain/nomove_0037_0001.tif  \n",
            "  inflating: 2020_11_9_MV1_run_brain/nomove_0037_0002.tif  \n",
            "  inflating: 2020_11_9_MV1_run_brain/nomove_0038_0001.tif  \n",
            "  inflating: 2020_11_9_MV1_run_brain/nomove_0038_0002.tif  \n",
            "  inflating: 2020_11_9_MV1_run_brain/nomove_0038_0003.tif  \n",
            "  inflating: 2020_11_9_MV1_run_brain/nomove_0038_0004.tif  \n",
            "  inflating: 2020_11_9_MV1_run_brain/nomove_0038_0005.tif  \n",
            "  inflating: 2020_11_9_MV1_run_brain/nomove_0039_0001.tif  \n",
            "  inflating: 2020_11_9_MV1_run_brain/nomove_0039_0002.tif  \n",
            "  inflating: 2020_11_9_MV1_run_brain/nomove_0039_0003.tif  \n",
            "  inflating: 2020_11_9_MV1_run_brain/nomove_0039_0004.tif  \n",
            "  inflating: 2020_11_9_MV1_run_brain/nomove_0039_0005.tif  \n",
            "  inflating: 2020_11_9_MV1_run_brain/nomove_0039_0006.tif  \n",
            "  inflating: 2020_11_9_MV1_run_brain/nomove_0039_0007.tif  \n",
            "  inflating: 2020_11_9_MV1_run_brain/move_0039_0001.tif  \n",
            "  inflating: 2020_11_9_MV1_run_brain/move_0039_0002.tif  \n",
            "  inflating: 2020_11_9_MV1_run_brain/move_0039_0003.tif  \n",
            "  inflating: 2020_11_9_MV1_run_brain/nomove_0040_0001.tif  \n",
            "  inflating: 2020_11_9_MV1_run_brain/nomove_0040_0002.tif  \n",
            "  inflating: 2020_11_9_MV1_run_brain/nomove_0040_0003.tif  \n",
            "  inflating: 2020_11_9_MV1_run_brain/nomove_0040_0004.tif  \n",
            "  inflating: 2020_11_9_MV1_run_brain/nomove_0040_0005.tif  \n",
            "  inflating: 2020_11_9_MV1_run_brain/nomove_0040_0006.tif  \n",
            "  inflating: 2020_11_9_MV1_run_brain/nomove_0040_0007.tif  \n",
            "  inflating: 2020_11_9_MV1_run_brain/nomove_0040_0008.tif  \n",
            "  inflating: 2020_11_9_MV1_run_brain/nomove_0040_0009.tif  \n",
            "  inflating: 2020_11_9_MV1_run_brain/nomove_0040_0010.tif  \n",
            "  inflating: 2020_11_9_MV1_run_brain/nomove_0040_0011.tif  \n",
            "  inflating: 2020_11_9_MV1_run_brain/nomove_0041_0001.tif  \n",
            "  inflating: 2020_11_9_MV1_run_brain/nomove_0041_0002.tif  \n",
            "  inflating: 2020_11_9_MV1_run_brain/nomove_0041_0003.tif  \n",
            "  inflating: 2020_11_9_MV1_run_brain/move_0041_0001.tif  \n",
            "  inflating: 2020_11_9_MV1_run_brain/move_0041_0002.tif  \n",
            "  inflating: 2020_11_9_MV1_run_brain/move_0041_0003.tif  \n",
            "  inflating: 2020_11_9_MV1_run_brain/move_0041_0004.tif  \n",
            "  inflating: 2020_11_9_MV1_run_brain/nomove_0042_0001.tif  \n",
            "  inflating: 2020_11_9_MV1_run_brain/nomove_0042_0002.tif  \n",
            "  inflating: 2020_11_9_MV1_run_brain/nomove_0042_0003.tif  \n",
            "  inflating: 2020_11_9_MV1_run_brain/move_0042_0001.tif  \n",
            "  inflating: 2020_11_9_MV1_run_brain/move_0042_0002.tif  \n",
            "  inflating: 2020_11_9_MV1_run_brain/move_0042_0003.tif  \n",
            "  inflating: 2020_11_9_MV1_run_brain/move_0042_0004.tif  \n",
            "  inflating: 2020_11_9_MV1_run_brain/move_0042_0005.tif  \n",
            "  inflating: 2020_11_9_MV1_run_brain/move_0042_0006.tif  \n",
            "  inflating: 2020_11_9_MV1_run_brain/nomove_0043_0001.tif  \n",
            "  inflating: 2020_11_9_MV1_run_brain/nomove_0043_0002.tif  \n",
            "  inflating: 2020_11_9_MV1_run_brain/nomove_0043_0003.tif  \n",
            "  inflating: 2020_11_9_MV1_run_brain/nomove_0043_0004.tif  \n",
            "  inflating: 2020_11_9_MV1_run_brain/nomove_0043_0005.tif  \n",
            "  inflating: 2020_11_9_MV1_run_brain/nomove_0043_0006.tif  \n",
            "  inflating: 2020_11_9_MV1_run_brain/nomove_0044_0001.tif  \n",
            "  inflating: 2020_11_9_MV1_run_brain/nomove_0044_0002.tif  \n",
            "  inflating: 2020_11_9_MV1_run_brain/nomove_0044_0003.tif  \n",
            "  inflating: 2020_11_9_MV1_run_brain/nomove_0045_0001.tif  \n",
            "  inflating: 2020_11_9_MV1_run_brain/nomove_0045_0002.tif  \n",
            "  inflating: 2020_11_9_MV1_run_brain/nomove_0046_0001.tif  \n",
            "  inflating: 2020_11_9_MV1_run_brain/nomove_0046_0002.tif  \n",
            "  inflating: 2020_11_9_MV1_run_brain/nomove_0046_0003.tif  \n",
            "  inflating: 2020_11_9_MV1_run_brain/nomove_0047_0001.tif  \n",
            "  inflating: 2020_11_9_MV1_run_brain/nomove_0047_0002.tif  \n",
            "  inflating: 2020_11_9_MV1_run_brain/nomove_0047_0003.tif  \n",
            "  inflating: 2020_11_9_MV1_run_brain/nomove_0047_0004.tif  \n",
            "  inflating: 2020_11_9_MV1_run_brain/nomove_0047_0005.tif  \n",
            "  inflating: 2020_11_9_MV1_run_brain/nomove_0047_0006.tif  \n",
            "  inflating: 2020_11_9_MV1_run_brain/nomove_0047_0007.tif  \n",
            "  inflating: 2020_11_9_MV1_run_brain/move_0047_0001.tif  \n",
            "  inflating: 2020_11_9_MV1_run_brain/move_0047_0002.tif  \n",
            "  inflating: 2020_11_9_MV1_run_brain/nomove_0048_0001.tif  \n",
            "  inflating: 2020_11_9_MV1_run_brain/nomove_0048_0002.tif  \n",
            "  inflating: 2020_11_9_MV1_run_brain/nomove_0048_0003.tif  \n",
            "  inflating: 2020_11_9_MV1_run_brain/nomove_0048_0004.tif  \n",
            "  inflating: 2020_11_9_MV1_run_brain/nomove_0049_0001.tif  \n",
            "  inflating: 2020_11_9_MV1_run_brain/nomove_0049_0002.tif  \n",
            "  inflating: 2020_11_9_MV1_run_brain/nomove_0050_0001.tif  \n",
            "  inflating: 2020_11_9_MV1_run_brain/nomove_0050_0002.tif  \n",
            "  inflating: 2020_11_9_MV1_run_brain/nomove_0050_0003.tif  \n",
            "  inflating: 2020_11_9_MV1_run_brain/nomove_0050_0004.tif  \n",
            "  inflating: 2020_11_9_MV1_run_brain/nomove_0051_0001.tif  \n",
            "  inflating: 2020_11_9_MV1_run_brain/nomove_0051_0002.tif  \n",
            "  inflating: 2020_11_9_MV1_run_brain/nomove_0051_0003.tif  \n",
            "  inflating: 2020_11_9_MV1_run_brain/nomove_0052_0001.tif  \n",
            "  inflating: 2020_11_9_MV1_run_brain/nomove_0052_0002.tif  \n",
            "  inflating: 2020_11_9_MV1_run_brain/nomove_0052_0003.tif  \n",
            "  inflating: 2020_11_9_MV1_run_brain/nomove_0053_0001.tif  \n",
            "  inflating: 2020_11_9_MV1_run_brain/nomove_0053_0002.tif  \n",
            "  inflating: 2020_11_9_MV1_run_brain/nomove_0053_0003.tif  \n",
            "  inflating: 2020_11_9_MV1_run_brain/nomove_0054_0001.tif  \n",
            "  inflating: 2020_11_9_MV1_run_brain/nomove_0054_0002.tif  \n",
            "  inflating: 2020_11_9_MV1_run_brain/nomove_0054_0003.tif  \n",
            "  inflating: 2020_11_9_MV1_run_brain/nomove_0055_0001.tif  \n",
            "  inflating: 2020_11_9_MV1_run_brain/nomove_0055_0002.tif  \n",
            "  inflating: 2020_11_9_MV1_run_brain/nomove_0055_0003.tif  \n",
            "  inflating: 2020_11_9_MV1_run_brain/nomove_0055_0004.tif  \n",
            "  inflating: 2020_11_9_MV1_run_brain/nomove_0055_0005.tif  \n",
            "  inflating: 2020_11_9_MV1_run_brain/nomove_0055_0006.tif  \n",
            "  inflating: 2020_11_9_MV1_run_brain/nomove_0056_0001.tif  \n",
            "  inflating: 2020_11_9_MV1_run_brain/nomove_0056_0002.tif  \n",
            "  inflating: 2020_11_9_MV1_run_brain/nomove_0057_0001.tif  \n",
            "  inflating: 2020_11_9_MV1_run_brain/nomove_0057_0002.tif  \n",
            "  inflating: 2020_11_9_MV1_run_brain/nomove_0058_0001.tif  \n",
            "  inflating: 2020_11_9_MV1_run_brain/nomove_0058_0002.tif  \n",
            "  inflating: 2020_11_9_MV1_run_brain/nomove_0059_0001.tif  \n",
            "  inflating: 2020_11_9_MV1_run_brain/nomove_0060_0001.tif  \n",
            "  inflating: 2020_11_9_MV1_run_brain/nomove_0060_0002.tif  \n",
            "unzip:  cannot find or open /content/drive/MyDrive/Cebra_data/2020_11_9_MV1_run_behaviour.zip, /content/drive/MyDrive/Cebra_data/2020_11_9_MV1_run_behaviour.zip.zip or /content/drive/MyDrive/Cebra_data/2020_11_9_MV1_run_behaviour.zip.ZIP.\n"
          ]
        }
      ],
      "source": [
        "# Only for google Colab\n",
        "# !pip install cebra\n",
        "# from google.colab import drive\n",
        "# drive.mount('/content/drive/')\n",
        "# !unzip /content/drive/MyDrive/Cebra_data/2020_11_9_MV1_run_brain.zip\n"
      ]
    },
    {
      "cell_type": "code",
      "execution_count": 2,
      "metadata": {
        "colab": {
          "base_uri": "https://localhost:8080/"
        },
        "id": "Gb7O6tZjTGgH",
        "outputId": "143807b2-e20a-47f3-a87f-f5fd7906bb70"
      },
      "outputs": [
        {
          "name": "stdout",
          "output_type": "stream",
          "text": [
            "Archive:  /content/drive/MyDrive/Cebra_data/2020_11_9_MV1_run_behavior.zip\n",
            "  inflating: nomove_0060_0002.tif    \n",
            "  inflating: nomove_0060_0001.tif    \n",
            "  inflating: nomove_0059_0001.tif    \n",
            "  inflating: nomove_0058_0002.tif    \n",
            "  inflating: nomove_0058_0001.tif    \n",
            "  inflating: nomove_0057_0002.tif    \n",
            "  inflating: nomove_0057_0001.tif    \n",
            "  inflating: nomove_0056_0002.tif    \n",
            "  inflating: nomove_0056_0001.tif    \n",
            "  inflating: nomove_0055_0006.tif    \n",
            "  inflating: nomove_0055_0005.tif    \n",
            "  inflating: nomove_0055_0004.tif    \n",
            "  inflating: nomove_0055_0003.tif    \n",
            "  inflating: nomove_0055_0002.tif    \n",
            "  inflating: nomove_0055_0001.tif    \n",
            "  inflating: nomove_0054_0003.tif    \n",
            "  inflating: nomove_0054_0002.tif    \n",
            "  inflating: nomove_0054_0001.tif    \n",
            "  inflating: nomove_0053_0003.tif    \n",
            "  inflating: nomove_0053_0002.tif    \n",
            "  inflating: nomove_0053_0001.tif    \n",
            "  inflating: nomove_0052_0003.tif    \n",
            "  inflating: nomove_0052_0002.tif    \n",
            "  inflating: nomove_0052_0001.tif    \n",
            "  inflating: nomove_0051_0003.tif    \n",
            "  inflating: nomove_0051_0002.tif    \n",
            "  inflating: nomove_0051_0001.tif    \n",
            "  inflating: nomove_0050_0004.tif    \n",
            "  inflating: nomove_0050_0003.tif    \n",
            "  inflating: nomove_0050_0002.tif    \n",
            "  inflating: nomove_0050_0001.tif    \n",
            "  inflating: nomove_0049_0002.tif    \n",
            "  inflating: nomove_0049_0001.tif    \n",
            "  inflating: nomove_0048_0004.tif    \n",
            "  inflating: nomove_0048_0003.tif    \n",
            "  inflating: nomove_0048_0002.tif    \n",
            "  inflating: nomove_0048_0001.tif    \n",
            "  inflating: nomove_0047_0007.tif    \n",
            "  inflating: nomove_0047_0006.tif    \n",
            "  inflating: nomove_0047_0005.tif    \n",
            "  inflating: nomove_0047_0004.tif    \n",
            "  inflating: nomove_0047_0003.tif    \n",
            "  inflating: nomove_0047_0002.tif    \n",
            "  inflating: nomove_0047_0001.tif    \n",
            "  inflating: nomove_0046_0003.tif    \n",
            "  inflating: nomove_0046_0002.tif    \n",
            "  inflating: nomove_0046_0001.tif    \n",
            "  inflating: nomove_0045_0002.tif    \n",
            "  inflating: nomove_0045_0001.tif    \n",
            "  inflating: nomove_0044_0003.tif    \n",
            "  inflating: nomove_0044_0002.tif    \n",
            "  inflating: nomove_0044_0001.tif    \n",
            "  inflating: nomove_0043_0006.tif    \n",
            "  inflating: nomove_0043_0005.tif    \n",
            "  inflating: nomove_0043_0004.tif    \n",
            "  inflating: nomove_0043_0003.tif    \n",
            "  inflating: nomove_0043_0002.tif    \n",
            "  inflating: nomove_0043_0001.tif    \n",
            "  inflating: nomove_0042_0003.tif    \n",
            "  inflating: nomove_0042_0002.tif    \n",
            "  inflating: nomove_0042_0001.tif    \n",
            "  inflating: nomove_0041_0003.tif    \n",
            "  inflating: nomove_0041_0002.tif    \n",
            "  inflating: nomove_0041_0001.tif    \n",
            "  inflating: nomove_0040_0011.tif    \n",
            "  inflating: nomove_0040_0010.tif    \n",
            "  inflating: nomove_0040_0009.tif    \n",
            "  inflating: nomove_0040_0008.tif    \n",
            "  inflating: nomove_0040_0007.tif    \n",
            "  inflating: nomove_0040_0006.tif    \n",
            "  inflating: nomove_0040_0005.tif    \n",
            "  inflating: nomove_0040_0004.tif    \n",
            "  inflating: nomove_0040_0003.tif    \n",
            "  inflating: nomove_0040_0002.tif    \n",
            "  inflating: nomove_0040_0001.tif    \n",
            "  inflating: nomove_0039_0007.tif    \n",
            "  inflating: nomove_0039_0006.tif    \n",
            "  inflating: nomove_0039_0005.tif    \n",
            "  inflating: nomove_0039_0004.tif    \n",
            "  inflating: nomove_0039_0003.tif    \n",
            "  inflating: nomove_0039_0002.tif    \n",
            "  inflating: nomove_0039_0001.tif    \n",
            "  inflating: nomove_0038_0005.tif    \n",
            "  inflating: nomove_0038_0004.tif    \n",
            "  inflating: nomove_0038_0003.tif    \n",
            "  inflating: nomove_0038_0002.tif    \n",
            "  inflating: nomove_0038_0001.tif    \n",
            "  inflating: nomove_0037_0002.tif    \n",
            "  inflating: nomove_0037_0001.tif    \n",
            "  inflating: nomove_0036_0002.tif    \n",
            "  inflating: nomove_0036_0001.tif    \n",
            "  inflating: nomove_0035_0005.tif    \n",
            "  inflating: nomove_0035_0004.tif    \n",
            "  inflating: nomove_0035_0003.tif    \n",
            "  inflating: nomove_0035_0002.tif    \n",
            "  inflating: nomove_0035_0001.tif    \n",
            "  inflating: nomove_0034_0004.tif    \n",
            "  inflating: nomove_0034_0003.tif    \n",
            "  inflating: nomove_0034_0002.tif    \n",
            "  inflating: nomove_0034_0001.tif    \n",
            "  inflating: nomove_0033_0002.tif    \n",
            "  inflating: nomove_0033_0001.tif    \n",
            "  inflating: nomove_0032_0003.tif    \n",
            "  inflating: nomove_0032_0002.tif    \n",
            "  inflating: nomove_0032_0001.tif    \n",
            "  inflating: nomove_0031_0003.tif    \n",
            "  inflating: nomove_0031_0002.tif    \n",
            "  inflating: nomove_0031_0001.tif    \n",
            "  inflating: nomove_0030_0003.tif    \n",
            "  inflating: nomove_0030_0002.tif    \n",
            "  inflating: nomove_0030_0001.tif    \n",
            "  inflating: nomove_0029_0003.tif    \n",
            "  inflating: nomove_0029_0002.tif    \n",
            "  inflating: nomove_0029_0001.tif    \n",
            "  inflating: nomove_0028_0006.tif    \n",
            "  inflating: nomove_0028_0005.tif    \n",
            "  inflating: nomove_0028_0004.tif    \n",
            "  inflating: nomove_0028_0003.tif    \n",
            "  inflating: nomove_0028_0002.tif    \n",
            "  inflating: nomove_0028_0001.tif    \n",
            "  inflating: nomove_0027_0003.tif    \n",
            "  inflating: nomove_0027_0002.tif    \n",
            "  inflating: nomove_0027_0001.tif    \n",
            "  inflating: nomove_0026_0003.tif    \n",
            "  inflating: nomove_0026_0002.tif    \n",
            "  inflating: nomove_0026_0001.tif    \n",
            "  inflating: nomove_0025_0005.tif    \n",
            "  inflating: nomove_0025_0004.tif    \n",
            "  inflating: nomove_0025_0003.tif    \n",
            "  inflating: nomove_0025_0002.tif    \n",
            "  inflating: nomove_0025_0001.tif    \n",
            "  inflating: nomove_0024_0004.tif    \n",
            "  inflating: nomove_0024_0003.tif    \n",
            "  inflating: nomove_0024_0002.tif    \n",
            "  inflating: nomove_0024_0001.tif    \n",
            "  inflating: nomove_0023_0003.tif    \n",
            "  inflating: nomove_0023_0002.tif    \n",
            "  inflating: nomove_0023_0001.tif    \n",
            "  inflating: nomove_0022_0004.tif    \n",
            "  inflating: nomove_0022_0003.tif    \n",
            "  inflating: nomove_0022_0002.tif    \n",
            "  inflating: nomove_0022_0001.tif    \n",
            "  inflating: nomove_0021_0006.tif    \n",
            "  inflating: nomove_0021_0005.tif    \n",
            "  inflating: nomove_0021_0004.tif    \n",
            "  inflating: nomove_0021_0003.tif    \n",
            "  inflating: nomove_0021_0002.tif    \n",
            "  inflating: nomove_0021_0001.tif    \n",
            "  inflating: nomove_0019_0001.tif    \n",
            "  inflating: nomove_0018_0004.tif    \n",
            "  inflating: nomove_0018_0003.tif    \n",
            "  inflating: nomove_0018_0002.tif    \n",
            "  inflating: nomove_0018_0001.tif    \n",
            "  inflating: nomove_0017_0004.tif    \n",
            "  inflating: nomove_0017_0003.tif    \n",
            "  inflating: nomove_0017_0002.tif    \n",
            "  inflating: nomove_0017_0001.tif    \n",
            "  inflating: nomove_0016_0004.tif    \n",
            "  inflating: nomove_0016_0003.tif    \n",
            "  inflating: nomove_0016_0002.tif    \n",
            "  inflating: nomove_0016_0001.tif    \n",
            "  inflating: nomove_0015_0007.tif    \n",
            "  inflating: nomove_0015_0006.tif    \n",
            "  inflating: nomove_0015_0005.tif    \n",
            "  inflating: nomove_0015_0004.tif    \n",
            "  inflating: nomove_0015_0003.tif    \n",
            "  inflating: nomove_0015_0002.tif    \n",
            "  inflating: nomove_0015_0001.tif    \n",
            "  inflating: nomove_0014_0004.tif    \n",
            "  inflating: nomove_0014_0003.tif    \n",
            "  inflating: nomove_0014_0002.tif    \n",
            "  inflating: nomove_0014_0001.tif    \n",
            "  inflating: nomove_0013_0004.tif    \n",
            "  inflating: nomove_0013_0003.tif    \n",
            "  inflating: nomove_0013_0002.tif    \n",
            "  inflating: nomove_0013_0001.tif    \n",
            "  inflating: nomove_0012_0005.tif    \n",
            "  inflating: nomove_0012_0004.tif    \n",
            "  inflating: nomove_0012_0003.tif    \n",
            "  inflating: nomove_0012_0002.tif    \n",
            "  inflating: nomove_0012_0001.tif    \n",
            "  inflating: nomove_0011_0001.tif    \n",
            "  inflating: nomove_0010_0004.tif    \n",
            "  inflating: nomove_0010_0003.tif    \n",
            "  inflating: nomove_0010_0002.tif    \n",
            "  inflating: nomove_0010_0001.tif    \n",
            "  inflating: nomove_0009_0007.tif    \n",
            "  inflating: nomove_0009_0006.tif    \n",
            "  inflating: nomove_0009_0005.tif    \n",
            "  inflating: nomove_0009_0004.tif    \n",
            "  inflating: nomove_0009_0003.tif    \n",
            "  inflating: nomove_0009_0002.tif    \n",
            "  inflating: nomove_0009_0001.tif    \n",
            "  inflating: nomove_0008_0005.tif    \n",
            "  inflating: nomove_0008_0004.tif    \n",
            "  inflating: nomove_0008_0003.tif    \n",
            "  inflating: nomove_0008_0002.tif    \n",
            "  inflating: nomove_0008_0001.tif    \n",
            "  inflating: nomove_0007_0004.tif    \n",
            "  inflating: nomove_0007_0003.tif    \n",
            "  inflating: nomove_0007_0002.tif    \n",
            "  inflating: nomove_0007_0001.tif    \n",
            "  inflating: nomove_0006_0006.tif    \n",
            "  inflating: nomove_0006_0005.tif    \n",
            "  inflating: nomove_0006_0004.tif    \n",
            "  inflating: nomove_0006_0003.tif    \n",
            "  inflating: nomove_0006_0002.tif    \n",
            "  inflating: nomove_0006_0001.tif    \n",
            "  inflating: nomove_0005_0010.tif    \n",
            "  inflating: nomove_0005_0009.tif    \n",
            "  inflating: nomove_0005_0008.tif    \n",
            "  inflating: nomove_0005_0007.tif    \n",
            "  inflating: nomove_0005_0006.tif    \n",
            "  inflating: nomove_0005_0005.tif    \n",
            "  inflating: nomove_0005_0004.tif    \n",
            "  inflating: nomove_0005_0003.tif    \n",
            "  inflating: nomove_0005_0002.tif    \n",
            "  inflating: nomove_0005_0001.tif    \n",
            "  inflating: nomove_0004_0003.tif    \n",
            "  inflating: nomove_0004_0002.tif    \n",
            "  inflating: nomove_0004_0001.tif    \n",
            "  inflating: nomove_0001_0005.tif    \n",
            "  inflating: nomove_0001_0004.tif    \n",
            "  inflating: nomove_0001_0003.tif    \n",
            "  inflating: nomove_0001_0002.tif    \n",
            "  inflating: nomove_0001_0001.tif    \n",
            "  inflating: move_0047_0002.tif      \n",
            "  inflating: move_0047_0001.tif      \n",
            "  inflating: move_0042_0006.tif      \n",
            "  inflating: move_0042_0005.tif      \n",
            "  inflating: move_0042_0004.tif      \n",
            "  inflating: move_0042_0003.tif      \n",
            "  inflating: move_0042_0002.tif      \n",
            "  inflating: move_0042_0001.tif      \n",
            "  inflating: move_0041_0004.tif      \n",
            "  inflating: move_0041_0003.tif      \n",
            "  inflating: move_0041_0002.tif      \n",
            "  inflating: move_0041_0001.tif      \n",
            "  inflating: move_0039_0003.tif      \n",
            "  inflating: move_0039_0002.tif      \n",
            "  inflating: move_0039_0001.tif      \n",
            "  inflating: move_0034_0004.tif      \n",
            "  inflating: move_0034_0003.tif      \n",
            "  inflating: move_0034_0002.tif      \n",
            "  inflating: move_0034_0001.tif      \n",
            "  inflating: move_0021_0002.tif      \n",
            "  inflating: move_0029_0001.tif      \n",
            "  inflating: move_0021_0001.tif      \n",
            "  inflating: move_0020_0002.tif      \n",
            "  inflating: move_0020_0001.tif      \n",
            "  inflating: move_0019_0008.tif      \n",
            "  inflating: move_0019_0007.tif      \n",
            "  inflating: move_0019_0006.tif      \n",
            "  inflating: move_0019_0005.tif      \n",
            "  inflating: move_0019_0004.tif      \n",
            "  inflating: move_0019_0003.tif      \n",
            "  inflating: move_0019_0002.tif      \n",
            "  inflating: move_0019_0001.tif      \n",
            "  inflating: move_0018_0002.tif      \n",
            "  inflating: move_0018_0001.tif      \n",
            "  inflating: move_0013_0002.tif      \n",
            "  inflating: move_0013_0001.tif      \n",
            "  inflating: move_0012_0002.tif      \n",
            "  inflating: move_0012_0003.tif      \n",
            "  inflating: move_0007_0005.tif      \n",
            "  inflating: move_0012_0001.tif      \n",
            "  inflating: move_0007_0004.tif      \n",
            "  inflating: move_0007_0003.tif      \n",
            "  inflating: move_0007_0002.tif      \n",
            "  inflating: move_0007_0001.tif      \n",
            "  inflating: move_0006_0004.tif      \n",
            "  inflating: move_0006_0003.tif      \n",
            "  inflating: move_0006_0002.tif      \n",
            "  inflating: move_0006_0001.tif      \n",
            "  inflating: move_0004_0004.tif      \n",
            "  inflating: move_0004_0003.tif      \n",
            "  inflating: move_0004_0002.tif      \n",
            "  inflating: move_0004_0001.tif      \n",
            "  inflating: move_0003_0004.tif      \n",
            "  inflating: move_0003_0003.tif      \n",
            "  inflating: move_0003_0002.tif      \n",
            "  inflating: move_0003_0001.tif      \n",
            "  inflating: move_0002_0005.tif      \n",
            "  inflating: move_0002_0004.tif      \n",
            "  inflating: move_0002_0003.tif      \n",
            "  inflating: move_0002_0002.tif      \n",
            "  inflating: move_0002_0001.tif      \n",
            "  inflating: move_0001_0003.tif      \n",
            "  inflating: move_0001_0004.tif      \n",
            "  inflating: move_0001_0001.tif      \n",
            "  inflating: move_0001_0005.tif      \n",
            "  inflating: move_0001_0002.tif      \n"
          ]
        }
      ],
      "source": [
        "# !unzip /content/drive/MyDrive/Cebra_data/2020_11_9_MV1_run_behavior.zip"
      ]
    },
    {
      "cell_type": "code",
      "execution_count": 4,
      "metadata": {
        "colab": {
          "base_uri": "https://localhost:8080/"
        },
        "id": "Qkz4lBs6Ty4c",
        "outputId": "5b569ecd-e183-4a0a-aba0-9b8b98af1ffc"
      },
      "outputs": [
        {
          "name": "stdout",
          "output_type": "stream",
          "text": [
            "mkdir: cannot create directory ‘2020_11_9_MV1_run_behavior’: File exists\n"
          ]
        }
      ],
      "source": [
        "!mkdir 2020_11_9_MV1_run_behavior\n"
      ]
    },
    {
      "cell_type": "code",
      "execution_count": 6,
      "metadata": {
        "colab": {
          "base_uri": "https://localhost:8080/"
        },
        "id": "mhByVK6cT8iz",
        "outputId": "9ddfbb1a-e686-4bcd-81ec-c41af65cb558"
      },
      "outputs": [
        {
          "name": "stdout",
          "output_type": "stream",
          "text": [
            "mv: cannot stat '.*.tif': No such file or directory\n"
          ]
        }
      ],
      "source": [
        "!mv *.tif 2020_11_9_MV1_run_behavior/"
      ]
    },
    {
      "cell_type": "code",
      "execution_count": 2,
      "metadata": {},
      "outputs": [
        {
          "name": "stdout",
          "output_type": "stream",
          "text": [
            "no change     /home/murphy/anaconda3/condabin/conda\n",
            "no change     /home/murphy/anaconda3/bin/conda\n",
            "no change     /home/murphy/anaconda3/bin/conda-env\n",
            "no change     /home/murphy/anaconda3/bin/activate\n",
            "no change     /home/murphy/anaconda3/bin/deactivate\n",
            "no change     /home/murphy/anaconda3/etc/profile.d/conda.sh\n",
            "no change     /home/murphy/anaconda3/etc/fish/conf.d/conda.fish\n",
            "no change     /home/murphy/anaconda3/shell/condabin/Conda.psm1\n",
            "no change     /home/murphy/anaconda3/shell/condabin/conda-hook.ps1\n",
            "no change     /home/murphy/anaconda3/lib/python3.9/site-packages/xontrib/conda.xsh\n",
            "no change     /home/murphy/anaconda3/etc/profile.d/conda.csh\n",
            "no change     /home/murphy/.bashrc\n",
            "No action taken.\n",
            "\n",
            "CommandNotFoundError: Your shell has not been properly configured to use 'conda activate'.\n",
            "To initialize your shell, run\n",
            "\n",
            "    $ conda init <SHELL_NAME>\n",
            "\n",
            "Currently supported shells are:\n",
            "  - bash\n",
            "  - fish\n",
            "  - tcsh\n",
            "  - xonsh\n",
            "  - zsh\n",
            "  - powershell\n",
            "\n",
            "See 'conda init --help' for more information and options.\n",
            "\n",
            "IMPORTANT: You may need to close and restart your shell after running 'conda init'.\n",
            "\n",
            "\n"
          ]
        }
      ],
      "source": [
        "!conda init bash\n",
        "!conda activate cebra-env"
      ]
    },
    {
      "cell_type": "code",
      "execution_count": 1,
      "metadata": {
        "colab": {
          "base_uri": "https://localhost:8080/"
        },
        "id": "mC2cXtSv85lj",
        "outputId": "f36a0368-c7e1-4c1f-e7fe-8a7470fda118"
      },
      "outputs": [],
      "source": [
        "import sys\n",
        "import numpy as np\n",
        "import matplotlib.pyplot as plt\n",
        "from cebra import CEBRA\n",
        "from PIL import Image\n",
        "import cv2\n",
        "import torch\n"
      ]
    },
    {
      "cell_type": "code",
      "execution_count": 39,
      "metadata": {
        "colab": {
          "base_uri": "https://localhost:8080/"
        },
        "id": "DwbBjoxQArDJ",
        "outputId": "5cd18711-c1f1-4c24-97eb-62e41cd8b064"
      },
      "outputs": [
        {
          "name": "stdout",
          "output_type": "stream",
          "text": [
            "cuda\n"
          ]
        }
      ],
      "source": [
        "if torch.cuda.is_available():\n",
        "    DEVICE = \"cuda\"\n",
        "else:\n",
        "    DEVICE = \"cpu\"\n",
        "print(DEVICE)"
      ]
    },
    {
      "cell_type": "code",
      "execution_count": 2,
      "metadata": {
        "id": "BbPAm7I49j6R"
      },
      "outputs": [],
      "source": [
        "from logging import exception\n",
        "def process_brain(path):\n",
        "  try:\n",
        "    brain_seq = cv2.imreadmulti(path)[1]\n",
        "    brain_seq = np.array(brain_seq)\n",
        "    brain_mask = (np.sum(brain_seq, axis=0) > 0)\n",
        "    flat_seq = (brain_seq[:, brain_mask])\n",
        "    return flat_seq.astype(float)\n",
        "  except:\n",
        "    print(np.shape(brain_seq))\n"
      ]
    },
    {
      "cell_type": "code",
      "execution_count": null,
      "metadata": {
        "id": "qEY4KXs5ArDN"
      },
      "outputs": [],
      "source": []
    },
    {
      "cell_type": "code",
      "execution_count": 3,
      "metadata": {
        "id": "H8cwkwhp95Hs"
      },
      "outputs": [],
      "source": [
        "# iterate through all brain data and process it\n",
        "#https://stackoverflow.com/questions/10377998/how-can-i-iterate-over-files-in-a-given-directory\n",
        "import os\n",
        "neural_data = []\n",
        "name_data = []\n",
        "behav_data = []\n",
        "\n",
        "filepath = \"2020_11_9_MV1_run_brain\"\n",
        "for file in os.listdir(filepath):\n",
        "     filename = os.fsdecode(file)\n",
        "     if filename.endswith(\".tif\"):\n",
        "         neural_data.append(process_brain(filepath + '/' + filename))\n",
        "         name_data.append(filename)\n",
        "         split_name = filename.split('_')\n",
        "         session_data = []\n",
        "         session_data.append(int(split_name[2].split('.')[0]))\n",
        "         session_data.append(int(split_name[1]))\n",
        "         behav_data.append(session_data)\n",
        "         continue\n",
        "     else:\n",
        "         continue"
      ]
    },
    {
      "cell_type": "code",
      "execution_count": 4,
      "metadata": {
        "colab": {
          "base_uri": "https://localhost:8080/"
        },
        "id": "v4Ly9MXA_vIc",
        "outputId": "e4824854-55fe-4a0e-f0c8-d8b82bb1dd2f"
      },
      "outputs": [],
      "source": [
        "# using https://github.com/facebookresearch/dinov2\n",
        "# extract feature labels from images\n",
        "import torch\n"
      ]
    },
    {
      "cell_type": "code",
      "execution_count": 29,
      "metadata": {},
      "outputs": [
        {
          "name": "stderr",
          "output_type": "stream",
          "text": [
            "Some weights of ViTModel were not initialized from the model checkpoint at facebook/dino-vits8 and are newly initialized: ['pooler.dense.bias', 'pooler.dense.weight']\n",
            "You should probably TRAIN this model on a down-stream task to be able to use it for predictions and inference.\n"
          ]
        }
      ],
      "source": [
        "# from https://huggingface.co/facebook/dino-vits8\n",
        "# testing transformer\n",
        "from transformers import ViTImageProcessor, ViTModel\n",
        "from PIL import Image\n",
        "import requests\n",
        "\n",
        "url = 'http://images.cocodataset.org/val2017/000000039769.jpg'\n",
        "image = Image.open(requests.get(url, stream=True).raw)\n",
        "\n",
        "processor = ViTImageProcessor.from_pretrained('facebook/dino-vits8')\n",
        "model = ViTModel.from_pretrained('facebook/dino-vits8')\n",
        "device = \"cuda:0\" if torch.cuda.is_available() else \"cpu\"\n",
        "model = model.to(device)\n",
        "inputs = processor(images=image, return_tensors=\"pt\").to(device)\n",
        "outputs = model(**inputs)"
      ]
    },
    {
      "cell_type": "code",
      "execution_count": 31,
      "metadata": {},
      "outputs": [
        {
          "data": {
            "text/plain": [
              "384"
            ]
          },
          "execution_count": 31,
          "metadata": {},
          "output_type": "execute_result"
        }
      ],
      "source": [
        "np.size(outputs.pooler_output.cpu().detach().numpy())"
      ]
    },
    {
      "cell_type": "code",
      "execution_count": 32,
      "metadata": {
        "id": "Y6aY7pfYejhd"
      },
      "outputs": [],
      "source": [
        "def get_features(model, image):\n",
        "  return model(**processor(images=image, return_tensors=\"pt\").to(device)).pooler_output.cpu().detach().numpy()"
      ]
    },
    {
      "cell_type": "code",
      "execution_count": 33,
      "metadata": {
        "id": "ixFbbADmffwJ"
      },
      "outputs": [],
      "source": [
        "from PIL import Image\n",
        "import numpy as np\n",
        "\n",
        "def np_to_PIL(numpy_image):\n",
        "    return Image.fromarray(np.uint8(numpy_image)).convert('RGB')"
      ]
    },
    {
      "cell_type": "code",
      "execution_count": 34,
      "metadata": {
        "id": "QfZSe2ecdVn6"
      },
      "outputs": [],
      "source": [
        "def process_behav(path):\n",
        "  beh_seq = cv2.imreadmulti(path)[1]\n",
        "  beh_seq = np.array(beh_seq)\n",
        "  feature_seq = []\n",
        "  for beh_feat in beh_seq:\n",
        "    feature_seq.append(get_features(model, np_to_PIL(beh_feat)))\n",
        "  return np.array(feature_seq)\n"
      ]
    },
    {
      "cell_type": "code",
      "execution_count": 35,
      "metadata": {
        "id": "jKe21c8BegYm"
      },
      "outputs": [
        {
          "data": {
            "text/plain": [
              "array([[[-0.74527895, -0.9245405 , -0.571785  , ..., -0.14651553,\n",
              "          0.8670881 ,  0.7112836 ]],\n",
              "\n",
              "       [[-0.7303746 , -0.9133858 , -0.57960606, ..., -0.23952235,\n",
              "          0.88147557,  0.7741244 ]],\n",
              "\n",
              "       [[-0.8193451 , -0.9284044 , -0.7141416 , ..., -0.12433311,\n",
              "          0.8548025 ,  0.7191919 ]],\n",
              "\n",
              "       ...,\n",
              "\n",
              "       [[-0.70981467, -0.91932875, -0.7049153 , ..., -0.16899635,\n",
              "          0.79533553,  0.17811306]],\n",
              "\n",
              "       [[-0.39356595, -0.7550371 , -0.8833397 , ...,  0.05472029,\n",
              "          0.91760004,  0.75487125]],\n",
              "\n",
              "       [[-0.7635525 , -0.5961541 , -0.6745469 , ..., -0.30734006,\n",
              "          0.9495258 ,  0.7950252 ]]], dtype=float32)"
            ]
          },
          "execution_count": 35,
          "metadata": {},
          "output_type": "execute_result"
        }
      ],
      "source": [
        "process_behav(\"2020_11_9_MV1_run_behavior/move_0001_0001.tif\")"
      ]
    },
    {
      "cell_type": "code",
      "execution_count": 36,
      "metadata": {
        "id": "dJbYQ8lTLumQ"
      },
      "outputs": [],
      "source": [
        "behav_feature = []\n",
        "name_data_behav = []\n",
        "\n",
        "filepath = \"2020_11_9_MV1_run_behavior\"\n",
        "for file in os.listdir(filepath):\n",
        "     filename = os.fsdecode(file)\n",
        "     if filename.endswith(\".tif\"):\n",
        "         behav_feature.append(process_behav(filepath + '/' + filename))\n",
        "         name_data_behav.append(filename)\n",
        "         continue\n",
        "     else:\n",
        "         continue"
      ]
    },
    {
      "cell_type": "code",
      "execution_count": 37,
      "metadata": {},
      "outputs": [],
      "source": [
        "import pickle\n",
        "# open a file, where you ant to store the data\n",
        "file = open('feature_labels', 'wb')\n",
        "\n",
        "# dump information to that file\n",
        "pickle.dump(behav_feature, file)\n",
        "\n",
        "# close the file\n",
        "file.close()"
      ]
    },
    {
      "cell_type": "code",
      "execution_count": 4,
      "metadata": {},
      "outputs": [],
      "source": [
        "import pickle\n",
        "with open('feature_labels', 'rb') as f:\n",
        "    behav_feature = pickle.load(f)\n"
      ]
    },
    {
      "cell_type": "code",
      "execution_count": 5,
      "metadata": {
        "id": "N45splYsCgtk"
      },
      "outputs": [],
      "source": [
        "out_dim = 8\n",
        "max_iterations = 10"
      ]
    },
    {
      "cell_type": "code",
      "execution_count": 6,
      "metadata": {
        "id": "8S8G1TQrArDU"
      },
      "outputs": [],
      "source": [
        "multi_cebra_model = CEBRA(batch_size=128,\n",
        "                                output_dimension=out_dim,\n",
        "                                max_iterations=20000,\n",
        "                                verbose=True,\n",
        "                                temperature_mode=\"auto\",\n",
        "                                device = \"cuda_if_available\",\n",
        "                                max_adapt_iterations=10)"
      ]
    },
    {
      "cell_type": "code",
      "execution_count": 7,
      "metadata": {},
      "outputs": [],
      "source": [
        "behav_data2 = []\n",
        "for data in behav_feature:\n",
        "    behav_data2.append(np.squeeze(data))\n",
        "behav_feature = behav_data2\n"
      ]
    },
    {
      "cell_type": "code",
      "execution_count": 8,
      "metadata": {},
      "outputs": [
        {
          "name": "stdout",
          "output_type": "stream",
          "text": [
            "225\n"
          ]
        }
      ],
      "source": [
        "#set aside 20% of data for validation\n",
        "neural_data_train = neural_data[:(int)(282 * 0.8)]\n",
        "behav_feature_train = behav_feature[:(int)(282 * 0.8)]\n",
        "print(len(neural_data_train))"
      ]
    },
    {
      "cell_type": "code",
      "execution_count": 9,
      "metadata": {
        "colab": {
          "base_uri": "https://localhost:8080/",
          "height": 92
        },
        "id": "EwYWuiiM_7js",
        "outputId": "3fecfddf-beef-446a-8d06-0d984b48e5ed"
      },
      "outputs": [
        {
          "name": "stderr",
          "output_type": "stream",
          "text": [
            "pos:  1.9529 neg:  7.3169 total:  9.2698 temperature:  0.1000: 100%|██████████| 20000/20000 [59:41:28<00:00, 10.74s/it]   \n"
          ]
        }
      ],
      "source": [
        "multi_cebra_model.fit(neural_data, behav_feature)\n",
        "multi_cebra_model.save(\"cebra_multi_model2.pt\")"
      ]
    },
    {
      "cell_type": "code",
      "execution_count": 75,
      "metadata": {
        "colab": {
          "base_uri": "https://localhost:8080/"
        },
        "id": "hYu6FPDNFAkE",
        "outputId": "e5add620-ab11-4b46-c938-6c8ea138f82f"
      },
      "outputs": [
        {
          "ename": "IndexError",
          "evalue": "list index out of range",
          "output_type": "error",
          "traceback": [
            "\u001b[0;31m---------------------------------------------------------------------------\u001b[0m",
            "\u001b[0;31mIndexError\u001b[0m                                Traceback (most recent call last)",
            "Cell \u001b[0;32mIn[75], line 1\u001b[0m\n\u001b[0;32m----> 1\u001b[0m \u001b[38;5;28mprint\u001b[39m(np\u001b[38;5;241m.\u001b[39mshape(\u001b[43mmock_behav\u001b[49m\u001b[43m[\u001b[49m\u001b[38;5;241;43m1\u001b[39;49m\u001b[43m]\u001b[49m))\n\u001b[1;32m      2\u001b[0m np\u001b[38;5;241m.\u001b[39mshape(neural_data[\u001b[38;5;241m1\u001b[39m])\n",
            "\u001b[0;31mIndexError\u001b[0m: list index out of range"
          ]
        }
      ],
      "source": [
        "print(np.shape(mock_behav[1]))\n",
        "np.shape(neural_data[1])"
      ]
    },
    {
      "cell_type": "code",
      "execution_count": 10,
      "metadata": {
        "id": "yX_rzrVS__4b"
      },
      "outputs": [
        {
          "data": {
            "image/png": "[encoded data removed]",
            "text/plain": [
              "<Figure size 640x480 with 2 Axes>"
            ]
          },
          "metadata": {},
          "output_type": "display_data"
        }
      ],
      "source": [
        "\n",
        "import cebra\n",
        "fig = plt.figure()\n",
        "\n",
        "ax1 = plt.subplot(141, projection='3d')\n",
        "ax2 = plt.subplot(142, projection='3d')\n",
        "index = 20\n",
        "for run, data in enumerate(zip(neural_data[:index], name_data[:index])):\n",
        "  is_move = True\n",
        "  if data[1].split('_')[0] == 'move':\n",
        "    is_move = True\n",
        "  else:\n",
        "    is_move = False\n",
        "  embedding = multi_cebra_model.transform(data[0], session_id=run)\n",
        "  if is_move:\n",
        "    ax1 = cebra.plot_embedding(embedding, ax=ax1, title='moving')\n",
        "  else:\n",
        "    ax2 = cebra.plot_embedding(embedding, ax=ax2, title = 'no move')\n",
        "\n",
        "plt.show()\n"
      ]
    },
    {
      "cell_type": "code",
      "execution_count": 12,
      "metadata": {},
      "outputs": [
        {
          "data": {
            "image/png": "[encoded data removed]",
            "text/plain": [
              "<Figure size 500x500 with 1 Axes>"
            ]
          },
          "metadata": {},
          "output_type": "display_data"
        }
      ],
      "source": [
        "fig = plt.figure(figsize=(5,5))\n",
        "ax = plt.subplot(111)\n",
        "\n",
        "ax = cebra.plot_loss(multi_cebra_model, color='deepskyblue', label='loss', ax=ax)\n",
        "plt.show()"
      ]
    },
    {
      "cell_type": "code",
      "execution_count": 127,
      "metadata": {},
      "outputs": [],
      "source": [
        "from IPython.display import Video"
      ]
    },
    {
      "cell_type": "code",
      "execution_count": 1,
      "metadata": {
        "id": "EdivBk4JGniQ"
      },
      "outputs": [
        {
          "ename": "NameError",
          "evalue": "name 'behav_feature' is not defined",
          "output_type": "error",
          "traceback": [
            "\u001b[0;31m---------------------------------------------------------------------------\u001b[0m",
            "\u001b[0;31mNameError\u001b[0m                                 Traceback (most recent call last)",
            "Cell \u001b[0;32mIn[1], line 4\u001b[0m\n\u001b[1;32m      2\u001b[0m index \u001b[38;5;241m=\u001b[39m \u001b[38;5;241m1\u001b[39m\n\u001b[1;32m      3\u001b[0m dino_tsne \u001b[38;5;241m=\u001b[39m TSNE\u001b[38;5;241m.\u001b[39mTSNE(n_components \u001b[38;5;241m=\u001b[39m \u001b[38;5;241m2\u001b[39m)\n\u001b[0;32m----> 4\u001b[0m dino_tsne_viz \u001b[38;5;241m=\u001b[39m dino_tsne\u001b[38;5;241m.\u001b[39mfit_transform(\u001b[43mbehav_feature\u001b[49m[index])\n\u001b[1;32m      5\u001b[0m fig \u001b[38;5;241m=\u001b[39m plt\u001b[38;5;241m.\u001b[39mfigure(figsize \u001b[38;5;241m=\u001b[39m (\u001b[38;5;241m5\u001b[39m,\u001b[38;5;241m5\u001b[39m))\n\u001b[1;32m      6\u001b[0m plt\u001b[38;5;241m.\u001b[39mscatter(dino_tsne_viz[:,\u001b[38;5;241m0\u001b[39m], dino_tsne_viz[:,\u001b[38;5;241m1\u001b[39m], cmap \u001b[38;5;241m=\u001b[39m \u001b[38;5;124m'\u001b[39m\u001b[38;5;124mmagma\u001b[39m\u001b[38;5;124m'\u001b[39m, c \u001b[38;5;241m=\u001b[39m np\u001b[38;5;241m.\u001b[39marange(\u001b[38;5;28mlen\u001b[39m(behav_feature[index])))\n",
            "\u001b[0;31mNameError\u001b[0m: name 'behav_feature' is not defined"
          ]
        }
      ],
      "source": [
        "import sklearn.manifold._t_sne as TSNE\n",
        "index = 1\n",
        "dino_tsne = TSNE.TSNE(n_components = 2)\n",
        "dino_tsne_viz = dino_tsne.fit_transform(behav_feature[index])\n",
        "fig = plt.figure(figsize = (5,5))\n",
        "plt.scatter(dino_tsne_viz[:,0], dino_tsne_viz[:,1], cmap = 'magma', c = np.arange(len(behav_feature[index])))\n",
        "plt.title(name_data[index])\n",
        "plt.axis('off')\n",
        "frameSize = (320,320)\n",
        "out = cv2.VideoWriter('output_video.mp4',cv2.VideoWriter_fourcc(*'XVID'), 30, frameSize)\n",
        "for image in image_data[index]:\n",
        "    out.write(image)\n",
        "Video(\"output_video.mp4\")"
      ]
    },
    {
      "cell_type": "code",
      "execution_count": 139,
      "metadata": {},
      "outputs": [],
      "source": [
        "cv2.imshow(\"image\",image_data[0][2])\n",
        "k = cv2.waitKey(0)"
      ]
    }
  ],
  "metadata": {
    "accelerator": "GPU",
    "colab": {
      "gpuType": "T4",
      "provenance": []
    },
    "gpuClass": "standard",
    "kernelspec": {
      "display_name": "Python 3",
      "name": "python3"
    },
    "language_info": {
      "codemirror_mode": {
        "name": "ipython",
        "version": 3
      },
      "file_extension": ".py",
      "mimetype": "text/x-python",
      "name": "python",
      "nbconvert_exporter": "python",
      "pygments_lexer": "ipython3",
      "version": "3.11.3"
    }
  },
  "nbformat": 4,
  "nbformat_minor": 0
}
