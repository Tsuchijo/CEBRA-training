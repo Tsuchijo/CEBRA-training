{
  "cells": [
    {
      "cell_type": "code",
      "execution_count": null,
      "metadata": {
        "colab": {
          "base_uri": "https://localhost:8080/"
        },
        "id": "VzqR0mdwAuOD",
        "outputId": "c931767a-0af3-4df5-cf9b-83c48a5940dc"
      },
      "outputs": [],
      "source": [
        "# Only for google Colab\n",
        "# !pip install cebra\n",
        "# from google.colab import drive\n",
        "# drive.mount('/content/drive/')\n",
        "# !unzip /content/drive/MyDrive/Cebra_data/2020_11_9_MV1_run_brain.zip\n"
      ]
    },
    {
      "cell_type": "code",
      "execution_count": null,
      "metadata": {
        "colab": {
          "base_uri": "https://localhost:8080/"
        },
        "id": "Gb7O6tZjTGgH",
        "outputId": "143807b2-e20a-47f3-a87f-f5fd7906bb70"
      },
      "outputs": [],
      "source": [
        "# !unzip /content/drive/MyDrive/Cebra_data/2020_11_9_MV1_run_behavior.zip"
      ]
    },
    {
      "cell_type": "code",
      "execution_count": null,
      "metadata": {
        "colab": {
          "base_uri": "https://localhost:8080/"
        },
        "id": "Qkz4lBs6Ty4c",
        "outputId": "5b569ecd-e183-4a0a-aba0-9b8b98af1ffc"
      },
      "outputs": [],
      "source": [
        "!mkdir 2020_11_9_MV1_run_behavior\n"
      ]
    },
    {
      "cell_type": "code",
      "execution_count": null,
      "metadata": {
        "colab": {
          "base_uri": "https://localhost:8080/"
        },
        "id": "mhByVK6cT8iz",
        "outputId": "9ddfbb1a-e686-4bcd-81ec-c41af65cb558"
      },
      "outputs": [],
      "source": [
        "!mv *.tif 2020_11_9_MV1_run_behavior/"
      ]
    },
    {
      "cell_type": "code",
      "execution_count": null,
      "metadata": {},
      "outputs": [],
      "source": [
        "!conda init bash\n",
        "!conda activate cebra-env"
      ]
    },
    {
      "cell_type": "code",
      "execution_count": null,
      "metadata": {
        "colab": {
          "base_uri": "https://localhost:8080/"
        },
        "id": "mC2cXtSv85lj",
        "outputId": "f36a0368-c7e1-4c1f-e7fe-8a7470fda118"
      },
      "outputs": [],
      "source": [
        "import sys\n",
        "import numpy as np\n",
        "import matplotlib.pyplot as plt\n",
        "from cebra import CEBRA\n",
        "from PIL import Image\n",
        "import cv2\n",
        "import torch\n"
      ]
    },
    {
      "cell_type": "code",
      "execution_count": null,
      "metadata": {
        "colab": {
          "base_uri": "https://localhost:8080/"
        },
        "id": "DwbBjoxQArDJ",
        "outputId": "5cd18711-c1f1-4c24-97eb-62e41cd8b064"
      },
      "outputs": [],
      "source": [
        "if torch.cuda.is_available():\n",
        "    DEVICE = \"cuda\"\n",
        "else:\n",
        "    DEVICE = \"cpu\"\n",
        "print(DEVICE)"
      ]
    },
    {
      "cell_type": "code",
      "execution_count": null,
      "metadata": {
        "id": "BbPAm7I49j6R"
      },
      "outputs": [],
      "source": [
        "from logging import exception\n",
        "def process_brain(path):\n",
        "  try:\n",
        "    brain_seq = cv2.imreadmulti(path)[1]\n",
        "    brain_seq = np.array(brain_seq)\n",
        "    brain_mask = (np.sum(brain_seq, axis=0) > 0)\n",
        "    flat_seq = (brain_seq[:, brain_mask])\n",
        "    return flat_seq.astype(float)\n",
        "  except:\n",
        "    print(np.shape(brain_seq))\n"
      ]
    },
    {
      "cell_type": "code",
      "execution_count": null,
      "metadata": {
        "id": "qEY4KXs5ArDN"
      },
      "outputs": [],
      "source": []
    },
    {
      "cell_type": "code",
      "execution_count": null,
      "metadata": {
        "id": "H8cwkwhp95Hs"
      },
      "outputs": [],
      "source": [
        "# iterate through all brain data and process it\n",
        "#https://stackoverflow.com/questions/10377998/how-can-i-iterate-over-files-in-a-given-directory\n",
        "import os\n",
        "neural_data = []\n",
        "name_data = []\n",
        "behav_data = []\n",
        "\n",
        "filepath = \"2020_11_9_MV1_run_brain\"\n",
        "for file in os.listdir(filepath):\n",
        "     filename = os.fsdecode(file)\n",
        "     if filename.endswith(\".tif\"):\n",
        "         neural_data.append(process_brain(filepath + '/' + filename))\n",
        "         name_data.append(filename)\n",
        "         split_name = filename.split('_')\n",
        "         session_data = []\n",
        "         session_data.append(int(split_name[2].split('.')[0]))\n",
        "         session_data.append(int(split_name[1]))\n",
        "         behav_data.append(session_data)\n",
        "         continue\n",
        "     else:\n",
        "         continue"
      ]
    },
    {
      "cell_type": "code",
      "execution_count": null,
      "metadata": {
        "colab": {
          "base_uri": "https://localhost:8080/"
        },
        "id": "v4Ly9MXA_vIc",
        "outputId": "e4824854-55fe-4a0e-f0c8-d8b82bb1dd2f"
      },
      "outputs": [],
      "source": [
        "# using https://github.com/facebookresearch/dinov2\n",
        "# extract feature labels from images\n",
        "import torch\n"
      ]
    },
    {
      "cell_type": "code",
      "execution_count": null,
      "metadata": {},
      "outputs": [],
      "source": [
        "# from https://huggingface.co/facebook/dino-vits8\n",
        "# testing transformer\n",
        "from transformers import ViTImageProcessor, ViTModel\n",
        "from PIL import Image\n",
        "import requests\n",
        "\n",
        "url = 'http://images.cocodataset.org/val2017/000000039769.jpg'\n",
        "image = Image.open(requests.get(url, stream=True).raw)\n",
        "\n",
        "processor = ViTImageProcessor.from_pretrained('facebook/dino-vits8')\n",
        "model = ViTModel.from_pretrained('facebook/dino-vits8')\n",
        "device = \"cuda:0\" if torch.cuda.is_available() else \"cpu\"\n",
        "model = model.to(device)\n",
        "inputs = processor(images=image, return_tensors=\"pt\").to(device)\n",
        "outputs = model(**inputs)"
      ]
    },
    {
      "cell_type": "code",
      "execution_count": null,
      "metadata": {},
      "outputs": [],
      "source": [
        "np.size(outputs.pooler_output.cpu().detach().numpy())"
      ]
    },
    {
      "cell_type": "code",
      "execution_count": null,
      "metadata": {
        "id": "Y6aY7pfYejhd"
      },
      "outputs": [],
      "source": [
        "def get_features(model, image):\n",
        "  return model(**processor(images=image, return_tensors=\"pt\").to(device)).pooler_output.cpu().detach().numpy()"
      ]
    },
    {
      "cell_type": "code",
      "execution_count": null,
      "metadata": {
        "id": "ixFbbADmffwJ"
      },
      "outputs": [],
      "source": [
        "from PIL import Image\n",
        "import numpy as np\n",
        "\n",
        "def np_to_PIL(numpy_image):\n",
        "    return Image.fromarray(np.uint8(numpy_image)).convert('RGB')"
      ]
    },
    {
      "cell_type": "code",
      "execution_count": null,
      "metadata": {
        "id": "QfZSe2ecdVn6"
      },
      "outputs": [],
      "source": [
        "def process_behav(path):\n",
        "  beh_seq = cv2.imreadmulti(path)[1]\n",
        "  beh_seq = np.array(beh_seq)\n",
        "  feature_seq = []\n",
        "  for beh_feat in beh_seq:\n",
        "    feature_seq.append(get_features(model, np_to_PIL(beh_feat)))\n",
        "  return np.array(feature_seq)\n"
      ]
    },
    {
      "cell_type": "code",
      "execution_count": null,
      "metadata": {
        "id": "jKe21c8BegYm"
      },
      "outputs": [],
      "source": [
        "process_behav(\"2020_11_9_MV1_run_behavior/move_0001_0001.tif\")"
      ]
    },
    {
      "cell_type": "code",
      "execution_count": null,
      "metadata": {
        "id": "dJbYQ8lTLumQ"
      },
      "outputs": [],
      "source": [
        "behav_feature = []\n",
        "name_data_behav = []\n",
        "\n",
        "filepath = \"2020_11_9_MV1_run_behavior\"\n",
        "for file in os.listdir(filepath):\n",
        "     filename = os.fsdecode(file)\n",
        "     if filename.endswith(\".tif\"):\n",
        "         behav_feature.append(process_behav(filepath + '/' + filename))\n",
        "         name_data_behav.append(filename)\n",
        "         continue\n",
        "     else:\n",
        "         continue"
      ]
    },
    {
      "cell_type": "code",
      "execution_count": null,
      "metadata": {},
      "outputs": [],
      "source": [
        "import pickle\n",
        "# open a file, where you ant to store the data\n",
        "file = open('feature_labels', 'wb')\n",
        "\n",
        "# dump information to that file\n",
        "pickle.dump(behav_feature, file)\n",
        "\n",
        "# close the file\n",
        "file.close()"
      ]
    },
    {
      "cell_type": "code",
      "execution_count": null,
      "metadata": {},
      "outputs": [],
      "source": [
        "import pickle\n",
        "with open('feature_labels', 'rb') as f:\n",
        "    behav_feature = pickle.load(f)\n"
      ]
    },
    {
      "cell_type": "code",
      "execution_count": null,
      "metadata": {
        "id": "N45splYsCgtk"
      },
      "outputs": [],
      "source": [
        "out_dim = 8\n",
        "max_iterations = 10"
      ]
    },
    {
      "cell_type": "code",
      "execution_count": null,
      "metadata": {
        "id": "8S8G1TQrArDU"
      },
      "outputs": [],
      "source": [
        "multi_cebra_model = CEBRA(batch_size=128,\n",
        "                                output_dimension=out_dim,\n",
        "                                max_iterations=20000,\n",
        "                                verbose=True,\n",
        "                                temperature_mode=\"auto\",\n",
        "                                device = \"cuda_if_available\",\n",
        "                                max_adapt_iterations=10)"
      ]
    },
    {
      "cell_type": "code",
      "execution_count": null,
      "metadata": {},
      "outputs": [],
      "source": [
        "behav_data2 = []\n",
        "for data in behav_feature:\n",
        "    behav_data2.append(np.squeeze(data))\n",
        "behav_feature = behav_data2\n"
      ]
    },
    {
      "cell_type": "code",
      "execution_count": null,
      "metadata": {},
      "outputs": [],
      "source": [
        "#set aside 20% of data for validation\n",
        "neural_data_train = neural_data[:(int)(282 * 0.8)]\n",
        "behav_feature_train = behav_feature[:(int)(282 * 0.8)]\n",
        "print(len(neural_data_train))"
      ]
    },
    {
      "cell_type": "code",
      "execution_count": null,
      "metadata": {
        "colab": {
          "base_uri": "https://localhost:8080/",
          "height": 92
        },
        "id": "EwYWuiiM_7js",
        "outputId": "3fecfddf-beef-446a-8d06-0d984b48e5ed"
      },
      "outputs": [],
      "source": [
        "multi_cebra_model.fit(neural_data, behav_feature)\n",
        "multi_cebra_model.save(\"cebra_multi_model2.pt\")"
      ]
    },
    {
      "cell_type": "code",
      "execution_count": null,
      "metadata": {
        "colab": {
          "base_uri": "https://localhost:8080/"
        },
        "id": "hYu6FPDNFAkE",
        "outputId": "e5add620-ab11-4b46-c938-6c8ea138f82f"
      },
      "outputs": [],
      "source": [
        "print(np.shape(mock_behav[1]))\n",
        "np.shape(neural_data[1])"
      ]
    },
    {
      "cell_type": "code",
      "execution_count": null,
      "metadata": {
        "id": "yX_rzrVS__4b"
      },
      "outputs": [],
      "source": [
        "\n",
        "import cebra\n",
        "fig = plt.figure()\n",
        "\n",
        "ax1 = plt.subplot(141, projection='3d')\n",
        "ax2 = plt.subplot(142, projection='3d')\n",
        "index = 20\n",
        "for run, data in enumerate(zip(neural_data[:index], name_data[:index])):\n",
        "  is_move = True\n",
        "  if data[1].split('_')[0] == 'move':\n",
        "    is_move = True\n",
        "  else:\n",
        "    is_move = False\n",
        "  embedding = multi_cebra_model.transform(data[0], session_id=run)\n",
        "  if is_move:\n",
        "    ax1 = cebra.plot_embedding(embedding, ax=ax1, title='moving')\n",
        "  else:\n",
        "    ax2 = cebra.plot_embedding(embedding, ax=ax2, title = 'no move')\n",
        "\n",
        "plt.show()\n"
      ]
    },
    {
      "cell_type": "code",
      "execution_count": null,
      "metadata": {},
      "outputs": [],
      "source": [
        "fig = plt.figure(figsize=(5,5))\n",
        "ax = plt.subplot(111)\n",
        "\n",
        "ax = cebra.plot_loss(multi_cebra_model, color='deepskyblue', label='loss', ax=ax)\n",
        "plt.show()"
      ]
    },
    {
      "cell_type": "code",
      "execution_count": null,
      "metadata": {},
      "outputs": [],
      "source": [
        "from IPython.display import Video"
      ]
    },
    {
      "cell_type": "code",
      "execution_count": null,
      "metadata": {
        "id": "EdivBk4JGniQ"
      },
      "outputs": [],
      "source": [
        "import sklearn.manifold._t_sne as TSNE\n",
        "index = 1\n",
        "dino_tsne = TSNE.TSNE(n_components = 2)\n",
        "dino_tsne_viz = dino_tsne.fit_transform(behav_feature[index])\n",
        "fig = plt.figure(figsize = (5,5))\n",
        "plt.scatter(dino_tsne_viz[:,0], dino_tsne_viz[:,1], cmap = 'magma', c = np.arange(len(behav_feature[index])))\n",
        "plt.title(name_data[index])\n",
        "plt.axis('off')\n",
        "frameSize = (320,320)\n",
        "out = cv2.VideoWriter('output_video.mp4',cv2.VideoWriter_fourcc(*'XVID'), 30, frameSize)\n",
        "for image in image_data[index]:\n",
        "    out.write(image)\n",
        "Video(\"output_video.mp4\")"
      ]
    },
    {
      "cell_type": "code",
      "execution_count": null,
      "metadata": {},
      "outputs": [],
      "source": [
        "cv2.imshow(\"image\",image_data[0][2])\n",
        "k = cv2.waitKey(0)"
      ]
    }
  ],
  "metadata": {
    "accelerator": "GPU",
    "colab": {
      "gpuType": "T4",
      "provenance": []
    },
    "gpuClass": "standard",
    "kernelspec": {
      "display_name": "Python 3",
      "name": "python3"
    },
    "language_info": {
      "codemirror_mode": {
        "name": "ipython",
        "version": 3
      },
      "file_extension": ".py",
      "mimetype": "text/x-python",
      "name": "python",
      "nbconvert_exporter": "python",
      "pygments_lexer": "ipython3",
      "version": "3.11.3"
    }
  },
  "nbformat": 4,
  "nbformat_minor": 0
}
