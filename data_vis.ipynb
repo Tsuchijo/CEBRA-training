{
  "cells": [
    {
      "cell_type": "code",
      "execution_count": 1,
      "metadata": {
        "colab": {
          "base_uri": "https://localhost:8080/"
        },
        "id": "b1GmdSXwTsVO",
        "outputId": "7c0d1a14-041e-4648-a27e-43e2a80cb564"
      },
      "outputs": [],
      "source": [
        "# !pip install cebra\n",
        "# from google.colab import drive\n",
        "# drive.mount('/content/drive/')"
      ]
    },
    {
      "cell_type": "code",
      "execution_count": 2,
      "metadata": {
        "colab": {
          "base_uri": "https://localhost:8080/"
        },
        "id": "R-qbXJ7fUopx",
        "outputId": "300a005d-c69d-4f47-b804-56519089e2e9"
      },
      "outputs": [],
      "source": [
        "# !unzip /content/drive/MyDrive/Cebra_data/2020_11_9_MV1_run_brain.zip"
      ]
    },
    {
      "cell_type": "code",
      "execution_count": 3,
      "metadata": {
        "id": "B3rzGKc2TnI-"
      },
      "outputs": [],
      "source": [
        "import sys\n",
        "import numpy as np\n",
        "import matplotlib.pyplot as plt\n",
        "from cebra import CEBRA\n",
        "from PIL import Image\n",
        "import cv2\n",
        "import torch\n",
        "import pickle"
      ]
    },
    {
      "cell_type": "code",
      "execution_count": 4,
      "metadata": {
        "colab": {
          "base_uri": "https://localhost:8080/",
          "height": 186
        },
        "id": "Gjsda_m8TnJA",
        "outputId": "d560a3a4-f18c-4ca4-91ff-435c8638d58e"
      },
      "outputs": [],
      "source": [
        "with open('feature_labels', 'rb') as f:\n",
        "    behav_feature = pickle.load(f)"
      ]
    },
    {
      "cell_type": "code",
      "execution_count": 5,
      "metadata": {
        "id": "xv0CEqYOTnJB"
      },
      "outputs": [],
      "source": [
        "from logging import exception\n",
        "def process_brain(path):\n",
        "  try:\n",
        "    brain_seq = cv2.imreadmulti(path)[1]\n",
        "    brain_seq = np.array(brain_seq)\n",
        "    brain_mask = (np.sum(brain_seq, axis=0) > 0)\n",
        "    flat_seq = (brain_seq[:, brain_mask])\n",
        "    return flat_seq.astype(float)\n",
        "  except:\n",
        "    print(np.shape(brain_seq))"
      ]
    },
    {
      "cell_type": "code",
      "execution_count": 6,
      "metadata": {
        "id": "0PeihDPzTnJC"
      },
      "outputs": [],
      "source": [
        "# iterate through all brain data and process it\n",
        "#https://stackoverflow.com/questions/10377998/how-can-i-iterate-over-files-in-a-given-directory\n",
        "import os\n",
        "neural_data = []\n",
        "name_data = []\n",
        "behav_data = []\n",
        "\n",
        "filepath = \"2020_11_9_MV1_run_brain\"\n",
        "for iter, file in enumerate(os.listdir(filepath)):\n",
        "     filename = os.fsdecode(file)\n",
        "     if filename.endswith(\".tif\"):\n",
        "         neural_data.append(process_brain(filepath + '/' + filename))\n",
        "         name_data.append(filename)\n",
        "         split_name = filename.split('_')\n",
        "         session_data = []\n",
        "         session_data.append(int(split_name[2].split('.')[0]))\n",
        "         session_data.append(int(split_name[1]))\n",
        "         behav_data.append(session_data)\n",
        "        # for using low ram systems\n",
        "        #  if iter > 50:\n",
        "        #     break\n",
        "         continue\n",
        "     else:\n",
        "         continue"
      ]
    },
    {
      "cell_type": "code",
      "execution_count": null,
      "metadata": {},
      "outputs": [],
      "source": [
        "# split into training and validation set"
      ]
    },
    {
      "cell_type": "code",
      "execution_count": 7,
      "metadata": {
        "id": "9DE_45ZZfhWe"
      },
      "outputs": [
        {
          "ename": "FileNotFoundError",
          "evalue": "[Errno 2] No such file or directory: '2020_12_4_MV1_run_brain'",
          "output_type": "error",
          "traceback": [
            "\u001b[0;31m---------------------------------------------------------------------------\u001b[0m",
            "\u001b[0;31mFileNotFoundError\u001b[0m                         Traceback (most recent call last)",
            "Cell \u001b[0;32mIn[7], line 6\u001b[0m\n\u001b[1;32m      3\u001b[0m move_nomove_pred \u001b[38;5;241m=\u001b[39m []\n\u001b[1;32m      5\u001b[0m filepath \u001b[38;5;241m=\u001b[39m \u001b[38;5;124m\"\u001b[39m\u001b[38;5;124m2020_12_4_MV1_run_brain\u001b[39m\u001b[38;5;124m\"\u001b[39m\n\u001b[0;32m----> 6\u001b[0m \u001b[38;5;28;01mfor\u001b[39;00m \u001b[38;5;28miter\u001b[39m, file \u001b[38;5;129;01min\u001b[39;00m \u001b[38;5;28menumerate\u001b[39m(\u001b[43mos\u001b[49m\u001b[38;5;241;43m.\u001b[39;49m\u001b[43mlistdir\u001b[49m\u001b[43m(\u001b[49m\u001b[43mfilepath\u001b[49m\u001b[43m)\u001b[49m):\n\u001b[1;32m      7\u001b[0m      filename \u001b[38;5;241m=\u001b[39m os\u001b[38;5;241m.\u001b[39mfsdecode(file)\n\u001b[1;32m      8\u001b[0m      \u001b[38;5;28;01mif\u001b[39;00m filename\u001b[38;5;241m.\u001b[39mendswith(\u001b[38;5;124m\"\u001b[39m\u001b[38;5;124m.tif\u001b[39m\u001b[38;5;124m\"\u001b[39m):\n",
            "\u001b[0;31mFileNotFoundError\u001b[0m: [Errno 2] No such file or directory: '2020_12_4_MV1_run_brain'"
          ]
        }
      ],
      "source": [
        "# neural_data_pred = []\n",
        "# name_data_pred = []\n",
        "# move_nomove_pred = []\n",
        "\n",
        "# filepath = \"2020_12_4_MV1_run_brain\"\n",
        "# for iter, file in enumerate(os.listdir(filepath)):\n",
        "#      filename = os.fsdecode(file)\n",
        "#      if filename.endswith(\".tif\"):\n",
        "#          neural_data_pred.append(process_brain(filepath + '/' + filename))\n",
        "#          name_data_pred.append(filename)\n",
        "#          split_name = filename.split('_')\n",
        "#          if split_name[0] == 'move':\n",
        "#           move_nomove_pred.append(np.ones_like(neural_data_pred[-1]))\n",
        "#          else:\n",
        "#           move_nomove_pred.append(np.zeros_like(neural_data_pred[-1]))\n",
        "#         #  if iter > 100:\n",
        "#         #     break\n",
        "#          continue\n",
        "#      else:\n",
        "#          continue"
      ]
    },
    {
      "cell_type": "code",
      "execution_count": null,
      "metadata": {
        "id": "malIKJgdTnJD"
      },
      "outputs": [],
      "source": [
        "multi_cebra_model = CEBRA.load('/content/drive/MyDrive/Cebra_data/cebra_multi_model.pt')"
      ]
    },
    {
      "cell_type": "code",
      "execution_count": null,
      "metadata": {
        "id": "pmx1qMnrTnJE"
      },
      "outputs": [],
      "source": [
        "image_data = []\n",
        "filepath = \"2020_12_4_MV1_run_behavior\"\n",
        "for file in os.listdir(filepath):\n",
        "     filename = os.fsdecode(file)\n",
        "     if filename.endswith(\".tif\"):\n",
        "         image_data.append(cv2.imreadmulti(filepath + '/' + filename)[1])\n",
        "         continue\n",
        "     else:\n",
        "         continue"
      ]
    },
    {
      "cell_type": "code",
      "execution_count": null,
      "metadata": {
        "id": "1FTZZMBtTnJE"
      },
      "outputs": [],
      "source": [
        "\n",
        "import cebra\n",
        "fig = plt.figure()\n",
        "move_nomove = []\n",
        "ax1 = plt.subplot(121, projection='3d')\n",
        "ax2 = plt.subplot(122, projection='3d')\n",
        "index = 20\n",
        "for run, data in enumerate(zip(neural_data, name_data)):\n",
        "  is_move = True\n",
        "  if data[1].split('_')[0] == 'move':\n",
        "    is_move = True\n",
        "    move_nomove.append(np.ones_like(data[0][:, 1]))\n",
        "  else:\n",
        "    is_move = False\n",
        "    move_nomove.append(np.zeros_like(data[0][:, 1]))\n",
        "  try:\n",
        "    embedding = multi_cebra_model.transform(data[0], session_id=run)\n",
        "  except:\n",
        "    print(run)\n",
        "    move_nomove.pop()\n",
        "  if is_move:\n",
        "    ax1 = cebra.plot_embedding(embedding, idx_order=(5,6, 7), ax=ax1, title='moving')\n",
        "  else:\n",
        "    ax2 = cebra.plot_embedding(embedding, ax=ax2, title = 'no move')\n",
        "\n",
        "plt.show()"
      ]
    },
    {
      "cell_type": "code",
      "execution_count": null,
      "metadata": {
        "id": "nxwzcDpqTnJF"
      },
      "outputs": [],
      "source": [
        "move_embedding_train = []\n",
        "for run, data in enumerate(neural_data):\n",
        "  try:\n",
        "    move_embedding_train.append(multi_cebra_model.transform(data, session_id=run))\n",
        "  except:\n",
        "    print(run)"
      ]
    },
    {
      "cell_type": "code",
      "execution_count": null,
      "metadata": {
        "id": "dcnIcwRHgDE3"
      },
      "outputs": [],
      "source": [
        "move_embedding_pred = []\n",
        "for run, data in enumerate(neural_data_pred):\n",
        "  try:\n",
        "    move_embedding_pred.append(multi_cebra_model.transform(data, session_id=run))\n",
        "  except:\n",
        "    print(run)"
      ]
    },
    {
      "cell_type": "code",
      "execution_count": null,
      "metadata": {
        "id": "UJrMtSs4TnJG"
      },
      "outputs": [],
      "source": [
        "move_embeddings_flat = move_embedding_train[0]\n",
        "move_move_nomove_flat = move_nomove[0]\n",
        "for data in zip(move_embedding_train[1::], move_nomove[1::]):\n",
        "    move_embeddings_flat = np.concatenate((move_embeddings_flat, data[0]))\n",
        "    move_move_nomove_flat = np.concatenate((move_move_nomove_flat, data[1]))"
      ]
    },
    {
      "cell_type": "code",
      "execution_count": null,
      "metadata": {
        "id": "hPtrXa26f20n"
      },
      "outputs": [],
      "source": [
        "move_embeddings_flat_pred = move_embedding_pred[0]\n",
        "move_move_nomove_flat_pred = move_nomove[0]\n",
        "for data in zip(move_embedding_train[1::], move_nomove[1::]):\n",
        "    move_embeddings_flat_pred = np.concatenate((move_embeddings_flat, data[0]))\n",
        "    move_move_nomove_flat_pred = np.concatenate((move_move_nomove_flat, data[1]))"
      ]
    },
    {
      "cell_type": "code",
      "execution_count": null,
      "metadata": {
        "id": "q3J2xAp5TnJH"
      },
      "outputs": [],
      "source": [
        "print(np.shape(move_embeddings_flat))\n",
        "print(np.shape(move_move_nomove_flat))\n",
        "print(np.shape(move_embeddings_flat_pred))\n",
        "print(np.shape(move_move_nomove_flat_pred))"
      ]
    },
    {
      "cell_type": "code",
      "execution_count": null,
      "metadata": {
        "id": "LRq6fAa0TnJI"
      },
      "outputs": [],
      "source": [
        "import sklearn.metrics\n",
        "move_decoder = cebra.KNNDecoder(n_neighbors=36, metric=\"cosine\")\n",
        "move_decoder.fit(move_embeddings_flat, move_move_nomove_flat)\n",
        "move_pred = move_decoder.predict(move_embeddings_flat_pred)\n",
        "test_score = sklearn.metrics.r2_score(move_move_nomove_flat_pred, move_pred)\n"
      ]
    },
    {
      "cell_type": "code",
      "execution_count": null,
      "metadata": {
        "id": "Z34NsS2XTnJI"
      },
      "outputs": [],
      "source": [
        "test_score"
      ]
    },
    {
      "cell_type": "code",
      "execution_count": null,
      "metadata": {
        "id": "hzFIbIGKct3B"
      },
      "outputs": [],
      "source": [
        "print(np.sum(move_move_nomove_flat) / np.size(move_move_nomove_flat))"
      ]
    },
    {
      "cell_type": "code",
      "execution_count": null,
      "metadata": {
        "id": "kdi9Jduob2xc"
      },
      "outputs": [],
      "source": [
        "print(np.sum(np.ones_like(move_pred) * ((np.array(move_pred) * np.array(move_move_nomove_flat_pred)) > 0.5)) / np.sum(move_move_nomove_flat_pred))\n"
      ]
    },
    {
      "cell_type": "code",
      "execution_count": null,
      "metadata": {
        "id": "u1FvOP6FTnJJ"
      },
      "outputs": [],
      "source": [
        "fig = plt.figure(figsize=(5,5))\n",
        "ax = plt.subplot(111)\n",
        "\n",
        "ax = cebra.plot_loss(multi_cebra_model, color='deepskyblue', label='loss', ax=ax)\n",
        "plt.show()"
      ]
    }
  ],
  "metadata": {
    "accelerator": "GPU",
    "colab": {
      "gpuType": "T4",
      "provenance": []
    },
    "interpreter": {
      "hash": "5e1be78df5b73969d41dcc5faf663bbd5fade112ca15e405e187bc7e9386a53f"
    },
    "kernelspec": {
      "display_name": "Python 3",
      "name": "python3"
    },
    "language_info": {
      "codemirror_mode": {
        "name": "ipython",
        "version": 3
      },
      "file_extension": ".py",
      "mimetype": "text/x-python",
      "name": "python",
      "nbconvert_exporter": "python",
      "pygments_lexer": "ipython3",
      "version": "3.11.3"
    },
    "orig_nbformat": 4
  },
  "nbformat": 4,
  "nbformat_minor": 0
}
