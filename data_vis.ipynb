{
  "cells": [
    {
      "cell_type": "code",
      "source": [
        "!pip install cebra\n",
        "from google.colab import drive\n",
        "drive.mount('/content/drive/')"
      ],
      "metadata": {
        "id": "b1GmdSXwTsVO",
        "outputId": "7c0d1a14-041e-4648-a27e-43e2a80cb564",
        "colab": {
          "base_uri": "https://localhost:8080/"
        }
      },
      "execution_count": 1,
      "outputs": [
        {
          "output_type": "stream",
          "name": "stdout",
          "text": [
            "Looking in indexes: https://pypi.org/simple, https://us-python.pkg.dev/colab-wheels/public/simple/\n",
            "Collecting cebra\n",
            "  Downloading cebra-0.2.0-py2.py3-none-any.whl (171 kB)\n",
            "\u001b[2K     \u001b[90m━━━━━━━━━━━━━━━━━━━━━━━━━━━━━━━━━━━━━━━\u001b[0m \u001b[32m171.3/171.3 kB\u001b[0m \u001b[31m4.1 MB/s\u001b[0m eta \u001b[36m0:00:00\u001b[0m\n",
            "\u001b[?25hRequirement already satisfied: joblib in /usr/local/lib/python3.10/dist-packages (from cebra) (1.2.0)\n",
            "Collecting literate-dataclasses (from cebra)\n",
            "  Downloading literate_dataclasses-0.0.6-py3-none-any.whl (5.0 kB)\n",
            "Requirement already satisfied: scikit-learn in /usr/local/lib/python3.10/dist-packages (from cebra) (1.2.2)\n",
            "Requirement already satisfied: scipy in /usr/local/lib/python3.10/dist-packages (from cebra) (1.10.1)\n",
            "Requirement already satisfied: torch in /usr/local/lib/python3.10/dist-packages (from cebra) (2.0.1+cu118)\n",
            "Requirement already satisfied: tqdm in /usr/local/lib/python3.10/dist-packages (from cebra) (4.65.0)\n",
            "Requirement already satisfied: matplotlib in /usr/local/lib/python3.10/dist-packages (from cebra) (3.7.1)\n",
            "Requirement already satisfied: requests in /usr/local/lib/python3.10/dist-packages (from cebra) (2.27.1)\n",
            "Requirement already satisfied: contourpy>=1.0.1 in /usr/local/lib/python3.10/dist-packages (from matplotlib->cebra) (1.0.7)\n",
            "Requirement already satisfied: cycler>=0.10 in /usr/local/lib/python3.10/dist-packages (from matplotlib->cebra) (0.11.0)\n",
            "Requirement already satisfied: fonttools>=4.22.0 in /usr/local/lib/python3.10/dist-packages (from matplotlib->cebra) (4.39.3)\n",
            "Requirement already satisfied: kiwisolver>=1.0.1 in /usr/local/lib/python3.10/dist-packages (from matplotlib->cebra) (1.4.4)\n",
            "Requirement already satisfied: numpy>=1.20 in /usr/local/lib/python3.10/dist-packages (from matplotlib->cebra) (1.22.4)\n",
            "Requirement already satisfied: packaging>=20.0 in /usr/local/lib/python3.10/dist-packages (from matplotlib->cebra) (23.1)\n",
            "Requirement already satisfied: pillow>=6.2.0 in /usr/local/lib/python3.10/dist-packages (from matplotlib->cebra) (8.4.0)\n",
            "Requirement already satisfied: pyparsing>=2.3.1 in /usr/local/lib/python3.10/dist-packages (from matplotlib->cebra) (3.0.9)\n",
            "Requirement already satisfied: python-dateutil>=2.7 in /usr/local/lib/python3.10/dist-packages (from matplotlib->cebra) (2.8.2)\n",
            "Requirement already satisfied: urllib3<1.27,>=1.21.1 in /usr/local/lib/python3.10/dist-packages (from requests->cebra) (1.26.15)\n",
            "Requirement already satisfied: certifi>=2017.4.17 in /usr/local/lib/python3.10/dist-packages (from requests->cebra) (2022.12.7)\n",
            "Requirement already satisfied: charset-normalizer~=2.0.0 in /usr/local/lib/python3.10/dist-packages (from requests->cebra) (2.0.12)\n",
            "Requirement already satisfied: idna<4,>=2.5 in /usr/local/lib/python3.10/dist-packages (from requests->cebra) (3.4)\n",
            "Requirement already satisfied: threadpoolctl>=2.0.0 in /usr/local/lib/python3.10/dist-packages (from scikit-learn->cebra) (3.1.0)\n",
            "Requirement already satisfied: filelock in /usr/local/lib/python3.10/dist-packages (from torch->cebra) (3.12.0)\n",
            "Requirement already satisfied: typing-extensions in /usr/local/lib/python3.10/dist-packages (from torch->cebra) (4.5.0)\n",
            "Requirement already satisfied: sympy in /usr/local/lib/python3.10/dist-packages (from torch->cebra) (1.11.1)\n",
            "Requirement already satisfied: networkx in /usr/local/lib/python3.10/dist-packages (from torch->cebra) (3.1)\n",
            "Requirement already satisfied: jinja2 in /usr/local/lib/python3.10/dist-packages (from torch->cebra) (3.1.2)\n",
            "Requirement already satisfied: triton==2.0.0 in /usr/local/lib/python3.10/dist-packages (from torch->cebra) (2.0.0)\n",
            "Requirement already satisfied: cmake in /usr/local/lib/python3.10/dist-packages (from triton==2.0.0->torch->cebra) (3.25.2)\n",
            "Requirement already satisfied: lit in /usr/local/lib/python3.10/dist-packages (from triton==2.0.0->torch->cebra) (16.0.5)\n",
            "Requirement already satisfied: six>=1.5 in /usr/local/lib/python3.10/dist-packages (from python-dateutil>=2.7->matplotlib->cebra) (1.16.0)\n",
            "Requirement already satisfied: MarkupSafe>=2.0 in /usr/local/lib/python3.10/dist-packages (from jinja2->torch->cebra) (2.1.2)\n",
            "Requirement already satisfied: mpmath>=0.19 in /usr/local/lib/python3.10/dist-packages (from sympy->torch->cebra) (1.3.0)\n",
            "Installing collected packages: literate-dataclasses, cebra\n",
            "Successfully installed cebra-0.2.0 literate-dataclasses-0.0.6\n",
            "Mounted at /content/drive/\n"
          ]
        }
      ]
    },
    {
      "cell_type": "code",
      "source": [
        "!unzip /content/drive/MyDrive/Cebra_data/2020_11_9_MV1_run_brain.zip"
      ],
      "metadata": {
        "id": "R-qbXJ7fUopx",
        "outputId": "300a005d-c69d-4f47-b804-56519089e2e9",
        "colab": {
          "base_uri": "https://localhost:8080/"
        }
      },
      "execution_count": 55,
      "outputs": [
        {
          "output_type": "stream",
          "name": "stdout",
          "text": [
            "Archive:  /content/drive/MyDrive/Cebra_data/2020_11_9_MV1_run_brain.zip\n",
            "   creating: 2020_11_9_MV1_run_brain/\n",
            "  inflating: 2020_11_9_MV1_run_brain/nomove_0001_0001.tif  \n",
            "  inflating: 2020_11_9_MV1_run_brain/nomove_0001_0002.tif  \n",
            "  inflating: 2020_11_9_MV1_run_brain/nomove_0001_0003.tif  \n",
            "  inflating: 2020_11_9_MV1_run_brain/nomove_0001_0004.tif  \n",
            "  inflating: 2020_11_9_MV1_run_brain/nomove_0001_0005.tif  \n",
            "  inflating: 2020_11_9_MV1_run_brain/move_0001_0001.tif  \n",
            "  inflating: 2020_11_9_MV1_run_brain/move_0001_0002.tif  \n",
            "  inflating: 2020_11_9_MV1_run_brain/move_0001_0003.tif  \n",
            "  inflating: 2020_11_9_MV1_run_brain/move_0001_0004.tif  \n",
            "  inflating: 2020_11_9_MV1_run_brain/move_0001_0005.tif  \n",
            "  inflating: 2020_11_9_MV1_run_brain/move_0002_0001.tif  \n",
            "  inflating: 2020_11_9_MV1_run_brain/move_0002_0002.tif  \n",
            "  inflating: 2020_11_9_MV1_run_brain/move_0002_0003.tif  \n",
            "  inflating: 2020_11_9_MV1_run_brain/move_0002_0004.tif  \n",
            "  inflating: 2020_11_9_MV1_run_brain/move_0002_0005.tif  \n",
            "  inflating: 2020_11_9_MV1_run_brain/move_0003_0001.tif  \n",
            "  inflating: 2020_11_9_MV1_run_brain/move_0003_0002.tif  \n",
            "  inflating: 2020_11_9_MV1_run_brain/move_0003_0003.tif  \n",
            "  inflating: 2020_11_9_MV1_run_brain/move_0003_0004.tif  \n",
            "  inflating: 2020_11_9_MV1_run_brain/nomove_0004_0001.tif  \n",
            "  inflating: 2020_11_9_MV1_run_brain/nomove_0004_0002.tif  \n",
            "  inflating: 2020_11_9_MV1_run_brain/nomove_0004_0003.tif  \n",
            "  inflating: 2020_11_9_MV1_run_brain/move_0004_0001.tif  \n",
            "  inflating: 2020_11_9_MV1_run_brain/move_0004_0002.tif  \n",
            "  inflating: 2020_11_9_MV1_run_brain/move_0004_0003.tif  \n",
            "  inflating: 2020_11_9_MV1_run_brain/move_0004_0004.tif  \n",
            "  inflating: 2020_11_9_MV1_run_brain/nomove_0005_0001.tif  \n",
            "  inflating: 2020_11_9_MV1_run_brain/nomove_0005_0002.tif  \n",
            "  inflating: 2020_11_9_MV1_run_brain/nomove_0005_0003.tif  \n",
            "  inflating: 2020_11_9_MV1_run_brain/nomove_0005_0004.tif  \n",
            "  inflating: 2020_11_9_MV1_run_brain/nomove_0005_0005.tif  \n",
            "  inflating: 2020_11_9_MV1_run_brain/nomove_0005_0006.tif  \n",
            "  inflating: 2020_11_9_MV1_run_brain/nomove_0005_0007.tif  \n",
            "  inflating: 2020_11_9_MV1_run_brain/nomove_0005_0008.tif  \n",
            "  inflating: 2020_11_9_MV1_run_brain/nomove_0005_0009.tif  \n",
            "  inflating: 2020_11_9_MV1_run_brain/nomove_0005_0010.tif  \n",
            "  inflating: 2020_11_9_MV1_run_brain/nomove_0006_0001.tif  \n",
            "  inflating: 2020_11_9_MV1_run_brain/nomove_0006_0002.tif  \n",
            "  inflating: 2020_11_9_MV1_run_brain/nomove_0006_0003.tif  \n",
            "  inflating: 2020_11_9_MV1_run_brain/nomove_0006_0004.tif  \n",
            "  inflating: 2020_11_9_MV1_run_brain/nomove_0006_0005.tif  \n",
            "  inflating: 2020_11_9_MV1_run_brain/nomove_0006_0006.tif  \n",
            "  inflating: 2020_11_9_MV1_run_brain/move_0006_0001.tif  \n",
            "  inflating: 2020_11_9_MV1_run_brain/move_0006_0002.tif  \n",
            "  inflating: 2020_11_9_MV1_run_brain/move_0006_0003.tif  \n",
            "  inflating: 2020_11_9_MV1_run_brain/move_0006_0004.tif  \n",
            "  inflating: 2020_11_9_MV1_run_brain/nomove_0007_0001.tif  \n",
            "  inflating: 2020_11_9_MV1_run_brain/nomove_0007_0002.tif  \n",
            "  inflating: 2020_11_9_MV1_run_brain/nomove_0007_0003.tif  \n",
            "  inflating: 2020_11_9_MV1_run_brain/nomove_0007_0004.tif  \n",
            "  inflating: 2020_11_9_MV1_run_brain/move_0007_0001.tif  \n",
            "  inflating: 2020_11_9_MV1_run_brain/move_0007_0002.tif  \n",
            "  inflating: 2020_11_9_MV1_run_brain/move_0007_0003.tif  \n",
            "  inflating: 2020_11_9_MV1_run_brain/move_0007_0004.tif  \n",
            "  inflating: 2020_11_9_MV1_run_brain/move_0007_0005.tif  \n",
            "  inflating: 2020_11_9_MV1_run_brain/nomove_0008_0001.tif  \n",
            "  inflating: 2020_11_9_MV1_run_brain/nomove_0008_0002.tif  \n",
            "  inflating: 2020_11_9_MV1_run_brain/nomove_0008_0003.tif  \n",
            "  inflating: 2020_11_9_MV1_run_brain/nomove_0008_0004.tif  \n",
            "  inflating: 2020_11_9_MV1_run_brain/nomove_0008_0005.tif  \n",
            "  inflating: 2020_11_9_MV1_run_brain/nomove_0009_0001.tif  \n",
            "  inflating: 2020_11_9_MV1_run_brain/nomove_0009_0002.tif  \n",
            "  inflating: 2020_11_9_MV1_run_brain/nomove_0009_0003.tif  \n",
            "  inflating: 2020_11_9_MV1_run_brain/nomove_0009_0004.tif  \n",
            "  inflating: 2020_11_9_MV1_run_brain/nomove_0009_0005.tif  \n",
            "  inflating: 2020_11_9_MV1_run_brain/nomove_0009_0006.tif  \n",
            "  inflating: 2020_11_9_MV1_run_brain/nomove_0009_0007.tif  \n",
            "  inflating: 2020_11_9_MV1_run_brain/nomove_0010_0001.tif  \n",
            "  inflating: 2020_11_9_MV1_run_brain/nomove_0010_0002.tif  \n",
            "  inflating: 2020_11_9_MV1_run_brain/nomove_0010_0003.tif  \n",
            "  inflating: 2020_11_9_MV1_run_brain/nomove_0010_0004.tif  \n",
            "  inflating: 2020_11_9_MV1_run_brain/nomove_0011_0001.tif  \n",
            "  inflating: 2020_11_9_MV1_run_brain/nomove_0012_0001.tif  \n",
            "  inflating: 2020_11_9_MV1_run_brain/nomove_0012_0002.tif  \n",
            "  inflating: 2020_11_9_MV1_run_brain/nomove_0012_0003.tif  \n",
            "  inflating: 2020_11_9_MV1_run_brain/nomove_0012_0004.tif  \n",
            "  inflating: 2020_11_9_MV1_run_brain/nomove_0012_0005.tif  \n",
            "  inflating: 2020_11_9_MV1_run_brain/move_0012_0001.tif  \n",
            "  inflating: 2020_11_9_MV1_run_brain/move_0012_0002.tif  \n",
            "  inflating: 2020_11_9_MV1_run_brain/move_0012_0003.tif  \n",
            "  inflating: 2020_11_9_MV1_run_brain/nomove_0013_0001.tif  \n",
            "  inflating: 2020_11_9_MV1_run_brain/nomove_0013_0002.tif  \n",
            "  inflating: 2020_11_9_MV1_run_brain/nomove_0013_0003.tif  \n",
            "  inflating: 2020_11_9_MV1_run_brain/nomove_0013_0004.tif  \n",
            "  inflating: 2020_11_9_MV1_run_brain/move_0013_0001.tif  \n",
            "  inflating: 2020_11_9_MV1_run_brain/move_0013_0002.tif  \n",
            "  inflating: 2020_11_9_MV1_run_brain/nomove_0014_0001.tif  \n",
            "  inflating: 2020_11_9_MV1_run_brain/nomove_0014_0002.tif  \n",
            "  inflating: 2020_11_9_MV1_run_brain/nomove_0014_0003.tif  \n",
            "  inflating: 2020_11_9_MV1_run_brain/nomove_0014_0004.tif  \n",
            "  inflating: 2020_11_9_MV1_run_brain/nomove_0015_0001.tif  \n",
            "  inflating: 2020_11_9_MV1_run_brain/nomove_0015_0002.tif  \n",
            "  inflating: 2020_11_9_MV1_run_brain/nomove_0015_0003.tif  \n",
            "  inflating: 2020_11_9_MV1_run_brain/nomove_0015_0004.tif  \n",
            "  inflating: 2020_11_9_MV1_run_brain/nomove_0015_0005.tif  \n",
            "  inflating: 2020_11_9_MV1_run_brain/nomove_0015_0006.tif  \n",
            "  inflating: 2020_11_9_MV1_run_brain/nomove_0015_0007.tif  \n",
            "  inflating: 2020_11_9_MV1_run_brain/nomove_0016_0001.tif  \n",
            "  inflating: 2020_11_9_MV1_run_brain/nomove_0016_0002.tif  \n",
            "  inflating: 2020_11_9_MV1_run_brain/nomove_0016_0003.tif  \n",
            "  inflating: 2020_11_9_MV1_run_brain/nomove_0016_0004.tif  \n",
            "  inflating: 2020_11_9_MV1_run_brain/nomove_0017_0001.tif  \n",
            "  inflating: 2020_11_9_MV1_run_brain/nomove_0017_0002.tif  \n",
            "  inflating: 2020_11_9_MV1_run_brain/nomove_0017_0003.tif  \n",
            "  inflating: 2020_11_9_MV1_run_brain/nomove_0017_0004.tif  \n",
            "  inflating: 2020_11_9_MV1_run_brain/nomove_0018_0001.tif  \n",
            "  inflating: 2020_11_9_MV1_run_brain/nomove_0018_0002.tif  \n",
            "  inflating: 2020_11_9_MV1_run_brain/nomove_0018_0003.tif  \n",
            "  inflating: 2020_11_9_MV1_run_brain/nomove_0018_0004.tif  \n",
            "  inflating: 2020_11_9_MV1_run_brain/move_0018_0001.tif  \n",
            "  inflating: 2020_11_9_MV1_run_brain/move_0018_0002.tif  \n",
            "  inflating: 2020_11_9_MV1_run_brain/nomove_0019_0001.tif  \n",
            "  inflating: 2020_11_9_MV1_run_brain/move_0019_0001.tif  \n",
            "  inflating: 2020_11_9_MV1_run_brain/move_0019_0002.tif  \n",
            "  inflating: 2020_11_9_MV1_run_brain/move_0019_0003.tif  \n",
            "  inflating: 2020_11_9_MV1_run_brain/move_0019_0004.tif  \n",
            "  inflating: 2020_11_9_MV1_run_brain/move_0019_0005.tif  \n",
            "  inflating: 2020_11_9_MV1_run_brain/move_0019_0006.tif  \n",
            "  inflating: 2020_11_9_MV1_run_brain/move_0019_0007.tif  \n",
            "  inflating: 2020_11_9_MV1_run_brain/move_0019_0008.tif  \n",
            "  inflating: 2020_11_9_MV1_run_brain/move_0020_0001.tif  \n",
            "  inflating: 2020_11_9_MV1_run_brain/move_0020_0002.tif  \n",
            "  inflating: 2020_11_9_MV1_run_brain/nomove_0021_0001.tif  \n",
            "  inflating: 2020_11_9_MV1_run_brain/nomove_0021_0002.tif  \n",
            "  inflating: 2020_11_9_MV1_run_brain/nomove_0021_0003.tif  \n",
            "  inflating: 2020_11_9_MV1_run_brain/nomove_0021_0004.tif  \n",
            "  inflating: 2020_11_9_MV1_run_brain/nomove_0021_0005.tif  \n",
            "  inflating: 2020_11_9_MV1_run_brain/nomove_0021_0006.tif  \n",
            "  inflating: 2020_11_9_MV1_run_brain/move_0021_0001.tif  \n",
            "  inflating: 2020_11_9_MV1_run_brain/move_0021_0002.tif  \n",
            "  inflating: 2020_11_9_MV1_run_brain/nomove_0022_0001.tif  \n",
            "  inflating: 2020_11_9_MV1_run_brain/nomove_0022_0002.tif  \n",
            "  inflating: 2020_11_9_MV1_run_brain/nomove_0022_0003.tif  \n",
            "  inflating: 2020_11_9_MV1_run_brain/nomove_0022_0004.tif  \n",
            "  inflating: 2020_11_9_MV1_run_brain/nomove_0023_0001.tif  \n",
            "  inflating: 2020_11_9_MV1_run_brain/nomove_0023_0002.tif  \n",
            "  inflating: 2020_11_9_MV1_run_brain/nomove_0023_0003.tif  \n",
            "  inflating: 2020_11_9_MV1_run_brain/nomove_0024_0001.tif  \n",
            "  inflating: 2020_11_9_MV1_run_brain/nomove_0024_0002.tif  \n",
            "  inflating: 2020_11_9_MV1_run_brain/nomove_0024_0003.tif  \n",
            "  inflating: 2020_11_9_MV1_run_brain/nomove_0024_0004.tif  \n",
            "  inflating: 2020_11_9_MV1_run_brain/nomove_0025_0001.tif  \n",
            "  inflating: 2020_11_9_MV1_run_brain/nomove_0025_0002.tif  \n",
            "  inflating: 2020_11_9_MV1_run_brain/nomove_0025_0003.tif  \n",
            "  inflating: 2020_11_9_MV1_run_brain/nomove_0025_0004.tif  \n",
            "  inflating: 2020_11_9_MV1_run_brain/nomove_0025_0005.tif  \n",
            "  inflating: 2020_11_9_MV1_run_brain/nomove_0026_0001.tif  \n",
            "  inflating: 2020_11_9_MV1_run_brain/nomove_0026_0002.tif  \n",
            "  inflating: 2020_11_9_MV1_run_brain/nomove_0026_0003.tif  \n",
            "  inflating: 2020_11_9_MV1_run_brain/nomove_0027_0001.tif  \n",
            "  inflating: 2020_11_9_MV1_run_brain/nomove_0027_0002.tif  \n",
            "  inflating: 2020_11_9_MV1_run_brain/nomove_0027_0003.tif  \n",
            "  inflating: 2020_11_9_MV1_run_brain/nomove_0028_0001.tif  \n",
            "  inflating: 2020_11_9_MV1_run_brain/nomove_0028_0002.tif  \n",
            "  inflating: 2020_11_9_MV1_run_brain/nomove_0028_0003.tif  \n",
            "  inflating: 2020_11_9_MV1_run_brain/nomove_0028_0004.tif  \n",
            "  inflating: 2020_11_9_MV1_run_brain/nomove_0028_0005.tif  \n",
            "  inflating: 2020_11_9_MV1_run_brain/nomove_0028_0006.tif  \n",
            "  inflating: 2020_11_9_MV1_run_brain/nomove_0029_0001.tif  \n",
            "  inflating: 2020_11_9_MV1_run_brain/nomove_0029_0002.tif  \n",
            "  inflating: 2020_11_9_MV1_run_brain/nomove_0029_0003.tif  \n",
            "  inflating: 2020_11_9_MV1_run_brain/move_0029_0001.tif  \n",
            "  inflating: 2020_11_9_MV1_run_brain/nomove_0030_0001.tif  \n",
            "  inflating: 2020_11_9_MV1_run_brain/nomove_0030_0002.tif  \n",
            "  inflating: 2020_11_9_MV1_run_brain/nomove_0030_0003.tif  \n",
            "  inflating: 2020_11_9_MV1_run_brain/nomove_0031_0001.tif  \n",
            "  inflating: 2020_11_9_MV1_run_brain/nomove_0031_0002.tif  \n",
            "  inflating: 2020_11_9_MV1_run_brain/nomove_0031_0003.tif  \n",
            "  inflating: 2020_11_9_MV1_run_brain/nomove_0032_0001.tif  \n",
            "  inflating: 2020_11_9_MV1_run_brain/nomove_0032_0002.tif  \n",
            "  inflating: 2020_11_9_MV1_run_brain/nomove_0032_0003.tif  \n",
            "  inflating: 2020_11_9_MV1_run_brain/nomove_0033_0001.tif  \n",
            "  inflating: 2020_11_9_MV1_run_brain/nomove_0033_0002.tif  \n",
            "  inflating: 2020_11_9_MV1_run_brain/nomove_0034_0001.tif  \n",
            "  inflating: 2020_11_9_MV1_run_brain/nomove_0034_0002.tif  \n",
            "  inflating: 2020_11_9_MV1_run_brain/nomove_0034_0003.tif  \n",
            "  inflating: 2020_11_9_MV1_run_brain/nomove_0034_0004.tif  \n",
            "  inflating: 2020_11_9_MV1_run_brain/move_0034_0001.tif  \n",
            "  inflating: 2020_11_9_MV1_run_brain/move_0034_0002.tif  \n",
            "  inflating: 2020_11_9_MV1_run_brain/move_0034_0003.tif  \n",
            "  inflating: 2020_11_9_MV1_run_brain/move_0034_0004.tif  \n",
            "  inflating: 2020_11_9_MV1_run_brain/nomove_0035_0001.tif  \n",
            "  inflating: 2020_11_9_MV1_run_brain/nomove_0035_0002.tif  \n",
            "  inflating: 2020_11_9_MV1_run_brain/nomove_0035_0003.tif  \n",
            "  inflating: 2020_11_9_MV1_run_brain/nomove_0035_0004.tif  \n",
            "  inflating: 2020_11_9_MV1_run_brain/nomove_0035_0005.tif  \n",
            "  inflating: 2020_11_9_MV1_run_brain/nomove_0036_0001.tif  \n",
            "  inflating: 2020_11_9_MV1_run_brain/nomove_0036_0002.tif  \n",
            "  inflating: 2020_11_9_MV1_run_brain/nomove_0037_0001.tif  \n",
            "  inflating: 2020_11_9_MV1_run_brain/nomove_0037_0002.tif  \n",
            "  inflating: 2020_11_9_MV1_run_brain/nomove_0038_0001.tif  \n",
            "  inflating: 2020_11_9_MV1_run_brain/nomove_0038_0002.tif  \n",
            "  inflating: 2020_11_9_MV1_run_brain/nomove_0038_0003.tif  \n",
            "  inflating: 2020_11_9_MV1_run_brain/nomove_0038_0004.tif  \n",
            "  inflating: 2020_11_9_MV1_run_brain/nomove_0038_0005.tif  \n",
            "  inflating: 2020_11_9_MV1_run_brain/nomove_0039_0001.tif  \n",
            "  inflating: 2020_11_9_MV1_run_brain/nomove_0039_0002.tif  \n",
            "  inflating: 2020_11_9_MV1_run_brain/nomove_0039_0003.tif  \n",
            "  inflating: 2020_11_9_MV1_run_brain/nomove_0039_0004.tif  \n",
            "  inflating: 2020_11_9_MV1_run_brain/nomove_0039_0005.tif  \n",
            "  inflating: 2020_11_9_MV1_run_brain/nomove_0039_0006.tif  \n",
            "  inflating: 2020_11_9_MV1_run_brain/nomove_0039_0007.tif  \n",
            "  inflating: 2020_11_9_MV1_run_brain/move_0039_0001.tif  \n",
            "  inflating: 2020_11_9_MV1_run_brain/move_0039_0002.tif  \n",
            "  inflating: 2020_11_9_MV1_run_brain/move_0039_0003.tif  \n",
            "  inflating: 2020_11_9_MV1_run_brain/nomove_0040_0001.tif  \n",
            "  inflating: 2020_11_9_MV1_run_brain/nomove_0040_0002.tif  \n",
            "  inflating: 2020_11_9_MV1_run_brain/nomove_0040_0003.tif  \n",
            "  inflating: 2020_11_9_MV1_run_brain/nomove_0040_0004.tif  \n",
            "  inflating: 2020_11_9_MV1_run_brain/nomove_0040_0005.tif  \n",
            "  inflating: 2020_11_9_MV1_run_brain/nomove_0040_0006.tif  \n",
            "  inflating: 2020_11_9_MV1_run_brain/nomove_0040_0007.tif  \n",
            "  inflating: 2020_11_9_MV1_run_brain/nomove_0040_0008.tif  \n",
            "  inflating: 2020_11_9_MV1_run_brain/nomove_0040_0009.tif  \n",
            "  inflating: 2020_11_9_MV1_run_brain/nomove_0040_0010.tif  \n",
            "  inflating: 2020_11_9_MV1_run_brain/nomove_0040_0011.tif  \n",
            "  inflating: 2020_11_9_MV1_run_brain/nomove_0041_0001.tif  \n",
            "  inflating: 2020_11_9_MV1_run_brain/nomove_0041_0002.tif  \n",
            "  inflating: 2020_11_9_MV1_run_brain/nomove_0041_0003.tif  \n",
            "  inflating: 2020_11_9_MV1_run_brain/move_0041_0001.tif  \n",
            "  inflating: 2020_11_9_MV1_run_brain/move_0041_0002.tif  \n",
            "  inflating: 2020_11_9_MV1_run_brain/move_0041_0003.tif  \n",
            "  inflating: 2020_11_9_MV1_run_brain/move_0041_0004.tif  \n",
            "  inflating: 2020_11_9_MV1_run_brain/nomove_0042_0001.tif  \n",
            "  inflating: 2020_11_9_MV1_run_brain/nomove_0042_0002.tif  \n",
            "  inflating: 2020_11_9_MV1_run_brain/nomove_0042_0003.tif  \n",
            "  inflating: 2020_11_9_MV1_run_brain/move_0042_0001.tif  \n",
            "  inflating: 2020_11_9_MV1_run_brain/move_0042_0002.tif  \n",
            "  inflating: 2020_11_9_MV1_run_brain/move_0042_0003.tif  \n",
            "  inflating: 2020_11_9_MV1_run_brain/move_0042_0004.tif  \n",
            "  inflating: 2020_11_9_MV1_run_brain/move_0042_0005.tif  \n",
            "  inflating: 2020_11_9_MV1_run_brain/move_0042_0006.tif  \n",
            "  inflating: 2020_11_9_MV1_run_brain/nomove_0043_0001.tif  \n",
            "  inflating: 2020_11_9_MV1_run_brain/nomove_0043_0002.tif  \n",
            "  inflating: 2020_11_9_MV1_run_brain/nomove_0043_0003.tif  \n",
            "  inflating: 2020_11_9_MV1_run_brain/nomove_0043_0004.tif  \n",
            "  inflating: 2020_11_9_MV1_run_brain/nomove_0043_0005.tif  \n",
            "  inflating: 2020_11_9_MV1_run_brain/nomove_0043_0006.tif  \n",
            "  inflating: 2020_11_9_MV1_run_brain/nomove_0044_0001.tif  \n",
            "  inflating: 2020_11_9_MV1_run_brain/nomove_0044_0002.tif  \n",
            "  inflating: 2020_11_9_MV1_run_brain/nomove_0044_0003.tif  \n",
            "  inflating: 2020_11_9_MV1_run_brain/nomove_0045_0001.tif  \n",
            "  inflating: 2020_11_9_MV1_run_brain/nomove_0045_0002.tif  \n",
            "  inflating: 2020_11_9_MV1_run_brain/nomove_0046_0001.tif  \n",
            "  inflating: 2020_11_9_MV1_run_brain/nomove_0046_0002.tif  \n",
            "  inflating: 2020_11_9_MV1_run_brain/nomove_0046_0003.tif  \n",
            "  inflating: 2020_11_9_MV1_run_brain/nomove_0047_0001.tif  \n",
            "  inflating: 2020_11_9_MV1_run_brain/nomove_0047_0002.tif  \n",
            "  inflating: 2020_11_9_MV1_run_brain/nomove_0047_0003.tif  \n",
            "  inflating: 2020_11_9_MV1_run_brain/nomove_0047_0004.tif  \n",
            "  inflating: 2020_11_9_MV1_run_brain/nomove_0047_0005.tif  \n",
            "  inflating: 2020_11_9_MV1_run_brain/nomove_0047_0006.tif  \n",
            "  inflating: 2020_11_9_MV1_run_brain/nomove_0047_0007.tif  \n",
            "  inflating: 2020_11_9_MV1_run_brain/move_0047_0001.tif  \n",
            "  inflating: 2020_11_9_MV1_run_brain/move_0047_0002.tif  \n",
            "  inflating: 2020_11_9_MV1_run_brain/nomove_0048_0001.tif  \n",
            "  inflating: 2020_11_9_MV1_run_brain/nomove_0048_0002.tif  \n",
            "  inflating: 2020_11_9_MV1_run_brain/nomove_0048_0003.tif  \n",
            "  inflating: 2020_11_9_MV1_run_brain/nomove_0048_0004.tif  \n",
            "  inflating: 2020_11_9_MV1_run_brain/nomove_0049_0001.tif  \n",
            "  inflating: 2020_11_9_MV1_run_brain/nomove_0049_0002.tif  \n",
            "  inflating: 2020_11_9_MV1_run_brain/nomove_0050_0001.tif  \n",
            "  inflating: 2020_11_9_MV1_run_brain/nomove_0050_0002.tif  \n",
            "  inflating: 2020_11_9_MV1_run_brain/nomove_0050_0003.tif  \n",
            "  inflating: 2020_11_9_MV1_run_brain/nomove_0050_0004.tif  \n",
            "  inflating: 2020_11_9_MV1_run_brain/nomove_0051_0001.tif  \n",
            "  inflating: 2020_11_9_MV1_run_brain/nomove_0051_0002.tif  \n",
            "  inflating: 2020_11_9_MV1_run_brain/nomove_0051_0003.tif  \n",
            "  inflating: 2020_11_9_MV1_run_brain/nomove_0052_0001.tif  \n",
            "  inflating: 2020_11_9_MV1_run_brain/nomove_0052_0002.tif  \n",
            "  inflating: 2020_11_9_MV1_run_brain/nomove_0052_0003.tif  \n",
            "  inflating: 2020_11_9_MV1_run_brain/nomove_0053_0001.tif  \n",
            "  inflating: 2020_11_9_MV1_run_brain/nomove_0053_0002.tif  \n",
            "  inflating: 2020_11_9_MV1_run_brain/nomove_0053_0003.tif  \n",
            "  inflating: 2020_11_9_MV1_run_brain/nomove_0054_0001.tif  \n",
            "  inflating: 2020_11_9_MV1_run_brain/nomove_0054_0002.tif  \n",
            "  inflating: 2020_11_9_MV1_run_brain/nomove_0054_0003.tif  \n",
            "  inflating: 2020_11_9_MV1_run_brain/nomove_0055_0001.tif  \n",
            "  inflating: 2020_11_9_MV1_run_brain/nomove_0055_0002.tif  \n",
            "  inflating: 2020_11_9_MV1_run_brain/nomove_0055_0003.tif  \n",
            "  inflating: 2020_11_9_MV1_run_brain/nomove_0055_0004.tif  \n",
            "  inflating: 2020_11_9_MV1_run_brain/nomove_0055_0005.tif  \n",
            "  inflating: 2020_11_9_MV1_run_brain/nomove_0055_0006.tif  \n",
            "  inflating: 2020_11_9_MV1_run_brain/nomove_0056_0001.tif  \n",
            "  inflating: 2020_11_9_MV1_run_brain/nomove_0056_0002.tif  \n",
            "  inflating: 2020_11_9_MV1_run_brain/nomove_0057_0001.tif  \n",
            "  inflating: 2020_11_9_MV1_run_brain/nomove_0057_0002.tif  \n",
            "  inflating: 2020_11_9_MV1_run_brain/nomove_0058_0001.tif  \n",
            "  inflating: 2020_11_9_MV1_run_brain/nomove_0058_0002.tif  \n",
            "  inflating: 2020_11_9_MV1_run_brain/nomove_0059_0001.tif  \n",
            "  inflating: 2020_11_9_MV1_run_brain/nomove_0060_0001.tif  \n",
            "  inflating: 2020_11_9_MV1_run_brain/nomove_0060_0002.tif  \n"
          ]
        }
      ]
    },
    {
      "cell_type": "code",
      "execution_count": 75,
      "metadata": {
        "id": "B3rzGKc2TnI-"
      },
      "outputs": [],
      "source": [
        "import sys\n",
        "import numpy as np\n",
        "import matplotlib.pyplot as plt\n",
        "from cebra import CEBRA\n",
        "from PIL import Image\n",
        "import cv2\n",
        "import torch\n",
        "import pickle"
      ]
    },
    {
      "cell_type": "code",
      "execution_count": 76,
      "metadata": {
        "id": "Gjsda_m8TnJA",
        "outputId": "d560a3a4-f18c-4ca4-91ff-435c8638d58e",
        "colab": {
          "base_uri": "https://localhost:8080/",
          "height": 186
        }
      },
      "outputs": [
        {
          "output_type": "error",
          "ename": "FileNotFoundError",
          "evalue": "ignored",
          "traceback": [
            "\u001b[0;31m---------------------------------------------------------------------------\u001b[0m",
            "\u001b[0;31mFileNotFoundError\u001b[0m                         Traceback (most recent call last)",
            "\u001b[0;32m<ipython-input-76-42a7ff66521d>\u001b[0m in \u001b[0;36m<cell line: 1>\u001b[0;34m()\u001b[0m\n\u001b[0;32m----> 1\u001b[0;31m \u001b[0;32mwith\u001b[0m \u001b[0mopen\u001b[0m\u001b[0;34m(\u001b[0m\u001b[0;34m'feature_labels'\u001b[0m\u001b[0;34m,\u001b[0m \u001b[0;34m'rb'\u001b[0m\u001b[0;34m)\u001b[0m \u001b[0;32mas\u001b[0m \u001b[0mf\u001b[0m\u001b[0;34m:\u001b[0m\u001b[0;34m\u001b[0m\u001b[0;34m\u001b[0m\u001b[0m\n\u001b[0m\u001b[1;32m      2\u001b[0m     \u001b[0mbehav_feature\u001b[0m \u001b[0;34m=\u001b[0m \u001b[0mpickle\u001b[0m\u001b[0;34m.\u001b[0m\u001b[0mload\u001b[0m\u001b[0;34m(\u001b[0m\u001b[0mf\u001b[0m\u001b[0;34m)\u001b[0m\u001b[0;34m\u001b[0m\u001b[0;34m\u001b[0m\u001b[0m\n",
            "\u001b[0;31mFileNotFoundError\u001b[0m: [Errno 2] No such file or directory: 'feature_labels'"
          ]
        }
      ],
      "source": [
        "with open('feature_labels', 'rb') as f:\n",
        "    behav_feature = pickle.load(f)"
      ]
    },
    {
      "cell_type": "code",
      "execution_count": 77,
      "metadata": {
        "id": "xv0CEqYOTnJB"
      },
      "outputs": [],
      "source": [
        "from logging import exception\n",
        "def process_brain(path):\n",
        "  try:\n",
        "    brain_seq = cv2.imreadmulti(path)[1]\n",
        "    brain_seq = np.array(brain_seq)\n",
        "    brain_mask = (np.sum(brain_seq, axis=0) > 0)\n",
        "    flat_seq = (brain_seq[:, brain_mask])\n",
        "    return flat_seq.astype(float)\n",
        "  except:\n",
        "    print(np.shape(brain_seq))"
      ]
    },
    {
      "cell_type": "code",
      "execution_count": null,
      "metadata": {
        "id": "0PeihDPzTnJC"
      },
      "outputs": [],
      "source": [
        "# iterate through all brain data and process it\n",
        "#https://stackoverflow.com/questions/10377998/how-can-i-iterate-over-files-in-a-given-directory\n",
        "import os\n",
        "neural_data = []\n",
        "name_data = []\n",
        "behav_data = []\n",
        "\n",
        "filepath = \"2020_11_9_MV1_run_brain\"\n",
        "for iter, file in enumerate(os.listdir(filepath)):\n",
        "     filename = os.fsdecode(file)\n",
        "     if filename.endswith(\".tif\"):\n",
        "         neural_data.append(process_brain(filepath + '/' + filename))\n",
        "         name_data.append(filename)\n",
        "         split_name = filename.split('_')\n",
        "         session_data = []\n",
        "         session_data.append(int(split_name[2].split('.')[0]))\n",
        "         session_data.append(int(split_name[1]))\n",
        "         behav_data.append(session_data)\n",
        "         if iter > 50:\n",
        "            break\n",
        "         continue\n",
        "     else:\n",
        "         continue"
      ]
    },
    {
      "cell_type": "code",
      "source": [
        "neural_data_pred = []\n",
        "name_data_pred = []\n",
        "move_nomove_pred = []\n",
        "\n",
        "filepath = \"2020_12_4_MV1_run_brain\"\n",
        "for iter, file in enumerate(os.listdir(filepath)):\n",
        "     filename = os.fsdecode(file)\n",
        "     if filename.endswith(\".tif\"):\n",
        "         neural_data_pred.append(process_brain(filepath + '/' + filename))\n",
        "         name_data_pred.append(filename)\n",
        "         split_name = filename.split('_')\n",
        "         if split_name[0] == 'move':\n",
        "          move_nomove_pred.append(np.ones_like(neural_data_pred[-1]))\n",
        "         else:\n",
        "          move_nomove_pred.append(np.zeros_like(neural_data_pred[-1]))\n",
        "         if iter > 100:\n",
        "            break\n",
        "         continue\n",
        "     else:\n",
        "         continue"
      ],
      "metadata": {
        "id": "9DE_45ZZfhWe"
      },
      "execution_count": null,
      "outputs": []
    },
    {
      "cell_type": "code",
      "execution_count": null,
      "metadata": {
        "id": "malIKJgdTnJD"
      },
      "outputs": [],
      "source": [
        "multi_cebra_model = CEBRA.load('/content/drive/MyDrive/Cebra_data/cebra_multi_model.pt')"
      ]
    },
    {
      "cell_type": "code",
      "execution_count": null,
      "metadata": {
        "id": "pmx1qMnrTnJE"
      },
      "outputs": [],
      "source": [
        "image_data = []\n",
        "filepath = \"2020_12_4_MV1_run_behavior\"\n",
        "for file in os.listdir(filepath):\n",
        "     filename = os.fsdecode(file)\n",
        "     if filename.endswith(\".tif\"):\n",
        "         image_data.append(cv2.imreadmulti(filepath + '/' + filename)[1])\n",
        "         continue\n",
        "     else:\n",
        "         continue"
      ]
    },
    {
      "cell_type": "code",
      "execution_count": null,
      "metadata": {
        "id": "1FTZZMBtTnJE"
      },
      "outputs": [],
      "source": [
        "\n",
        "import cebra\n",
        "fig = plt.figure()\n",
        "move_nomove = []\n",
        "ax1 = plt.subplot(121, projection='3d')\n",
        "ax2 = plt.subplot(122, projection='3d')\n",
        "index = 20\n",
        "for run, data in enumerate(zip(neural_data, name_data)):\n",
        "  is_move = True\n",
        "  if data[1].split('_')[0] == 'move':\n",
        "    is_move = True\n",
        "    move_nomove.append(np.ones_like(data[0][:, 1]))\n",
        "  else:\n",
        "    is_move = False\n",
        "    move_nomove.append(np.zeros_like(data[0][:, 1]))\n",
        "  try:\n",
        "    embedding = multi_cebra_model.transform(data[0], session_id=run)\n",
        "  except:\n",
        "    print(run)\n",
        "    move_nomove.pop()\n",
        "  if is_move:\n",
        "    ax1 = cebra.plot_embedding(embedding, idx_order=(5,6, 7), ax=ax1, title='moving')\n",
        "  else:\n",
        "    ax2 = cebra.plot_embedding(embedding, ax=ax2, title = 'no move')\n",
        "\n",
        "plt.show()"
      ]
    },
    {
      "cell_type": "code",
      "execution_count": null,
      "metadata": {
        "id": "nxwzcDpqTnJF"
      },
      "outputs": [],
      "source": [
        "move_embedding_train = []\n",
        "for run, data in enumerate(neural_data):\n",
        "  try:\n",
        "    move_embedding_train.append(multi_cebra_model.transform(data, session_id=run))\n",
        "  except:\n",
        "    print(run)"
      ]
    },
    {
      "cell_type": "code",
      "source": [
        "move_embedding_pred = []\n",
        "for run, data in enumerate(neural_data_pred):\n",
        "  try:\n",
        "    move_embedding_pred.append(multi_cebra_model.transform(data, session_id=run))\n",
        "  except:\n",
        "    print(run)"
      ],
      "metadata": {
        "id": "dcnIcwRHgDE3"
      },
      "execution_count": null,
      "outputs": []
    },
    {
      "cell_type": "code",
      "execution_count": null,
      "metadata": {
        "id": "UJrMtSs4TnJG"
      },
      "outputs": [],
      "source": [
        "move_embeddings_flat = move_embedding_train[0]\n",
        "move_move_nomove_flat = move_nomove[0]\n",
        "for data in zip(move_embedding_train[1::], move_nomove[1::]):\n",
        "    move_embeddings_flat = np.concatenate((move_embeddings_flat, data[0]))\n",
        "    move_move_nomove_flat = np.concatenate((move_move_nomove_flat, data[1]))"
      ]
    },
    {
      "cell_type": "code",
      "source": [
        "move_embeddings_flat_pred = move_embedding_pred[0]\n",
        "move_move_nomove_flat_pred = move_nomove[0]\n",
        "for data in zip(move_embedding_train[1::], move_nomove[1::]):\n",
        "    move_embeddings_flat_pred = np.concatenate((move_embeddings_flat, data[0]))\n",
        "    move_move_nomove_flat_pred = np.concatenate((move_move_nomove_flat, data[1]))"
      ],
      "metadata": {
        "id": "hPtrXa26f20n"
      },
      "execution_count": null,
      "outputs": []
    },
    {
      "cell_type": "code",
      "execution_count": null,
      "metadata": {
        "id": "q3J2xAp5TnJH"
      },
      "outputs": [],
      "source": [
        "print(np.shape(move_embeddings_flat))\n",
        "print(np.shape(move_move_nomove_flat))\n",
        "print(np.shape(move_embeddings_flat_pred))\n",
        "print(np.shape(move_move_nomove_flat_pred))"
      ]
    },
    {
      "cell_type": "code",
      "execution_count": null,
      "metadata": {
        "id": "LRq6fAa0TnJI"
      },
      "outputs": [],
      "source": [
        "import sklearn.metrics\n",
        "move_decoder = cebra.KNNDecoder(n_neighbors=36, metric=\"cosine\")\n",
        "move_decoder.fit(move_embeddings_flat, move_move_nomove_flat)\n",
        "move_pred = move_decoder.predict(move_embeddings_flat_pred)\n",
        "test_score = sklearn.metrics.r2_score(move_move_nomove_flat_pred, move_pred)\n"
      ]
    },
    {
      "cell_type": "code",
      "execution_count": null,
      "metadata": {
        "id": "Z34NsS2XTnJI"
      },
      "outputs": [],
      "source": [
        "test_score"
      ]
    },
    {
      "cell_type": "code",
      "source": [
        "print(np.sum(move_move_nomove_flat) / np.size(move_move_nomove_flat))"
      ],
      "metadata": {
        "id": "hzFIbIGKct3B"
      },
      "execution_count": null,
      "outputs": []
    },
    {
      "cell_type": "code",
      "source": [
        "print(np.sum(np.ones_like(move_pred) * ((np.array(move_pred) * np.array(move_move_nomove_flat_pred)) > 0.5)) / np.sum(move_move_nomove_flat_pred))\n"
      ],
      "metadata": {
        "id": "kdi9Jduob2xc"
      },
      "execution_count": null,
      "outputs": []
    },
    {
      "cell_type": "code",
      "execution_count": null,
      "metadata": {
        "id": "u1FvOP6FTnJJ"
      },
      "outputs": [],
      "source": [
        "fig = plt.figure(figsize=(5,5))\n",
        "ax = plt.subplot(111)\n",
        "\n",
        "ax = cebra.plot_loss(multi_cebra_model, color='deepskyblue', label='loss', ax=ax)\n",
        "plt.show()"
      ]
    }
  ],
  "metadata": {
    "interpreter": {
      "hash": "5e1be78df5b73969d41dcc5faf663bbd5fade112ca15e405e187bc7e9386a53f"
    },
    "kernelspec": {
      "display_name": "Python 3",
      "name": "python3"
    },
    "language_info": {
      "codemirror_mode": {
        "name": "ipython",
        "version": 3
      },
      "file_extension": ".py",
      "mimetype": "text/x-python",
      "name": "python",
      "nbconvert_exporter": "python",
      "pygments_lexer": "ipython3",
      "version": "3.11.3"
    },
    "orig_nbformat": 4,
    "colab": {
      "provenance": [],
      "gpuType": "T4"
    },
    "accelerator": "GPU"
  },
  "nbformat": 4,
  "nbformat_minor": 0
}