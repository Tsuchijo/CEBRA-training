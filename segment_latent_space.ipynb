{
 "cells": [
  {
   "cell_type": "code",
   "execution_count": 2,
   "metadata": {},
   "outputs": [],
   "source": [
    "import sys\n",
    "import numpy as np\n",
    "import matplotlib.pyplot as plt\n",
    "import cebra\n",
    "from PIL import Image\n",
    "import cv2\n",
    "import torch\n",
    "import pickle\n",
    "import os"
   ]
  },
  {
   "cell_type": "code",
   "execution_count": 3,
   "metadata": {},
   "outputs": [],
   "source": [
    "def import_data(filepath, processor, max = -1):\n",
    "    output_data = []\n",
    "    output_name = []\n",
    "    for iter, file in enumerate(os.listdir(filepath)):\n",
    "     filename = os.fsdecode(file)\n",
    "     if filename.endswith(\".tif\"):\n",
    "         out = cv2.imreadmulti(filepath + '/' + filename)[1]\n",
    "         output_data.append(processor(out))\n",
    "         output_name.append(filename)\n",
    "         if iter > max and max > 0: break\n",
    "         continue\n",
    "     else:\n",
    "         continue\n",
    "    return output_data, output_name\n",
    "\n",
    "def process_brain(brain_seq):\n",
    "  try:\n",
    "    brain_seq = np.array(brain_seq)\n",
    "    brain_mask = (np.sum(brain_seq, axis=0) > 0)\n",
    "    flat_seq = (brain_seq[:, brain_mask])\n",
    "    return flat_seq.astype(float)\n",
    "  except:\n",
    "    print(np.shape(brain_seq))"
   ]
  },
  {
   "cell_type": "code",
   "execution_count": 4,
   "metadata": {},
   "outputs": [],
   "source": [
    "neural_data_test, name_data_test = import_data(\"2020_12_4_MV1_run_brain\", process_brain)"
   ]
  },
  {
   "cell_type": "code",
   "execution_count": 5,
   "metadata": {},
   "outputs": [],
   "source": [
    "neural_data_train, name_data_train = import_data(\"2020_11_9_MV1_run_brain\", process_brain)"
   ]
  },
  {
   "cell_type": "code",
   "execution_count": 6,
   "metadata": {},
   "outputs": [],
   "source": [
    "multi_cebra_model = cebra.CEBRA.load('cebra_multi_model2.pt')"
   ]
  },
  {
   "cell_type": "code",
   "execution_count": 7,
   "metadata": {},
   "outputs": [],
   "source": [
    "def generate_CEBRA_embeddings(neural, name, model, session = 'run'):\n",
    "    embedding = []\n",
    "    failed = []\n",
    "    for run, data in enumerate(neural):\n",
    "        try:\n",
    "            if session == 'run':\n",
    "                run_data = (model.transform(data, session_id=run))\n",
    "            else:\n",
    "                run_data =(model.transform(data, session_id=2))\n",
    "            embedding.append(run_data)\n",
    "        except:\n",
    "            failed.append(run)\n",
    "            print(run)\n",
    "    failed.reverse()\n",
    "    for index in failed:\n",
    "        del name[index]\n",
    "        del neural[index]\n",
    "    return embedding"
   ]
  },
  {
   "cell_type": "code",
   "execution_count": 8,
   "metadata": {},
   "outputs": [
    {
     "name": "stdout",
     "output_type": "stream",
     "text": [
      "5\n",
      "6\n",
      "12\n",
      "18\n",
      "19\n",
      "20\n",
      "27\n",
      "28\n",
      "29\n",
      "40\n",
      "41\n",
      "43\n",
      "57\n",
      "76\n",
      "77\n",
      "84\n",
      "85\n",
      "99\n",
      "114\n",
      "125\n",
      "129\n",
      "132\n",
      "134\n",
      "138\n",
      "143\n",
      "163\n",
      "164\n",
      "188\n",
      "213\n",
      "226\n",
      "229\n",
      "230\n",
      "244\n",
      "260\n",
      "270\n",
      "275\n",
      "289\n",
      "293\n",
      "295\n",
      "303\n",
      "313\n",
      "323\n",
      "330\n",
      "343\n",
      "351\n",
      "363\n",
      "367\n",
      "375\n",
      "385\n",
      "392\n",
      "396\n",
      "415\n",
      "427\n",
      "435\n",
      "460\n",
      "466\n",
      "469\n",
      "477\n",
      "480\n",
      "485\n",
      "498\n",
      "512\n",
      "525\n",
      "527\n",
      "534\n",
      "535\n",
      "540\n",
      "549\n"
     ]
    }
   ],
   "source": [
    "neural_embedding_test = generate_CEBRA_embeddings(neural_data_test, name_data_test, multi_cebra_model, 'test')"
   ]
  },
  {
   "cell_type": "code",
   "execution_count": 9,
   "metadata": {},
   "outputs": [],
   "source": [
    "with open('2020_12_4_CEBRA_embeddings.pb', 'rb') as f:\n",
    "    test_data = pickle.load(f)\n",
    "with open('2020_11_9_CEBRA_embeddings.pb', 'rb') as f:\n",
    "    train_data = pickle.load(f)"
   ]
  },
  {
   "cell_type": "code",
   "execution_count": 10,
   "metadata": {},
   "outputs": [],
   "source": [
    "neural_embedding_train = train_data[0]\n",
    "name_train = train_data[1]\n",
    "# neural_embedding_test = test_data[0]\n",
    "# name_test = test_data[1]"
   ]
  },
  {
   "cell_type": "code",
   "execution_count": 11,
   "metadata": {},
   "outputs": [],
   "source": [
    "def flatten_data(data):\n",
    "    data_flat = (data[0])\n",
    "    for x in data[1::]:\n",
    "        data_flat = np.concatenate((data_flat, x))\n",
    "    return data_flat"
   ]
  },
  {
   "cell_type": "code",
   "execution_count": 12,
   "metadata": {},
   "outputs": [],
   "source": [
    "neural_embedding_test_flat = flatten_data(neural_embedding_test[:100])\n",
    "neural_embedding_train_flat = flatten_data(neural_embedding_train[:100])"
   ]
  },
  {
   "cell_type": "code",
   "execution_count": 13,
   "metadata": {},
   "outputs": [
    {
     "data": {
      "text/plain": [
       "21514"
      ]
     },
     "execution_count": 13,
     "metadata": {},
     "output_type": "execute_result"
    }
   ],
   "source": [
    "len(neural_embedding_test_flat)"
   ]
  },
  {
   "cell_type": "code",
   "execution_count": 14,
   "metadata": {},
   "outputs": [],
   "source": [
    "from sklearn.datasets import make_blobs\n",
    "from sklearn.cluster import KMeans\n",
    "from sklearn.metrics import silhouette_samples, silhouette_score\n",
    "import matplotlib.cm as cm\n",
    "from sklearn.cluster import AgglomerativeClustering"
   ]
  },
  {
   "cell_type": "code",
   "execution_count": 15,
   "metadata": {},
   "outputs": [],
   "source": [
    "clusterer = AgglomerativeClustering(n_clusters=3, metric='cosine', linkage='average')\n",
    "clusterer.fit(neural_embedding_train_flat)\n",
    "labels = clusterer.labels_"
   ]
  },
  {
   "cell_type": "code",
   "execution_count": 16,
   "metadata": {},
   "outputs": [],
   "source": [
    "def reshape_flat(flat, shape_ref):\n",
    "    shape_list = [np.shape(x)[0] for x in shape_ref]\n",
    "    out = []\n",
    "    index = 0\n",
    "    for shape in shape_list:\n",
    "        out.append((flat[index : index + shape]))\n",
    "        index += shape\n",
    "    return out"
   ]
  },
  {
   "cell_type": "code",
   "execution_count": 17,
   "metadata": {},
   "outputs": [],
   "source": [
    "vid_labels = reshape_flat(labels, neural_embedding_train[:100])"
   ]
  },
  {
   "cell_type": "code",
   "execution_count": 18,
   "metadata": {},
   "outputs": [],
   "source": [
    "def process_vids(folder, namelist, labels):\n",
    "    fontScale = 1\n",
    "    org = (50, 50)\n",
    "    font = cv2.FONT_HERSHEY_SIMPLEX\n",
    "    thickness = 2\n",
    "    for clip_data in zip(namelist, labels):\n",
    "        video_writer = cv2.VideoWriter('output_videos3/' +'label'+ str(np.round(np.median(clip_data[1]))) + clip_data[0] +'.mp4',\n",
    "                                   cv2.VideoWriter_fourcc(*'mp4v'),\n",
    "                                   30,\n",
    "                                   (320, 320))\n",
    "        vid = cv2.imreadmulti(folder + '/' + clip_data[0])[1]\n",
    "        for label in zip(clip_data[1], vid):\n",
    "            colored = cv2.cvtColor(label[1].astype(np.uint8), cv2.COLOR_GRAY2RGB)\n",
    "\n",
    "            colored = cv2.putText(colored, str(label[0]), org, font, \n",
    "                   fontScale, (0,0,255), thickness, cv2.LINE_AA)\n",
    "            video_writer.write(colored)\n",
    "        video_writer.release()\n",
    "        \n"
   ]
  },
  {
   "cell_type": "code",
   "execution_count": 78,
   "metadata": {},
   "outputs": [],
   "source": [
    "process_vids('2020_11_9_MV1_run_behavior', name_train, vid_labels)"
   ]
  },
  {
   "cell_type": "code",
   "execution_count": 19,
   "metadata": {},
   "outputs": [],
   "source": []
  },
  {
   "cell_type": "code",
   "execution_count": 27,
   "metadata": {},
   "outputs": [
    {
     "data": {
      "image/png": "[encoded data removed]",
      "text/plain": [
       "<Figure size 640x480 with 1 Axes>"
      ]
     },
     "metadata": {},
     "output_type": "display_data"
    }
   ],
   "source": [
    "from matplotlib.colors import ListedColormap\n",
    "from sklearn.manifold import TSNE\n",
    "tsne_embedding = TSNE(n_components=2, learning_rate='auto',\n",
    "                   init='random', perplexity=30).fit_transform(neural_embedding_train_flat)\n",
    "colors = ListedColormap(['r','b','g'])\n",
    "classes = ['still', 'running', 'sniffing']\n",
    "#plot tsne plot as a scatterplot with labels\n",
    "scatter = plt.scatter(tsne_embedding[:,0], tsne_embedding[:,1], c=labels, cmap=colors)\n",
    "plt.legend(handles=scatter.legend_elements()[0], labels=classes)\n",
    "plt.show()\n",
    "\n",
    "\n"
   ]
  },
  {
   "cell_type": "code",
   "execution_count": 92,
   "metadata": {},
   "outputs": [
    {
     "data": {
      "text/plain": [
       "'green'"
      ]
     },
     "execution_count": 92,
     "metadata": {},
     "output_type": "execute_result"
    }
   ],
   "source": []
  }
 ],
 "metadata": {
  "interpreter": {
   "hash": "5e1be78df5b73969d41dcc5faf663bbd5fade112ca15e405e187bc7e9386a53f"
  },
  "kernelspec": {
   "display_name": "Python 3.11.3 ('cebra-env')",
   "language": "python",
   "name": "python3"
  },
  "language_info": {
   "codemirror_mode": {
    "name": "ipython",
    "version": 3
   },
   "file_extension": ".py",
   "mimetype": "text/x-python",
   "name": "python",
   "nbconvert_exporter": "python",
   "pygments_lexer": "ipython3",
   "version": "3.11.3"
  },
  "orig_nbformat": 4
 },
 "nbformat": 4,
 "nbformat_minor": 2
}
