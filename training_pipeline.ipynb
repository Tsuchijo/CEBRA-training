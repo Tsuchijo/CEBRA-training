{
 "cells": [
  {
   "cell_type": "code",
   "execution_count": 1,
   "metadata": {},
   "outputs": [],
   "source": [
    "import sys\n",
    "import numpy as np\n",
    "import matplotlib.pyplot as plt\n",
    "import cebra\n",
    "from PIL import Image\n",
    "import cv2\n",
    "import os\n",
    "import torch\n",
    "import torch.nn.functional as F\n",
    "from torch import nn\n",
    "import itertools\n",
    "from torch.utils.tensorboard import SummaryWriter\n",
    "import random\n",
    "import gc\n",
    "from cebra_utils import *"
   ]
  },
  {
   "cell_type": "code",
   "execution_count": 2,
   "metadata": {},
   "outputs": [
    {
     "name": "stdout",
     "output_type": "stream",
     "text": [
      "cuda\n"
     ]
    }
   ],
   "source": [
    "#check if cuda is available\n",
    "device = torch.device(\"cuda\" if torch.cuda.is_available() else \"cpu\")\n",
    "print(device)"
   ]
  },
  {
   "cell_type": "code",
   "execution_count": 3,
   "metadata": {},
   "outputs": [],
   "source": [
    "output_model_path = 'models/cebra_model_complete3.pt'\n",
    "neural_data_directory= []\n",
    "behavior_data_directory = []"
   ]
  },
  {
   "cell_type": "code",
   "execution_count": 4,
   "metadata": {},
   "outputs": [],
   "source": [
    "data_directory = '/mnt/teams/Tsuchitori/MV1_run_30hz_30frame_brain2behav_DFF_new/'\n",
    "neural_data_paths = [ data_directory + 'brain/' + \\\n",
    "                     file for file in os.listdir(data_directory + 'brain/')]\n",
    "\n",
    "behavior_data_paths = [  data_directory + 'camera1/' + \\\n",
    "                     file for file in os.listdir(data_directory + 'brain/')]\n",
    "\n",
    "dino_paths = [ data_directory + 'dino/' + \\\n",
    "                        file for file in os.listdir(data_directory + 'brain/')]"
   ]
  },
  {
   "cell_type": "code",
   "execution_count": 5,
   "metadata": {},
   "outputs": [],
   "source": [
    "def init_dataloader(brain_data, feature_data, num_steps, time_offset, conditional, batch_size=1, cebra_offset=None ):\n",
    "    datasets = []\n",
    "    print('loading data')\n",
    "    for session in zip(brain_data, feature_data):\n",
    "        brain_data_tensor  = torch.FloatTensor(session[0])\n",
    "        feature_data_tensor = torch.FloatTensor(session[1])\n",
    "        datasets.append(cebra.data.datasets.TensorDataset(brain_data_tensor, continuous=feature_data_tensor, offset=cebra_offset))\n",
    "    dataset_collection = cebra.data.datasets.DatasetCollection(*datasets)\n",
    "    return cebra.data.multi_session.ContinuousMultiSessionDataLoader(\n",
    "        dataset=dataset_collection,\n",
    "        batch_size=batch_size,\n",
    "        num_steps=num_steps,\n",
    "        time_offset=time_offset,\n",
    "        conditional=conditional,\n",
    "    )   \n",
    "\n"
   ]
  },
  {
   "cell_type": "code",
   "execution_count": 6,
   "metadata": {},
   "outputs": [],
   "source": [
    "def flatten_features(features):\n",
    "    return [(feature.flatten()) for feature in features]\n",
    "\n",
    "def load_partial_data2D(brain_paths, behvaior_paths, min, max, num_steps, time_offset, conditional, batch_size, cebra_offset):\n",
    "    brain_data, feature_data = [], []\n",
    "    for path in zip(brain_paths, behvaior_paths):\n",
    "        print('importing from: ' + path[0] + ' and ' + path[1])\n",
    "        brain_data_temp, _ = import_data(path[0], lambda x: bin_data(x, 30), min, max)\n",
    "        feature_data_temp, _ = import_data(path[1], lambda x: flatten_features(bin_data(x, 30)), min, max)\n",
    "        print(len(feature_data_temp[0][0]))\n",
    "        brain_data.append(flatten_data(brain_data_temp))\n",
    "        feature_data.append(flatten_data(feature_data_temp))\n",
    "        del brain_data_temp\n",
    "        del feature_data_temp\n",
    "        del _\n",
    "        gc.collect()\n",
    "    return init_dataloader(brain_data, feature_data, num_steps, time_offset, conditional, batch_size, cebra_offset)"
   ]
  },
  {
   "cell_type": "code",
   "execution_count": 7,
   "metadata": {},
   "outputs": [],
   "source": [
    "## Creat and train the model in partial batches of data\n",
    "def partial_train(brain_paths, behavior_paths, min, max, slice_size, num_steps, time_offset, conditional, batch_size, cebra_offset, hidden_units, output_dimension, model_name, device, saved_model = None):\n",
    "    ## Load dataloader for first slice of data\n",
    "    print('Loading data')\n",
    "    dataloader= load_partial_data2D(brain_paths, behavior_paths, min, min+slice_size, num_steps, time_offset, conditional, batch_size, cebra_offset)\n",
    "    print('Creating model')\n",
    "    ## create list of models\n",
    "    model = torch.nn.ModuleList([\n",
    "    cebra.models.init(model_name, 128,\n",
    "                        hidden_units, output_dimension, True)\n",
    "    for _ in range(len(list(dataloader.dataset.iter_sessions())))\n",
    "    ]).to(device)\n",
    "    if saved_model is not None:\n",
    "        model.__setstate__(saved_model)\n",
    "\n",
    "    ## Load optimizer\n",
    "    optimizer = torch.optim.Adam(model.parameters(), lr=0.001)\n",
    "    ## Load criterion\n",
    "    criterion = cebra.models.criterions.LearnableCosineInfoNCE(temperature=0.01, min_temperature=0.0001)\n",
    "\n",
    "    print('Loading solver')\n",
    "    ## Load solver and train on first slice of data\n",
    "    solver = cebra.solver.MultiSessionSolver(\n",
    "        model=model,\n",
    "        optimizer=optimizer,\n",
    "        criterion=criterion,\n",
    "        tqdm_on=True,\n",
    "    ).to(device)\n",
    "    print('Training on slice 1')\n",
    "    solver.fit(dataloader.to(device),\n",
    "                save_frequency=500,\n",
    "                logdir='runs',)\n",
    "    torch.save(solver, output_model_path)\n",
    "    for i in range(2, int((max-min)/slice_size)+1):\n",
    "        del dataloader\n",
    "        gc.collect()\n",
    "        ## Load next slice of data\n",
    "        dataloader= load_partial_data2D(brain_paths, behavior_paths, min+slice_size*(i-1), min+slice_size*i, num_steps, time_offset, conditional, batch_size, cebra_offset).to(device)\n",
    "        ## Train on next slice of data\n",
    "        print('Training on slice '+str(i))\n",
    "        solver.fit(dataloader,\n",
    "                save_frequency=500,\n",
    "                logdir='runs',)        \n",
    "        torch.save(model, output_model_path)\n",
    "    print('Training complete, saving model')\n",
    "    torch.save(solver, output_model_path)\n",
    "    return solver\n"
   ]
  },
  {
   "cell_type": "code",
   "execution_count": 8,
   "metadata": {},
   "outputs": [
    {
     "name": "stdout",
     "output_type": "stream",
     "text": [
      "models/cebra_model_complete_30frame.pt\n",
      "Loading data\n",
      "importing from: /mnt/teams/Tsuchitori/MV1_run_30hz_30frame_brain2behav_DFF_new/brain/2021_1_8_MV1_run and /mnt/teams/Tsuchitori/MV1_run_30hz_30frame_brain2behav_DFF_new/dino/2021_1_8_MV1_run\n"
     ]
    },
    {
     "name": "stdout",
     "output_type": "stream",
     "text": [
      "11520\n",
      "importing from: /mnt/teams/Tsuchitori/MV1_run_30hz_30frame_brain2behav_DFF_new/brain/2020_11_23_MV1_run and /mnt/teams/Tsuchitori/MV1_run_30hz_30frame_brain2behav_DFF_new/dino/2020_11_23_MV1_run\n",
      "11520\n",
      "importing from: /mnt/teams/Tsuchitori/MV1_run_30hz_30frame_brain2behav_DFF_new/brain/2020_12_4_MV1_run and /mnt/teams/Tsuchitori/MV1_run_30hz_30frame_brain2behav_DFF_new/dino/2020_12_4_MV1_run\n",
      "11520\n",
      "importing from: /mnt/teams/Tsuchitori/MV1_run_30hz_30frame_brain2behav_DFF_new/brain/2020_11_2_MV1_run and /mnt/teams/Tsuchitori/MV1_run_30hz_30frame_brain2behav_DFF_new/dino/2020_11_2_MV1_run\n",
      "11520\n",
      "importing from: /mnt/teams/Tsuchitori/MV1_run_30hz_30frame_brain2behav_DFF_new/brain/2021_1_12_MV1_run and /mnt/teams/Tsuchitori/MV1_run_30hz_30frame_brain2behav_DFF_new/dino/2021_1_12_MV1_run\n",
      "11520\n",
      "importing from: /mnt/teams/Tsuchitori/MV1_run_30hz_30frame_brain2behav_DFF_new/brain/2020_12_10_MV1_run and /mnt/teams/Tsuchitori/MV1_run_30hz_30frame_brain2behav_DFF_new/dino/2020_12_10_MV1_run\n",
      "11520\n",
      "importing from: /mnt/teams/Tsuchitori/MV1_run_30hz_30frame_brain2behav_DFF_new/brain/2020_11_9_MV1_run and /mnt/teams/Tsuchitori/MV1_run_30hz_30frame_brain2behav_DFF_new/dino/2020_11_9_MV1_run\n",
      "11520\n",
      "importing from: /mnt/teams/Tsuchitori/MV1_run_30hz_30frame_brain2behav_DFF_new/brain/2020_11_17_MV1_run and /mnt/teams/Tsuchitori/MV1_run_30hz_30frame_brain2behav_DFF_new/dino/2020_11_17_MV1_run\n",
      "11520\n",
      "loading data\n",
      "Creating model\n",
      "Loading solver\n",
      "Training on slice 1\n"
     ]
    },
    {
     "name": "stderr",
     "output_type": "stream",
     "text": [
      "pos:  0.3876 neg:  2.3017 total:  2.6893 temperature:  0.0100: 100%|██████████| 200/200 [00:07<00:00, 27.07it/s]  \n"
     ]
    },
    {
     "name": "stdout",
     "output_type": "stream",
     "text": [
      "importing from: /mnt/teams/Tsuchitori/MV1_run_30hz_30frame_brain2behav_DFF_new/brain/2021_1_8_MV1_run and /mnt/teams/Tsuchitori/MV1_run_30hz_30frame_brain2behav_DFF_new/dino/2021_1_8_MV1_run\n",
      "11520\n",
      "importing from: /mnt/teams/Tsuchitori/MV1_run_30hz_30frame_brain2behav_DFF_new/brain/2020_11_23_MV1_run and /mnt/teams/Tsuchitori/MV1_run_30hz_30frame_brain2behav_DFF_new/dino/2020_11_23_MV1_run\n",
      "11520\n",
      "importing from: /mnt/teams/Tsuchitori/MV1_run_30hz_30frame_brain2behav_DFF_new/brain/2020_12_4_MV1_run and /mnt/teams/Tsuchitori/MV1_run_30hz_30frame_brain2behav_DFF_new/dino/2020_12_4_MV1_run\n",
      "11520\n",
      "importing from: /mnt/teams/Tsuchitori/MV1_run_30hz_30frame_brain2behav_DFF_new/brain/2020_11_2_MV1_run and /mnt/teams/Tsuchitori/MV1_run_30hz_30frame_brain2behav_DFF_new/dino/2020_11_2_MV1_run\n",
      "11520\n",
      "importing from: /mnt/teams/Tsuchitori/MV1_run_30hz_30frame_brain2behav_DFF_new/brain/2021_1_12_MV1_run and /mnt/teams/Tsuchitori/MV1_run_30hz_30frame_brain2behav_DFF_new/dino/2021_1_12_MV1_run\n",
      "11520\n",
      "importing from: /mnt/teams/Tsuchitori/MV1_run_30hz_30frame_brain2behav_DFF_new/brain/2020_12_10_MV1_run and /mnt/teams/Tsuchitori/MV1_run_30hz_30frame_brain2behav_DFF_new/dino/2020_12_10_MV1_run\n",
      "11520\n",
      "importing from: /mnt/teams/Tsuchitori/MV1_run_30hz_30frame_brain2behav_DFF_new/brain/2020_11_9_MV1_run and /mnt/teams/Tsuchitori/MV1_run_30hz_30frame_brain2behav_DFF_new/dino/2020_11_9_MV1_run\n",
      "11520\n",
      "importing from: /mnt/teams/Tsuchitori/MV1_run_30hz_30frame_brain2behav_DFF_new/brain/2020_11_17_MV1_run and /mnt/teams/Tsuchitori/MV1_run_30hz_30frame_brain2behav_DFF_new/dino/2020_11_17_MV1_run\n",
      "11520\n",
      "loading data\n",
      "Training on slice 2\n"
     ]
    },
    {
     "name": "stderr",
     "output_type": "stream",
     "text": [
      "pos:  0.3712 neg:  2.3683 total:  2.7395 temperature:  0.0100: 100%|██████████| 200/200 [00:05<00:00, 36.96it/s]\n"
     ]
    },
    {
     "name": "stdout",
     "output_type": "stream",
     "text": [
      "importing from: /mnt/teams/Tsuchitori/MV1_run_30hz_30frame_brain2behav_DFF_new/brain/2021_1_8_MV1_run and /mnt/teams/Tsuchitori/MV1_run_30hz_30frame_brain2behav_DFF_new/dino/2021_1_8_MV1_run\n",
      "11520\n",
      "importing from: /mnt/teams/Tsuchitori/MV1_run_30hz_30frame_brain2behav_DFF_new/brain/2020_11_23_MV1_run and /mnt/teams/Tsuchitori/MV1_run_30hz_30frame_brain2behav_DFF_new/dino/2020_11_23_MV1_run\n",
      "11520\n",
      "importing from: /mnt/teams/Tsuchitori/MV1_run_30hz_30frame_brain2behav_DFF_new/brain/2020_12_4_MV1_run and /mnt/teams/Tsuchitori/MV1_run_30hz_30frame_brain2behav_DFF_new/dino/2020_12_4_MV1_run\n",
      "11520\n",
      "importing from: /mnt/teams/Tsuchitori/MV1_run_30hz_30frame_brain2behav_DFF_new/brain/2020_11_2_MV1_run and /mnt/teams/Tsuchitori/MV1_run_30hz_30frame_brain2behav_DFF_new/dino/2020_11_2_MV1_run\n",
      "11520\n",
      "importing from: /mnt/teams/Tsuchitori/MV1_run_30hz_30frame_brain2behav_DFF_new/brain/2021_1_12_MV1_run and /mnt/teams/Tsuchitori/MV1_run_30hz_30frame_brain2behav_DFF_new/dino/2021_1_12_MV1_run\n",
      "11520\n",
      "importing from: /mnt/teams/Tsuchitori/MV1_run_30hz_30frame_brain2behav_DFF_new/brain/2020_12_10_MV1_run and /mnt/teams/Tsuchitori/MV1_run_30hz_30frame_brain2behav_DFF_new/dino/2020_12_10_MV1_run\n",
      "11520\n",
      "importing from: /mnt/teams/Tsuchitori/MV1_run_30hz_30frame_brain2behav_DFF_new/brain/2020_11_9_MV1_run and /mnt/teams/Tsuchitori/MV1_run_30hz_30frame_brain2behav_DFF_new/dino/2020_11_9_MV1_run\n",
      "11520\n",
      "importing from: /mnt/teams/Tsuchitori/MV1_run_30hz_30frame_brain2behav_DFF_new/brain/2020_11_17_MV1_run and /mnt/teams/Tsuchitori/MV1_run_30hz_30frame_brain2behav_DFF_new/dino/2020_11_17_MV1_run\n",
      "11520\n",
      "loading data\n",
      "Training on slice 3\n"
     ]
    },
    {
     "name": "stderr",
     "output_type": "stream",
     "text": [
      "pos:  0.3907 neg:  2.2381 total:  2.6288 temperature:  0.0100: 100%|██████████| 200/200 [00:05<00:00, 36.88it/s]\n"
     ]
    },
    {
     "name": "stdout",
     "output_type": "stream",
     "text": [
      "importing from: /mnt/teams/Tsuchitori/MV1_run_30hz_30frame_brain2behav_DFF_new/brain/2021_1_8_MV1_run and /mnt/teams/Tsuchitori/MV1_run_30hz_30frame_brain2behav_DFF_new/dino/2021_1_8_MV1_run\n",
      "11520\n",
      "importing from: /mnt/teams/Tsuchitori/MV1_run_30hz_30frame_brain2behav_DFF_new/brain/2020_11_23_MV1_run and /mnt/teams/Tsuchitori/MV1_run_30hz_30frame_brain2behav_DFF_new/dino/2020_11_23_MV1_run\n",
      "11520\n",
      "importing from: /mnt/teams/Tsuchitori/MV1_run_30hz_30frame_brain2behav_DFF_new/brain/2020_12_4_MV1_run and /mnt/teams/Tsuchitori/MV1_run_30hz_30frame_brain2behav_DFF_new/dino/2020_12_4_MV1_run\n",
      "11520\n",
      "importing from: /mnt/teams/Tsuchitori/MV1_run_30hz_30frame_brain2behav_DFF_new/brain/2020_11_2_MV1_run and /mnt/teams/Tsuchitori/MV1_run_30hz_30frame_brain2behav_DFF_new/dino/2020_11_2_MV1_run\n",
      "11520\n",
      "importing from: /mnt/teams/Tsuchitori/MV1_run_30hz_30frame_brain2behav_DFF_new/brain/2021_1_12_MV1_run and /mnt/teams/Tsuchitori/MV1_run_30hz_30frame_brain2behav_DFF_new/dino/2021_1_12_MV1_run\n",
      "11520\n",
      "importing from: /mnt/teams/Tsuchitori/MV1_run_30hz_30frame_brain2behav_DFF_new/brain/2020_12_10_MV1_run and /mnt/teams/Tsuchitori/MV1_run_30hz_30frame_brain2behav_DFF_new/dino/2020_12_10_MV1_run\n",
      "11520\n",
      "importing from: /mnt/teams/Tsuchitori/MV1_run_30hz_30frame_brain2behav_DFF_new/brain/2020_11_9_MV1_run and /mnt/teams/Tsuchitori/MV1_run_30hz_30frame_brain2behav_DFF_new/dino/2020_11_9_MV1_run\n",
      "11520\n",
      "importing from: /mnt/teams/Tsuchitori/MV1_run_30hz_30frame_brain2behav_DFF_new/brain/2020_11_17_MV1_run and /mnt/teams/Tsuchitori/MV1_run_30hz_30frame_brain2behav_DFF_new/dino/2020_11_17_MV1_run\n",
      "11520\n",
      "loading data\n",
      "Training on slice 4\n"
     ]
    },
    {
     "name": "stderr",
     "output_type": "stream",
     "text": [
      "pos:  0.6351 neg:  2.1340 total:  2.7690 temperature:  0.0100: 100%|██████████| 200/200 [00:05<00:00, 33.92it/s]\n"
     ]
    },
    {
     "name": "stdout",
     "output_type": "stream",
     "text": [
      "importing from: /mnt/teams/Tsuchitori/MV1_run_30hz_30frame_brain2behav_DFF_new/brain/2021_1_8_MV1_run and /mnt/teams/Tsuchitori/MV1_run_30hz_30frame_brain2behav_DFF_new/dino/2021_1_8_MV1_run\n",
      "11520\n",
      "importing from: /mnt/teams/Tsuchitori/MV1_run_30hz_30frame_brain2behav_DFF_new/brain/2020_11_23_MV1_run and /mnt/teams/Tsuchitori/MV1_run_30hz_30frame_brain2behav_DFF_new/dino/2020_11_23_MV1_run\n",
      "11520\n",
      "importing from: /mnt/teams/Tsuchitori/MV1_run_30hz_30frame_brain2behav_DFF_new/brain/2020_12_4_MV1_run and /mnt/teams/Tsuchitori/MV1_run_30hz_30frame_brain2behav_DFF_new/dino/2020_12_4_MV1_run\n",
      "11520\n",
      "importing from: /mnt/teams/Tsuchitori/MV1_run_30hz_30frame_brain2behav_DFF_new/brain/2020_11_2_MV1_run and /mnt/teams/Tsuchitori/MV1_run_30hz_30frame_brain2behav_DFF_new/dino/2020_11_2_MV1_run\n",
      "11520\n",
      "importing from: /mnt/teams/Tsuchitori/MV1_run_30hz_30frame_brain2behav_DFF_new/brain/2021_1_12_MV1_run and /mnt/teams/Tsuchitori/MV1_run_30hz_30frame_brain2behav_DFF_new/dino/2021_1_12_MV1_run\n",
      "11520\n",
      "importing from: /mnt/teams/Tsuchitori/MV1_run_30hz_30frame_brain2behav_DFF_new/brain/2020_12_10_MV1_run and /mnt/teams/Tsuchitori/MV1_run_30hz_30frame_brain2behav_DFF_new/dino/2020_12_10_MV1_run\n",
      "11520\n",
      "importing from: /mnt/teams/Tsuchitori/MV1_run_30hz_30frame_brain2behav_DFF_new/brain/2020_11_9_MV1_run and /mnt/teams/Tsuchitori/MV1_run_30hz_30frame_brain2behav_DFF_new/dino/2020_11_9_MV1_run\n",
      "11520\n",
      "importing from: /mnt/teams/Tsuchitori/MV1_run_30hz_30frame_brain2behav_DFF_new/brain/2020_11_17_MV1_run and /mnt/teams/Tsuchitori/MV1_run_30hz_30frame_brain2behav_DFF_new/dino/2020_11_17_MV1_run\n",
      "11520\n",
      "loading data\n",
      "Training on slice 5\n"
     ]
    },
    {
     "name": "stderr",
     "output_type": "stream",
     "text": [
      "pos:  1.0832 neg:  1.7817 total:  2.8648 temperature:  0.0100: 100%|██████████| 200/200 [00:05<00:00, 35.70it/s]\n"
     ]
    },
    {
     "name": "stdout",
     "output_type": "stream",
     "text": [
      "importing from: /mnt/teams/Tsuchitori/MV1_run_30hz_30frame_brain2behav_DFF_new/brain/2021_1_8_MV1_run and /mnt/teams/Tsuchitori/MV1_run_30hz_30frame_brain2behav_DFF_new/dino/2021_1_8_MV1_run\n",
      "11520\n",
      "importing from: /mnt/teams/Tsuchitori/MV1_run_30hz_30frame_brain2behav_DFF_new/brain/2020_11_23_MV1_run and /mnt/teams/Tsuchitori/MV1_run_30hz_30frame_brain2behav_DFF_new/dino/2020_11_23_MV1_run\n",
      "11520\n",
      "importing from: /mnt/teams/Tsuchitori/MV1_run_30hz_30frame_brain2behav_DFF_new/brain/2020_12_4_MV1_run and /mnt/teams/Tsuchitori/MV1_run_30hz_30frame_brain2behav_DFF_new/dino/2020_12_4_MV1_run\n",
      "11520\n",
      "importing from: /mnt/teams/Tsuchitori/MV1_run_30hz_30frame_brain2behav_DFF_new/brain/2020_11_2_MV1_run and /mnt/teams/Tsuchitori/MV1_run_30hz_30frame_brain2behav_DFF_new/dino/2020_11_2_MV1_run\n",
      "11520\n",
      "importing from: /mnt/teams/Tsuchitori/MV1_run_30hz_30frame_brain2behav_DFF_new/brain/2021_1_12_MV1_run and /mnt/teams/Tsuchitori/MV1_run_30hz_30frame_brain2behav_DFF_new/dino/2021_1_12_MV1_run\n",
      "11520\n",
      "importing from: /mnt/teams/Tsuchitori/MV1_run_30hz_30frame_brain2behav_DFF_new/brain/2020_12_10_MV1_run and /mnt/teams/Tsuchitori/MV1_run_30hz_30frame_brain2behav_DFF_new/dino/2020_12_10_MV1_run\n",
      "11520\n",
      "importing from: /mnt/teams/Tsuchitori/MV1_run_30hz_30frame_brain2behav_DFF_new/brain/2020_11_9_MV1_run and /mnt/teams/Tsuchitori/MV1_run_30hz_30frame_brain2behav_DFF_new/dino/2020_11_9_MV1_run\n",
      "11520\n",
      "importing from: /mnt/teams/Tsuchitori/MV1_run_30hz_30frame_brain2behav_DFF_new/brain/2020_11_17_MV1_run and /mnt/teams/Tsuchitori/MV1_run_30hz_30frame_brain2behav_DFF_new/dino/2020_11_17_MV1_run\n",
      "11520\n",
      "loading data\n",
      "Training on slice 6\n"
     ]
    },
    {
     "name": "stderr",
     "output_type": "stream",
     "text": [
      "pos:  0.4310 neg:  2.1812 total:  2.6123 temperature:  0.0100: 100%|██████████| 200/200 [00:05<00:00, 34.56it/s]\n"
     ]
    },
    {
     "name": "stdout",
     "output_type": "stream",
     "text": [
      "importing from: /mnt/teams/Tsuchitori/MV1_run_30hz_30frame_brain2behav_DFF_new/brain/2021_1_8_MV1_run and /mnt/teams/Tsuchitori/MV1_run_30hz_30frame_brain2behav_DFF_new/dino/2021_1_8_MV1_run\n",
      "11520\n",
      "importing from: /mnt/teams/Tsuchitori/MV1_run_30hz_30frame_brain2behav_DFF_new/brain/2020_11_23_MV1_run and /mnt/teams/Tsuchitori/MV1_run_30hz_30frame_brain2behav_DFF_new/dino/2020_11_23_MV1_run\n",
      "11520\n",
      "importing from: /mnt/teams/Tsuchitori/MV1_run_30hz_30frame_brain2behav_DFF_new/brain/2020_12_4_MV1_run and /mnt/teams/Tsuchitori/MV1_run_30hz_30frame_brain2behav_DFF_new/dino/2020_12_4_MV1_run\n",
      "11520\n",
      "importing from: /mnt/teams/Tsuchitori/MV1_run_30hz_30frame_brain2behav_DFF_new/brain/2020_11_2_MV1_run and /mnt/teams/Tsuchitori/MV1_run_30hz_30frame_brain2behav_DFF_new/dino/2020_11_2_MV1_run\n",
      "11520\n",
      "importing from: /mnt/teams/Tsuchitori/MV1_run_30hz_30frame_brain2behav_DFF_new/brain/2021_1_12_MV1_run and /mnt/teams/Tsuchitori/MV1_run_30hz_30frame_brain2behav_DFF_new/dino/2021_1_12_MV1_run\n",
      "11520\n",
      "importing from: /mnt/teams/Tsuchitori/MV1_run_30hz_30frame_brain2behav_DFF_new/brain/2020_12_10_MV1_run and /mnt/teams/Tsuchitori/MV1_run_30hz_30frame_brain2behav_DFF_new/dino/2020_12_10_MV1_run\n",
      "11520\n",
      "importing from: /mnt/teams/Tsuchitori/MV1_run_30hz_30frame_brain2behav_DFF_new/brain/2020_11_9_MV1_run and /mnt/teams/Tsuchitori/MV1_run_30hz_30frame_brain2behav_DFF_new/dino/2020_11_9_MV1_run\n",
      "11520\n",
      "importing from: /mnt/teams/Tsuchitori/MV1_run_30hz_30frame_brain2behav_DFF_new/brain/2020_11_17_MV1_run and /mnt/teams/Tsuchitori/MV1_run_30hz_30frame_brain2behav_DFF_new/dino/2020_11_17_MV1_run\n",
      "11520\n",
      "loading data\n",
      "Training on slice 7\n"
     ]
    },
    {
     "name": "stderr",
     "output_type": "stream",
     "text": [
      "pos:  0.9442 neg:  2.2960 total:  3.2401 temperature:  0.0100: 100%|██████████| 200/200 [00:05<00:00, 35.54it/s]\n"
     ]
    },
    {
     "name": "stdout",
     "output_type": "stream",
     "text": [
      "importing from: /mnt/teams/Tsuchitori/MV1_run_30hz_30frame_brain2behav_DFF_new/brain/2021_1_8_MV1_run and /mnt/teams/Tsuchitori/MV1_run_30hz_30frame_brain2behav_DFF_new/dino/2021_1_8_MV1_run\n",
      "11520\n",
      "importing from: /mnt/teams/Tsuchitori/MV1_run_30hz_30frame_brain2behav_DFF_new/brain/2020_11_23_MV1_run and /mnt/teams/Tsuchitori/MV1_run_30hz_30frame_brain2behav_DFF_new/dino/2020_11_23_MV1_run\n",
      "11520\n",
      "importing from: /mnt/teams/Tsuchitori/MV1_run_30hz_30frame_brain2behav_DFF_new/brain/2020_12_4_MV1_run and /mnt/teams/Tsuchitori/MV1_run_30hz_30frame_brain2behav_DFF_new/dino/2020_12_4_MV1_run\n",
      "11520\n",
      "importing from: /mnt/teams/Tsuchitori/MV1_run_30hz_30frame_brain2behav_DFF_new/brain/2020_11_2_MV1_run and /mnt/teams/Tsuchitori/MV1_run_30hz_30frame_brain2behav_DFF_new/dino/2020_11_2_MV1_run\n",
      "11520\n",
      "importing from: /mnt/teams/Tsuchitori/MV1_run_30hz_30frame_brain2behav_DFF_new/brain/2021_1_12_MV1_run and /mnt/teams/Tsuchitori/MV1_run_30hz_30frame_brain2behav_DFF_new/dino/2021_1_12_MV1_run\n",
      "11520\n",
      "importing from: /mnt/teams/Tsuchitori/MV1_run_30hz_30frame_brain2behav_DFF_new/brain/2020_12_10_MV1_run and /mnt/teams/Tsuchitori/MV1_run_30hz_30frame_brain2behav_DFF_new/dino/2020_12_10_MV1_run\n",
      "11520\n",
      "importing from: /mnt/teams/Tsuchitori/MV1_run_30hz_30frame_brain2behav_DFF_new/brain/2020_11_9_MV1_run and /mnt/teams/Tsuchitori/MV1_run_30hz_30frame_brain2behav_DFF_new/dino/2020_11_9_MV1_run\n",
      "11520\n",
      "importing from: /mnt/teams/Tsuchitori/MV1_run_30hz_30frame_brain2behav_DFF_new/brain/2020_11_17_MV1_run and /mnt/teams/Tsuchitori/MV1_run_30hz_30frame_brain2behav_DFF_new/dino/2020_11_17_MV1_run\n",
      "11520\n",
      "loading data\n",
      "Training on slice 8\n"
     ]
    },
    {
     "name": "stderr",
     "output_type": "stream",
     "text": [
      "pos:  0.6153 neg:  2.3554 total:  2.9707 temperature:  0.0100: 100%|██████████| 200/200 [00:05<00:00, 34.82it/s]\n"
     ]
    },
    {
     "name": "stdout",
     "output_type": "stream",
     "text": [
      "importing from: /mnt/teams/Tsuchitori/MV1_run_30hz_30frame_brain2behav_DFF_new/brain/2021_1_8_MV1_run and /mnt/teams/Tsuchitori/MV1_run_30hz_30frame_brain2behav_DFF_new/dino/2021_1_8_MV1_run\n",
      "11520\n",
      "importing from: /mnt/teams/Tsuchitori/MV1_run_30hz_30frame_brain2behav_DFF_new/brain/2020_11_23_MV1_run and /mnt/teams/Tsuchitori/MV1_run_30hz_30frame_brain2behav_DFF_new/dino/2020_11_23_MV1_run\n",
      "11520\n",
      "importing from: /mnt/teams/Tsuchitori/MV1_run_30hz_30frame_brain2behav_DFF_new/brain/2020_12_4_MV1_run and /mnt/teams/Tsuchitori/MV1_run_30hz_30frame_brain2behav_DFF_new/dino/2020_12_4_MV1_run\n",
      "11520\n",
      "importing from: /mnt/teams/Tsuchitori/MV1_run_30hz_30frame_brain2behav_DFF_new/brain/2020_11_2_MV1_run and /mnt/teams/Tsuchitori/MV1_run_30hz_30frame_brain2behav_DFF_new/dino/2020_11_2_MV1_run\n",
      "11520\n",
      "importing from: /mnt/teams/Tsuchitori/MV1_run_30hz_30frame_brain2behav_DFF_new/brain/2021_1_12_MV1_run and /mnt/teams/Tsuchitori/MV1_run_30hz_30frame_brain2behav_DFF_new/dino/2021_1_12_MV1_run\n",
      "11520\n",
      "importing from: /mnt/teams/Tsuchitori/MV1_run_30hz_30frame_brain2behav_DFF_new/brain/2020_12_10_MV1_run and /mnt/teams/Tsuchitori/MV1_run_30hz_30frame_brain2behav_DFF_new/dino/2020_12_10_MV1_run\n",
      "11520\n",
      "importing from: /mnt/teams/Tsuchitori/MV1_run_30hz_30frame_brain2behav_DFF_new/brain/2020_11_9_MV1_run and /mnt/teams/Tsuchitori/MV1_run_30hz_30frame_brain2behav_DFF_new/dino/2020_11_9_MV1_run\n",
      "11520\n",
      "importing from: /mnt/teams/Tsuchitori/MV1_run_30hz_30frame_brain2behav_DFF_new/brain/2020_11_17_MV1_run and /mnt/teams/Tsuchitori/MV1_run_30hz_30frame_brain2behav_DFF_new/dino/2020_11_17_MV1_run\n",
      "11520\n",
      "loading data\n",
      "Training on slice 9\n"
     ]
    },
    {
     "name": "stderr",
     "output_type": "stream",
     "text": [
      "pos:  0.4704 neg:  2.1303 total:  2.6007 temperature:  0.0100: 100%|██████████| 200/200 [00:05<00:00, 36.33it/s]\n"
     ]
    },
    {
     "name": "stdout",
     "output_type": "stream",
     "text": [
      "importing from: /mnt/teams/Tsuchitori/MV1_run_30hz_30frame_brain2behav_DFF_new/brain/2021_1_8_MV1_run and /mnt/teams/Tsuchitori/MV1_run_30hz_30frame_brain2behav_DFF_new/dino/2021_1_8_MV1_run\n",
      "11520\n",
      "importing from: /mnt/teams/Tsuchitori/MV1_run_30hz_30frame_brain2behav_DFF_new/brain/2020_11_23_MV1_run and /mnt/teams/Tsuchitori/MV1_run_30hz_30frame_brain2behav_DFF_new/dino/2020_11_23_MV1_run\n",
      "11520\n",
      "importing from: /mnt/teams/Tsuchitori/MV1_run_30hz_30frame_brain2behav_DFF_new/brain/2020_12_4_MV1_run and /mnt/teams/Tsuchitori/MV1_run_30hz_30frame_brain2behav_DFF_new/dino/2020_12_4_MV1_run\n",
      "11520\n",
      "importing from: /mnt/teams/Tsuchitori/MV1_run_30hz_30frame_brain2behav_DFF_new/brain/2020_11_2_MV1_run and /mnt/teams/Tsuchitori/MV1_run_30hz_30frame_brain2behav_DFF_new/dino/2020_11_2_MV1_run\n",
      "11520\n",
      "importing from: /mnt/teams/Tsuchitori/MV1_run_30hz_30frame_brain2behav_DFF_new/brain/2021_1_12_MV1_run and /mnt/teams/Tsuchitori/MV1_run_30hz_30frame_brain2behav_DFF_new/dino/2021_1_12_MV1_run\n",
      "11520\n",
      "importing from: /mnt/teams/Tsuchitori/MV1_run_30hz_30frame_brain2behav_DFF_new/brain/2020_12_10_MV1_run and /mnt/teams/Tsuchitori/MV1_run_30hz_30frame_brain2behav_DFF_new/dino/2020_12_10_MV1_run\n",
      "11520\n",
      "importing from: /mnt/teams/Tsuchitori/MV1_run_30hz_30frame_brain2behav_DFF_new/brain/2020_11_9_MV1_run and /mnt/teams/Tsuchitori/MV1_run_30hz_30frame_brain2behav_DFF_new/dino/2020_11_9_MV1_run\n",
      "11520\n",
      "importing from: /mnt/teams/Tsuchitori/MV1_run_30hz_30frame_brain2behav_DFF_new/brain/2020_11_17_MV1_run and /mnt/teams/Tsuchitori/MV1_run_30hz_30frame_brain2behav_DFF_new/dino/2020_11_17_MV1_run\n",
      "11520\n",
      "loading data\n",
      "Training on slice 10\n"
     ]
    },
    {
     "name": "stderr",
     "output_type": "stream",
     "text": [
      "pos:  0.6652 neg:  2.1872 total:  2.8525 temperature:  0.0100: 100%|██████████| 200/200 [00:05<00:00, 35.25it/s]\n"
     ]
    },
    {
     "name": "stdout",
     "output_type": "stream",
     "text": [
      "importing from: /mnt/teams/Tsuchitori/MV1_run_30hz_30frame_brain2behav_DFF_new/brain/2021_1_8_MV1_run and /mnt/teams/Tsuchitori/MV1_run_30hz_30frame_brain2behav_DFF_new/dino/2021_1_8_MV1_run\n",
      "11520\n",
      "importing from: /mnt/teams/Tsuchitori/MV1_run_30hz_30frame_brain2behav_DFF_new/brain/2020_11_23_MV1_run and /mnt/teams/Tsuchitori/MV1_run_30hz_30frame_brain2behav_DFF_new/dino/2020_11_23_MV1_run\n",
      "11520\n",
      "importing from: /mnt/teams/Tsuchitori/MV1_run_30hz_30frame_brain2behav_DFF_new/brain/2020_12_4_MV1_run and /mnt/teams/Tsuchitori/MV1_run_30hz_30frame_brain2behav_DFF_new/dino/2020_12_4_MV1_run\n",
      "11520\n",
      "importing from: /mnt/teams/Tsuchitori/MV1_run_30hz_30frame_brain2behav_DFF_new/brain/2020_11_2_MV1_run and /mnt/teams/Tsuchitori/MV1_run_30hz_30frame_brain2behav_DFF_new/dino/2020_11_2_MV1_run\n",
      "11520\n",
      "importing from: /mnt/teams/Tsuchitori/MV1_run_30hz_30frame_brain2behav_DFF_new/brain/2021_1_12_MV1_run and /mnt/teams/Tsuchitori/MV1_run_30hz_30frame_brain2behav_DFF_new/dino/2021_1_12_MV1_run\n",
      "11520\n",
      "importing from: /mnt/teams/Tsuchitori/MV1_run_30hz_30frame_brain2behav_DFF_new/brain/2020_12_10_MV1_run and /mnt/teams/Tsuchitori/MV1_run_30hz_30frame_brain2behav_DFF_new/dino/2020_12_10_MV1_run\n",
      "11520\n",
      "importing from: /mnt/teams/Tsuchitori/MV1_run_30hz_30frame_brain2behav_DFF_new/brain/2020_11_9_MV1_run and /mnt/teams/Tsuchitori/MV1_run_30hz_30frame_brain2behav_DFF_new/dino/2020_11_9_MV1_run\n",
      "11520\n",
      "importing from: /mnt/teams/Tsuchitori/MV1_run_30hz_30frame_brain2behav_DFF_new/brain/2020_11_17_MV1_run and /mnt/teams/Tsuchitori/MV1_run_30hz_30frame_brain2behav_DFF_new/dino/2020_11_17_MV1_run\n",
      "11520\n",
      "loading data\n",
      "Training on slice 11\n"
     ]
    },
    {
     "name": "stderr",
     "output_type": "stream",
     "text": [
      "pos:  0.5679 neg:  2.1874 total:  2.7554 temperature:  0.0100: 100%|██████████| 200/200 [00:05<00:00, 34.27it/s]\n"
     ]
    },
    {
     "name": "stdout",
     "output_type": "stream",
     "text": [
      "importing from: /mnt/teams/Tsuchitori/MV1_run_30hz_30frame_brain2behav_DFF_new/brain/2021_1_8_MV1_run and /mnt/teams/Tsuchitori/MV1_run_30hz_30frame_brain2behav_DFF_new/dino/2021_1_8_MV1_run\n",
      "11520\n",
      "importing from: /mnt/teams/Tsuchitori/MV1_run_30hz_30frame_brain2behav_DFF_new/brain/2020_11_23_MV1_run and /mnt/teams/Tsuchitori/MV1_run_30hz_30frame_brain2behav_DFF_new/dino/2020_11_23_MV1_run\n",
      "11520\n",
      "importing from: /mnt/teams/Tsuchitori/MV1_run_30hz_30frame_brain2behav_DFF_new/brain/2020_12_4_MV1_run and /mnt/teams/Tsuchitori/MV1_run_30hz_30frame_brain2behav_DFF_new/dino/2020_12_4_MV1_run\n",
      "11520\n",
      "importing from: /mnt/teams/Tsuchitori/MV1_run_30hz_30frame_brain2behav_DFF_new/brain/2020_11_2_MV1_run and /mnt/teams/Tsuchitori/MV1_run_30hz_30frame_brain2behav_DFF_new/dino/2020_11_2_MV1_run\n",
      "11520\n",
      "importing from: /mnt/teams/Tsuchitori/MV1_run_30hz_30frame_brain2behav_DFF_new/brain/2021_1_12_MV1_run and /mnt/teams/Tsuchitori/MV1_run_30hz_30frame_brain2behav_DFF_new/dino/2021_1_12_MV1_run\n",
      "11520\n",
      "importing from: /mnt/teams/Tsuchitori/MV1_run_30hz_30frame_brain2behav_DFF_new/brain/2020_12_10_MV1_run and /mnt/teams/Tsuchitori/MV1_run_30hz_30frame_brain2behav_DFF_new/dino/2020_12_10_MV1_run\n",
      "11520\n",
      "importing from: /mnt/teams/Tsuchitori/MV1_run_30hz_30frame_brain2behav_DFF_new/brain/2020_11_9_MV1_run and /mnt/teams/Tsuchitori/MV1_run_30hz_30frame_brain2behav_DFF_new/dino/2020_11_9_MV1_run\n",
      "11520\n",
      "importing from: /mnt/teams/Tsuchitori/MV1_run_30hz_30frame_brain2behav_DFF_new/brain/2020_11_17_MV1_run and /mnt/teams/Tsuchitori/MV1_run_30hz_30frame_brain2behav_DFF_new/dino/2020_11_17_MV1_run\n",
      "11520\n",
      "loading data\n",
      "Training on slice 12\n"
     ]
    },
    {
     "name": "stderr",
     "output_type": "stream",
     "text": [
      "pos:  0.9564 neg:  1.8603 total:  2.8168 temperature:  0.0100: 100%|██████████| 200/200 [00:05<00:00, 35.03it/s]\n"
     ]
    },
    {
     "name": "stdout",
     "output_type": "stream",
     "text": [
      "importing from: /mnt/teams/Tsuchitori/MV1_run_30hz_30frame_brain2behav_DFF_new/brain/2021_1_8_MV1_run and /mnt/teams/Tsuchitori/MV1_run_30hz_30frame_brain2behav_DFF_new/dino/2021_1_8_MV1_run\n",
      "11520\n",
      "importing from: /mnt/teams/Tsuchitori/MV1_run_30hz_30frame_brain2behav_DFF_new/brain/2020_11_23_MV1_run and /mnt/teams/Tsuchitori/MV1_run_30hz_30frame_brain2behav_DFF_new/dino/2020_11_23_MV1_run\n",
      "11520\n",
      "importing from: /mnt/teams/Tsuchitori/MV1_run_30hz_30frame_brain2behav_DFF_new/brain/2020_12_4_MV1_run and /mnt/teams/Tsuchitori/MV1_run_30hz_30frame_brain2behav_DFF_new/dino/2020_12_4_MV1_run\n",
      "11520\n",
      "importing from: /mnt/teams/Tsuchitori/MV1_run_30hz_30frame_brain2behav_DFF_new/brain/2020_11_2_MV1_run and /mnt/teams/Tsuchitori/MV1_run_30hz_30frame_brain2behav_DFF_new/dino/2020_11_2_MV1_run\n",
      "11520\n",
      "importing from: /mnt/teams/Tsuchitori/MV1_run_30hz_30frame_brain2behav_DFF_new/brain/2021_1_12_MV1_run and /mnt/teams/Tsuchitori/MV1_run_30hz_30frame_brain2behav_DFF_new/dino/2021_1_12_MV1_run\n",
      "11520\n",
      "importing from: /mnt/teams/Tsuchitori/MV1_run_30hz_30frame_brain2behav_DFF_new/brain/2020_12_10_MV1_run and /mnt/teams/Tsuchitori/MV1_run_30hz_30frame_brain2behav_DFF_new/dino/2020_12_10_MV1_run\n",
      "11520\n",
      "importing from: /mnt/teams/Tsuchitori/MV1_run_30hz_30frame_brain2behav_DFF_new/brain/2020_11_9_MV1_run and /mnt/teams/Tsuchitori/MV1_run_30hz_30frame_brain2behav_DFF_new/dino/2020_11_9_MV1_run\n",
      "11520\n",
      "importing from: /mnt/teams/Tsuchitori/MV1_run_30hz_30frame_brain2behav_DFF_new/brain/2020_11_17_MV1_run and /mnt/teams/Tsuchitori/MV1_run_30hz_30frame_brain2behav_DFF_new/dino/2020_11_17_MV1_run\n",
      "11520\n",
      "loading data\n",
      "Training on slice 13\n"
     ]
    },
    {
     "name": "stderr",
     "output_type": "stream",
     "text": [
      "pos:  0.7675 neg:  2.0019 total:  2.7694 temperature:  0.0100: 100%|██████████| 200/200 [00:05<00:00, 33.89it/s]\n"
     ]
    },
    {
     "name": "stdout",
     "output_type": "stream",
     "text": [
      "importing from: /mnt/teams/Tsuchitori/MV1_run_30hz_30frame_brain2behav_DFF_new/brain/2021_1_8_MV1_run and /mnt/teams/Tsuchitori/MV1_run_30hz_30frame_brain2behav_DFF_new/dino/2021_1_8_MV1_run\n",
      "11520\n",
      "importing from: /mnt/teams/Tsuchitori/MV1_run_30hz_30frame_brain2behav_DFF_new/brain/2020_11_23_MV1_run and /mnt/teams/Tsuchitori/MV1_run_30hz_30frame_brain2behav_DFF_new/dino/2020_11_23_MV1_run\n",
      "11520\n",
      "importing from: /mnt/teams/Tsuchitori/MV1_run_30hz_30frame_brain2behav_DFF_new/brain/2020_12_4_MV1_run and /mnt/teams/Tsuchitori/MV1_run_30hz_30frame_brain2behav_DFF_new/dino/2020_12_4_MV1_run\n",
      "11520\n",
      "importing from: /mnt/teams/Tsuchitori/MV1_run_30hz_30frame_brain2behav_DFF_new/brain/2020_11_2_MV1_run and /mnt/teams/Tsuchitori/MV1_run_30hz_30frame_brain2behav_DFF_new/dino/2020_11_2_MV1_run\n",
      "11520\n",
      "importing from: /mnt/teams/Tsuchitori/MV1_run_30hz_30frame_brain2behav_DFF_new/brain/2021_1_12_MV1_run and /mnt/teams/Tsuchitori/MV1_run_30hz_30frame_brain2behav_DFF_new/dino/2021_1_12_MV1_run\n",
      "11520\n",
      "importing from: /mnt/teams/Tsuchitori/MV1_run_30hz_30frame_brain2behav_DFF_new/brain/2020_12_10_MV1_run and /mnt/teams/Tsuchitori/MV1_run_30hz_30frame_brain2behav_DFF_new/dino/2020_12_10_MV1_run\n",
      "11520\n",
      "importing from: /mnt/teams/Tsuchitori/MV1_run_30hz_30frame_brain2behav_DFF_new/brain/2020_11_9_MV1_run and /mnt/teams/Tsuchitori/MV1_run_30hz_30frame_brain2behav_DFF_new/dino/2020_11_9_MV1_run\n",
      "11520\n",
      "importing from: /mnt/teams/Tsuchitori/MV1_run_30hz_30frame_brain2behav_DFF_new/brain/2020_11_17_MV1_run and /mnt/teams/Tsuchitori/MV1_run_30hz_30frame_brain2behav_DFF_new/dino/2020_11_17_MV1_run\n",
      "11520\n",
      "loading data\n",
      "Training on slice 14\n"
     ]
    },
    {
     "name": "stderr",
     "output_type": "stream",
     "text": [
      "pos:  0.3566 neg:  2.2471 total:  2.6036 temperature:  0.0100: 100%|██████████| 200/200 [00:05<00:00, 36.34it/s]\n"
     ]
    },
    {
     "name": "stdout",
     "output_type": "stream",
     "text": [
      "importing from: /mnt/teams/Tsuchitori/MV1_run_30hz_30frame_brain2behav_DFF_new/brain/2021_1_8_MV1_run and /mnt/teams/Tsuchitori/MV1_run_30hz_30frame_brain2behav_DFF_new/dino/2021_1_8_MV1_run\n",
      "11520\n",
      "importing from: /mnt/teams/Tsuchitori/MV1_run_30hz_30frame_brain2behav_DFF_new/brain/2020_11_23_MV1_run and /mnt/teams/Tsuchitori/MV1_run_30hz_30frame_brain2behav_DFF_new/dino/2020_11_23_MV1_run\n",
      "11520\n",
      "importing from: /mnt/teams/Tsuchitori/MV1_run_30hz_30frame_brain2behav_DFF_new/brain/2020_12_4_MV1_run and /mnt/teams/Tsuchitori/MV1_run_30hz_30frame_brain2behav_DFF_new/dino/2020_12_4_MV1_run\n",
      "11520\n",
      "importing from: /mnt/teams/Tsuchitori/MV1_run_30hz_30frame_brain2behav_DFF_new/brain/2020_11_2_MV1_run and /mnt/teams/Tsuchitori/MV1_run_30hz_30frame_brain2behav_DFF_new/dino/2020_11_2_MV1_run\n",
      "11520\n",
      "importing from: /mnt/teams/Tsuchitori/MV1_run_30hz_30frame_brain2behav_DFF_new/brain/2021_1_12_MV1_run and /mnt/teams/Tsuchitori/MV1_run_30hz_30frame_brain2behav_DFF_new/dino/2021_1_12_MV1_run\n",
      "11520\n",
      "importing from: /mnt/teams/Tsuchitori/MV1_run_30hz_30frame_brain2behav_DFF_new/brain/2020_12_10_MV1_run and /mnt/teams/Tsuchitori/MV1_run_30hz_30frame_brain2behav_DFF_new/dino/2020_12_10_MV1_run\n",
      "11520\n",
      "importing from: /mnt/teams/Tsuchitori/MV1_run_30hz_30frame_brain2behav_DFF_new/brain/2020_11_9_MV1_run and /mnt/teams/Tsuchitori/MV1_run_30hz_30frame_brain2behav_DFF_new/dino/2020_11_9_MV1_run\n",
      "11520\n",
      "importing from: /mnt/teams/Tsuchitori/MV1_run_30hz_30frame_brain2behav_DFF_new/brain/2020_11_17_MV1_run and /mnt/teams/Tsuchitori/MV1_run_30hz_30frame_brain2behav_DFF_new/dino/2020_11_17_MV1_run\n",
      "11520\n",
      "loading data\n",
      "Training on slice 15\n"
     ]
    },
    {
     "name": "stderr",
     "output_type": "stream",
     "text": [
      "pos:  0.7146 neg:  2.1977 total:  2.9123 temperature:  0.0100: 100%|██████████| 200/200 [00:05<00:00, 37.44it/s]\n"
     ]
    },
    {
     "name": "stdout",
     "output_type": "stream",
     "text": [
      "importing from: /mnt/teams/Tsuchitori/MV1_run_30hz_30frame_brain2behav_DFF_new/brain/2021_1_8_MV1_run and /mnt/teams/Tsuchitori/MV1_run_30hz_30frame_brain2behav_DFF_new/dino/2021_1_8_MV1_run\n",
      "11520\n",
      "importing from: /mnt/teams/Tsuchitori/MV1_run_30hz_30frame_brain2behav_DFF_new/brain/2020_11_23_MV1_run and /mnt/teams/Tsuchitori/MV1_run_30hz_30frame_brain2behav_DFF_new/dino/2020_11_23_MV1_run\n",
      "11520\n",
      "importing from: /mnt/teams/Tsuchitori/MV1_run_30hz_30frame_brain2behav_DFF_new/brain/2020_12_4_MV1_run and /mnt/teams/Tsuchitori/MV1_run_30hz_30frame_brain2behav_DFF_new/dino/2020_12_4_MV1_run\n",
      "11520\n",
      "importing from: /mnt/teams/Tsuchitori/MV1_run_30hz_30frame_brain2behav_DFF_new/brain/2020_11_2_MV1_run and /mnt/teams/Tsuchitori/MV1_run_30hz_30frame_brain2behav_DFF_new/dino/2020_11_2_MV1_run\n",
      "11520\n",
      "importing from: /mnt/teams/Tsuchitori/MV1_run_30hz_30frame_brain2behav_DFF_new/brain/2021_1_12_MV1_run and /mnt/teams/Tsuchitori/MV1_run_30hz_30frame_brain2behav_DFF_new/dino/2021_1_12_MV1_run\n",
      "11520\n",
      "importing from: /mnt/teams/Tsuchitori/MV1_run_30hz_30frame_brain2behav_DFF_new/brain/2020_12_10_MV1_run and /mnt/teams/Tsuchitori/MV1_run_30hz_30frame_brain2behav_DFF_new/dino/2020_12_10_MV1_run\n",
      "11520\n",
      "importing from: /mnt/teams/Tsuchitori/MV1_run_30hz_30frame_brain2behav_DFF_new/brain/2020_11_9_MV1_run and /mnt/teams/Tsuchitori/MV1_run_30hz_30frame_brain2behav_DFF_new/dino/2020_11_9_MV1_run\n",
      "11520\n",
      "importing from: /mnt/teams/Tsuchitori/MV1_run_30hz_30frame_brain2behav_DFF_new/brain/2020_11_17_MV1_run and /mnt/teams/Tsuchitori/MV1_run_30hz_30frame_brain2behav_DFF_new/dino/2020_11_17_MV1_run\n",
      "11520\n",
      "loading data\n",
      "Training on slice 16\n"
     ]
    },
    {
     "name": "stderr",
     "output_type": "stream",
     "text": [
      "pos:  0.7640 neg:  2.2842 total:  3.0483 temperature:  0.0100: 100%|██████████| 200/200 [00:05<00:00, 35.22it/s]\n"
     ]
    },
    {
     "name": "stdout",
     "output_type": "stream",
     "text": [
      "importing from: /mnt/teams/Tsuchitori/MV1_run_30hz_30frame_brain2behav_DFF_new/brain/2021_1_8_MV1_run and /mnt/teams/Tsuchitori/MV1_run_30hz_30frame_brain2behav_DFF_new/dino/2021_1_8_MV1_run\n",
      "11520\n",
      "importing from: /mnt/teams/Tsuchitori/MV1_run_30hz_30frame_brain2behav_DFF_new/brain/2020_11_23_MV1_run and /mnt/teams/Tsuchitori/MV1_run_30hz_30frame_brain2behav_DFF_new/dino/2020_11_23_MV1_run\n",
      "11520\n",
      "importing from: /mnt/teams/Tsuchitori/MV1_run_30hz_30frame_brain2behav_DFF_new/brain/2020_12_4_MV1_run and /mnt/teams/Tsuchitori/MV1_run_30hz_30frame_brain2behav_DFF_new/dino/2020_12_4_MV1_run\n",
      "11520\n",
      "importing from: /mnt/teams/Tsuchitori/MV1_run_30hz_30frame_brain2behav_DFF_new/brain/2020_11_2_MV1_run and /mnt/teams/Tsuchitori/MV1_run_30hz_30frame_brain2behav_DFF_new/dino/2020_11_2_MV1_run\n",
      "11520\n",
      "importing from: /mnt/teams/Tsuchitori/MV1_run_30hz_30frame_brain2behav_DFF_new/brain/2021_1_12_MV1_run and /mnt/teams/Tsuchitori/MV1_run_30hz_30frame_brain2behav_DFF_new/dino/2021_1_12_MV1_run\n",
      "11520\n",
      "importing from: /mnt/teams/Tsuchitori/MV1_run_30hz_30frame_brain2behav_DFF_new/brain/2020_12_10_MV1_run and /mnt/teams/Tsuchitori/MV1_run_30hz_30frame_brain2behav_DFF_new/dino/2020_12_10_MV1_run\n",
      "11520\n",
      "importing from: /mnt/teams/Tsuchitori/MV1_run_30hz_30frame_brain2behav_DFF_new/brain/2020_11_9_MV1_run and /mnt/teams/Tsuchitori/MV1_run_30hz_30frame_brain2behav_DFF_new/dino/2020_11_9_MV1_run\n",
      "11520\n",
      "importing from: /mnt/teams/Tsuchitori/MV1_run_30hz_30frame_brain2behav_DFF_new/brain/2020_11_17_MV1_run and /mnt/teams/Tsuchitori/MV1_run_30hz_30frame_brain2behav_DFF_new/dino/2020_11_17_MV1_run\n",
      "11520\n",
      "loading data\n",
      "Training on slice 17\n"
     ]
    },
    {
     "name": "stderr",
     "output_type": "stream",
     "text": [
      "pos:  0.4454 neg:  2.1428 total:  2.5882 temperature:  0.0100: 100%|██████████| 200/200 [00:05<00:00, 34.52it/s]\n"
     ]
    },
    {
     "name": "stdout",
     "output_type": "stream",
     "text": [
      "importing from: /mnt/teams/Tsuchitori/MV1_run_30hz_30frame_brain2behav_DFF_new/brain/2021_1_8_MV1_run and /mnt/teams/Tsuchitori/MV1_run_30hz_30frame_brain2behav_DFF_new/dino/2021_1_8_MV1_run\n",
      "11520\n",
      "importing from: /mnt/teams/Tsuchitori/MV1_run_30hz_30frame_brain2behav_DFF_new/brain/2020_11_23_MV1_run and /mnt/teams/Tsuchitori/MV1_run_30hz_30frame_brain2behav_DFF_new/dino/2020_11_23_MV1_run\n",
      "11520\n",
      "importing from: /mnt/teams/Tsuchitori/MV1_run_30hz_30frame_brain2behav_DFF_new/brain/2020_12_4_MV1_run and /mnt/teams/Tsuchitori/MV1_run_30hz_30frame_brain2behav_DFF_new/dino/2020_12_4_MV1_run\n",
      "11520\n",
      "importing from: /mnt/teams/Tsuchitori/MV1_run_30hz_30frame_brain2behav_DFF_new/brain/2020_11_2_MV1_run and /mnt/teams/Tsuchitori/MV1_run_30hz_30frame_brain2behav_DFF_new/dino/2020_11_2_MV1_run\n",
      "11520\n",
      "importing from: /mnt/teams/Tsuchitori/MV1_run_30hz_30frame_brain2behav_DFF_new/brain/2021_1_12_MV1_run and /mnt/teams/Tsuchitori/MV1_run_30hz_30frame_brain2behav_DFF_new/dino/2021_1_12_MV1_run\n",
      "11520\n",
      "importing from: /mnt/teams/Tsuchitori/MV1_run_30hz_30frame_brain2behav_DFF_new/brain/2020_12_10_MV1_run and /mnt/teams/Tsuchitori/MV1_run_30hz_30frame_brain2behav_DFF_new/dino/2020_12_10_MV1_run\n",
      "11520\n",
      "importing from: /mnt/teams/Tsuchitori/MV1_run_30hz_30frame_brain2behav_DFF_new/brain/2020_11_9_MV1_run and /mnt/teams/Tsuchitori/MV1_run_30hz_30frame_brain2behav_DFF_new/dino/2020_11_9_MV1_run\n",
      "11520\n",
      "importing from: /mnt/teams/Tsuchitori/MV1_run_30hz_30frame_brain2behav_DFF_new/brain/2020_11_17_MV1_run and /mnt/teams/Tsuchitori/MV1_run_30hz_30frame_brain2behav_DFF_new/dino/2020_11_17_MV1_run\n",
      "11520\n",
      "loading data\n",
      "Training on slice 18\n"
     ]
    },
    {
     "name": "stderr",
     "output_type": "stream",
     "text": [
      "pos:  0.4776 neg:  2.2464 total:  2.7241 temperature:  0.0100: 100%|██████████| 200/200 [00:05<00:00, 36.65it/s]\n"
     ]
    },
    {
     "name": "stdout",
     "output_type": "stream",
     "text": [
      "importing from: /mnt/teams/Tsuchitori/MV1_run_30hz_30frame_brain2behav_DFF_new/brain/2021_1_8_MV1_run and /mnt/teams/Tsuchitori/MV1_run_30hz_30frame_brain2behav_DFF_new/dino/2021_1_8_MV1_run\n",
      "11520\n",
      "importing from: /mnt/teams/Tsuchitori/MV1_run_30hz_30frame_brain2behav_DFF_new/brain/2020_11_23_MV1_run and /mnt/teams/Tsuchitori/MV1_run_30hz_30frame_brain2behav_DFF_new/dino/2020_11_23_MV1_run\n",
      "11520\n",
      "importing from: /mnt/teams/Tsuchitori/MV1_run_30hz_30frame_brain2behav_DFF_new/brain/2020_12_4_MV1_run and /mnt/teams/Tsuchitori/MV1_run_30hz_30frame_brain2behav_DFF_new/dino/2020_12_4_MV1_run\n",
      "11520\n",
      "importing from: /mnt/teams/Tsuchitori/MV1_run_30hz_30frame_brain2behav_DFF_new/brain/2020_11_2_MV1_run and /mnt/teams/Tsuchitori/MV1_run_30hz_30frame_brain2behav_DFF_new/dino/2020_11_2_MV1_run\n",
      "11520\n",
      "importing from: /mnt/teams/Tsuchitori/MV1_run_30hz_30frame_brain2behav_DFF_new/brain/2021_1_12_MV1_run and /mnt/teams/Tsuchitori/MV1_run_30hz_30frame_brain2behav_DFF_new/dino/2021_1_12_MV1_run\n",
      "11520\n",
      "importing from: /mnt/teams/Tsuchitori/MV1_run_30hz_30frame_brain2behav_DFF_new/brain/2020_12_10_MV1_run and /mnt/teams/Tsuchitori/MV1_run_30hz_30frame_brain2behav_DFF_new/dino/2020_12_10_MV1_run\n",
      "11520\n",
      "importing from: /mnt/teams/Tsuchitori/MV1_run_30hz_30frame_brain2behav_DFF_new/brain/2020_11_9_MV1_run and /mnt/teams/Tsuchitori/MV1_run_30hz_30frame_brain2behav_DFF_new/dino/2020_11_9_MV1_run\n",
      "11520\n",
      "importing from: /mnt/teams/Tsuchitori/MV1_run_30hz_30frame_brain2behav_DFF_new/brain/2020_11_17_MV1_run and /mnt/teams/Tsuchitori/MV1_run_30hz_30frame_brain2behav_DFF_new/dino/2020_11_17_MV1_run\n",
      "11520\n",
      "loading data\n",
      "Training on slice 19\n"
     ]
    },
    {
     "name": "stderr",
     "output_type": "stream",
     "text": [
      "pos:  0.5088 neg:  2.0975 total:  2.6064 temperature:  0.0100: 100%|██████████| 200/200 [00:05<00:00, 36.56it/s]\n"
     ]
    },
    {
     "name": "stdout",
     "output_type": "stream",
     "text": [
      "importing from: /mnt/teams/Tsuchitori/MV1_run_30hz_30frame_brain2behav_DFF_new/brain/2021_1_8_MV1_run and /mnt/teams/Tsuchitori/MV1_run_30hz_30frame_brain2behav_DFF_new/dino/2021_1_8_MV1_run\n",
      "11520\n",
      "importing from: /mnt/teams/Tsuchitori/MV1_run_30hz_30frame_brain2behav_DFF_new/brain/2020_11_23_MV1_run and /mnt/teams/Tsuchitori/MV1_run_30hz_30frame_brain2behav_DFF_new/dino/2020_11_23_MV1_run\n",
      "11520\n",
      "importing from: /mnt/teams/Tsuchitori/MV1_run_30hz_30frame_brain2behav_DFF_new/brain/2020_12_4_MV1_run and /mnt/teams/Tsuchitori/MV1_run_30hz_30frame_brain2behav_DFF_new/dino/2020_12_4_MV1_run\n",
      "11520\n",
      "importing from: /mnt/teams/Tsuchitori/MV1_run_30hz_30frame_brain2behav_DFF_new/brain/2020_11_2_MV1_run and /mnt/teams/Tsuchitori/MV1_run_30hz_30frame_brain2behav_DFF_new/dino/2020_11_2_MV1_run\n",
      "11520\n",
      "importing from: /mnt/teams/Tsuchitori/MV1_run_30hz_30frame_brain2behav_DFF_new/brain/2021_1_12_MV1_run and /mnt/teams/Tsuchitori/MV1_run_30hz_30frame_brain2behav_DFF_new/dino/2021_1_12_MV1_run\n",
      "11520\n",
      "importing from: /mnt/teams/Tsuchitori/MV1_run_30hz_30frame_brain2behav_DFF_new/brain/2020_12_10_MV1_run and /mnt/teams/Tsuchitori/MV1_run_30hz_30frame_brain2behav_DFF_new/dino/2020_12_10_MV1_run\n",
      "11520\n",
      "importing from: /mnt/teams/Tsuchitori/MV1_run_30hz_30frame_brain2behav_DFF_new/brain/2020_11_9_MV1_run and /mnt/teams/Tsuchitori/MV1_run_30hz_30frame_brain2behav_DFF_new/dino/2020_11_9_MV1_run\n",
      "11520\n",
      "importing from: /mnt/teams/Tsuchitori/MV1_run_30hz_30frame_brain2behav_DFF_new/brain/2020_11_17_MV1_run and /mnt/teams/Tsuchitori/MV1_run_30hz_30frame_brain2behav_DFF_new/dino/2020_11_17_MV1_run\n",
      "11520\n",
      "loading data\n",
      "Training on slice 20\n"
     ]
    },
    {
     "name": "stderr",
     "output_type": "stream",
     "text": [
      "pos:  0.4904 neg:  2.1262 total:  2.6166 temperature:  0.0100: 100%|██████████| 200/200 [00:05<00:00, 33.90it/s]\n"
     ]
    },
    {
     "name": "stdout",
     "output_type": "stream",
     "text": [
      "Training complete, saving model\n"
     ]
    }
   ],
   "source": [
    "output_model_path = 'models/cebra_model_complete_30frame' + '.pt'  \n",
    "print(output_model_path)\n",
    "model = partial_train(neural_data_paths,\n",
    "            dino_paths,\n",
    "            min=0.0,\n",
    "            max=0.8,\n",
    "            slice_size=0.04,\n",
    "            num_steps=200,\n",
    "            time_offset=5,\n",
    "            conditional='time_delta',\n",
    "            batch_size=2,\n",
    "            cebra_offset=cebra.data.datatypes.Offset(0,1),\n",
    "            hidden_units=64,\n",
    "            output_dimension=8,\n",
    "            model_name='convolutional-model-30frame',\n",
    "            device='cuda'  \n",
    "          )"
   ]
  },
  {
   "cell_type": "code",
   "execution_count": 11,
   "metadata": {},
   "outputs": [
    {
     "data": {
      "text/plain": [
       "Text(0.5, 1.0, 'Total Loss')"
      ]
     },
     "execution_count": 11,
     "metadata": {},
     "output_type": "execute_result"
    },
    {
     "data": {
      "image/png": "[encoded data removed]",
      "text/plain": [
       "<Figure size 640x480 with 1 Axes>"
      ]
     },
     "metadata": {},
     "output_type": "display_data"
    }
   ],
   "source": [
    "model = torch.load('models/cebra_model_complete_30frame.pt')\n",
    "plt.plot(model.log['total'])\n",
    "plt.title('Total Loss')\n"
   ]
  },
  {
   "cell_type": "code",
   "execution_count": 12,
   "metadata": {},
   "outputs": [
    {
     "data": {
      "image/png": "[encoded data removed]",
      "text/plain": [
       "<Figure size 1200x400 with 3 Axes>"
      ]
     },
     "metadata": {},
     "output_type": "display_data"
    }
   ],
   "source": [
    "fig, axes = plt.subplots(1, 3, figsize=(12, 4))  # Adjust figsize as per your requirements\n",
    "axes[0].plot(model.log['total'])  # Replace x1 and y1 with your data for the first plot\n",
    "axes[0].set_title('total Loss 1')\n",
    "\n",
    "# Plot the second value\n",
    "axes[1].plot(model.log['pos'])  # Replace x2 and y2 with your data for the second plot\n",
    "axes[1].set_title('Positive sample Loss')\n",
    "\n",
    "# Plot the third value\n",
    "axes[2].plot(model.log['neg'])  # Replace x3 and y3 with your data for the third plot\n",
    "axes[2].set_title('negative sample loss')\n",
    "\n",
    "# Adjust the spacing between subplots\n",
    "plt.tight_layout()\n",
    "\n",
    "# Display the plots\n",
    "plt.show()"
   ]
  }
 ],
 "metadata": {
  "kernelspec": {
   "display_name": "cebra-env",
   "language": "python",
   "name": "python3"
  },
  "language_info": {
   "codemirror_mode": {
    "name": "ipython",
    "version": 3
   },
   "file_extension": ".py",
   "mimetype": "text/x-python",
   "name": "python",
   "nbconvert_exporter": "python",
   "pygments_lexer": "ipython3",
   "version": "3.11.3"
  },
  "orig_nbformat": 4
 },
 "nbformat": 4,
 "nbformat_minor": 2
}
