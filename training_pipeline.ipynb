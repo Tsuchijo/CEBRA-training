{
 "cells": [
  {
   "cell_type": "code",
   "execution_count": 1,
   "metadata": {},
   "outputs": [],
   "source": [
    "import sys\n",
    "import numpy as np\n",
    "import matplotlib.pyplot as plt\n",
    "import cebra\n",
    "from PIL import Image\n",
    "import cv2\n",
    "import os\n",
    "import torch\n",
    "import torch.nn.functional as F\n",
    "from torch import nn\n",
    "import itertools\n",
    "from torch.utils.tensorboard import SummaryWriter\n",
    "import random\n",
    "import gc\n",
    "from cebra_utils import *"
   ]
  },
  {
   "cell_type": "code",
   "execution_count": 2,
   "metadata": {},
   "outputs": [
    {
     "name": "stdout",
     "output_type": "stream",
     "text": [
      "cuda\n"
     ]
    }
   ],
   "source": [
    "#check if cuda is available\n",
    "device = torch.device(\"cuda\" if torch.cuda.is_available() else \"cpu\")\n",
    "print(device)"
   ]
  },
  {
   "cell_type": "code",
   "execution_count": 3,
   "metadata": {},
   "outputs": [],
   "source": [
    "output_model_path = 'models/cebra_model_complete3.pt'\n",
    "neural_data_directory= []\n",
    "behavior_data_directory = []"
   ]
  },
  {
   "cell_type": "code",
   "execution_count": 4,
   "metadata": {},
   "outputs": [],
   "source": [
    "data_directory = '/mnt/teams/Tsuchitori/MV1_run_30hz_30frame_brain2behav_DFF_new/'\n",
    "neural_data_paths = [ data_directory + 'brain/' + \\\n",
    "                     file for file in os.listdir(data_directory + 'brain/')]\n",
    "\n",
    "behavior_data_paths = [  data_directory + 'camera1/' + \\\n",
    "                     file for file in os.listdir(data_directory + 'brain/')]\n",
    "\n",
    "dino_paths = [ data_directory + 'dino/' + \\\n",
    "                        file for file in os.listdir(data_directory + 'brain/')]"
   ]
  },
  {
   "cell_type": "code",
   "execution_count": 5,
   "metadata": {},
   "outputs": [],
   "source": [
    "def init_dataloader(brain_data, feature_data, num_steps, time_offset, conditional, batch_size=1, cebra_offset=None ):\n",
    "    datasets = []\n",
    "    print('loading data')\n",
    "    for session in zip(brain_data, feature_data):\n",
    "        brain_data_tensor  = torch.FloatTensor(session[0])\n",
    "        feature_data_tensor = torch.FloatTensor(session[1])\n",
    "        print('brain data tensor shape: ', brain_data_tensor.shape)\n",
    "        print('feature data tensor shape: ', feature_data_tensor.shape)\n",
    "        datasets.append(cebra.data.datasets.TensorDataset(brain_data_tensor, continuous=feature_data_tensor, offset=cebra_offset))\n",
    "    dataset_collection = cebra.data.datasets.DatasetCollection(*datasets)\n",
    "    return cebra.data.multi_session.ContinuousMultiSessionDataLoader(\n",
    "        dataset=dataset_collection,\n",
    "        batch_size=batch_size,\n",
    "        num_steps=num_steps,\n",
    "        time_offset=time_offset,\n",
    "        conditional=conditional,\n",
    "    )   \n",
    "\n"
   ]
  },
  {
   "cell_type": "code",
   "execution_count": 6,
   "metadata": {},
   "outputs": [],
   "source": [
    "def flatten_features(features):\n",
    "    return [(feature.flatten()) for feature in features]\n",
    "\n",
    "def load_partial_data2D(brain_paths, behvaior_paths, min, max, num_steps, time_offset, conditional, batch_size, cebra_offset):\n",
    "    brain_data, feature_data = [], []\n",
    "    for path in zip(brain_paths, behvaior_paths):\n",
    "        print('importing from: ' + path[0] + ' and ' + path[1])\n",
    "        brain_data_temp, _ = import_data(path[0], lambda x: process_brain(x), min, max)\n",
    "        feature_data_temp, _ = import_data(path[1], lambda x: np.squeeze(x), min, max)\n",
    "        brain_data.append(flatten_data(brain_data_temp))\n",
    "        feature_data.append(flatten_data(feature_data_temp))\n",
    "        del brain_data_temp\n",
    "        del feature_data_temp\n",
    "        del _\n",
    "        gc.collect()\n",
    "    return init_dataloader(brain_data, feature_data, num_steps, time_offset, conditional, batch_size, cebra_offset)"
   ]
  },
  {
   "cell_type": "code",
   "execution_count": 7,
   "metadata": {},
   "outputs": [],
   "source": [
    "## Creat and train the model in partial batches of data\n",
    "def partial_train(brain_paths, behavior_paths, min, max, slice_size, num_steps, time_offset, conditional, batch_size, cebra_offset, hidden_units, output_dimension, model_name, device, saved_model = None):\n",
    "    ## Load dataloader for first slice of data\n",
    "    print('Loading data')\n",
    "    dataloader= load_partial_data2D(brain_paths, behavior_paths, min, min+slice_size, num_steps, time_offset, conditional, batch_size, cebra_offset)\n",
    "    print('Creating model')\n",
    "    ## create list of models\n",
    "    model = torch.nn.ModuleList([\n",
    "    cebra.models.init(model_name, (128 * 128),\n",
    "                        hidden_units, output_dimension, True)\n",
    "    for _ in range(len(list(dataloader.dataset.iter_sessions())))\n",
    "    ]).to(device)\n",
    "    if saved_model is not None:\n",
    "        model.__setstate__(saved_model)\n",
    "\n",
    "    ## Load criterion\n",
    "    criterion = cebra.models.criterions.LearnableCosineInfoNCE(temperature=1, min_temperature=None).to(device)\n",
    "\n",
    "    ## Load optimizer\n",
    "    optimizer = torch.optim.Adam(list(model.parameters()) + list(criterion.parameters()), lr=0.001)\n",
    "\n",
    "    print('Loading solver')\n",
    "    ## Load solver and train on first slice of data\n",
    "    solver = cebra.solver.MultiSessionSolver(\n",
    "        model=model,\n",
    "        optimizer=optimizer,\n",
    "        criterion=criterion,\n",
    "        tqdm_on=True,\n",
    "    ).to(device)\n",
    "    print('Training on slice 1')\n",
    "    solver.fit(dataloader.to(device),\n",
    "                save_frequency=500,\n",
    "                logdir='runs',)\n",
    "    torch.save(solver, output_model_path)\n",
    "    for i in range(2, int((max-min)/slice_size)+1):\n",
    "        del dataloader\n",
    "        gc.collect()\n",
    "        ## Load next slice of data\n",
    "        dataloader= load_partial_data2D(brain_paths, behavior_paths, min+slice_size*(i-1), min+slice_size*i, num_steps, time_offset, conditional, batch_size, cebra_offset).to(device)\n",
    "        ## Train on next slice of data\n",
    "        print('Training on slice '+str(i))\n",
    "        solver.fit(dataloader,\n",
    "                save_frequency=500,\n",
    "                logdir='runs',)        \n",
    "        torch.save(model, output_model_path)\n",
    "    print('Training complete, saving model')\n",
    "    torch.save(solver, output_model_path)\n",
    "    return solver\n"
   ]
  },
  {
   "cell_type": "code",
   "execution_count": 8,
   "metadata": {},
   "outputs": [
    {
     "data": {
      "text/plain": [
       "['offset10-model',\n",
       " 'offset10-model-mse',\n",
       " 'offset5-model',\n",
       " 'offset1-model-mse',\n",
       " 'offset1-model',\n",
       " 'offset1-model-v2',\n",
       " 'offset1-model-v3',\n",
       " 'offset1-model-v4',\n",
       " 'offset1-model-v5',\n",
       " 'offset40-model-4x-subsample',\n",
       " 'resample-model',\n",
       " 'offset20-model-4x-subsample',\n",
       " 'resample5-model',\n",
       " 'offset4-model-2x-subsample',\n",
       " 'resample1-model',\n",
       " 'supervised10-model',\n",
       " 'supervised1-model',\n",
       " 'offset36-model',\n",
       " 'offset36-model-dropout',\n",
       " 'offset36-model-more-dropout',\n",
       " 'convolutional-model-offset11',\n",
       " 'convolutional-model-30frame']"
      ]
     },
     "execution_count": 8,
     "metadata": {},
     "output_type": "execute_result"
    }
   ],
   "source": [
    "cebra.models.get_options()"
   ]
  },
  {
   "cell_type": "code",
   "execution_count": 9,
   "metadata": {},
   "outputs": [
    {
     "name": "stdout",
     "output_type": "stream",
     "text": [
      "models/cebra_model_flattened_offset1.pt\n",
      "Loading data\n",
      "importing from: /mnt/teams/Tsuchitori/MV1_run_30hz_30frame_brain2behav_DFF_new/brain/2021_1_8_MV1_run and /mnt/teams/Tsuchitori/MV1_run_30hz_30frame_brain2behav_DFF_new/dino/2021_1_8_MV1_run\n"
     ]
    },
    {
     "name": "stdout",
     "output_type": "stream",
     "text": [
      "importing from: /mnt/teams/Tsuchitori/MV1_run_30hz_30frame_brain2behav_DFF_new/brain/2020_11_23_MV1_run and /mnt/teams/Tsuchitori/MV1_run_30hz_30frame_brain2behav_DFF_new/dino/2020_11_23_MV1_run\n",
      "importing from: /mnt/teams/Tsuchitori/MV1_run_30hz_30frame_brain2behav_DFF_new/brain/2020_12_4_MV1_run and /mnt/teams/Tsuchitori/MV1_run_30hz_30frame_brain2behav_DFF_new/dino/2020_12_4_MV1_run\n",
      "importing from: /mnt/teams/Tsuchitori/MV1_run_30hz_30frame_brain2behav_DFF_new/brain/2020_11_2_MV1_run and /mnt/teams/Tsuchitori/MV1_run_30hz_30frame_brain2behav_DFF_new/dino/2020_11_2_MV1_run\n",
      "importing from: /mnt/teams/Tsuchitori/MV1_run_30hz_30frame_brain2behav_DFF_new/brain/2021_1_12_MV1_run and /mnt/teams/Tsuchitori/MV1_run_30hz_30frame_brain2behav_DFF_new/dino/2021_1_12_MV1_run\n",
      "importing from: /mnt/teams/Tsuchitori/MV1_run_30hz_30frame_brain2behav_DFF_new/brain/2020_12_10_MV1_run and /mnt/teams/Tsuchitori/MV1_run_30hz_30frame_brain2behav_DFF_new/dino/2020_12_10_MV1_run\n",
      "importing from: /mnt/teams/Tsuchitori/MV1_run_30hz_30frame_brain2behav_DFF_new/brain/2020_11_9_MV1_run and /mnt/teams/Tsuchitori/MV1_run_30hz_30frame_brain2behav_DFF_new/dino/2020_11_9_MV1_run\n",
      "importing from: /mnt/teams/Tsuchitori/MV1_run_30hz_30frame_brain2behav_DFF_new/brain/2020_11_17_MV1_run and /mnt/teams/Tsuchitori/MV1_run_30hz_30frame_brain2behav_DFF_new/dino/2020_11_17_MV1_run\n",
      "loading data\n",
      "brain data tensor shape:  torch.Size([44697, 16384])\n",
      "feature data tensor shape:  torch.Size([44697, 384])\n",
      "brain data tensor shape:  torch.Size([45819, 16384])\n",
      "feature data tensor shape:  torch.Size([45819, 384])\n",
      "brain data tensor shape:  torch.Size([40945, 16384])\n",
      "feature data tensor shape:  torch.Size([40945, 384])\n",
      "brain data tensor shape:  torch.Size([47890, 16384])\n",
      "feature data tensor shape:  torch.Size([47890, 384])\n",
      "brain data tensor shape:  torch.Size([61593, 16384])\n",
      "feature data tensor shape:  torch.Size([61593, 384])\n",
      "brain data tensor shape:  torch.Size([36113, 16384])\n",
      "feature data tensor shape:  torch.Size([36113, 384])\n",
      "brain data tensor shape:  torch.Size([45301, 16384])\n",
      "feature data tensor shape:  torch.Size([45301, 384])\n",
      "brain data tensor shape:  torch.Size([46355, 16384])\n",
      "feature data tensor shape:  torch.Size([46355, 384])\n",
      "Creating model\n",
      "Loading solver\n",
      "Training on slice 1\n"
     ]
    },
    {
     "name": "stderr",
     "output_type": "stream",
     "text": [
      "pos:  2.3569 neg:  4.7848 total:  7.1417 temperature:  0.0061: 100%|██████████| 10000/10000 [1:54:47<00:00,  1.45it/s] \n"
     ]
    },
    {
     "name": "stdout",
     "output_type": "stream",
     "text": [
      "importing from: /mnt/teams/Tsuchitori/MV1_run_30hz_30frame_brain2behav_DFF_new/brain/2021_1_8_MV1_run and /mnt/teams/Tsuchitori/MV1_run_30hz_30frame_brain2behav_DFF_new/dino/2021_1_8_MV1_run\n",
      "importing from: /mnt/teams/Tsuchitori/MV1_run_30hz_30frame_brain2behav_DFF_new/brain/2020_11_23_MV1_run and /mnt/teams/Tsuchitori/MV1_run_30hz_30frame_brain2behav_DFF_new/dino/2020_11_23_MV1_run\n",
      "importing from: /mnt/teams/Tsuchitori/MV1_run_30hz_30frame_brain2behav_DFF_new/brain/2020_12_4_MV1_run and /mnt/teams/Tsuchitori/MV1_run_30hz_30frame_brain2behav_DFF_new/dino/2020_12_4_MV1_run\n",
      "importing from: /mnt/teams/Tsuchitori/MV1_run_30hz_30frame_brain2behav_DFF_new/brain/2020_11_2_MV1_run and /mnt/teams/Tsuchitori/MV1_run_30hz_30frame_brain2behav_DFF_new/dino/2020_11_2_MV1_run\n",
      "importing from: /mnt/teams/Tsuchitori/MV1_run_30hz_30frame_brain2behav_DFF_new/brain/2021_1_12_MV1_run and /mnt/teams/Tsuchitori/MV1_run_30hz_30frame_brain2behav_DFF_new/dino/2021_1_12_MV1_run\n",
      "importing from: /mnt/teams/Tsuchitori/MV1_run_30hz_30frame_brain2behav_DFF_new/brain/2020_12_10_MV1_run and /mnt/teams/Tsuchitori/MV1_run_30hz_30frame_brain2behav_DFF_new/dino/2020_12_10_MV1_run\n",
      "importing from: /mnt/teams/Tsuchitori/MV1_run_30hz_30frame_brain2behav_DFF_new/brain/2020_11_9_MV1_run and /mnt/teams/Tsuchitori/MV1_run_30hz_30frame_brain2behav_DFF_new/dino/2020_11_9_MV1_run\n",
      "importing from: /mnt/teams/Tsuchitori/MV1_run_30hz_30frame_brain2behav_DFF_new/brain/2020_11_17_MV1_run and /mnt/teams/Tsuchitori/MV1_run_30hz_30frame_brain2behav_DFF_new/dino/2020_11_17_MV1_run\n",
      "loading data\n",
      "brain data tensor shape:  torch.Size([47387, 16384])\n",
      "feature data tensor shape:  torch.Size([47387, 384])\n",
      "brain data tensor shape:  torch.Size([47211, 16384])\n",
      "feature data tensor shape:  torch.Size([47211, 384])\n",
      "brain data tensor shape:  torch.Size([46699, 16384])\n",
      "feature data tensor shape:  torch.Size([46699, 384])\n",
      "brain data tensor shape:  torch.Size([46370, 16384])\n",
      "feature data tensor shape:  torch.Size([46370, 384])\n",
      "brain data tensor shape:  torch.Size([61989, 16384])\n",
      "feature data tensor shape:  torch.Size([61989, 384])\n",
      "brain data tensor shape:  torch.Size([54688, 16384])\n",
      "feature data tensor shape:  torch.Size([54688, 384])\n",
      "brain data tensor shape:  torch.Size([42689, 16384])\n",
      "feature data tensor shape:  torch.Size([42689, 384])\n",
      "brain data tensor shape:  torch.Size([47427, 16384])\n",
      "feature data tensor shape:  torch.Size([47427, 384])\n",
      "Training on slice 2\n"
     ]
    },
    {
     "name": "stderr",
     "output_type": "stream",
     "text": [
      "pos:  2.3507 neg:  4.7198 total:  7.0704 temperature:  0.0034: 100%|██████████| 10000/10000 [1:56:49<00:00,  1.43it/s] \n"
     ]
    },
    {
     "name": "stdout",
     "output_type": "stream",
     "text": [
      "Training complete, saving model\n"
     ]
    }
   ],
   "source": [
    "output_model_path = 'models/cebra_model_flattened_offset1' + '.pt'  \n",
    "print(output_model_path)\n",
    "model = partial_train(neural_data_paths,\n",
    "            dino_paths,\n",
    "            min=0.0,\n",
    "            max=0.8,\n",
    "            slice_size=0.4,\n",
    "            num_steps=10000,\n",
    "            time_offset=30,\n",
    "            conditional='time_delta',\n",
    "            batch_size=2048,\n",
    "            cebra_offset=cebra.data.datatypes.Offset(0,1),\n",
    "            hidden_units=512,\n",
    "            output_dimension=8,\n",
    "            model_name='offset1-model-v5',\n",
    "            device='cuda'  \n",
    "          )"
   ]
  },
  {
   "cell_type": "code",
   "execution_count": 10,
   "metadata": {},
   "outputs": [
    {
     "data": {
      "text/plain": [
       "Text(0.5, 1.0, 'Total Loss')"
      ]
     },
     "execution_count": 10,
     "metadata": {},
     "output_type": "execute_result"
    },
    {
     "data": {
      "image/png": "[encoded data removed]",
      "text/plain": [
       "<Figure size 640x480 with 1 Axes>"
      ]
     },
     "metadata": {},
     "output_type": "display_data"
    }
   ],
   "source": [
    "model = torch.load('models/cebra_model_flattened_offset1.pt')\n",
    "plt.plot(model.log['total'])\n",
    "plt.title('Total Loss')\n"
   ]
  },
  {
   "cell_type": "code",
   "execution_count": 11,
   "metadata": {},
   "outputs": [
    {
     "data": {
      "image/png": "[encoded data removed]",
      "text/plain": [
       "<Figure size 1200x400 with 3 Axes>"
      ]
     },
     "metadata": {},
     "output_type": "display_data"
    }
   ],
   "source": [
    "fig, axes = plt.subplots(1, 3, figsize=(12, 4))  # Adjust figsize as per your requirements\n",
    "axes[0].plot(model.log['total'])  # Replace x1 and y1 with your data for the first plot\n",
    "axes[0].set_title('total Loss 1')\n",
    "\n",
    "# Plot the second value\n",
    "axes[1].plot(model.log['pos'])  # Replace x2 and y2 with your data for the second plot\n",
    "axes[1].set_title('Positive sample Loss')\n",
    "\n",
    "# Plot the third value\n",
    "axes[2].plot(model.log['neg'])  # Replace x3 and y3 with your data for the third plot\n",
    "axes[2].set_title('negative sample loss')\n",
    "\n",
    "# Adjust the spacing between subplots\n",
    "plt.tight_layout()\n",
    "\n",
    "# Display the plots\n",
    "plt.show()"
   ]
  }
 ],
 "metadata": {
  "kernelspec": {
   "display_name": "cebra-env",
   "language": "python",
   "name": "python3"
  },
  "language_info": {
   "codemirror_mode": {
    "name": "ipython",
    "version": 3
   },
   "file_extension": ".py",
   "mimetype": "text/x-python",
   "name": "python",
   "nbconvert_exporter": "python",
   "pygments_lexer": "ipython3",
   "version": "3.11.3"
  },
  "orig_nbformat": 4
 },
 "nbformat": 4,
 "nbformat_minor": 2
}
