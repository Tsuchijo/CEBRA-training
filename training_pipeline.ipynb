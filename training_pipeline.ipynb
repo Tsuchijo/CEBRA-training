{
 "cells": [
  {
   "cell_type": "code",
   "execution_count": 1,
   "metadata": {},
   "outputs": [],
   "source": [
    "import sys\n",
    "import numpy as np\n",
    "import matplotlib.pyplot as plt\n",
    "import cebra\n",
    "from PIL import Image\n",
    "import cv2\n",
    "import os\n",
    "import torch\n",
    "import torch.nn.functional as F\n",
    "from torch import nn\n",
    "import itertools\n",
    "from torch.utils.tensorboard import SummaryWriter\n",
    "import random\n",
    "import gc\n",
    "from cebra_utils import *"
   ]
  },
  {
   "cell_type": "code",
   "execution_count": 2,
   "metadata": {},
   "outputs": [
    {
     "name": "stdout",
     "output_type": "stream",
     "text": [
      "cuda\n"
     ]
    }
   ],
   "source": [
    "#check if cuda is available\n",
    "device = torch.device(\"cuda\" if torch.cuda.is_available() else \"cpu\")\n",
    "print(device)"
   ]
  },
  {
   "cell_type": "code",
   "execution_count": 3,
   "metadata": {},
   "outputs": [],
   "source": [
    "# Iterate through all files in /mnt/teams/Tsuchitori/Allen-movie/VISP/ and then for each one with a unuique prefix move all of those to a new folder located at Allen-movie/VISP/unique_prefix\n",
    "# # This is done to make it easier to iterate through the files in the next step\n",
    "# import shutil\n",
    "# directorty = '/mnt/teams/Tsuchitori/Allen-movie/VISP/'\n",
    "# for filename in os.listdir(directorty):\n",
    "#     if filename.endswith(\".tif\"):\n",
    "#         prefix = filename.split('_')[0]\n",
    "#         os.makedirs(directorty + prefix, exist_ok=True)\n",
    "#         shutil.copy(directorty + filename, directorty + prefix + '/' + filename)"
   ]
  },
  {
   "cell_type": "code",
   "execution_count": null,
   "metadata": {},
   "outputs": [],
   "source": []
  },
  {
   "cell_type": "code",
   "execution_count": 4,
   "metadata": {},
   "outputs": [],
   "source": [
    "data_directory = '/mnt/teams/Tsuchitori/Allen-movie/'\n",
    "neural_data_paths = [data_directory + 'VISP/' + x for x in os.listdir('/mnt/teams/Tsuchitori/Allen-movie/VISP') if x.split('.')[-1] != 'tif']\n",
    "\n",
    "behavior_data_paths = [  data_directory + 'movie/']\n",
    "\n",
    "dino_paths = [  data_directory + 'dino/' for _ in neural_data_paths] \n"
   ]
  },
  {
   "cell_type": "code",
   "execution_count": 5,
   "metadata": {},
   "outputs": [],
   "source": [
    "def init_dataloader(brain_data, feature_data, label_data, num_steps, time_offset, conditional, batch_size=1, cebra_offset=None ):\n",
    "    datasets = []\n",
    "    print('loading data')\n",
    "    for session in zip(brain_data, feature_data, label_data):\n",
    "        brain_data_tensor  = torch.FloatTensor(session[0])\n",
    "        feature_data_tensor = torch.FloatTensor(session[1])\n",
    "        label_data_tensor = torch.Tensor(session[2]).type(torch.LongTensor)\n",
    "        datasets.append(cebra.data.datasets.TensorDataset(brain_data_tensor, continuous=feature_data_tensor, discrete=label_data_tensor, offset=cebra_offset))\n",
    "    dataset_collection = cebra.data.datasets.DatasetCollection(*datasets)\n",
    "    return cebra.data.multi_session.MixedMultiSessionDataLoader(\n",
    "        dataset=dataset_collection,\n",
    "        batch_size=batch_size,\n",
    "        num_steps=num_steps,\n",
    "        time_offset=time_offset,\n",
    "        conditional=conditional,\n",
    "    ).to('cuda')\n",
    "\n",
    "def init_dataloader_single_session(brain_data, feature_data, label_data, num_steps, time_offset, conditional, batch_size=1, cebra_offset=None ):\n",
    "    brain_data_tensor  = torch.FloatTensor(brain_data)\n",
    "    feature_data_tensor = torch.FloatTensor(feature_data)\n",
    "    label_data_tensor = torch.Tensor(label_data).type(torch.LongTensor)\n",
    "    dataset = cebra.data.datasets.TensorDataset(brain_data_tensor, continuous=feature_data_tensor, offset=cebra_offset)\n",
    "    return cebra.data.single_session.ContinuousDataLoader(\n",
    "        dataset=dataset,\n",
    "        batch_size=batch_size,\n",
    "        num_steps=num_steps,\n",
    "        time_offset=time_offset,\n",
    "        conditional=conditional,\n",
    "    ).to('cuda')\n",
    "\n"
   ]
  },
  {
   "cell_type": "code",
   "execution_count": 6,
   "metadata": {},
   "outputs": [],
   "source": [
    "def flatten_features(features):\n",
    "    return [(feature.flatten()) for feature in features]\n",
    "\n",
    "def load_partial_data2D(brain_paths, behvaior_paths, min, max, num_steps, time_offset, conditional, batch_size, cebra_offset):\n",
    "    brain_data, feature_data, label_data = [], [], []\n",
    "    for path in zip(brain_paths, behvaior_paths):\n",
    "        print('importing from: ' + path[0] + ' and ' + path[1])\n",
    "        brain_data_temp, name_data_temp = import_data(path[0], lambda x: process_brain(x), min, max)\n",
    "        feature_data_temp, _ = import_data(path[1], lambda x: np.squeeze(x), min, max)\n",
    "        brain_data.append(flatten_data(brain_data_temp))\n",
    "        feature_data.append(flatten_data(feature_data_temp))\n",
    "        # Get move nomove labels from name data \n",
    "        label_data_temp = []\n",
    "        for iter, name in enumerate(name_data_temp):\n",
    "            if name.split('_')[0] == 'nomove':\n",
    "                label_data_temp.extend( np.zeros(len(brain_data_temp[iter])))\n",
    "            else:\n",
    "                label_data_temp.extend( np.ones(len(brain_data_temp[iter])))\n",
    "        label_data.append(label_data_temp)\n",
    "        del brain_data_temp\n",
    "        del feature_data_temp\n",
    "        del label_data_temp\n",
    "        del name_data_temp\n",
    "        del _\n",
    "        gc.collect()\n",
    "    return init_dataloader(brain_data, feature_data, label_data, num_steps, time_offset, conditional, batch_size, cebra_offset)\n",
    "\n",
    "def load_single_session(brain_path, behavaior_path, min, max, num_steps, time_offset, conditional, batch_size, cebra_offset):\n",
    "    brain_data, feature_data, label_data = [], [], []\n",
    "    brain_data_temp, name_data_temp = import_data(brain_path, lambda x: process_brain(x), min, max)\n",
    "    feature_data_temp, _ = import_data(behavaior_path, lambda x: np.squeeze(x), min, max)\n",
    "    brain_data.append(flatten_data(brain_data_temp))\n",
    "    feature_data.append(flatten_data(feature_data_temp))\n",
    "    # Get move nomove labels from name data \n",
    "    for iter, name in enumerate(name_data_temp):\n",
    "        if name.split('_')[0] == 'nomove':\n",
    "            label_data.extend( np.zeros(len(brain_data_temp[iter])))\n",
    "        else:\n",
    "            label_data.extend( np.ones(len(brain_data_temp[iter])))\n",
    "    # squeeze brain and feature data\n",
    "    brain_data = np.squeeze(np.array(brain_data))\n",
    "    feature_data = np.squeeze(np.array(feature_data))\n",
    "    return init_dataloader_single_session(brain_data, feature_data, label_data, num_steps, time_offset, conditional, batch_size, cebra_offset)\n",
    "\n",
    "def load_single_session_2D(brain_path, behavaior_path, min, max, num_steps, time_offset, conditional, batch_size, cebra_offset):\n",
    "    brain_data, feature_data, label_data = [], [], []\n",
    "    brain_data_temp, name_data_temp = import_data(brain_path, lambda x: np.array([cv2.resize(brain_frame, (128, 128)) for brain_frame in x]), min, max)\n",
    "    print(np.array(brain_data_temp).shape)\n",
    "    feature_data_temp, _ = import_data(behavaior_path, lambda x: np.squeeze(x), min, max)\n",
    "    brain_data.append(flatten_data(brain_data_temp))\n",
    "    feature_data.append(flatten_data(feature_data_temp))\n",
    "    # Get move nomove labels from name data \n",
    "    for iter, name in enumerate(name_data_temp):\n",
    "        if name.split('_')[0] == 'nomove':\n",
    "            label_data.extend( np.zeros(len(brain_data_temp[iter])))\n",
    "        else:\n",
    "            label_data.extend( np.ones(len(brain_data_temp[iter])))\n",
    "    # squeeze brain and feature data\n",
    "    brain_data = np.squeeze(np.array(brain_data))\n",
    "    feature_data = np.squeeze(np.array(feature_data))\n",
    "    return init_dataloader_single_session(brain_data, feature_data, label_data, num_steps, time_offset, conditional, batch_size, cebra_offset)"
   ]
  },
  {
   "cell_type": "code",
   "execution_count": 7,
   "metadata": {},
   "outputs": [],
   "source": [
    "## Creat and train the model in partial batches of data\n",
    "def partial_train(brain_paths, behavior_paths, min, max, slice_size, num_steps, time_offset, conditional, batch_size, cebra_offset, hidden_units, output_dimension, model_name, device, output_model_path, saved_model = None):\n",
    "    ## Load dataloader for first slice of data\n",
    "    print('Loading data')\n",
    "    dataloader= load_partial_data2D(brain_paths, behavior_paths, min, min+slice_size, num_steps, time_offset, conditional, batch_size, cebra_offset)\n",
    "    print('Creating model')\n",
    "    ## create list of models\n",
    "    model = torch.nn.ModuleList([\n",
    "    cebra.models.init(model_name, (128 * 128),\n",
    "                        hidden_units, output_dimension, True)\n",
    "    for _ in range(len(list(dataloader.dataset.iter_sessions())))\n",
    "    ]).to(device)\n",
    "    if saved_model is not None:\n",
    "        model.__setstate__(saved_model)\n",
    "\n",
    "    ## Load criterion\n",
    "    criterion = cebra.models.criterions.LearnableCosineInfoNCE(temperature=1, min_temperature=0.1).to(device)\n",
    "    start_state = criterion.state_dict()\n",
    "    ## Load optimizer\n",
    "    optimizer = torch.optim.Adam(list(model.parameters()) + list(criterion.parameters()), lr=0.001)\n",
    "\n",
    "    print('Loading solver')\n",
    "    ## Load solver and train on first slice of data\n",
    "    solver = cebra.solver.MultiSessionSolver(\n",
    "        model=model,\n",
    "        optimizer=optimizer,\n",
    "        criterion=criterion,\n",
    "        tqdm_on=True,\n",
    "    ).to(device)\n",
    "    print('Training on slice 1')\n",
    "    solver.fit(dataloader.to(device),\n",
    "                save_frequency=500,\n",
    "                logdir='runs',)\n",
    "    torch.save(solver, output_model_path)\n",
    "    for i in range(2, int((max-min)/slice_size)+1):\n",
    "        del dataloader\n",
    "        gc.collect()\n",
    "        criterion.__setstate__(start_state)\n",
    "        ## Load next slice of data\n",
    "        dataloader= load_partial_data2D(brain_paths, behavior_paths, min+slice_size*(i-1), min+slice_size*i, num_steps, time_offset, conditional, batch_size, cebra_offset).to(device)\n",
    "        ## Train on next slice of data\n",
    "        print('Training on slice '+str(i))\n",
    "        solver.fit(dataloader,\n",
    "                save_frequency=500,\n",
    "                logdir='runs',)        \n",
    "        torch.save(model, output_model_path)\n",
    "    print('Training complete, saving model')\n",
    "    torch.save(solver, output_model_path)\n",
    "    return solver\n"
   ]
  },
  {
   "cell_type": "code",
   "execution_count": 8,
   "metadata": {},
   "outputs": [],
   "source": [
    "## Creat and train the model in partial batches of data\n",
    "def partial_train_single_session(brain_path, behavior_path, min, max, slice_size, num_steps, time_offset, conditional, batch_size, cebra_offset, hidden_units, output_dimension, model_name, device, output_model_path, saved_model = None):\n",
    "    ## Load dataloader for first slice of data\n",
    "    print('Loading data')\n",
    "    dataloader= load_single_session_2D(brain_path, behavior_path, min, min+slice_size, num_steps, time_offset, conditional, batch_size, cebra_offset)\n",
    "    print('Creating model')\n",
    "    ## create list of models\n",
    "    if saved_model is None:\n",
    "        model = cebra.models.init(model_name, (128 *128),\n",
    "                            hidden_units, output_dimension, normalize=True)\n",
    "        \n",
    "    else:\n",
    "        model = saved_model\n",
    "\n",
    "    ## Load criterion\n",
    "    criterion = cebra.models.criterions.LearnableCosineInfoNCE(temperature=1).to(device)\n",
    "    ## Load optimizer\n",
    "    optimizer = torch.optim.Adam(list(model.parameters()) + list(criterion.parameters()), lr=0.001)\n",
    "    start_state = criterion.state_dict()\n",
    "\n",
    "\n",
    "    print('Loading solver')\n",
    "    ## Load solver and train on first slice of data\n",
    "    solver = cebra.solver.SingleSessionSolver(\n",
    "        model=model,\n",
    "        optimizer=optimizer,\n",
    "        criterion=criterion,\n",
    "        tqdm_on=True,\n",
    "    ).to(device)\n",
    "    print('Training on slice 1')\n",
    "    solver.fit(dataloader.to(device),\n",
    "                save_frequency=500,\n",
    "                logdir='runs',)\n",
    "    torch.save(solver, output_model_path)\n",
    "    for i in range(2, int((max-min)/slice_size)+1):\n",
    "        del dataloader\n",
    "        gc.collect()\n",
    "        criterion.load_state_dict(start_state)\n",
    "        ## Load next slice of data\n",
    "        dataloader= load_single_session_2D(brain_path, behavior_path, min+slice_size*(i-1), min+slice_size*i, num_steps, time_offset, conditional, batch_size, cebra_offset).to(device)\n",
    "        ## Train on next slice of data\n",
    "        print('Training on slice '+str(i))\n",
    "        solver.fit(dataloader,\n",
    "                save_frequency=500,\n",
    "                logdir='runs',)        \n",
    "        torch.save(model, output_model_path)\n",
    "    print('Training complete, saving model')\n",
    "    torch.save(solver, output_model_path)\n",
    "    return solver\n"
   ]
  },
  {
   "cell_type": "code",
   "execution_count": 9,
   "metadata": {},
   "outputs": [
    {
     "name": "stdout",
     "output_type": "stream",
     "text": [
      "Loading data\n",
      "(1, 900, 128, 128)\n",
      "Creating model\n",
      "Loading solver\n",
      "Training on slice 1\n"
     ]
    },
    {
     "name": "stderr",
     "output_type": "stream",
     "text": [
      "pos: -8.6335 neg:  1.4338 total: -7.1997 temperature:  0.0476: 100%|██████████| 2000/2000 [15:11<00:00,  2.19it/s]  \n"
     ]
    },
    {
     "name": "stdout",
     "output_type": "stream",
     "text": [
      "(1, 900, 128, 128)\n",
      "Training on slice 2\n"
     ]
    },
    {
     "name": "stderr",
     "output_type": "stream",
     "text": [
      "pos: -1.1524 neg:  2.6967 total:  1.5443 temperature:  0.5503: 100%|██████████| 2000/2000 [14:43<00:00,  2.26it/s]\n"
     ]
    },
    {
     "name": "stdout",
     "output_type": "stream",
     "text": [
      "(1, 900, 128, 128)\n",
      "Training on slice 3\n"
     ]
    },
    {
     "name": "stderr",
     "output_type": "stream",
     "text": [
      "pos: -3.1636 neg:  2.3306 total: -0.8330 temperature:  0.1748: 100%|██████████| 2000/2000 [14:42<00:00,  2.27it/s]\n"
     ]
    },
    {
     "name": "stdout",
     "output_type": "stream",
     "text": [
      "(1, 900, 128, 128)\n",
      "Training on slice 4\n"
     ]
    },
    {
     "name": "stderr",
     "output_type": "stream",
     "text": [
      "pos: -3.5067 neg:  2.5295 total: -0.9771 temperature:  0.1580: 100%|██████████| 2000/2000 [14:43<00:00,  2.26it/s]\n"
     ]
    },
    {
     "name": "stdout",
     "output_type": "stream",
     "text": [
      "(1, 900, 128, 128)\n",
      "Training on slice 5\n"
     ]
    },
    {
     "name": "stderr",
     "output_type": "stream",
     "text": [
      "pos: -3.0524 neg:  2.2800 total: -0.7723 temperature:  0.1690: 100%|██████████| 2000/2000 [14:44<00:00,  2.26it/s]\n"
     ]
    },
    {
     "name": "stdout",
     "output_type": "stream",
     "text": [
      "(1, 900, 128, 128)\n",
      "Training on slice 6\n"
     ]
    },
    {
     "name": "stderr",
     "output_type": "stream",
     "text": [
      "pos: -2.5680 neg:  2.2349 total: -0.3330 temperature:  0.1620: 100%|██████████| 2000/2000 [14:43<00:00,  2.26it/s]\n"
     ]
    },
    {
     "name": "stdout",
     "output_type": "stream",
     "text": [
      "(1, 900, 128, 128)\n",
      "Training on slice 7\n"
     ]
    },
    {
     "name": "stderr",
     "output_type": "stream",
     "text": [
      "pos: -3.7884 neg:  2.3013 total: -1.4871 temperature:  0.1674: 100%|██████████| 2000/2000 [14:44<00:00,  2.26it/s]\n"
     ]
    },
    {
     "name": "stdout",
     "output_type": "stream",
     "text": [
      "(1, 900, 128, 128)\n",
      "Training on slice 8\n"
     ]
    },
    {
     "name": "stderr",
     "output_type": "stream",
     "text": [
      "pos: -2.7634 neg:  2.4644 total: -0.2990 temperature:  0.1632: 100%|██████████| 2000/2000 [14:44<00:00,  2.26it/s]\n"
     ]
    },
    {
     "name": "stdout",
     "output_type": "stream",
     "text": [
      "(1, 900, 128, 128)\n",
      "Training on slice 9\n"
     ]
    },
    {
     "name": "stderr",
     "output_type": "stream",
     "text": [
      "pos: -3.2763 neg:  2.5555 total: -0.7208 temperature:  0.1677: 100%|██████████| 2000/2000 [14:44<00:00,  2.26it/s]\n"
     ]
    },
    {
     "name": "stdout",
     "output_type": "stream",
     "text": [
      "Training complete, saving model\n",
      "New lowest loss: -0.7208480834960938\n"
     ]
    },
    {
     "ename": "RuntimeError",
     "evalue": "Parent directory models/Allen-model-v5-lowest-loss.pt does not exist.",
     "output_type": "error",
     "traceback": [
      "\u001b[0;31m---------------------------------------------------------------------------\u001b[0m",
      "\u001b[0;31mRuntimeError\u001b[0m                              Traceback (most recent call last)",
      "Cell \u001b[0;32mIn[9], line 31\u001b[0m\n\u001b[1;32m     28\u001b[0m     lowest_loss_dir \u001b[39m=\u001b[39m neur_path\n\u001b[1;32m     29\u001b[0m   \u001b[39mbreak\u001b[39;00m\n\u001b[0;32m---> 31\u001b[0m lowest_loss_model\u001b[39m.\u001b[39;49msave(final_model_path)\n",
      "File \u001b[0;32m~/miniconda3/envs/cebra-env/lib/python3.11/site-packages/cebra/solver/base.py:342\u001b[0m, in \u001b[0;36mSolver.save\u001b[0;34m(self, logdir, filename)\u001b[0m\n\u001b[1;32m    340\u001b[0m         \u001b[39mpass\u001b[39;00m\n\u001b[1;32m    341\u001b[0m savepath \u001b[39m=\u001b[39m os\u001b[39m.\u001b[39mpath\u001b[39m.\u001b[39mjoin(logdir, filename)\n\u001b[0;32m--> 342\u001b[0m torch\u001b[39m.\u001b[39;49msave(\n\u001b[1;32m    343\u001b[0m     \u001b[39mself\u001b[39;49m\u001b[39m.\u001b[39;49mstate_dict(),\n\u001b[1;32m    344\u001b[0m     savepath,\n\u001b[1;32m    345\u001b[0m )\n",
      "File \u001b[0;32m~/miniconda3/envs/cebra-env/lib/python3.11/site-packages/torch/serialization.py:440\u001b[0m, in \u001b[0;36msave\u001b[0;34m(obj, f, pickle_module, pickle_protocol, _use_new_zipfile_serialization)\u001b[0m\n\u001b[1;32m    437\u001b[0m _check_save_filelike(f)\n\u001b[1;32m    439\u001b[0m \u001b[39mif\u001b[39;00m _use_new_zipfile_serialization:\n\u001b[0;32m--> 440\u001b[0m     \u001b[39mwith\u001b[39;00m _open_zipfile_writer(f) \u001b[39mas\u001b[39;00m opened_zipfile:\n\u001b[1;32m    441\u001b[0m         _save(obj, opened_zipfile, pickle_module, pickle_protocol)\n\u001b[1;32m    442\u001b[0m         \u001b[39mreturn\u001b[39;00m\n",
      "File \u001b[0;32m~/miniconda3/envs/cebra-env/lib/python3.11/site-packages/torch/serialization.py:315\u001b[0m, in \u001b[0;36m_open_zipfile_writer\u001b[0;34m(name_or_buffer)\u001b[0m\n\u001b[1;32m    313\u001b[0m \u001b[39melse\u001b[39;00m:\n\u001b[1;32m    314\u001b[0m     container \u001b[39m=\u001b[39m _open_zipfile_writer_buffer\n\u001b[0;32m--> 315\u001b[0m \u001b[39mreturn\u001b[39;00m container(name_or_buffer)\n",
      "File \u001b[0;32m~/miniconda3/envs/cebra-env/lib/python3.11/site-packages/torch/serialization.py:288\u001b[0m, in \u001b[0;36m_open_zipfile_writer_file.__init__\u001b[0;34m(self, name)\u001b[0m\n\u001b[1;32m    287\u001b[0m \u001b[39mdef\u001b[39;00m \u001b[39m__init__\u001b[39m(\u001b[39mself\u001b[39m, name) \u001b[39m-\u001b[39m\u001b[39m>\u001b[39m \u001b[39mNone\u001b[39;00m:\n\u001b[0;32m--> 288\u001b[0m     \u001b[39msuper\u001b[39m()\u001b[39m.\u001b[39m\u001b[39m__init__\u001b[39m(torch\u001b[39m.\u001b[39;49m_C\u001b[39m.\u001b[39;49mPyTorchFileWriter(\u001b[39mstr\u001b[39;49m(name)))\n",
      "\u001b[0;31mRuntimeError\u001b[0m: Parent directory models/Allen-model-v5-lowest-loss.pt does not exist."
     ]
    }
   ],
   "source": [
    "output_model_path = 'models/Allen-model-v5.pt'\n",
    "final_model_path = 'models/Allen-model-v5-lowest-loss.pt'\n",
    "lowest_loss_model = None\n",
    "lowest_loss_dir = None\n",
    "lowest_loss = 1000000\n",
    "for neur_path, dino_path in zip(neural_data_paths, dino_paths):\n",
    "  model = partial_train_single_session(neur_path,\n",
    "              dino_path,\n",
    "              min=0.0,\n",
    "              max=0.9,\n",
    "              slice_size=0.1,\n",
    "              num_steps=2000,\n",
    "              time_offset=60,\n",
    "              conditional='time_delta',\n",
    "              batch_size=25,\n",
    "              cebra_offset=cebra.data.datatypes.Offset(5,5),\n",
    "              hidden_units=1024,\n",
    "              output_dimension=64,\n",
    "              model_name='Mesogan-Encoder',\n",
    "              device='cuda',\n",
    "              output_model_path=output_model_path,  \n",
    "          )\n",
    "  total_loss = model.log['total'][-1]\n",
    "  if total_loss < lowest_loss:\n",
    "    lowest_loss = total_loss\n",
    "    print(f'New lowest loss: {lowest_loss}')\n",
    "    lowest_loss_model = model\n",
    "    lowest_loss_dir = neur_path\n",
    "  break\n",
    "\n",
    "lowest_loss_model.save(final_model_path)"
   ]
  },
  {
   "cell_type": "code",
   "execution_count": 10,
   "metadata": {},
   "outputs": [
    {
     "data": {
      "text/plain": [
       "[<matplotlib.lines.Line2D at 0x7fb1d359db90>]"
      ]
     },
     "execution_count": 10,
     "metadata": {},
     "output_type": "execute_result"
    },
    {
     "data": {
      "image/png": "[encoded data removed]",
      "text/plain": [
       "<Figure size 640x480 with 1 Axes>"
      ]
     },
     "metadata": {},
     "output_type": "display_data"
    }
   ],
   "source": [
    "plt.plot(lowest_loss_model.log['total'])"
   ]
  },
  {
   "cell_type": "code",
   "execution_count": null,
   "metadata": {},
   "outputs": [],
   "source": [
    "model_list = []\n",
    "for model_path in os.listdir('models/single_session-v2/'):\n",
    "  model = torch.load('models/single_session-v2/' + model_path).model\n",
    "  model_list.append(model)\n",
    "  print(model_path)\n",
    "# convert into torch model list\n",
    "model_list = torch.nn.ModuleList(model_list)\n",
    "# save model list\n",
    "torch.save(model_list, 'models/single_session-v2/cebra_model_list.pt')"
   ]
  },
  {
   "cell_type": "code",
   "execution_count": null,
   "metadata": {},
   "outputs": [],
   "source": [
    "fig, axes = plt.subplots(1, 3, figsize=(12, 4))  # Adjust figsize as per your requirements\n",
    "axes[0].plot(model.log['total'])  # Replace x1 and y1 with your data for the first plot\n",
    "axes[0].set_title('total Loss 1')\n",
    "\n",
    "# Plot the second value\n",
    "axes[1].plot(model.log['pos'])  # Replace x2 and y2 with your data for the second plot\n",
    "axes[1].set_title('Positive sample Loss')\n",
    "\n",
    "# Plot the third value\n",
    "axes[2].plot(model.log['neg'])  # Replace x3 and y3 with your data for the third plot\n",
    "axes[2].set_title('negative sample loss')\n",
    "\n",
    "# Adjust the spacing between subplots\n",
    "plt.tight_layout()\n",
    "\n",
    "# Display the plots\n",
    "plt.show()"
   ]
  }
 ],
 "metadata": {
  "kernelspec": {
   "display_name": "cebra-env",
   "language": "python",
   "name": "python3"
  },
  "language_info": {
   "codemirror_mode": {
    "name": "ipython",
    "version": 3
   },
   "file_extension": ".py",
   "mimetype": "text/x-python",
   "name": "python",
   "nbconvert_exporter": "python",
   "pygments_lexer": "ipython3",
   "version": "3.11.3"
  },
  "orig_nbformat": 4
 },
 "nbformat": 4,
 "nbformat_minor": 2
}
