{
 "cells": [
  {
   "cell_type": "code",
   "execution_count": 1,
   "metadata": {},
   "outputs": [],
   "source": [
    "import sys\n",
    "import numpy as np\n",
    "import matplotlib.pyplot as plt\n",
    "import cebra\n",
    "from PIL import Image\n",
    "import cv2\n",
    "import os\n",
    "import torch\n",
    "import torch.nn.functional as F\n",
    "from torch import nn\n",
    "import itertools\n",
    "from torch.utils.tensorboard import SummaryWriter\n",
    "import random\n",
    "import gc\n",
    "import torch.optim as optim\n",
    "from cebra_utils import *"
   ]
  },
  {
   "cell_type": "code",
   "execution_count": 17,
   "metadata": {},
   "outputs": [],
   "source": [
    "cebra_model_path = 'models/cebra_model_complete.pt'\n",
    "\n",
    "data_directory = '/mnt/teams/Tsuchitori/MV1_run_30hz_30frame_brain2behav_DFF_new/'\n",
    "neural_data_paths = [ data_directory + 'brain/' + \\\n",
    "                     file for file in os.listdir(data_directory + 'brain/')]\n",
    "\n",
    "behavior_data_paths = [  data_directory + 'camera1/' + \\\n",
    "                     file for file in os.listdir(data_directory + 'brain/')]\n",
    "\n",
    "dino_paths = [ data_directory + 'dino/' + \\\n",
    "                        file for file in os.listdir(data_directory + 'brain/')]\n",
    "\n",
    "label_paths = list(filter(lambda x : x.endswith('.pickle') , iter(os.listdir('.'))))"
   ]
  },
  {
   "cell_type": "code",
   "execution_count": 3,
   "metadata": {},
   "outputs": [],
   "source": [
    "num_classes = 4\n",
    "solver = torch.load('models/cebra_model_complete.pt')\n",
    "model_group = solver.model.eval()\n",
    "prototype = nn.Sequential(nn.Linear(8, 4))\n",
    "classifiers = nn.ModuleList([prototype for i in range(len(model_group))])\n",
    "for param in model_group.parameters():\n",
    "    param.requires_grad = False\n",
    "\n",
    "criterion = nn.BCEWithLogitsLoss()\n",
    "optimizer = optim.Adam(classifiers.parameters(), lr=0.001)"
   ]
  },
  {
   "cell_type": "code",
   "execution_count": 6,
   "metadata": {},
   "outputs": [],
   "source": [
    "def single_epoch(data, names, labels, model_group, criterion, optimizer, session):\n",
    "    # train the linear classifier on the labelled data\n",
    "    running_loss = 0.0\n",
    "    num_iter= 0\n",
    "    for data, names in zip(data, names):\n",
    "        # check if the data is labelled\n",
    "        if names in labels:\n",
    "            # do a forward pass\n",
    "            output = model_group[session](torch.from_numpy(data).float())\n",
    "            tiled_label = np.tile(labels[names], data.shape[0]).reshape(data.shape[0], 4)\n",
    "            vid_label = torch.from_numpy(tiled_label).float()\n",
    "\n",
    "            loss = criterion(output, vid_label)\n",
    "\n",
    "            # do a backward pass\n",
    "            loss.backward()\n",
    "            optimizer.step()\n",
    "            running_loss += loss.item()\n",
    "            num_iter += 1\n",
    "            \n",
    "    return (running_loss / num_iter)\n",
    "            \n",
    "\n",
    "def validation_run(data, names, labels, model_group, criterion, session):\n",
    "    # train the linear classifier on the labelled data\n",
    "    running_loss = 0.0\n",
    "    num_iter= 0\n",
    "    for data, names in zip(data, names):\n",
    "        # check if the data is labelled\n",
    "        if names in labels:\n",
    "            # do a forward pass\n",
    "            output = model_group[session](torch.from_numpy(data).float())\n",
    "            tiled_label = np.tile(labels[names], data.shape[0]).reshape(data.shape[0], 4)\n",
    "            vid_label = torch.from_numpy(tiled_label).float()\n",
    "\n",
    "            loss = criterion(output, vid_label)\n",
    "\n",
    "            running_loss += loss.item()\n",
    "            num_iter += 1\n",
    "            \n",
    "    return (running_loss / num_iter)"
   ]
  },
  {
   "cell_type": "code",
   "execution_count": null,
   "metadata": {},
   "outputs": [],
   "source": [
    "for i in range(len(label_paths)):\n",
    "    with open(label_paths[i], 'rb') as f:\n",
    "        labels = pickle.load(f)\n",
    "\n",
    "    # load the data\n",
    "    data, names = import_data(neural_data_paths[i], lambda x: x, min = 0, max = 0.15)\n",
    "    validation_data, validation_names  = import_data(neural_data_paths[i], lambda x: x, min = 0.15, max = 0.2)\n",
    "\n",
    "    # generate embeddings\n",
    "    embeddings = []\n",
    "    for vid in data:\n",
    "        single_embeddings = generate_CEBRA_embeddings(model_group, vid, i, offset = (2,3))\n",
    "        embeddings.append(single_embeddings)\n",
    "\n",
    "    validation_embeddings = []\n",
    "    for vid in validation_data:\n",
    "        single_embeddings = generate_CEBRA_embeddings(model_group, vid, i, offset = (2,3))\n",
    "        validation_embeddings.append(single_embeddings)\n",
    "\n",
    "    loss = []\n",
    "    valid_loss = []\n",
    "    for epoch in range(10000): \n",
    "        loss.append(single_epoch(embeddings, names, labels, classifiers, criterion, optimizer, i))\n",
    "        valid_loss.append(validation_run(validation_embeddings, validation_names, labels, classifiers, criterion, i))"
   ]
  },
  {
   "cell_type": "code",
   "execution_count": 7,
   "metadata": {},
   "outputs": [
    {
     "data": {
      "text/plain": [
       "[<matplotlib.lines.Line2D at 0x7fba8029a190>]"
      ]
     },
     "execution_count": 7,
     "metadata": {},
     "output_type": "execute_result"
    },
    {
     "data": {
      "image/png": "[encoded data removed]",
      "text/plain": [
       "<Figure size 640x480 with 1 Axes>"
      ]
     },
     "metadata": {},
     "output_type": "display_data"
    }
   ],
   "source": [
    "torch.save(classifiers, 'models/cebra_classifier_complete.pt')"
   ]
  }
 ],
 "metadata": {
  "kernelspec": {
   "display_name": "cebra-env",
   "language": "python",
   "name": "python3"
  },
  "language_info": {
   "codemirror_mode": {
    "name": "ipython",
    "version": 3
   },
   "file_extension": ".py",
   "mimetype": "text/x-python",
   "name": "python",
   "nbconvert_exporter": "python",
   "pygments_lexer": "ipython3",
   "version": "3.11.3"
  },
  "orig_nbformat": 4
 },
 "nbformat": 4,
 "nbformat_minor": 2
}
