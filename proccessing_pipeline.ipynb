{
 "cells": [
  {
   "cell_type": "code",
   "execution_count": 5,
   "metadata": {},
   "outputs": [],
   "source": [
    "import sys\n",
    "import numpy as np\n",
    "import matplotlib.pyplot as plt\n",
    "import cebra\n",
    "from PIL import Image\n",
    "import cv2\n",
    "import os\n",
    "import torch\n",
    "import torch.nn.functional as F\n",
    "from torch import nn\n",
    "import itertools\n",
    "from torch.utils.tensorboard import SummaryWriter\n",
    "import random\n",
    "import gc\n",
    "from sklearn.cluster import AgglomerativeClustering\n",
    "from sklearn.cluster import MeanShift, estimate_bandwidth, OPTICS\n"
   ]
  },
  {
   "cell_type": "code",
   "execution_count": 6,
   "metadata": {},
   "outputs": [],
   "source": [
    "cebra_model_path = 'models/cebra_model_complete.pt'\n"
   ]
  },
  {
   "cell_type": "code",
   "execution_count": 7,
   "metadata": {},
   "outputs": [],
   "source": [
    "data_directory = '/mnt/teams/Tsuchitori/MV1_run_30hz_30frame_brain2behav_DFF_new/'\n",
    "neural_data_paths = [ data_directory + 'brain/' + \\\n",
    "                     file for file in os.listdir(data_directory + 'brain/')]\n",
    "\n",
    "behavior_data_paths = [  data_directory + 'camera1/' + \\\n",
    "                     file for file in os.listdir(data_directory + 'brain/')]\n",
    "\n",
    "dino_paths = [ data_directory + 'dino/' + \\\n",
    "                        file for file in os.listdir(data_directory + 'brain/')]\n",
    "\n",
    "output_folder_paths = [ data_directory + 'output2/' + \\\n",
    "                        file for file in os.listdir(data_directory + 'brain/')]"
   ]
  },
  {
   "cell_type": "code",
   "execution_count": 8,
   "metadata": {},
   "outputs": [],
   "source": [
    "hidden_units=128\n",
    "output_dimension=16\n",
    "model_name='offset1-model'\n",
    "device='cuda:0'\n",
    "input_size=128*128\n"
   ]
  },
  {
   "cell_type": "code",
   "execution_count": 9,
   "metadata": {},
   "outputs": [],
   "source": [
    "\n",
    "def process_brain(brain_seq):\n",
    "  brain_seq = np.array(brain_seq)\n",
    "  flat_seq = np.array([(brain_frame.flatten()) for brain_frame in brain_seq])\n",
    "  return flat_seq.astype(float)\n",
    "\n",
    "## Loads data from a folder of TIF files\n",
    "# filepath: path to folder\n",
    "# processor: function to process each image\n",
    "# max: max images to load as a proportion of array size\n",
    "# min: min images to load as a proportion of array size\n",
    "# returns: list of processed images, list of filenames\n",
    "def import_data(filepath, processor, min = 0, max = 1):\n",
    "    output_data = []\n",
    "    output_name = []\n",
    "    path_list = os.listdir(filepath)\n",
    "    path_list.sort()\n",
    "    random.Random(4).shuffle(path_list)\n",
    "    min_index = int(min * len(path_list))\n",
    "    max_index = int(max * len(path_list))\n",
    "    for file in itertools.islice(path_list, min_index, max_index):\n",
    "     filename = os.fsdecode(file)\n",
    "     if filename.endswith(\".tif\"):\n",
    "         out = cv2.imreadmulti(filepath + '/' + filename)[1]\n",
    "         output_data.append(processor(out))\n",
    "         output_name.append(filename.split('.')[0])\n",
    "     elif filename.endswith(\".npy\"):\n",
    "         output_data.append(processor(np.load(filepath + '/' + filename)))\n",
    "         output_name.append(filename.split('.')[0])\n",
    "     else:\n",
    "         continue\n",
    "    return output_data, output_name\n",
    "\n",
    "def flatten_data(data):\n",
    "    return np.concatenate(data, axis=0)\n",
    "\n",
    "def generate_CEBRA_embeddings(neural, model, session):\n",
    "    embedding = []\n",
    "    failed = []\n",
    "    for run, data in enumerate(neural):\n",
    "        embedding_data = [model[session].forward(torch.from_numpy((frame)).float().to(device).unsqueeze(0)).detach().cpu().numpy().squeeze() for frame in data] \n",
    "        embedding.append(embedding_data)\n",
    "    return embedding\n",
    "\n",
    "def load_model(model_path, model_name, output_dimension, hidden_units, input_size, model_number):\n",
    "    #find available device\n",
    "    device = torch.device('cuda:0')\n",
    "    saved_model = torch.load(model_path)\n",
    "    model = torch.nn.ModuleList([\n",
    "        cebra.models.init(model_name, input_size,\n",
    "                            hidden_units, output_dimension, True)\n",
    "        for _ in range(model_number)\n",
    "    ]).to(device)\n",
    "    model.__setstate__(saved_model)\n",
    "    model.eval()\n",
    "    return model\n",
    "\n",
    "def reshape_frames(frames, shape_ref):\n",
    "    shape_list = [np.shape(x)[0] for x in shape_ref]\n",
    "    gen_video_list = []\n",
    "    index = 0\n",
    "    for shape in shape_list:\n",
    "        gen_video_list.append((frames[index : index + shape]))\n",
    "        index += shape\n",
    "    return gen_video_list\n",
    "\n",
    "#choose a random window of set size from the data deterministically based on seed\n",
    "def choose_random_window( window_size, seed, data):\n",
    "    random.seed(seed)\n",
    "    start = random.randint(0, len(data) - window_size)\n",
    "    return data[start:start+window_size]\n"
   ]
  },
  {
   "cell_type": "code",
   "execution_count": 10,
   "metadata": {},
   "outputs": [],
   "source": [
    "model = load_model(cebra_model_path, model_name, output_dimension, hidden_units, input_size, 8)"
   ]
  },
  {
   "cell_type": "code",
   "execution_count": 11,
   "metadata": {},
   "outputs": [],
   "source": [
    "def normalize_array(in_array):\n",
    "    return np.array([x / np.linalg.norm(x) for x in in_array])\n",
    "\n",
    "def match_frame_to_embeddings(predicted_embedding, embedding_train, image_train):\n",
    "  cos_dist = np.matmul(embedding_train, predicted_embedding.T)\n",
    "  index_list = np.argmax(cos_dist, axis=0)\n",
    "  return image_train[index_list]\n",
    "\n",
    "def predict_embeddings(neural_path, behavior_path,dino_path, validation_cutoff, model, session):\n",
    "    # Load data\n",
    "    print('Loading data')\n",
    "    brain_data, name_data = import_data(neural_path, process_brain, max=validation_cutoff)\n",
    "    behavior_data, _ = import_data(behavior_path, lambda x: x, max=validation_cutoff)\n",
    "    dino_data, _ = import_data(dino_path, lambda x: x, max=validation_cutoff)\n",
    "    # Generate embeddings\n",
    "    print('Generating embeddings')\n",
    "    embeddings = generate_CEBRA_embeddings(brain_data, model, session)\n",
    "\n",
    "    print('Loading test data')\n",
    "    # Load the test set of data\n",
    "    brain_data_test, name_data_test = import_data(neural_path, process_brain, min = validation_cutoff, max=1)\n",
    "    behavior_data_test, _ = import_data(behavior_path, lambda x: x, min = validation_cutoff, max=1)\n",
    "    dino_data_test, _ = import_data(dino_path, lambda x: x, min = validation_cutoff, max=1)\n",
    "    # Generate embeddings\n",
    "    print('Generating test embeddings')\n",
    "    embeddings_test = generate_CEBRA_embeddings(brain_data_test, model, session)\n",
    "\n",
    "    # Flatten Data\n",
    "    embeddings_flat = flatten_data(embeddings).squeeze()\n",
    "    behavior_flat = flatten_data(behavior_data).squeeze()\n",
    "    dino_flat = flatten_data(dino_data).squeeze()\n",
    "    embedding_test_flat = flatten_data(embeddings_test).squeeze()\n",
    "    dino_test_flat = flatten_data(dino_data_test).squeeze()\n",
    "\n",
    "    print('Running KNN')\n",
    "    # Create KNN decoder\n",
    "    # print shapes of data\n",
    "    print('embedding shape: ', np.shape(embeddings_flat))\n",
    "    print('dino shape: ', np.shape(dino_flat))\n",
    "    decoder = cebra.KNNDecoder(n_neighbors=20, metric=\"cosine\")\n",
    "    decoder.fit(embeddings_flat, dino_flat)\n",
    "\n",
    "    # predict\n",
    "    predicted_dino = decoder.predict(embedding_test_flat)\n",
    "\n",
    "    # normalize predicted embeddings\n",
    "    predicted_dino = normalize_array(predicted_dino)\n",
    "\n",
    "    # Generate accuracy ratings by taking cosine distance to test dino set\n",
    "    cos_dist =  np.matmul(predicted_dino, dino_test_flat.T)\n",
    "\n",
    "    print('generating videos')\n",
    "    # Match predicted embeddings to images\n",
    "    predicted_images = match_frame_to_embeddings(predicted_dino, dino_flat, behavior_flat)\n",
    "    reshaped_predicted_images = reshape_frames(predicted_images, brain_data_test)\n",
    "\n",
    "    print('Running Clustering')\n",
    "    #run Agglomerative clustering to predict class labels\n",
    "    clustering = OPTICS(min_samples=0.1, metric='cosine').fit(embedding_test_flat)\n",
    "    predicted_labels_flat = clustering.labels_\n",
    "\n",
    "    #reshape predicted labels\n",
    "    predicted_labels = reshape_frames(predicted_labels_flat, brain_data_test)\n",
    "    cos_dist = reshape_frames(cos_dist, brain_data_test)\n",
    "\n",
    "    return reshaped_predicted_images, name_data_test, predicted_labels, cos_dist, behavior_data_test\n"
   ]
  },
  {
   "cell_type": "code",
   "execution_count": 12,
   "metadata": {},
   "outputs": [],
   "source": [
    "def display_frames_as_video(frames, ground_truth, frame_rate, name, labels, label_dict, accuracy, output_folder_path):\n",
    "    fontScale = 0.5\n",
    "    org = (50, 50)\n",
    "    font = cv2.FONT_HERSHEY_SIMPLEX\n",
    "    thickness = 1\n",
    "    # Get the dimensions of the frames\n",
    "    frame_height, frame_width = frames[0].shape\n",
    "    # Classify video based on median label of all frames\n",
    "    label = np.round(np.median(labels))\n",
    "    label_class = label_dict[label]\n",
    "    # Create a VideoWriter object to write the frames into a video file\n",
    "    video_writer = cv2.VideoWriter(output_folder_path + '/'+ str(label) + '_' + name +'.mp4',\n",
    "                                   cv2.VideoWriter_fourcc(*'mp4v'),\n",
    "                                   frame_rate,\n",
    "                                   (frame_width, 2 * frame_height))\n",
    "\n",
    "    # Display frames\n",
    "    for iter, frame in enumerate(zip(frames, ground_truth, labels, accuracy)):\n",
    "        # Write the current frame to the video file\n",
    "        color_frame = cv2.cvtColor(((frame[0]/2 + frames[iter - 1]/2)).astype(np.uint8), cv2.COLOR_GRAY2RGB)\n",
    "        color_truth = cv2.cvtColor(frame[1].astype(np.uint8), cv2.COLOR_GRAY2RGB)\n",
    "        combined = np.concatenate((color_frame, color_truth))\n",
    "\n",
    "        # write corresponding label to video corner\n",
    "        combined  = cv2.putText(combined, str(frame[2]) + ' ' + str(frame[3]), org, font, \n",
    "                   fontScale, (0,0,255), thickness, cv2.LINE_AA)\n",
    "        video_writer.write(combined)\n",
    "\n",
    "    # Release the VideoWriter and close the window\n",
    "    video_writer.release()\n",
    "    cv2.destroyAllWindows()"
   ]
  },
  {
   "cell_type": "code",
   "execution_count": 13,
   "metadata": {},
   "outputs": [],
   "source": [
    "label_classes = {0 : '0', 1 : '1', 2 : '2'}"
   ]
  },
  {
   "cell_type": "code",
   "execution_count": 14,
   "metadata": {},
   "outputs": [
    {
     "name": "stdout",
     "output_type": "stream",
     "text": [
      "Loading data\n",
      "Generating embeddings\n",
      "Loading test data\n",
      "Generating test embeddings\n",
      "Running KNN\n",
      "embedding shape:  (92084, 16)\n",
      "dino shape:  (92084, 384)\n",
      "generating videos\n",
      "Running Clustering\n",
      "Loading data\n"
     ]
    },
    {
     "ename": "KeyboardInterrupt",
     "evalue": "",
     "output_type": "error",
     "traceback": [
      "\u001b[0;31m---------------------------------------------------------------------------\u001b[0m",
      "\u001b[0;31mKeyboardInterrupt\u001b[0m                         Traceback (most recent call last)",
      "Cell \u001b[0;32mIn[14], line 2\u001b[0m\n\u001b[1;32m      1\u001b[0m \u001b[39mfor\u001b[39;00m i, _ \u001b[39min\u001b[39;00m \u001b[39menumerate\u001b[39m(\u001b[39mzip\u001b[39m(neural_data_paths, behavior_data_paths, dino_paths)):\n\u001b[0;32m----> 2\u001b[0m     pred_images, names, labels, accuracy, predict_behavior \u001b[39m=\u001b[39m predict_embeddings(neural_data_paths[i], behavior_data_paths[i], dino_paths[i], \u001b[39m0.8\u001b[39;49m, model, i)\n\u001b[1;32m      3\u001b[0m     \u001b[39mfor\u001b[39;00m data \u001b[39min\u001b[39;00m \u001b[39mzip\u001b[39m(labels, pred_images, names, predict_behavior):\n\u001b[1;32m      4\u001b[0m         windowed_labels \u001b[39m=\u001b[39m choose_random_window(\u001b[39m30\u001b[39m, data[\u001b[39m2\u001b[39m], data[\u001b[39m0\u001b[39m])\n",
      "Cell \u001b[0;32mIn[11], line 13\u001b[0m, in \u001b[0;36mpredict_embeddings\u001b[0;34m(neural_path, behavior_path, dino_path, validation_cutoff, model, session)\u001b[0m\n\u001b[1;32m     11\u001b[0m \u001b[39mprint\u001b[39m(\u001b[39m'\u001b[39m\u001b[39mLoading data\u001b[39m\u001b[39m'\u001b[39m)\n\u001b[1;32m     12\u001b[0m brain_data, name_data \u001b[39m=\u001b[39m import_data(neural_path, process_brain, \u001b[39mmax\u001b[39m\u001b[39m=\u001b[39mvalidation_cutoff)\n\u001b[0;32m---> 13\u001b[0m behavior_data, _ \u001b[39m=\u001b[39m import_data(behavior_path, \u001b[39mlambda\u001b[39;49;00m x: x, \u001b[39mmax\u001b[39;49m\u001b[39m=\u001b[39;49mvalidation_cutoff)\n\u001b[1;32m     14\u001b[0m dino_data, _ \u001b[39m=\u001b[39m import_data(dino_path, \u001b[39mlambda\u001b[39;00m x: x, \u001b[39mmax\u001b[39m\u001b[39m=\u001b[39mvalidation_cutoff)\n\u001b[1;32m     15\u001b[0m \u001b[39m# Generate embeddings\u001b[39;00m\n",
      "Cell \u001b[0;32mIn[9], line 23\u001b[0m, in \u001b[0;36mimport_data\u001b[0;34m(filepath, processor, min, max)\u001b[0m\n\u001b[1;32m     21\u001b[0m filename \u001b[39m=\u001b[39m os\u001b[39m.\u001b[39mfsdecode(file)\n\u001b[1;32m     22\u001b[0m \u001b[39mif\u001b[39;00m filename\u001b[39m.\u001b[39mendswith(\u001b[39m\"\u001b[39m\u001b[39m.tif\u001b[39m\u001b[39m\"\u001b[39m):\n\u001b[0;32m---> 23\u001b[0m     out \u001b[39m=\u001b[39m cv2\u001b[39m.\u001b[39;49mimreadmulti(filepath \u001b[39m+\u001b[39;49m \u001b[39m'\u001b[39;49m\u001b[39m/\u001b[39;49m\u001b[39m'\u001b[39;49m \u001b[39m+\u001b[39;49m filename)[\u001b[39m1\u001b[39m]\n\u001b[1;32m     24\u001b[0m     output_data\u001b[39m.\u001b[39mappend(processor(out))\n\u001b[1;32m     25\u001b[0m     output_name\u001b[39m.\u001b[39mappend(filename\u001b[39m.\u001b[39msplit(\u001b[39m'\u001b[39m\u001b[39m.\u001b[39m\u001b[39m'\u001b[39m)[\u001b[39m0\u001b[39m])\n",
      "\u001b[0;31mKeyboardInterrupt\u001b[0m: "
     ]
    }
   ],
   "source": [
    "for i, _ in enumerate(zip(neural_data_paths, behavior_data_paths, dino_paths)):\n",
    "    pred_images, names, labels, accuracy, predict_behavior = predict_embeddings(neural_data_paths[i], behavior_data_paths[i], dino_paths[i], 0.8, model, i)\n",
    "    for data in zip(labels, pred_images, names, predict_behavior):\n",
    "        windowed_labels = choose_random_window(30, data[2], data[0])\n",
    "        windowed_frames = choose_random_window(30, data[2], data[1])\n",
    "        windowed_truth = choose_random_window(30, data[2], data[3])\n",
    "        display_frames_as_video(windowed_frames, windowed_truth, 30, data[2], windowed_labels, label_classes, accuracy, output_folder_paths[i])"
   ]
  },
  {
   "cell_type": "code",
   "execution_count": 17,
   "metadata": {},
   "outputs": [
    {
     "name": "stdout",
     "output_type": "stream",
     "text": [
      "Loading data\n",
      "Generating embeddings\n",
      "Running TSNE\n"
     ]
    },
    {
     "name": "stderr",
     "output_type": "stream",
     "text": [
      "/tmp/ipykernel_23611/269249482.py:20: UserWarning: No data for colormapping provided via 'c'. Parameters 'cmap' will be ignored\n",
      "  scatter = plt.scatter(tsne_embedding[:,0], tsne_embedding[:,1], cmap=colors)\n",
      "/home/murph_4090ws/miniconda3/envs/cebra-env/lib/python3.11/site-packages/matplotlib/collections.py:1080: UserWarning: Collection without array used. Make sure to specify the values to be colormapped via the `c` argument.\n",
      "  warnings.warn(\"Collection without array used. Make sure to \"\n",
      "No artists with labels found to put in legend.  Note that artists whose label start with an underscore are ignored when legend() is called with no argument.\n"
     ]
    },
    {
     "data": {
      "image/png": "[encoded data removed]",
      "text/plain": [
       "<Figure size 640x480 with 1 Axes>"
      ]
     },
     "metadata": {},
     "output_type": "display_data"
    }
   ],
   "source": [
    "from matplotlib.colors import ListedColormap\n",
    "from sklearn.manifold import TSNE\n",
    "\n",
    "print('Loading data')\n",
    "brain_data, name_data = import_data(neural_data_paths[0], process_brain, max=1)\n",
    "print ('Generating embeddings')\n",
    "embeddings = generate_CEBRA_embeddings(brain_data, model, 0)\n",
    "embedding_flat = flatten_data(embeddings).squeeze()\n",
    "\n",
    "# print('Running Clustering') \n",
    "# clustering = OPTICS(min_samples=0.1, metric='cosine').fit(embedding_flat)\n",
    "# predicted_labels_flat = clustering.labels_\n",
    "\n",
    "print('Running TSNE')\n",
    "tsne_embedding = TSNE(n_components=2, n_iter=500, learning_rate='auto', metric='cosine',\n",
    "                init='random', perplexity=30).fit_transform(embedding_flat)\n",
    "colors = ListedColormap(['r','b','g'])\n",
    "classes = ['still', 'running', 'sniffing']\n",
    "#plot tsne plot as a scatterplot with labels\n",
    "scatter = plt.scatter(tsne_embedding[:,0], tsne_embedding[:,1], cmap=colors)\n",
    "plt.legend(handles=scatter.legend_elements()[0], labels=classes)\n",
    "plt.show()\n"
   ]
  }
 ],
 "metadata": {
  "kernelspec": {
   "display_name": "cebra-env",
   "language": "python",
   "name": "python3"
  },
  "language_info": {
   "codemirror_mode": {
    "name": "ipython",
    "version": 3
   },
   "file_extension": ".py",
   "mimetype": "text/x-python",
   "name": "python",
   "nbconvert_exporter": "python",
   "pygments_lexer": "ipython3",
   "version": "3.11.3"
  },
  "orig_nbformat": 4
 },
 "nbformat": 4,
 "nbformat_minor": 2
}
