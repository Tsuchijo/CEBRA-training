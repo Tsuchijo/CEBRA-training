{
  "cells": [
    {
      "cell_type": "code",
      "execution_count": null,
      "metadata": {
        "id": "5Mh4A94LxJLq"
      },
      "outputs": [],
      "source": [
        "import sys\n",
        "import numpy as np\n",
        "import matplotlib.pyplot as plt\n",
        "from cebra import CEBRA\n",
        "from PIL import Image\n",
        "import cv2\n",
        "import torch\n",
        "import pickle\n",
        "import cebra\n",
        "import os"
      ]
    },
    {
      "cell_type": "code",
      "execution_count": null,
      "metadata": {
        "id": "XY1FNJEDxJL0"
      },
      "outputs": [],
      "source": [
        "from logging import exception\n",
        "def process_brain(brain_seq):\n",
        "  try:\n",
        "    brain_seq = np.array(brain_seq)\n",
        "    brain_mask = (np.sum(brain_seq, axis=0) > 0)\n",
        "    flat_seq = (brain_seq[:, brain_mask])\n",
        "    return flat_seq.astype(float)\n",
        "  except:\n",
        "    print(np.shape(brain_seq))"
      ]
    },
    {
      "cell_type": "code",
      "execution_count": null,
      "metadata": {},
      "outputs": [],
      "source": [
        "def import_data(filepath, processor, max = -1):\n",
        "    output_data = []\n",
        "    output_name = []\n",
        "    for iter, file in enumerate(os.listdir(filepath)):\n",
        "     filename = os.fsdecode(file)\n",
        "     if filename.endswith(\".tif\"):\n",
        "         out = cv2.imreadmulti(filepath + '/' + filename)[1]\n",
        "         output_data.append(processor(out))\n",
        "         output_name.append(filename)\n",
        "         if iter > max and max > 0: break\n",
        "         continue\n",
        "     else:\n",
        "         continue\n",
        "    return output_data, output_name"
      ]
    },
    {
      "cell_type": "code",
      "execution_count": null,
      "metadata": {},
      "outputs": [],
      "source": [
        "neural_data, name_data = import_data(\"2020_11_9_MV1_run_brain\", process_brain)"
      ]
    },
    {
      "cell_type": "code",
      "execution_count": null,
      "metadata": {},
      "outputs": [],
      "source": [
        "image_data, _ = import_data(\"2020_11_9_MV1_run_behavior\", lambda x : x)"
      ]
    },
    {
      "cell_type": "code",
      "execution_count": null,
      "metadata": {},
      "outputs": [],
      "source": [
        "neural_data_test, name_data_test = import_data(\"2020_12_4_MV1_run_brain\", process_brain)"
      ]
    },
    {
      "cell_type": "code",
      "execution_count": null,
      "metadata": {},
      "outputs": [],
      "source": [
        "image_data_test, _ = import_data(\"2020_12_4_MV1_run_behavior\", lambda x : x)"
      ]
    },
    {
      "cell_type": "code",
      "execution_count": null,
      "metadata": {},
      "outputs": [],
      "source": [
        "for i, name in enumerate(name_data_test):\n",
        "    if name.split('_')[0] == 'nomove':\n",
        "        print('del')\n",
        "        del name_data_test[i]\n",
        "        del image_data_test[i]\n",
        "        del neural_data_test[i]"
      ]
    },
    {
      "cell_type": "code",
      "execution_count": null,
      "metadata": {
        "id": "sH9RWSOBj778"
      },
      "outputs": [],
      "source": [
        "with open('feature_labels', 'rb') as f:\n",
        "    behav_feature = pickle.load(f)"
      ]
    },
    {
      "cell_type": "code",
      "execution_count": null,
      "metadata": {
        "id": "RDwRLl4mxJL4"
      },
      "outputs": [],
      "source": [
        "multi_cebra_model = CEBRA.load('cebra_multi_model2.pt')"
      ]
    },
    {
      "cell_type": "code",
      "execution_count": null,
      "metadata": {
        "id": "2y9XJEPmxJL6"
      },
      "outputs": [],
      "source": [
        "def flatten_data(data):\n",
        "    data_flat = np.squeeze(data[0])\n",
        "    for x in data[1::]:\n",
        "        data_flat = np.concatenate((data_flat, np.squeeze(x)))\n",
        "    return data_flat"
      ]
    },
    {
      "cell_type": "code",
      "execution_count": null,
      "metadata": {},
      "outputs": [],
      "source": [
        "def generate_CEBRA_embeddings(neural, name, model, session = 'run'):\n",
        "    embedding = []\n",
        "    for run, data in enumerate(neural):\n",
        "        try:\n",
        "            if session == 'run':\n",
        "                embedding.append(model.transform(data, session_id=run))\n",
        "            else:\n",
        "                embedding.append(model.transform(data, session_id=1))\n",
        "        except:\n",
        "            #del image[run]\n",
        "            del name[run]\n",
        "            del neural[run]\n",
        "            print(run)\n",
        "    return embedding"
      ]
    },
    {
      "cell_type": "code",
      "execution_count": null,
      "metadata": {},
      "outputs": [],
      "source": [
        "neural_embedding = generate_CEBRA_embeddings(neural_data, name_data, multi_cebra_model)"
      ]
    },
    {
      "cell_type": "code",
      "execution_count": null,
      "metadata": {},
      "outputs": [],
      "source": [
        "neural_embedding_test = generate_CEBRA_embeddings(neural_data_test, name_data_test, multi_cebra_model, 'test')"
      ]
    },
    {
      "cell_type": "code",
      "execution_count": null,
      "metadata": {
        "colab": {
          "base_uri": "https://localhost:8080/"
        },
        "id": "ZGFPmfWvxJL9",
        "outputId": "b53a4bb2-f055-48f2-86c8-acf54edebf2f"
      },
      "outputs": [],
      "source": [
        "cutoff = (int)(len(image_data) * 0.8)\n",
        "embedding_train = neural_embedding[:(cutoff )]\n",
        "embedding_pred = neural_embedding[cutoff::]"
      ]
    },
    {
      "cell_type": "code",
      "execution_count": null,
      "metadata": {
        "id": "XDZuhrBRxJL_"
      },
      "outputs": [],
      "source": [
        "def flatten_data(data):\n",
        "    data_flat = (data[0])\n",
        "    for x in data[1::]:\n",
        "        data_flat = np.concatenate((data_flat, x))\n",
        "    return data_flat"
      ]
    },
    {
      "cell_type": "code",
      "execution_count": null,
      "metadata": {
        "id": "B4nOVaIpxJMB"
      },
      "outputs": [],
      "source": [
        "image_data_flat = flatten_data(image_data[:cutoff])\n",
        "neural_embeddings_train_flat = flatten_data(embedding_train)\n",
        "feature_label_train = np.squeeze(flatten_data(behav_feature[:cutoff]))\n",
        "name_data_test_flat = flatten_data(name_data_test)"
      ]
    },
    {
      "cell_type": "code",
      "execution_count": null,
      "metadata": {},
      "outputs": [],
      "source": [
        "neural_embeddings_test_flat = flatten_data(neural_embedding_test)"
      ]
    },
    {
      "cell_type": "code",
      "execution_count": null,
      "metadata": {},
      "outputs": [],
      "source": [
        "image_data_test_flat = flatten_data(image_data_test)"
      ]
    },
    {
      "cell_type": "code",
      "execution_count": null,
      "metadata": {
        "colab": {
          "base_uri": "https://localhost:8080/",
          "height": 342
        },
        "id": "yTp5IaYRxJMB",
        "outputId": "ae3ee914-f85c-45c2-a975-f0601ea89aab"
      },
      "outputs": [],
      "source": [
        "import sklearn.metrics\n",
        "image_decoder = cebra.KNNDecoder(n_neighbors=20, metric=\"cosine\")\n",
        "image_decoder.fit(neural_embeddings_train_flat, (feature_label_train))\n"
      ]
    },
    {
      "cell_type": "code",
      "execution_count": null,
      "metadata": {
        "id": "Oo4woCUu_KKq"
      },
      "outputs": [],
      "source": [
        "predicted = image_decoder.predict(neural_embeddings_test_flat)"
      ]
    },
    {
      "cell_type": "code",
      "execution_count": null,
      "metadata": {},
      "outputs": [],
      "source": [
        "def normalize_array(in_array):\n",
        "    return np.array([x / np.linalg.norm(x) for x in in_array])"
      ]
    },
    {
      "cell_type": "code",
      "execution_count": null,
      "metadata": {},
      "outputs": [],
      "source": [
        "predicted = normalize_array(predicted)\n",
        "feature_label_train = normalize_array(feature_label_train)"
      ]
    },
    {
      "cell_type": "code",
      "execution_count": null,
      "metadata": {
        "id": "mQQhCJTBmla3"
      },
      "outputs": [],
      "source": [
        "def match_frame_to_embeddings(predicted_embedding, embedding_train, image_train):\n",
        "  cos_dist = np.matmul(embedding_train, predicted_embedding.T)\n",
        "  index_list = np.argmax(cos_dist, axis=0)\n",
        "  return image_train[index_list]"
      ]
    },
    {
      "cell_type": "code",
      "execution_count": null,
      "metadata": {
        "colab": {
          "base_uri": "https://localhost:8080/",
          "height": 186
        },
        "id": "K1G_ZOFpn1iS",
        "outputId": "99ca2364-6ea0-4044-aa2e-4be6665a7724"
      },
      "outputs": [],
      "source": [
        "vid_pred = match_frame_to_embeddings(predicted, feature_label_train, image_data_flat)"
      ]
    },
    {
      "cell_type": "code",
      "execution_count": null,
      "metadata": {},
      "outputs": [],
      "source": [
        "first_vid = predicted[0 : 87]\n",
        "first_pred = match_frame_to_embeddings(first_vid, feature_label_train, image_data_flat)"
      ]
    },
    {
      "cell_type": "code",
      "execution_count": null,
      "metadata": {
        "id": "4jsLam7NxJMC"
      },
      "outputs": [],
      "source": [
        "shape_list = [np.shape(x)[0] for x in neural_embedding_test]\n",
        "gen_video_list = []\n",
        "index = 0\n",
        "for shape in shape_list:\n",
        "    gen_video_list.append((vid_pred[index : index + shape]))\n",
        "    index += shape"
      ]
    },
    {
      "cell_type": "code",
      "execution_count": null,
      "metadata": {
        "id": "m92KEvCnOKQe"
      },
      "outputs": [],
      "source": [
        "def display_frames_as_video(frames, ground_truth, frame_rate, name):\n",
        "    # Get the dimensions of the frames\n",
        "    frame_height, frame_width = frames[0].shape\n",
        "\n",
        "    # Create a VideoWriter object to write the frames into a video file\n",
        "    video_writer = cv2.VideoWriter('output_videos3/' + name +'.mp4',\n",
        "                                   cv2.VideoWriter_fourcc(*'mp4v'),\n",
        "                                   frame_rate,\n",
        "                                   (frame_width, 2 * frame_height))\n",
        "\n",
        "    # Display frames\n",
        "    for iter, frame in enumerate(zip(frames, ground_truth)):\n",
        "        # Write the current frame to the video file\n",
        "        color_frame = cv2.cvtColor(((frame[0]/2 + frames[iter - 1]/2)).astype(np.uint8), cv2.COLOR_GRAY2RGB)\n",
        "        color_truth = cv2.cvtColor(frame[1].astype(np.uint8), cv2.COLOR_GRAY2RGB)\n",
        "        combined = np.concatenate((color_frame, color_truth))\n",
        "        video_writer.write(combined)\n",
        "\n",
        "        # Display the frame\n",
        "        #cv2.imshow(combined)\n",
        "\n",
        "    # Release the VideoWriter and close the window\n",
        "    video_writer.release()\n",
        "    cv2.destroyAllWindows()"
      ]
    },
    {
      "cell_type": "code",
      "execution_count": null,
      "metadata": {
        "colab": {
          "base_uri": "https://localhost:8080/",
          "height": 1000
        },
        "id": "pEIr9PhfOTPn",
        "outputId": "abc32a42-90f1-4431-b0ce-911824189648"
      },
      "outputs": [],
      "source": [
        "display_frames_as_video(first_pred, image_data_pred[0], 24, name_data_pred[0])"
      ]
    },
    {
      "cell_type": "code",
      "execution_count": null,
      "metadata": {},
      "outputs": [],
      "source": [
        "for iter, video in enumerate(gen_video_list):\n",
        "    if name_data_pred.split('_')[0] == 'move':\n",
        "        display_frames_as_video(video, image_data_pred[iter], 24, name_data_pred[iter])"
      ]
    }
  ],
  "metadata": {
    "accelerator": "GPU",
    "colab": {
      "gpuType": "T4",
      "provenance": []
    },
    "kernelspec": {
      "display_name": "Python 3",
      "name": "python3"
    },
    "language_info": {
      "codemirror_mode": {
        "name": "ipython",
        "version": 3
      },
      "file_extension": ".py",
      "mimetype": "text/x-python",
      "name": "python",
      "nbconvert_exporter": "python",
      "pygments_lexer": "ipython3",
      "version": "3.11.3"
    },
    "orig_nbformat": 4
  },
  "nbformat": 4,
  "nbformat_minor": 0
}
