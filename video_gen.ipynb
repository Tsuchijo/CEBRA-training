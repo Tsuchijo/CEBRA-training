{
 "cells": [
  {
   "cell_type": "code",
   "execution_count": null,
   "metadata": {},
   "outputs": [],
   "source": [
    "import sys\n",
    "import numpy as np\n",
    "import matplotlib.pyplot as plt\n",
    "from cebra import CEBRA\n",
    "from PIL import Image\n",
    "import cv2\n",
    "import torch\n",
    "import pickle"
   ]
  },
  {
   "cell_type": "code",
   "execution_count": null,
   "metadata": {},
   "outputs": [],
   "source": [
    "from logging import exception\n",
    "def process_brain(path):\n",
    "  try:\n",
    "    brain_seq = cv2.imreadmulti(path)[1]\n",
    "    brain_seq = np.array(brain_seq)\n",
    "    brain_mask = (np.sum(brain_seq, axis=0) > 0)\n",
    "    flat_seq = (brain_seq[:, brain_mask])\n",
    "    return flat_seq.astype(float)\n",
    "  except:\n",
    "    print(np.shape(brain_seq))"
   ]
  },
  {
   "cell_type": "code",
   "execution_count": null,
   "metadata": {},
   "outputs": [],
   "source": [
    "# iterate through all brain data and process it\n",
    "#https://stackoverflow.com/questions/10377998/how-can-i-iterate-over-files-in-a-given-directory\n",
    "import os\n",
    "neural_data = []\n",
    "name_data = []\n",
    "\n",
    "filepath = \"2020_11_9_MV1_run_brain\"\n",
    "for iter, file in enumerate(os.listdir(filepath)):\n",
    "     filename = os.fsdecode(file)\n",
    "     if filename.endswith(\".tif\"):\n",
    "         neural_data.append(process_brain(filepath + '/' + filename))\n",
    "         name_data.append(filename)\n",
    "         continue\n",
    "     else:\n",
    "         continue"
   ]
  },
  {
   "cell_type": "code",
   "execution_count": null,
   "metadata": {},
   "outputs": [],
   "source": [
    "image_data = []\n",
    "filepath = \"2020_11_9_MV1_run_behavior\"\n",
    "for file in os.listdir(filepath):\n",
    "     filename = os.fsdecode(file)\n",
    "     if filename.endswith(\".tif\"):\n",
    "         image_data.append(cv2.imreadmulti(filepath + '/' + filename)[1])\n",
    "         continue\n",
    "     else:\n",
    "         continue"
   ]
  },
  {
   "cell_type": "code",
   "execution_count": null,
   "metadata": {},
   "outputs": [],
   "source": [
    "multi_cebra_model = CEBRA.load('cebra_multi_model2.pt')"
   ]
  },
  {
   "cell_type": "code",
   "execution_count": null,
   "metadata": {},
   "outputs": [],
   "source": [
    "def flatten_data(data):\n",
    "    data_flat = np.squeeze(data[0])\n",
    "    for x in data[1::]:\n",
    "        data_flat = np.concatenate((data_flat, np.squeeze(x)))\n",
    "    return data_flat"
   ]
  },
  {
   "cell_type": "code",
   "execution_count": null,
   "metadata": {},
   "outputs": [],
   "source": [
    "import cebra\n",
    "neural_embedding = []\n",
    "for run, data in enumerate(neural_data):\n",
    "  try:\n",
    "    neural_embedding.append(multi_cebra_model.transform(data, session_id=run))\n",
    "  except:\n",
    "    print(run)"
   ]
  },
  {
   "cell_type": "code",
   "execution_count": null,
   "metadata": {},
   "outputs": [],
   "source": [
    "embedding_train = neural_embedding[:(int)(282 * 0.8)]\n",
    "embedding_pred = neural_embedding[225::]"
   ]
  },
  {
   "cell_type": "code",
   "execution_count": null,
   "metadata": {},
   "outputs": [],
   "source": [
    "def flatten_data(data):\n",
    "    data_flat = np.squeeze(data[0])\n",
    "    for x in data[1::]:\n",
    "        data_flat = np.concatenate((data_flat, np.squeeze(x)))\n",
    "    return data_flat"
   ]
  },
  {
   "cell_type": "code",
   "execution_count": null,
   "metadata": {},
   "outputs": [],
   "source": [
    "image_data_flat = flatten_data(image_data[:(int)(282 * 0.8)])\n",
    "neural_embeddings_train_flat = flatten_data(embedding_train)\n",
    "neual_embeddings_pred_flat = flatten_data(embedding_pred)"
   ]
  },
  {
   "cell_type": "code",
   "execution_count": null,
   "metadata": {},
   "outputs": [],
   "source": [
    "import sklearn.metrics\n",
    "image_decoder = cebra.KNNDecoder(n_neighbors=5, metric=\"cosine\")\n",
    "image_decoder.fit(neural_embeddings_train_flat, (image_data_flat.astype(int)))\n",
    "image_pred = image_decoder.predict(neual_embeddings_pred_flat)"
   ]
  },
  {
   "cell_type": "code",
   "execution_count": null,
   "metadata": {},
   "outputs": [],
   "source": [
    "shape_list = [np.shape(x)[0] for x in embedding_pred]\n",
    "gen_video_list = []\n",
    "index = 0\n",
    "for shape in shape_list:\n",
    "    gen_video_list.append(image_pred[index : index + shape])\n",
    "    index += shape"
   ]
  }
 ],
 "metadata": {
  "language_info": {
   "name": "python"
  },
  "orig_nbformat": 4
 },
 "nbformat": 4,
 "nbformat_minor": 2
}
