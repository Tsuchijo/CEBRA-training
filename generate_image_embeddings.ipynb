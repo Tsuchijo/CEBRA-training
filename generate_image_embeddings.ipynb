{
 "cells": [
  {
   "cell_type": "code",
   "execution_count": 1,
   "metadata": {},
   "outputs": [],
   "source": [
    "import sys\n",
    "import numpy as np\n",
    "import matplotlib.pyplot as plt\n",
    "from cebra import CEBRA\n",
    "from PIL import Image\n",
    "import cv2\n",
    "import torch\n",
    "import pickle\n",
    "import os"
   ]
  },
  {
   "cell_type": "code",
   "execution_count": 4,
   "metadata": {},
   "outputs": [],
   "source": [
    "filepath_behavior = \"2020_12_4_MV1_run_behavior\"\n",
    "image_sequence = []\n",
    "for iter, file in enumerate(os.listdir(filepath_behavior)):\n",
    "     filename = os.fsdecode(file)   \n",
    "     if filename.endswith(\".tif\" ) and filename.split('_')[0] == 'move':\n",
    "         image_sequence.append(cv2.imreadmulti(filepath_behavior + '/' + filename)[1])\n",
    "         if iter > 500: break\n",
    "         continue\n",
    "     else:\n",
    "         continue   "
   ]
  },
  {
   "cell_type": "code",
   "execution_count": 5,
   "metadata": {},
   "outputs": [],
   "source": [
    "def flatten_data(data):\n",
    "    data_flat = np.squeeze(data[0])\n",
    "    for x in data[1::]:\n",
    "        data_flat = np.concatenate((data_flat, np.squeeze(x)))\n",
    "    return data_flat"
   ]
  },
  {
   "cell_type": "code",
   "execution_count": 6,
   "metadata": {},
   "outputs": [],
   "source": [
    "image_sequence_flat = flatten_data(image_sequence)"
   ]
  },
  {
   "cell_type": "code",
   "execution_count": 7,
   "metadata": {},
   "outputs": [
    {
     "name": "stderr",
     "output_type": "stream",
     "text": [
      "/home/murphy/anaconda3/envs/cebra-env/lib/python3.11/site-packages/tqdm/auto.py:21: TqdmWarning: IProgress not found. Please update jupyter and ipywidgets. See https://ipywidgets.readthedocs.io/en/stable/user_install.html\n",
      "  from .autonotebook import tqdm as notebook_tqdm\n",
      "Some weights of ViTModel were not initialized from the model checkpoint at facebook/dino-vits8 and are newly initialized: ['pooler.dense.bias', 'pooler.dense.weight']\n",
      "You should probably TRAIN this model on a down-stream task to be able to use it for predictions and inference.\n"
     ]
    }
   ],
   "source": [
    "# from https://huggingface.co/facebook/dino-vits8\n",
    "# testing transformer\n",
    "from transformers import ViTImageProcessor, ViTModel\n",
    "from PIL import Image\n",
    "import requests\n",
    "\n",
    "processor = ViTImageProcessor.from_pretrained('facebook/dino-vits8')\n",
    "model = ViTModel.from_pretrained('facebook/dino-vits8')\n",
    "device = \"cuda:0\" if torch.cuda.is_available() else \"cpu\"\n",
    "model = model.to(device)"
   ]
  },
  {
   "cell_type": "code",
   "execution_count": 8,
   "metadata": {},
   "outputs": [],
   "source": [
    "def get_features(model, image):\n",
    "  return model(**processor(images=image, return_tensors=\"pt\").to(device)).pooler_output.cpu().detach().numpy()"
   ]
  },
  {
   "cell_type": "code",
   "execution_count": 9,
   "metadata": {},
   "outputs": [],
   "source": [
    "from PIL import Image\n",
    "\n",
    "def np_to_PIL(image_array):\n",
    "    return [Image.fromarray(np.uint8(image)).convert('RGB') for image in image_array]\n",
    "\n",
    "def process_behav(beh_seq):\n",
    "  return np.array([get_features(model, np_to_PIL(beh_frame) ) for beh_frame in beh_seq])"
   ]
  },
  {
   "cell_type": "code",
   "execution_count": 10,
   "metadata": {},
   "outputs": [
    {
     "ename": "OutOfMemoryError",
     "evalue": "CUDA out of memory. Tried to allocate 4.41 GiB (GPU 0; 23.65 GiB total capacity; 12.95 GiB already allocated; 2.04 GiB free; 13.07 GiB reserved in total by PyTorch) If reserved memory is >> allocated memory try setting max_split_size_mb to avoid fragmentation.  See documentation for Memory Management and PYTORCH_CUDA_ALLOC_CONF",
     "output_type": "error",
     "traceback": [
      "\u001b[0;31m---------------------------------------------------------------------------\u001b[0m",
      "\u001b[0;31mOutOfMemoryError\u001b[0m                          Traceback (most recent call last)",
      "Cell \u001b[0;32mIn[10], line 1\u001b[0m\n\u001b[0;32m----> 1\u001b[0m embeddings_flat \u001b[38;5;241m=\u001b[39m \u001b[43mprocess_behav\u001b[49m\u001b[43m(\u001b[49m\u001b[43mimage_sequence_flat\u001b[49m\u001b[43m)\u001b[49m\n",
      "Cell \u001b[0;32mIn[9], line 7\u001b[0m, in \u001b[0;36mprocess_behav\u001b[0;34m(beh_seq)\u001b[0m\n\u001b[1;32m      6\u001b[0m \u001b[38;5;28;01mdef\u001b[39;00m \u001b[38;5;21mprocess_behav\u001b[39m(beh_seq):\n\u001b[0;32m----> 7\u001b[0m   \u001b[38;5;28;01mreturn\u001b[39;00m np\u001b[38;5;241m.\u001b[39marray(\u001b[43m[\u001b[49m\u001b[43mget_features\u001b[49m\u001b[43m(\u001b[49m\u001b[43mmodel\u001b[49m\u001b[43m,\u001b[49m\u001b[43m \u001b[49m\u001b[43mnp_to_PIL\u001b[49m\u001b[43m(\u001b[49m\u001b[43mbeh_frame\u001b[49m\u001b[43m)\u001b[49m\u001b[43m \u001b[49m\u001b[43m)\u001b[49m\u001b[43m \u001b[49m\u001b[38;5;28;43;01mfor\u001b[39;49;00m\u001b[43m \u001b[49m\u001b[43mbeh_frame\u001b[49m\u001b[43m \u001b[49m\u001b[38;5;129;43;01min\u001b[39;49;00m\u001b[43m \u001b[49m\u001b[43mbeh_seq\u001b[49m\u001b[43m]\u001b[49m)\n",
      "Cell \u001b[0;32mIn[9], line 7\u001b[0m, in \u001b[0;36m<listcomp>\u001b[0;34m(.0)\u001b[0m\n\u001b[1;32m      6\u001b[0m \u001b[38;5;28;01mdef\u001b[39;00m \u001b[38;5;21mprocess_behav\u001b[39m(beh_seq):\n\u001b[0;32m----> 7\u001b[0m   \u001b[38;5;28;01mreturn\u001b[39;00m np\u001b[38;5;241m.\u001b[39marray([\u001b[43mget_features\u001b[49m\u001b[43m(\u001b[49m\u001b[43mmodel\u001b[49m\u001b[43m,\u001b[49m\u001b[43m \u001b[49m\u001b[43mnp_to_PIL\u001b[49m\u001b[43m(\u001b[49m\u001b[43mbeh_frame\u001b[49m\u001b[43m)\u001b[49m\u001b[43m \u001b[49m\u001b[43m)\u001b[49m \u001b[38;5;28;01mfor\u001b[39;00m beh_frame \u001b[38;5;129;01min\u001b[39;00m beh_seq])\n",
      "Cell \u001b[0;32mIn[8], line 2\u001b[0m, in \u001b[0;36mget_features\u001b[0;34m(model, image)\u001b[0m\n\u001b[1;32m      1\u001b[0m \u001b[38;5;28;01mdef\u001b[39;00m \u001b[38;5;21mget_features\u001b[39m(model, image):\n\u001b[0;32m----> 2\u001b[0m   \u001b[38;5;28;01mreturn\u001b[39;00m \u001b[43mmodel\u001b[49m\u001b[43m(\u001b[49m\u001b[38;5;241;43m*\u001b[39;49m\u001b[38;5;241;43m*\u001b[39;49m\u001b[43mprocessor\u001b[49m\u001b[43m(\u001b[49m\u001b[43mimages\u001b[49m\u001b[38;5;241;43m=\u001b[39;49m\u001b[43mimage\u001b[49m\u001b[43m,\u001b[49m\u001b[43m \u001b[49m\u001b[43mreturn_tensors\u001b[49m\u001b[38;5;241;43m=\u001b[39;49m\u001b[38;5;124;43m\"\u001b[39;49m\u001b[38;5;124;43mpt\u001b[39;49m\u001b[38;5;124;43m\"\u001b[39;49m\u001b[43m)\u001b[49m\u001b[38;5;241;43m.\u001b[39;49m\u001b[43mto\u001b[49m\u001b[43m(\u001b[49m\u001b[43mdevice\u001b[49m\u001b[43m)\u001b[49m\u001b[43m)\u001b[49m\u001b[38;5;241m.\u001b[39mpooler_output\u001b[38;5;241m.\u001b[39mcpu()\u001b[38;5;241m.\u001b[39mdetach()\u001b[38;5;241m.\u001b[39mnumpy()\n",
      "File \u001b[0;32m~/anaconda3/envs/cebra-env/lib/python3.11/site-packages/torch/nn/modules/module.py:1501\u001b[0m, in \u001b[0;36mModule._call_impl\u001b[0;34m(self, *args, **kwargs)\u001b[0m\n\u001b[1;32m   <a href='file:///home/murphy/anaconda3/envs/cebra-env/lib/python3.11/site-packages/torch/nn/modules/module.py?line=1495'>1496</a>\u001b[0m \u001b[39m# If we don't have any hooks, we want to skip the rest of the logic in\u001b[39;00m\n\u001b[1;32m   <a href='file:///home/murphy/anaconda3/envs/cebra-env/lib/python3.11/site-packages/torch/nn/modules/module.py?line=1496'>1497</a>\u001b[0m \u001b[39m# this function, and just call forward.\u001b[39;00m\n\u001b[1;32m   <a href='file:///home/murphy/anaconda3/envs/cebra-env/lib/python3.11/site-packages/torch/nn/modules/module.py?line=1497'>1498</a>\u001b[0m \u001b[39mif\u001b[39;00m \u001b[39mnot\u001b[39;00m (\u001b[39mself\u001b[39m\u001b[39m.\u001b[39m_backward_hooks \u001b[39mor\u001b[39;00m \u001b[39mself\u001b[39m\u001b[39m.\u001b[39m_backward_pre_hooks \u001b[39mor\u001b[39;00m \u001b[39mself\u001b[39m\u001b[39m.\u001b[39m_forward_hooks \u001b[39mor\u001b[39;00m \u001b[39mself\u001b[39m\u001b[39m.\u001b[39m_forward_pre_hooks\n\u001b[1;32m   <a href='file:///home/murphy/anaconda3/envs/cebra-env/lib/python3.11/site-packages/torch/nn/modules/module.py?line=1498'>1499</a>\u001b[0m         \u001b[39mor\u001b[39;00m _global_backward_pre_hooks \u001b[39mor\u001b[39;00m _global_backward_hooks\n\u001b[1;32m   <a href='file:///home/murphy/anaconda3/envs/cebra-env/lib/python3.11/site-packages/torch/nn/modules/module.py?line=1499'>1500</a>\u001b[0m         \u001b[39mor\u001b[39;00m _global_forward_hooks \u001b[39mor\u001b[39;00m _global_forward_pre_hooks):\n\u001b[0;32m-> <a href='file:///home/murphy/anaconda3/envs/cebra-env/lib/python3.11/site-packages/torch/nn/modules/module.py?line=1500'>1501</a>\u001b[0m     \u001b[39mreturn\u001b[39;00m forward_call(\u001b[39m*\u001b[39;49margs, \u001b[39m*\u001b[39;49m\u001b[39m*\u001b[39;49mkwargs)\n\u001b[1;32m   <a href='file:///home/murphy/anaconda3/envs/cebra-env/lib/python3.11/site-packages/torch/nn/modules/module.py?line=1501'>1502</a>\u001b[0m \u001b[39m# Do not call functions when jit is used\u001b[39;00m\n\u001b[1;32m   <a href='file:///home/murphy/anaconda3/envs/cebra-env/lib/python3.11/site-packages/torch/nn/modules/module.py?line=1502'>1503</a>\u001b[0m full_backward_hooks, non_full_backward_hooks \u001b[39m=\u001b[39m [], []\n",
      "File \u001b[0;32m~/anaconda3/envs/cebra-env/lib/python3.11/site-packages/transformers/models/vit/modeling_vit.py:587\u001b[0m, in \u001b[0;36mViTModel.forward\u001b[0;34m(self, pixel_values, bool_masked_pos, head_mask, output_attentions, output_hidden_states, interpolate_pos_encoding, return_dict)\u001b[0m\n\u001b[1;32m    <a href='file:///home/murphy/anaconda3/envs/cebra-env/lib/python3.11/site-packages/transformers/models/vit/modeling_vit.py?line=580'>581</a>\u001b[0m     pixel_values \u001b[39m=\u001b[39m pixel_values\u001b[39m.\u001b[39mto(expected_dtype)\n\u001b[1;32m    <a href='file:///home/murphy/anaconda3/envs/cebra-env/lib/python3.11/site-packages/transformers/models/vit/modeling_vit.py?line=582'>583</a>\u001b[0m embedding_output \u001b[39m=\u001b[39m \u001b[39mself\u001b[39m\u001b[39m.\u001b[39membeddings(\n\u001b[1;32m    <a href='file:///home/murphy/anaconda3/envs/cebra-env/lib/python3.11/site-packages/transformers/models/vit/modeling_vit.py?line=583'>584</a>\u001b[0m     pixel_values, bool_masked_pos\u001b[39m=\u001b[39mbool_masked_pos, interpolate_pos_encoding\u001b[39m=\u001b[39minterpolate_pos_encoding\n\u001b[1;32m    <a href='file:///home/murphy/anaconda3/envs/cebra-env/lib/python3.11/site-packages/transformers/models/vit/modeling_vit.py?line=584'>585</a>\u001b[0m )\n\u001b[0;32m--> <a href='file:///home/murphy/anaconda3/envs/cebra-env/lib/python3.11/site-packages/transformers/models/vit/modeling_vit.py?line=586'>587</a>\u001b[0m encoder_outputs \u001b[39m=\u001b[39m \u001b[39mself\u001b[39;49m\u001b[39m.\u001b[39;49mencoder(\n\u001b[1;32m    <a href='file:///home/murphy/anaconda3/envs/cebra-env/lib/python3.11/site-packages/transformers/models/vit/modeling_vit.py?line=587'>588</a>\u001b[0m     embedding_output,\n\u001b[1;32m    <a href='file:///home/murphy/anaconda3/envs/cebra-env/lib/python3.11/site-packages/transformers/models/vit/modeling_vit.py?line=588'>589</a>\u001b[0m     head_mask\u001b[39m=\u001b[39;49mhead_mask,\n\u001b[1;32m    <a href='file:///home/murphy/anaconda3/envs/cebra-env/lib/python3.11/site-packages/transformers/models/vit/modeling_vit.py?line=589'>590</a>\u001b[0m     output_attentions\u001b[39m=\u001b[39;49moutput_attentions,\n\u001b[1;32m    <a href='file:///home/murphy/anaconda3/envs/cebra-env/lib/python3.11/site-packages/transformers/models/vit/modeling_vit.py?line=590'>591</a>\u001b[0m     output_hidden_states\u001b[39m=\u001b[39;49moutput_hidden_states,\n\u001b[1;32m    <a href='file:///home/murphy/anaconda3/envs/cebra-env/lib/python3.11/site-packages/transformers/models/vit/modeling_vit.py?line=591'>592</a>\u001b[0m     return_dict\u001b[39m=\u001b[39;49mreturn_dict,\n\u001b[1;32m    <a href='file:///home/murphy/anaconda3/envs/cebra-env/lib/python3.11/site-packages/transformers/models/vit/modeling_vit.py?line=592'>593</a>\u001b[0m )\n\u001b[1;32m    <a href='file:///home/murphy/anaconda3/envs/cebra-env/lib/python3.11/site-packages/transformers/models/vit/modeling_vit.py?line=593'>594</a>\u001b[0m sequence_output \u001b[39m=\u001b[39m encoder_outputs[\u001b[39m0\u001b[39m]\n\u001b[1;32m    <a href='file:///home/murphy/anaconda3/envs/cebra-env/lib/python3.11/site-packages/transformers/models/vit/modeling_vit.py?line=594'>595</a>\u001b[0m sequence_output \u001b[39m=\u001b[39m \u001b[39mself\u001b[39m\u001b[39m.\u001b[39mlayernorm(sequence_output)\n",
      "File \u001b[0;32m~/anaconda3/envs/cebra-env/lib/python3.11/site-packages/torch/nn/modules/module.py:1501\u001b[0m, in \u001b[0;36mModule._call_impl\u001b[0;34m(self, *args, **kwargs)\u001b[0m\n\u001b[1;32m   <a href='file:///home/murphy/anaconda3/envs/cebra-env/lib/python3.11/site-packages/torch/nn/modules/module.py?line=1495'>1496</a>\u001b[0m \u001b[39m# If we don't have any hooks, we want to skip the rest of the logic in\u001b[39;00m\n\u001b[1;32m   <a href='file:///home/murphy/anaconda3/envs/cebra-env/lib/python3.11/site-packages/torch/nn/modules/module.py?line=1496'>1497</a>\u001b[0m \u001b[39m# this function, and just call forward.\u001b[39;00m\n\u001b[1;32m   <a href='file:///home/murphy/anaconda3/envs/cebra-env/lib/python3.11/site-packages/torch/nn/modules/module.py?line=1497'>1498</a>\u001b[0m \u001b[39mif\u001b[39;00m \u001b[39mnot\u001b[39;00m (\u001b[39mself\u001b[39m\u001b[39m.\u001b[39m_backward_hooks \u001b[39mor\u001b[39;00m \u001b[39mself\u001b[39m\u001b[39m.\u001b[39m_backward_pre_hooks \u001b[39mor\u001b[39;00m \u001b[39mself\u001b[39m\u001b[39m.\u001b[39m_forward_hooks \u001b[39mor\u001b[39;00m \u001b[39mself\u001b[39m\u001b[39m.\u001b[39m_forward_pre_hooks\n\u001b[1;32m   <a href='file:///home/murphy/anaconda3/envs/cebra-env/lib/python3.11/site-packages/torch/nn/modules/module.py?line=1498'>1499</a>\u001b[0m         \u001b[39mor\u001b[39;00m _global_backward_pre_hooks \u001b[39mor\u001b[39;00m _global_backward_hooks\n\u001b[1;32m   <a href='file:///home/murphy/anaconda3/envs/cebra-env/lib/python3.11/site-packages/torch/nn/modules/module.py?line=1499'>1500</a>\u001b[0m         \u001b[39mor\u001b[39;00m _global_forward_hooks \u001b[39mor\u001b[39;00m _global_forward_pre_hooks):\n\u001b[0;32m-> <a href='file:///home/murphy/anaconda3/envs/cebra-env/lib/python3.11/site-packages/torch/nn/modules/module.py?line=1500'>1501</a>\u001b[0m     \u001b[39mreturn\u001b[39;00m forward_call(\u001b[39m*\u001b[39;49margs, \u001b[39m*\u001b[39;49m\u001b[39m*\u001b[39;49mkwargs)\n\u001b[1;32m   <a href='file:///home/murphy/anaconda3/envs/cebra-env/lib/python3.11/site-packages/torch/nn/modules/module.py?line=1501'>1502</a>\u001b[0m \u001b[39m# Do not call functions when jit is used\u001b[39;00m\n\u001b[1;32m   <a href='file:///home/murphy/anaconda3/envs/cebra-env/lib/python3.11/site-packages/torch/nn/modules/module.py?line=1502'>1503</a>\u001b[0m full_backward_hooks, non_full_backward_hooks \u001b[39m=\u001b[39m [], []\n",
      "File \u001b[0;32m~/anaconda3/envs/cebra-env/lib/python3.11/site-packages/transformers/models/vit/modeling_vit.py:413\u001b[0m, in \u001b[0;36mViTEncoder.forward\u001b[0;34m(self, hidden_states, head_mask, output_attentions, output_hidden_states, return_dict)\u001b[0m\n\u001b[1;32m    <a href='file:///home/murphy/anaconda3/envs/cebra-env/lib/python3.11/site-packages/transformers/models/vit/modeling_vit.py?line=406'>407</a>\u001b[0m     layer_outputs \u001b[39m=\u001b[39m torch\u001b[39m.\u001b[39mutils\u001b[39m.\u001b[39mcheckpoint\u001b[39m.\u001b[39mcheckpoint(\n\u001b[1;32m    <a href='file:///home/murphy/anaconda3/envs/cebra-env/lib/python3.11/site-packages/transformers/models/vit/modeling_vit.py?line=407'>408</a>\u001b[0m         create_custom_forward(layer_module),\n\u001b[1;32m    <a href='file:///home/murphy/anaconda3/envs/cebra-env/lib/python3.11/site-packages/transformers/models/vit/modeling_vit.py?line=408'>409</a>\u001b[0m         hidden_states,\n\u001b[1;32m    <a href='file:///home/murphy/anaconda3/envs/cebra-env/lib/python3.11/site-packages/transformers/models/vit/modeling_vit.py?line=409'>410</a>\u001b[0m         layer_head_mask,\n\u001b[1;32m    <a href='file:///home/murphy/anaconda3/envs/cebra-env/lib/python3.11/site-packages/transformers/models/vit/modeling_vit.py?line=410'>411</a>\u001b[0m     )\n\u001b[1;32m    <a href='file:///home/murphy/anaconda3/envs/cebra-env/lib/python3.11/site-packages/transformers/models/vit/modeling_vit.py?line=411'>412</a>\u001b[0m \u001b[39melse\u001b[39;00m:\n\u001b[0;32m--> <a href='file:///home/murphy/anaconda3/envs/cebra-env/lib/python3.11/site-packages/transformers/models/vit/modeling_vit.py?line=412'>413</a>\u001b[0m     layer_outputs \u001b[39m=\u001b[39m layer_module(hidden_states, layer_head_mask, output_attentions)\n\u001b[1;32m    <a href='file:///home/murphy/anaconda3/envs/cebra-env/lib/python3.11/site-packages/transformers/models/vit/modeling_vit.py?line=414'>415</a>\u001b[0m hidden_states \u001b[39m=\u001b[39m layer_outputs[\u001b[39m0\u001b[39m]\n\u001b[1;32m    <a href='file:///home/murphy/anaconda3/envs/cebra-env/lib/python3.11/site-packages/transformers/models/vit/modeling_vit.py?line=416'>417</a>\u001b[0m \u001b[39mif\u001b[39;00m output_attentions:\n",
      "File \u001b[0;32m~/anaconda3/envs/cebra-env/lib/python3.11/site-packages/torch/nn/modules/module.py:1501\u001b[0m, in \u001b[0;36mModule._call_impl\u001b[0;34m(self, *args, **kwargs)\u001b[0m\n\u001b[1;32m   <a href='file:///home/murphy/anaconda3/envs/cebra-env/lib/python3.11/site-packages/torch/nn/modules/module.py?line=1495'>1496</a>\u001b[0m \u001b[39m# If we don't have any hooks, we want to skip the rest of the logic in\u001b[39;00m\n\u001b[1;32m   <a href='file:///home/murphy/anaconda3/envs/cebra-env/lib/python3.11/site-packages/torch/nn/modules/module.py?line=1496'>1497</a>\u001b[0m \u001b[39m# this function, and just call forward.\u001b[39;00m\n\u001b[1;32m   <a href='file:///home/murphy/anaconda3/envs/cebra-env/lib/python3.11/site-packages/torch/nn/modules/module.py?line=1497'>1498</a>\u001b[0m \u001b[39mif\u001b[39;00m \u001b[39mnot\u001b[39;00m (\u001b[39mself\u001b[39m\u001b[39m.\u001b[39m_backward_hooks \u001b[39mor\u001b[39;00m \u001b[39mself\u001b[39m\u001b[39m.\u001b[39m_backward_pre_hooks \u001b[39mor\u001b[39;00m \u001b[39mself\u001b[39m\u001b[39m.\u001b[39m_forward_hooks \u001b[39mor\u001b[39;00m \u001b[39mself\u001b[39m\u001b[39m.\u001b[39m_forward_pre_hooks\n\u001b[1;32m   <a href='file:///home/murphy/anaconda3/envs/cebra-env/lib/python3.11/site-packages/torch/nn/modules/module.py?line=1498'>1499</a>\u001b[0m         \u001b[39mor\u001b[39;00m _global_backward_pre_hooks \u001b[39mor\u001b[39;00m _global_backward_hooks\n\u001b[1;32m   <a href='file:///home/murphy/anaconda3/envs/cebra-env/lib/python3.11/site-packages/torch/nn/modules/module.py?line=1499'>1500</a>\u001b[0m         \u001b[39mor\u001b[39;00m _global_forward_hooks \u001b[39mor\u001b[39;00m _global_forward_pre_hooks):\n\u001b[0;32m-> <a href='file:///home/murphy/anaconda3/envs/cebra-env/lib/python3.11/site-packages/torch/nn/modules/module.py?line=1500'>1501</a>\u001b[0m     \u001b[39mreturn\u001b[39;00m forward_call(\u001b[39m*\u001b[39;49margs, \u001b[39m*\u001b[39;49m\u001b[39m*\u001b[39;49mkwargs)\n\u001b[1;32m   <a href='file:///home/murphy/anaconda3/envs/cebra-env/lib/python3.11/site-packages/torch/nn/modules/module.py?line=1501'>1502</a>\u001b[0m \u001b[39m# Do not call functions when jit is used\u001b[39;00m\n\u001b[1;32m   <a href='file:///home/murphy/anaconda3/envs/cebra-env/lib/python3.11/site-packages/torch/nn/modules/module.py?line=1502'>1503</a>\u001b[0m full_backward_hooks, non_full_backward_hooks \u001b[39m=\u001b[39m [], []\n",
      "File \u001b[0;32m~/anaconda3/envs/cebra-env/lib/python3.11/site-packages/transformers/models/vit/modeling_vit.py:352\u001b[0m, in \u001b[0;36mViTLayer.forward\u001b[0;34m(self, hidden_states, head_mask, output_attentions)\u001b[0m\n\u001b[1;32m    <a href='file:///home/murphy/anaconda3/envs/cebra-env/lib/python3.11/site-packages/transformers/models/vit/modeling_vit.py?line=345'>346</a>\u001b[0m \u001b[39mdef\u001b[39;00m \u001b[39mforward\u001b[39m(\n\u001b[1;32m    <a href='file:///home/murphy/anaconda3/envs/cebra-env/lib/python3.11/site-packages/transformers/models/vit/modeling_vit.py?line=346'>347</a>\u001b[0m     \u001b[39mself\u001b[39m,\n\u001b[1;32m    <a href='file:///home/murphy/anaconda3/envs/cebra-env/lib/python3.11/site-packages/transformers/models/vit/modeling_vit.py?line=347'>348</a>\u001b[0m     hidden_states: torch\u001b[39m.\u001b[39mTensor,\n\u001b[1;32m    <a href='file:///home/murphy/anaconda3/envs/cebra-env/lib/python3.11/site-packages/transformers/models/vit/modeling_vit.py?line=348'>349</a>\u001b[0m     head_mask: Optional[torch\u001b[39m.\u001b[39mTensor] \u001b[39m=\u001b[39m \u001b[39mNone\u001b[39;00m,\n\u001b[1;32m    <a href='file:///home/murphy/anaconda3/envs/cebra-env/lib/python3.11/site-packages/transformers/models/vit/modeling_vit.py?line=349'>350</a>\u001b[0m     output_attentions: \u001b[39mbool\u001b[39m \u001b[39m=\u001b[39m \u001b[39mFalse\u001b[39;00m,\n\u001b[1;32m    <a href='file:///home/murphy/anaconda3/envs/cebra-env/lib/python3.11/site-packages/transformers/models/vit/modeling_vit.py?line=350'>351</a>\u001b[0m ) \u001b[39m-\u001b[39m\u001b[39m>\u001b[39m Union[Tuple[torch\u001b[39m.\u001b[39mTensor, torch\u001b[39m.\u001b[39mTensor], Tuple[torch\u001b[39m.\u001b[39mTensor]]:\n\u001b[0;32m--> <a href='file:///home/murphy/anaconda3/envs/cebra-env/lib/python3.11/site-packages/transformers/models/vit/modeling_vit.py?line=351'>352</a>\u001b[0m     self_attention_outputs \u001b[39m=\u001b[39m \u001b[39mself\u001b[39;49m\u001b[39m.\u001b[39;49mattention(\n\u001b[1;32m    <a href='file:///home/murphy/anaconda3/envs/cebra-env/lib/python3.11/site-packages/transformers/models/vit/modeling_vit.py?line=352'>353</a>\u001b[0m         \u001b[39mself\u001b[39;49m\u001b[39m.\u001b[39;49mlayernorm_before(hidden_states),  \u001b[39m# in ViT, layernorm is applied before self-attention\u001b[39;49;00m\n\u001b[1;32m    <a href='file:///home/murphy/anaconda3/envs/cebra-env/lib/python3.11/site-packages/transformers/models/vit/modeling_vit.py?line=353'>354</a>\u001b[0m         head_mask,\n\u001b[1;32m    <a href='file:///home/murphy/anaconda3/envs/cebra-env/lib/python3.11/site-packages/transformers/models/vit/modeling_vit.py?line=354'>355</a>\u001b[0m         output_attentions\u001b[39m=\u001b[39;49moutput_attentions,\n\u001b[1;32m    <a href='file:///home/murphy/anaconda3/envs/cebra-env/lib/python3.11/site-packages/transformers/models/vit/modeling_vit.py?line=355'>356</a>\u001b[0m     )\n\u001b[1;32m    <a href='file:///home/murphy/anaconda3/envs/cebra-env/lib/python3.11/site-packages/transformers/models/vit/modeling_vit.py?line=356'>357</a>\u001b[0m     attention_output \u001b[39m=\u001b[39m self_attention_outputs[\u001b[39m0\u001b[39m]\n\u001b[1;32m    <a href='file:///home/murphy/anaconda3/envs/cebra-env/lib/python3.11/site-packages/transformers/models/vit/modeling_vit.py?line=357'>358</a>\u001b[0m     outputs \u001b[39m=\u001b[39m self_attention_outputs[\u001b[39m1\u001b[39m:]  \u001b[39m# add self attentions if we output attention weights\u001b[39;00m\n",
      "File \u001b[0;32m~/anaconda3/envs/cebra-env/lib/python3.11/site-packages/torch/nn/modules/module.py:1501\u001b[0m, in \u001b[0;36mModule._call_impl\u001b[0;34m(self, *args, **kwargs)\u001b[0m\n\u001b[1;32m   <a href='file:///home/murphy/anaconda3/envs/cebra-env/lib/python3.11/site-packages/torch/nn/modules/module.py?line=1495'>1496</a>\u001b[0m \u001b[39m# If we don't have any hooks, we want to skip the rest of the logic in\u001b[39;00m\n\u001b[1;32m   <a href='file:///home/murphy/anaconda3/envs/cebra-env/lib/python3.11/site-packages/torch/nn/modules/module.py?line=1496'>1497</a>\u001b[0m \u001b[39m# this function, and just call forward.\u001b[39;00m\n\u001b[1;32m   <a href='file:///home/murphy/anaconda3/envs/cebra-env/lib/python3.11/site-packages/torch/nn/modules/module.py?line=1497'>1498</a>\u001b[0m \u001b[39mif\u001b[39;00m \u001b[39mnot\u001b[39;00m (\u001b[39mself\u001b[39m\u001b[39m.\u001b[39m_backward_hooks \u001b[39mor\u001b[39;00m \u001b[39mself\u001b[39m\u001b[39m.\u001b[39m_backward_pre_hooks \u001b[39mor\u001b[39;00m \u001b[39mself\u001b[39m\u001b[39m.\u001b[39m_forward_hooks \u001b[39mor\u001b[39;00m \u001b[39mself\u001b[39m\u001b[39m.\u001b[39m_forward_pre_hooks\n\u001b[1;32m   <a href='file:///home/murphy/anaconda3/envs/cebra-env/lib/python3.11/site-packages/torch/nn/modules/module.py?line=1498'>1499</a>\u001b[0m         \u001b[39mor\u001b[39;00m _global_backward_pre_hooks \u001b[39mor\u001b[39;00m _global_backward_hooks\n\u001b[1;32m   <a href='file:///home/murphy/anaconda3/envs/cebra-env/lib/python3.11/site-packages/torch/nn/modules/module.py?line=1499'>1500</a>\u001b[0m         \u001b[39mor\u001b[39;00m _global_forward_hooks \u001b[39mor\u001b[39;00m _global_forward_pre_hooks):\n\u001b[0;32m-> <a href='file:///home/murphy/anaconda3/envs/cebra-env/lib/python3.11/site-packages/torch/nn/modules/module.py?line=1500'>1501</a>\u001b[0m     \u001b[39mreturn\u001b[39;00m forward_call(\u001b[39m*\u001b[39;49margs, \u001b[39m*\u001b[39;49m\u001b[39m*\u001b[39;49mkwargs)\n\u001b[1;32m   <a href='file:///home/murphy/anaconda3/envs/cebra-env/lib/python3.11/site-packages/torch/nn/modules/module.py?line=1501'>1502</a>\u001b[0m \u001b[39m# Do not call functions when jit is used\u001b[39;00m\n\u001b[1;32m   <a href='file:///home/murphy/anaconda3/envs/cebra-env/lib/python3.11/site-packages/torch/nn/modules/module.py?line=1502'>1503</a>\u001b[0m full_backward_hooks, non_full_backward_hooks \u001b[39m=\u001b[39m [], []\n",
      "File \u001b[0;32m~/anaconda3/envs/cebra-env/lib/python3.11/site-packages/transformers/models/vit/modeling_vit.py:294\u001b[0m, in \u001b[0;36mViTAttention.forward\u001b[0;34m(self, hidden_states, head_mask, output_attentions)\u001b[0m\n\u001b[1;32m    <a href='file:///home/murphy/anaconda3/envs/cebra-env/lib/python3.11/site-packages/transformers/models/vit/modeling_vit.py?line=287'>288</a>\u001b[0m \u001b[39mdef\u001b[39;00m \u001b[39mforward\u001b[39m(\n\u001b[1;32m    <a href='file:///home/murphy/anaconda3/envs/cebra-env/lib/python3.11/site-packages/transformers/models/vit/modeling_vit.py?line=288'>289</a>\u001b[0m     \u001b[39mself\u001b[39m,\n\u001b[1;32m    <a href='file:///home/murphy/anaconda3/envs/cebra-env/lib/python3.11/site-packages/transformers/models/vit/modeling_vit.py?line=289'>290</a>\u001b[0m     hidden_states: torch\u001b[39m.\u001b[39mTensor,\n\u001b[1;32m    <a href='file:///home/murphy/anaconda3/envs/cebra-env/lib/python3.11/site-packages/transformers/models/vit/modeling_vit.py?line=290'>291</a>\u001b[0m     head_mask: Optional[torch\u001b[39m.\u001b[39mTensor] \u001b[39m=\u001b[39m \u001b[39mNone\u001b[39;00m,\n\u001b[1;32m    <a href='file:///home/murphy/anaconda3/envs/cebra-env/lib/python3.11/site-packages/transformers/models/vit/modeling_vit.py?line=291'>292</a>\u001b[0m     output_attentions: \u001b[39mbool\u001b[39m \u001b[39m=\u001b[39m \u001b[39mFalse\u001b[39;00m,\n\u001b[1;32m    <a href='file:///home/murphy/anaconda3/envs/cebra-env/lib/python3.11/site-packages/transformers/models/vit/modeling_vit.py?line=292'>293</a>\u001b[0m ) \u001b[39m-\u001b[39m\u001b[39m>\u001b[39m Union[Tuple[torch\u001b[39m.\u001b[39mTensor, torch\u001b[39m.\u001b[39mTensor], Tuple[torch\u001b[39m.\u001b[39mTensor]]:\n\u001b[0;32m--> <a href='file:///home/murphy/anaconda3/envs/cebra-env/lib/python3.11/site-packages/transformers/models/vit/modeling_vit.py?line=293'>294</a>\u001b[0m     self_outputs \u001b[39m=\u001b[39m \u001b[39mself\u001b[39;49m\u001b[39m.\u001b[39;49mattention(hidden_states, head_mask, output_attentions)\n\u001b[1;32m    <a href='file:///home/murphy/anaconda3/envs/cebra-env/lib/python3.11/site-packages/transformers/models/vit/modeling_vit.py?line=295'>296</a>\u001b[0m     attention_output \u001b[39m=\u001b[39m \u001b[39mself\u001b[39m\u001b[39m.\u001b[39moutput(self_outputs[\u001b[39m0\u001b[39m], hidden_states)\n\u001b[1;32m    <a href='file:///home/murphy/anaconda3/envs/cebra-env/lib/python3.11/site-packages/transformers/models/vit/modeling_vit.py?line=297'>298</a>\u001b[0m     outputs \u001b[39m=\u001b[39m (attention_output,) \u001b[39m+\u001b[39m self_outputs[\u001b[39m1\u001b[39m:]  \u001b[39m# add attentions if we output them\u001b[39;00m\n",
      "File \u001b[0;32m~/anaconda3/envs/cebra-env/lib/python3.11/site-packages/torch/nn/modules/module.py:1501\u001b[0m, in \u001b[0;36mModule._call_impl\u001b[0;34m(self, *args, **kwargs)\u001b[0m\n\u001b[1;32m   <a href='file:///home/murphy/anaconda3/envs/cebra-env/lib/python3.11/site-packages/torch/nn/modules/module.py?line=1495'>1496</a>\u001b[0m \u001b[39m# If we don't have any hooks, we want to skip the rest of the logic in\u001b[39;00m\n\u001b[1;32m   <a href='file:///home/murphy/anaconda3/envs/cebra-env/lib/python3.11/site-packages/torch/nn/modules/module.py?line=1496'>1497</a>\u001b[0m \u001b[39m# this function, and just call forward.\u001b[39;00m\n\u001b[1;32m   <a href='file:///home/murphy/anaconda3/envs/cebra-env/lib/python3.11/site-packages/torch/nn/modules/module.py?line=1497'>1498</a>\u001b[0m \u001b[39mif\u001b[39;00m \u001b[39mnot\u001b[39;00m (\u001b[39mself\u001b[39m\u001b[39m.\u001b[39m_backward_hooks \u001b[39mor\u001b[39;00m \u001b[39mself\u001b[39m\u001b[39m.\u001b[39m_backward_pre_hooks \u001b[39mor\u001b[39;00m \u001b[39mself\u001b[39m\u001b[39m.\u001b[39m_forward_hooks \u001b[39mor\u001b[39;00m \u001b[39mself\u001b[39m\u001b[39m.\u001b[39m_forward_pre_hooks\n\u001b[1;32m   <a href='file:///home/murphy/anaconda3/envs/cebra-env/lib/python3.11/site-packages/torch/nn/modules/module.py?line=1498'>1499</a>\u001b[0m         \u001b[39mor\u001b[39;00m _global_backward_pre_hooks \u001b[39mor\u001b[39;00m _global_backward_hooks\n\u001b[1;32m   <a href='file:///home/murphy/anaconda3/envs/cebra-env/lib/python3.11/site-packages/torch/nn/modules/module.py?line=1499'>1500</a>\u001b[0m         \u001b[39mor\u001b[39;00m _global_forward_hooks \u001b[39mor\u001b[39;00m _global_forward_pre_hooks):\n\u001b[0;32m-> <a href='file:///home/murphy/anaconda3/envs/cebra-env/lib/python3.11/site-packages/torch/nn/modules/module.py?line=1500'>1501</a>\u001b[0m     \u001b[39mreturn\u001b[39;00m forward_call(\u001b[39m*\u001b[39;49margs, \u001b[39m*\u001b[39;49m\u001b[39m*\u001b[39;49mkwargs)\n\u001b[1;32m   <a href='file:///home/murphy/anaconda3/envs/cebra-env/lib/python3.11/site-packages/torch/nn/modules/module.py?line=1501'>1502</a>\u001b[0m \u001b[39m# Do not call functions when jit is used\u001b[39;00m\n\u001b[1;32m   <a href='file:///home/murphy/anaconda3/envs/cebra-env/lib/python3.11/site-packages/torch/nn/modules/module.py?line=1502'>1503</a>\u001b[0m full_backward_hooks, non_full_backward_hooks \u001b[39m=\u001b[39m [], []\n",
      "File \u001b[0;32m~/anaconda3/envs/cebra-env/lib/python3.11/site-packages/transformers/models/vit/modeling_vit.py:219\u001b[0m, in \u001b[0;36mViTSelfAttention.forward\u001b[0;34m(self, hidden_states, head_mask, output_attentions)\u001b[0m\n\u001b[1;32m    <a href='file:///home/murphy/anaconda3/envs/cebra-env/lib/python3.11/site-packages/transformers/models/vit/modeling_vit.py?line=215'>216</a>\u001b[0m query_layer \u001b[39m=\u001b[39m \u001b[39mself\u001b[39m\u001b[39m.\u001b[39mtranspose_for_scores(mixed_query_layer)\n\u001b[1;32m    <a href='file:///home/murphy/anaconda3/envs/cebra-env/lib/python3.11/site-packages/transformers/models/vit/modeling_vit.py?line=217'>218</a>\u001b[0m \u001b[39m# Take the dot product between \"query\" and \"key\" to get the raw attention scores.\u001b[39;00m\n\u001b[0;32m--> <a href='file:///home/murphy/anaconda3/envs/cebra-env/lib/python3.11/site-packages/transformers/models/vit/modeling_vit.py?line=218'>219</a>\u001b[0m attention_scores \u001b[39m=\u001b[39m torch\u001b[39m.\u001b[39;49mmatmul(query_layer, key_layer\u001b[39m.\u001b[39;49mtranspose(\u001b[39m-\u001b[39;49m\u001b[39m1\u001b[39;49m, \u001b[39m-\u001b[39;49m\u001b[39m2\u001b[39;49m))\n\u001b[1;32m    <a href='file:///home/murphy/anaconda3/envs/cebra-env/lib/python3.11/site-packages/transformers/models/vit/modeling_vit.py?line=220'>221</a>\u001b[0m attention_scores \u001b[39m=\u001b[39m attention_scores \u001b[39m/\u001b[39m math\u001b[39m.\u001b[39msqrt(\u001b[39mself\u001b[39m\u001b[39m.\u001b[39mattention_head_size)\n\u001b[1;32m    <a href='file:///home/murphy/anaconda3/envs/cebra-env/lib/python3.11/site-packages/transformers/models/vit/modeling_vit.py?line=222'>223</a>\u001b[0m \u001b[39m# Normalize the attention scores to probabilities.\u001b[39;00m\n",
      "\u001b[0;31mOutOfMemoryError\u001b[0m: CUDA out of memory. Tried to allocate 4.41 GiB (GPU 0; 23.65 GiB total capacity; 12.95 GiB already allocated; 2.04 GiB free; 13.07 GiB reserved in total by PyTorch) If reserved memory is >> allocated memory try setting max_split_size_mb to avoid fragmentation.  See documentation for Memory Management and PYTORCH_CUDA_ALLOC_CONF"
     ]
    }
   ],
   "source": [
    "embeddings_flat = process_behav(image_sequence_flat)"
   ]
  },
  {
   "cell_type": "code",
   "execution_count": null,
   "metadata": {},
   "outputs": [],
   "source": []
  }
 ],
 "metadata": {
  "interpreter": {
   "hash": "5e1be78df5b73969d41dcc5faf663bbd5fade112ca15e405e187bc7e9386a53f"
  },
  "kernelspec": {
   "display_name": "Python 3.11.3 ('cebra-env')",
   "language": "python",
   "name": "python3"
  },
  "language_info": {
   "codemirror_mode": {
    "name": "ipython",
    "version": 3
   },
   "file_extension": ".py",
   "mimetype": "text/x-python",
   "name": "python",
   "nbconvert_exporter": "python",
   "pygments_lexer": "ipython3",
   "version": "3.11.3"
  },
  "orig_nbformat": 4
 },
 "nbformat": 4,
 "nbformat_minor": 2
}
